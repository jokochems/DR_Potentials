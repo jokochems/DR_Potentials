{
 "cells": [
  {
   "cell_type": "markdown",
   "metadata": {},
   "source": [
    "# Technical demand response potential meta analysis - result comparison (overview)\n",
    "\n",
    "**Puporse and background**: This notebook serves for evaluating the demand response potentials from different publications assessing technical demand response potentials for Germany. The data from the publications has been collected in order to carry out a meta analysis.\n",
    "\n",
    "## Method applied\n",
    "In the following, a brief description of the method applied is given for the sake of replicability.\n",
    "\n",
    "### Selection of publications\n",
    "Criterions for the selection of publications were:\n",
    "* Regional focus: Federal republic of Germany\n",
    "* Temporal restricitions: Publications until 2005\n",
    "* Contents: technical demand response potentials\n",
    "* Sectoral coverage: At least one of households, trade, commerce and services or industry assessed; no publications focusing on single appliances\n",
    "* Own analysis carried out (no other meta analysis included)\n",
    "* Inclusion of at least one of the parameters of interest (usually at least some information on potential in MW)\n",
    "\n",
    "### Parameters assessed\n",
    "Data for the following parameters was taken from the publications selected:\n",
    "* eligibility: general eligibility of processes, applications or branches (demand response categories in the following) for load shifting, load shedding resp. (sole) load increase\n",
    "* capacity-related parameters: capacity available for load shifting or load shedding, average, minimum and maximum load level, installed capacity as well as shiftable share of installed capacity\n",
    "* time-reletad parameters: activation duration, interference duration, shifting duration, regenaration duration, maximum activations per year\n",
    "* cost-related parameters: specific investments, variable costs (for activation), fixed costs\n",
    "\n",
    "### Filtering and data collection\n",
    "* A total of 70 publications has been selected in the first place in a literature research based on the titles, keywords and abstracts using terms like \"Demand Response\", \"Demand Side Management\", \"Demand Side Integration\", \"load management\", \"load shifting\", \"load shedding\", \"potential\", \"Germany\" as well as their German equivalents to formulate search strings. \n",
    "* Of these publications, 30 have met the above stated criteria and were further evaluated. \n",
    "* Because sometimes, several publications belonged to the same research project, these were grouped together resulting in 24 publication groups for which potential information has been evaluated.\n",
    "* The data has been collected in an Excel Workbook (\"Potenziale_Lastmanagement.xlsx\"). The latest version of this Excel Workbook is evaluated with this notebook."
   ]
  },
  {
   "cell_type": "markdown",
   "metadata": {},
   "source": [
    "# Package imports\n",
    "User-defined (workflow) functions are imported in order to prevent redundancies:\n",
    "* *run_analyses_for_parameter_single_year*: Runs the entire analysis chain for one year (e.g. status quo, 2020 or 2030). This comprises:\n",
    "    * extracting the parameter information of interest\n",
    "    * adding counts for the number of publications and data points\n",
    "    * grouping by process categories\n",
    "    * transposing the data set and splitting it into the actual numeric data, the counts information and the sources information\n",
    "    * extracting sample statistics, such as median and other quantiles\n",
    "    * extracting and tidying up sample sources as well as\n",
    "    * visualizing data in a boxplot resp. a combined boxplot and bee swarm plot\n",
    "* *extract_data_for_parameter_all_years*: Extracts the data for a certain parameter for all years defined and saves the statistics and sources to .csv files. Includes al analyses steps but plotting.\n",
    "* *extract_projection_for_all_years*: filters for certain process categories and combines the projection data into a single data set in order to visualize it. Includes all analyses steps but extracting statistics which has already been done in the course of the analyses.\n",
    "* *extract_nlargest*: Determines the processes with the largest positive shifting potential.\n",
    "* *extract_sample_sources*: extracts the sources information for a dedicated parameter and combines it into a unique string (that is written to a .txt file)"
   ]
  },
  {
   "cell_type": "code",
   "execution_count": null,
   "metadata": {},
   "outputs": [],
   "source": [
    "import pandas as pd\n",
    "import numpy as np\n",
    "import matplotlib.pyplot as plt\n",
    "import openpyxl\n",
    "\n",
    "from collections import defaultdict\n",
    "from drpotentials.evaluation_workflow import (\n",
    "    run_analyses_for_parameter_single_year,\n",
    "    extract_data_for_parameter_all_years,\n",
    "    extract_projection_for_all_years,\n",
    "    extract_nlargest\n",
    ")\n",
    "from drpotentials.evaluation_funcs import extract_sample_sources\n",
    "\n",
    "# Allow for chained assignments (see note above)\n",
    "pd.options.mode.chained_assignment = None"
   ]
  },
  {
   "cell_type": "markdown",
   "metadata": {},
   "source": [
    "# Parameter settings\n",
    "* Determine path folders and filenames.\n",
    "* Create boolean flags to\n",
    "    * determine whether or not to use the processes with the largest potentials for the potential outlook and\n",
    "    * detect whether remaining has already been taken care of."
   ]
  },
  {
   "cell_type": "code",
   "execution_count": null,
   "metadata": {},
   "outputs": [],
   "source": [
    "# Set paths and filenames for inputs\n",
    "path_folder_in = \"./inputs/\"\n",
    "path_folder_out = \"./out/\"\n",
    "filename = \"Potenziale_Lastmanagement.xlsx\"\n",
    "filename_colnames = \"Columns.xlsx\"\n",
    "\n",
    "# Boolean flags\n",
    "use_nlargest_cols = False\n",
    "is_renamed = False"
   ]
  },
  {
   "cell_type": "markdown",
   "metadata": {},
   "source": [
    "Configure the fontsizes for matplotlib objects"
   ]
  },
  {
   "cell_type": "code",
   "execution_count": null,
   "metadata": {},
   "outputs": [],
   "source": [
    "SMALL_SIZE = 12\n",
    "MEDIUM_SIZE = 14\n",
    "BIGGER_SIZE = 15\n",
    "\n",
    "plt.rc('font', size=SMALL_SIZE)          # controls default text sizes\n",
    "plt.rc('axes', titlesize=BIGGER_SIZE)    # fontsize of the axes title\n",
    "plt.rc('axes', labelsize=MEDIUM_SIZE)    # fontsize of the x and y labels\n",
    "plt.rc('xtick', labelsize=SMALL_SIZE)    # fontsize of the tick labels\n",
    "plt.rc('ytick', labelsize=SMALL_SIZE)    # fontsize of the tick labels\n",
    "plt.rc('legend', fontsize=SMALL_SIZE)    # legend fontsize\n",
    "plt.rc('figure', titlesize=BIGGER_SIZE)  # fontsize of the figure title"
   ]
  },
  {
   "cell_type": "markdown",
   "metadata": {},
   "source": [
    "# Read in data\n",
    "* Check the worksheets to be evaluated (may be skipped)\n",
    "* Read in the Excel Workbook containing all data (\"Potenziale_Lastmanagement.xlsx\")\n",
    "* Create a separate DataFrame with the potential information for every publication\n",
    "* Parse mapping of processes to process categories (grouping)as well as mapping of colors to process categories for plots"
   ]
  },
  {
   "cell_type": "code",
   "execution_count": null,
   "metadata": {},
   "outputs": [],
   "source": [
    "# Get all sheet names\n",
    "xls = openpyxl.load_workbook(path_folder_in+filename, read_only=True)\n",
    "table_names = xls.sheetnames\n",
    "\n",
    "# Remove all sheets that do not contain potential information\n",
    "removed_names = {el for el in table_names if len(el) > 6}\n",
    "\n",
    "# Two publications were excluded in the latter process\n",
    "removed_names.add(\"Stoe12\")\n",
    "removed_names.add(\"Bel15\")\n",
    "table_names = [\n",
    "    el for el in table_names if el not in removed_names\n",
    "]\n",
    "# print(table_names)"
   ]
  },
  {
   "cell_type": "code",
   "execution_count": null,
   "metadata": {},
   "outputs": [],
   "source": [
    "xls = pd.ExcelFile(path_folder_in+filename)\n",
    "\n",
    "# Publications\n",
    "ape12 = xls.parse(\"Ape12\")\n",
    "ary17 = xls.parse(\"Ary17\")\n",
    "blu13 = xls.parse(\"Blu13\")\n",
    "foc11 = xls.parse(\"Foc11\")\n",
    "gil15 = xls.parse(\"Gil15\")\n",
    "gob12 = xls.parse(\"Gob12\")\n",
    "gro13 = xls.parse(\"Gro13\")\n",
    "gru17 = xls.parse(\"Gru17\")\n",
    "haa17 = xls.parse(\"Haa17\")\n",
    "hei21 = xls.parse(\"Hei21\")\n",
    "hen15 = xls.parse(\"Hen15\")\n",
    "jet21 = xls.parse(\"Jet21\")\n",
    "klo09 = xls.parse(\"Klo09\")\n",
    "klo13 = xls.parse(\"Klo13\")\n",
    "krz13 = xls.parse(\"Krz13\")\n",
    "lad18 = xls.parse(\"Lad18\")\n",
    "lan15 = xls.parse(\"Lan15\")\n",
    "lie15 = xls.parse(\"Lie15\")\n",
    "mae18 = xls.parse(\"Mae18\")\n",
    "mol10 = xls.parse(\"Mol10\")\n",
    "mue19 = xls.parse(\"Mue19\")\n",
    "pau11 = xls.parse(\"Pau11\")\n",
    "pel16 = xls.parse(\"Pel16\")\n",
    "r2b14 = xls.parse(\"r2b14\")\n",
    "roo10 = xls.parse(\"Roo10\")\n",
    "sau19 = xls.parse(\"Sau19\")\n",
    "sta06 = xls.parse(\"Sta06\")\n",
    "ste17 = xls.parse(\"Ste17\")\n",
    "sty15 = xls.parse(\"Sty15\")\n",
    "woh20 = xls.parse(\"Woh20\")\n",
    "\n",
    "# Categories and colors\n",
    "categories = xls.parse(\"Kategorien_neu\")\n",
    "colors = xls.parse(\"Farben\", index_col=0, header=0)"
   ]
  },
  {
   "cell_type": "markdown",
   "metadata": {},
   "source": [
    "# Prepare data for further analysis\n",
    "In the following, some data preparation steps are carried out in order to harmonize the data basis and ensure further usability."
   ]
  },
  {
   "cell_type": "markdown",
   "metadata": {},
   "source": [
    "## Shortcuts\n",
    "Introduce shortcut to facilitate the analyses:\n",
    "* dict holding all publications\n",
    "* dict for the years for which potential information is available: define groups for years\n",
    "* dict for filtering for sectors: Map the German sector names for industry (ind), trade commerce and services (tcs) and households (hoho) to their abbreviation\n",
    "\n",
    "The following groups are defined for years:\n",
    "* Status quo: prior to 2020\n",
    "* 2020\n",
    "* 2025 (including 2023)\n",
    "* 2030\n",
    "* 2035\n",
    "* 2040\n",
    "* 2045\n",
    "* 2050"
   ]
  },
  {
   "cell_type": "code",
   "execution_count": null,
   "metadata": {},
   "outputs": [],
   "source": [
    "publications_dict = {\n",
    "    \"Ape12\": ape12,\n",
    "    \"Ary17\": ary17,\n",
    "    \"Blu13\": blu13,\n",
    "    \"Foc11\": foc11,\n",
    "    \"Gil15\": gil15,\n",
    "    \"Gob12\": gob12,\n",
    "    \"Gro13\": gro13,\n",
    "    \"Gru17\": gru17,\n",
    "    \"Haa17\": haa17,\n",
    "    \"Hei21\": hei21,\n",
    "    \"Hen15\": hen15,\n",
    "    \"Jet21\": jet21,\n",
    "    \"Klo09\": klo09,\n",
    "    \"Klo13\": klo13,\n",
    "    \"Krz13\": krz13,\n",
    "    \"Lad18\": lad18,\n",
    "    \"Lan15\": lan15,\n",
    "    \"Lie15\": lie15,\n",
    "    \"Mae18\": mae18,\n",
    "    \"Mol10\": mol10,\n",
    "    \"Mue19\": mue19,\n",
    "    \"Pau11\": pau11,\n",
    "    \"Pel16\": pel16,\n",
    "    \"r2b14\": r2b14,\n",
    "    \"Roo10\": roo10,\n",
    "    \"Sau19\": sau19,\n",
    "    \"Sta06\": sta06,\n",
    "    \"Ste17\": ste17,\n",
    "    \"Sty15\": sty15,\n",
    "    \"Woh20\": woh20,\n",
    "}"
   ]
  },
  {
   "cell_type": "code",
   "execution_count": null,
   "metadata": {},
   "outputs": [],
   "source": [
    "# Get the years for which potentials are given\n",
    "set_years = set()\n",
    "\n",
    "for k, v in publications_dict.items():\n",
    "    for el in v[\"Jahr\"].unique():\n",
    "        set_years.add(el)\n",
    "\n",
    "# Define two groups of years (for potential evaluation)\n",
    "status_quo_years = {el for el in set_years if el < 2020}\n",
    "years_2025 = {2023, 2025}\n",
    "\n",
    "# Define year dict for checking the year (group)\n",
    "years_dict = {\n",
    "    \"SQ\": status_quo_years,\n",
    "    \"2020\": [2020],\n",
    "    \"2025\": years_2025,\n",
    "    \"2030\": [2030],\n",
    "    \"2035\": [2035],\n",
    "    \"2040\": [2040],\n",
    "    \"2045\": [2045],\n",
    "    \"2050\": [2050]\n",
    "}"
   ]
  },
  {
   "cell_type": "code",
   "execution_count": null,
   "metadata": {},
   "outputs": [],
   "source": [
    "# Define sector filter\n",
    "filter_sector = {\n",
    "    \"ind\": \"Industrie\",\n",
    "    \"tcs\": \"GHD\",\n",
    "    \"hoho\": \"Haushalte\"\n",
    "}"
   ]
  },
  {
   "cell_type": "markdown",
   "metadata": {},
   "source": [
    "## Prepare column names\n",
    "Column names have to be carefully selected and harmonized in order to be able to compare potential information on a common basis. This holds especially for evaluating capacity-related parameters.\n",
    "\n",
    "* Use predefined mapping of all parameter names in the original data basis.\n",
    "* Map the parameters to groups with the information on the respective parameter."
   ]
  },
  {
   "cell_type": "code",
   "execution_count": null,
   "metadata": {},
   "outputs": [],
   "source": [
    "# initialize an empty throwaway array\n",
    "help_array = np.empty(shape=(0,))\n",
    "\n",
    "# add all column values and convert to a set to remove duplicates\n",
    "for k, v in publications_dict.items():\n",
    "    help_array = np.concatenate((help_array, v.columns.values), axis = 0)\n",
    "    \n",
    "all_cols = set(help_array)"
   ]
  },
  {
   "cell_type": "markdown",
   "metadata": {},
   "source": [
    "Prepare columns for further usage:\n",
    "\n",
    "_Note: This is the only place where a manual adjustment is necessary, once the primary data basis is changed and further columns, not yet contained in it, are inserted._\n",
    "* The list of all columns used has been transferred to an Excel workbook (\"Columns.xlsx\") using the following commented lines of code.\n",
    "* The columns have been matched to one parameter for evaluation by going through them and assigning a parameter (has been done manually using Excel).\n",
    "* The manipulated Excel workbook (\"Columns.xlsx\") is read in in the following again to be able to use the grouping applied."
   ]
  },
  {
   "cell_type": "code",
   "execution_count": null,
   "metadata": {},
   "outputs": [],
   "source": [
    "# Uncomment this cell and reassign groups if changes to the columns in the data collection occur.\n",
    "#all_cols_Series = pd.Series(data=sorted(list(all_cols)))\n",
    "#all_cols_Series.to_excel(path_folder_in+filename_colnames, encoding=\"utf-8-sig\", header=False)"
   ]
  },
  {
   "cell_type": "code",
   "execution_count": null,
   "metadata": {},
   "outputs": [],
   "source": [
    "all_cols_df = pd.read_excel(path_folder_in+filename_colnames, index_col=0)\n",
    "\n",
    "groups = all_cols_df[\"Gruppe\"].unique()\n",
    "\n",
    "cols_dict = {}\n",
    "\n",
    "for key in groups:\n",
    "    cols_dict[key] = list(\n",
    "        all_cols_df[all_cols_df[\"Gruppe\"] == key].index.values\n",
    "    )\n",
    "\n",
    "swapped_cols_dict = {val: k for k, v in cols_dict.items() for val in v}"
   ]
  },
  {
   "cell_type": "markdown",
   "metadata": {},
   "source": [
    "## Create an overall parameter data set with all information\n",
    "Combine all DataFrames created from the Excel sheets of the dfferent studies into a single one holding all the information:\n",
    "* Filter cols that don't need renaming (columns used for filtering etc.)\n",
    "* Rename the other columns: Append the string for the study to the name of the parameter column in oder not to loose information in the latter aggregation\n",
    "* Loop over the publications dict and concat the individual DataFrames in order to form one overall DataFrame that is used to flter the needed information in the following\n",
    "* Add the study string to all columns containing sources infomation (i.e. all containing the German string 'Fundstelle')\n",
    "* Merge the overall parameters data set with the process categories used for grouping"
   ]
  },
  {
   "cell_type": "code",
   "execution_count": null,
   "metadata": {},
   "outputs": [],
   "source": [
    "cols_not_to_rename = [\n",
    "    \"Prozess\", \"Sektorenzuordnung\", \"Jahr\", \n",
    "    \"Lastverschiebung\", \"Lastverzicht\", \"Lasterhöhung\", \n",
    "    \"study\"\n",
    "]\n",
    "cols_not_to_rename.extend([\n",
    "    col for col in all_cols if \"Fundstelle\" in col\n",
    "])"
   ]
  },
  {
   "cell_type": "code",
   "execution_count": null,
   "metadata": {},
   "outputs": [],
   "source": [
    "parameters = pd.DataFrame()\n",
    "if not is_renamed:\n",
    "    for k, v in publications_dict.items():\n",
    "        v[\"study\"] = k\n",
    "\n",
    "        cols_to_rename = {\n",
    "            col: col + \"_\" + k for col in v.columns \n",
    "            if col not in cols_not_to_rename\n",
    "        }\n",
    "        for col, renamed_col in cols_to_rename.items():\n",
    "            swapped_cols_dict[renamed_col] = swapped_cols_dict[col] \n",
    "\n",
    "        v.rename(columns=cols_to_rename, inplace=True)\n",
    "\n",
    "        parameters = pd.concat([parameters, v])\n",
    "\n",
    "    for el in parameters.columns:\n",
    "        if \"Fundstelle\" in el:\n",
    "            parameters[el] = (\n",
    "                parameters[\"study\"].values \n",
    "                + \": \" \n",
    "                + parameters[el].astype(str).values\n",
    "            )\n",
    "    \n",
    "    is_renamed = True"
   ]
  },
  {
   "cell_type": "code",
   "execution_count": null,
   "metadata": {},
   "outputs": [],
   "source": [
    "parameters = pd.merge(\n",
    "    parameters, categories,\n",
    "    left_on=\"Prozess\", \n",
    "    right_on=\"Prozess (ursprüngliche Kategorien)\",\n",
    "    how=\"left\"\n",
    ")"
   ]
  },
  {
   "cell_type": "markdown",
   "metadata": {},
   "source": [
    "## Aggregate data by process categories\n",
    "Determine aggregation rules:\n",
    "* For original columns, aggregation rules are given in the \"Columns.xlsx\" mapping specified. Columns not to be used are assigned a value of \"drop\" and neglected.\n",
    "* For the modified columns including the study shorthand symbol, an assignment is made based on the predefined mapping, whereby all sources columns - those with the string \"Fundstelle\" in it - are assigned the sum as aggregation rule.\n",
    "* In order not to create a lot of 0 entries by aggregating NaN values (which is the default behaviour), aggregation rule sum is replaced by a lambda function requiring a `min_count` of 1, i.e. at least of entry being notnull."
   ]
  },
  {
   "cell_type": "code",
   "execution_count": null,
   "metadata": {},
   "outputs": [],
   "source": [
    "agg_dict = all_cols_df[\"Aggregationsregel\"].loc[\n",
    "    all_cols_df[\"Aggregationsregel\"] != \"drop\"\n",
    "].to_dict()\n",
    "agg_dict[\"study\"] = \"first\"\n",
    "\n",
    "new_agg_dict = {}\n",
    "for col in parameters.columns:\n",
    "    for k, v in agg_dict.items():\n",
    "        if k in col:\n",
    "            if not \"Fundstelle\" in col:\n",
    "                new_agg_dict[col] = v\n",
    "            else:\n",
    "                new_agg_dict[col] = lambda x: x.sum(min_count=1)"
   ]
  },
  {
   "cell_type": "code",
   "execution_count": null,
   "metadata": {},
   "outputs": [],
   "source": [
    "reversed_agg_dict = defaultdict(list)\n",
    "for k, v in new_agg_dict.items():\n",
    "    reversed_agg_dict[v].append(k)\n",
    "    \n",
    "for k in reversed_agg_dict[\"sum\"]:\n",
    "    new_agg_dict[k] = lambda x: x.sum(min_count=1)"
   ]
  },
  {
   "cell_type": "markdown",
   "metadata": {},
   "source": [
    "Group by process category within studies in order to remove duplicates:\n",
    "* Use the above defined filters for studis, sectors and years.\n",
    "* Iterate over studies, sectors and years;<br>\n",
    "_Note: Due to the nested for-loops, this operation is quite expensive, but only needed once here._\n",
    "* Filter DataFrame accordingly and groupby \"Prozesskategorie\" to remove duplicates"
   ]
  },
  {
   "cell_type": "code",
   "execution_count": null,
   "metadata": {},
   "outputs": [],
   "source": [
    "grouped = pd.DataFrame()\n",
    "for study in publications_dict.keys():\n",
    "    for sector, sector_filter in filter_sector.items():\n",
    "        for year_key, year_value in years_dict.items():\n",
    "            \n",
    "            filtered = parameters.loc[\n",
    "                (parameters[\"study\"] == study)\n",
    "                & (parameters[\"Sektorenzuordnung\"] == sector_filter)\n",
    "                & (parameters[\"Jahr\"].isin(year_value))\n",
    "            ].dropna(axis=1, how=\"all\")\n",
    "            \n",
    "            if not filtered.empty:\n",
    "            \n",
    "                filtered = filtered.groupby(\"Prozesskategorie\").agg({\n",
    "                    k: v for k, v in new_agg_dict.items() if k in filtered.columns\n",
    "                })\n",
    "                grouped = pd.concat([grouped, filtered])"
   ]
  },
  {
   "cell_type": "markdown",
   "metadata": {},
   "source": [
    "# Eligibility for load shifting / load shedding\n",
    "* Extract eligibility for the status quo (cross-sectoral consideration)\n",
    "* Groupby process categories\n",
    "* Calculate the numbers for non-eligibility by calculating the differences between the overall amount and the numbers for eligibility\n",
    "* Write to csv and plot in a stacked bar plot\n",
    "* Extract sources information"
   ]
  },
  {
   "cell_type": "code",
   "execution_count": null,
   "metadata": {},
   "outputs": [],
   "source": [
    "# Extrat info on eligibility and number off publications\n",
    "grouped_SQ = grouped.loc[grouped[\"Jahr\"].isin(status_quo_years)]\n",
    "eligibility = grouped_SQ[\n",
    "    [\"Lastverschiebung\", \"Lastverzicht\", \"Lasterhöhung\"]\n",
    "].groupby(grouped_SQ.index).sum()\n",
    "eligibility[\"Anzahl\"] = grouped_SQ.index.value_counts()\n",
    "\n",
    "# Calculate info on non-eligibility\n",
    "eligibility[\"Lastverschiebung ungeeignet\"] = (\n",
    "    eligibility[\"Anzahl\"].values - eligibility[\"Lastverschiebung\"].values \n",
    ")\n",
    "eligibility[\"Lastverzicht ungeeignet\"] = (\n",
    "    eligibility[\"Anzahl\"].values - eligibility[\"Lastverzicht\"].values \n",
    ")\n",
    "eligibility[\"Lasterhöhung ungeeignet\"] = (\n",
    "    eligibility[\"Anzahl\"].values - eligibility[\"Lasterhöhung\"].values \n",
    ")\n",
    "eligibility.sort_values(by=\"Anzahl\", ascending=False, inplace=True)\n",
    "eligibility.index.name = \"Lastmanagementkategorie\""
   ]
  },
  {
   "cell_type": "code",
   "execution_count": null,
   "metadata": {},
   "outputs": [],
   "source": [
    "# Write eligibility stats (used as input for clustering routine)\n",
    "eligibility.to_csv(path_folder_in+\"eligibility_stats.csv\")"
   ]
  },
  {
   "cell_type": "code",
   "execution_count": null,
   "metadata": {},
   "outputs": [],
   "source": [
    "# Plot eligibiliy / non-eligibility information\n",
    "fig, ax = plt.subplots(3, 1, figsize=(20,15), sharex = True)\n",
    "\n",
    "for i, el in enumerate([\"Lastverschiebung\", \"Lastverzicht\", \"Lasterhöhung\"]):\n",
    "\n",
    "    _ = eligibility[[el, el + \" ungeeignet\"]].rename(columns={\n",
    "            el: \"geeignet\",\n",
    "            el + \" ungeeignet\": \"ungeeignet\"\n",
    "        }).plot(\n",
    "            kind=\"bar\", \n",
    "            stacked=True,\n",
    "            color=[\"dimgrey\", \"lightgrey\"],\n",
    "            ax=ax[i]\n",
    "    )\n",
    "    _ = ax[i].set_title(el)\n",
    "\n",
    "plt.savefig(\"./out/plots/eligibility_all.png\", dpi = 150, bbox_inches = \"tight\")\n",
    "\n",
    "plt.show()    "
   ]
  },
  {
   "cell_type": "code",
   "execution_count": null,
   "metadata": {},
   "outputs": [],
   "source": [
    "# Extract sources infomation\n",
    "sources_eligibility_df = grouped_SQ[[\n",
    "    \"Fundstelle Lastverzicht\",\n",
    "    \"Fundstelle Lastverschiebung\",\n",
    "    \"Fundstelle Lasterhöhung\"\n",
    "]].groupby(grouped_SQ.index).agg(lambda x: \"; \".join(x))\n",
    "\n",
    "eligibility_sources = extract_sample_sources(\n",
    "    sources_eligibility_df, \n",
    "    save=True, \n",
    "    path_folder=\"./out/sources/\", \n",
    "    file_name=\"sources_eligibility.txt\"\n",
    ")"
   ]
  },
  {
   "cell_type": "markdown",
   "metadata": {
    "toc-hr-collapsed": false
   },
   "source": [
    "# Capacity-related parameters\n",
    "In the following, all capacity-related demand response parameters are evaluated. These comprise\n",
    "* demand response potentials in positive or negative direction (in MW),\n",
    "* average, minimum and maximum load factors (in percent of installed capacity) as well as\n",
    "* installed capacities (in MW) and shiftable load share (in percent).\n",
    "\n",
    "The evaluation is carried out per process / appliance / branch (demand response category) for a given sector and year."
   ]
  },
  {
   "cell_type": "markdown",
   "metadata": {},
   "source": [
    "## Industry"
   ]
  },
  {
   "cell_type": "markdown",
   "metadata": {},
   "source": [
    "### Positive load shift potential"
   ]
  },
  {
   "cell_type": "code",
   "execution_count": null,
   "metadata": {},
   "outputs": [],
   "source": [
    "extract_data_for_parameter_all_years(\n",
    "    grouped, \n",
    "    swapped_cols_dict, \n",
    "    parameters=\"Potenzial positiv Mittel\",\n",
    "    sector=\"ind\",\n",
    "    years_dict=years_dict,\n",
    "    file_name_stats=\"potential_pos_ave_ind_stats\",\n",
    "    file_name_sources=\"potential_pos_ave_ind_sources\",\n",
    "    filter_sector=filter_sector\n",
    ")"
   ]
  },
  {
   "cell_type": "code",
   "execution_count": null,
   "metadata": {},
   "outputs": [],
   "source": [
    "run_analyses_for_parameter_single_year(\n",
    "    grouped, \n",
    "    swapped_cols_dict, \n",
    "    parameters=\"Potenzial positiv Mittel\",\n",
    "    sector=\"ind\",\n",
    "    years_dict=years_dict,\n",
    "    year=\"SQ\",\n",
    "    plot_title=\"Werte für das durchschnittliche positive Lastmanagementpotenzial (Lastreduktion)\",\n",
    "    plot_ylabel=\"durchschn. positives Potenzial in MW\",\n",
    "    plot_colors=colors,\n",
    "    filter_sector=filter_sector\n",
    ")"
   ]
  },
  {
   "cell_type": "code",
   "execution_count": null,
   "metadata": {},
   "outputs": [],
   "source": [
    "extract_data_for_parameter_all_years(\n",
    "    grouped, \n",
    "    swapped_cols_dict, \n",
    "    parameters=\"Potenzial positiv min\",\n",
    "    sector=\"ind\",\n",
    "    years_dict=years_dict,\n",
    "    file_name_stats=\"potential_pos_min_ind_stats\",\n",
    "    file_name_sources=\"potential_pos_min_ind_sources\",\n",
    "    filter_sector=filter_sector\n",
    ")"
   ]
  },
  {
   "cell_type": "code",
   "execution_count": null,
   "metadata": {},
   "outputs": [],
   "source": [
    "run_analyses_for_parameter_single_year(\n",
    "    grouped, \n",
    "    swapped_cols_dict, \n",
    "    parameters=\"Potenzial positiv min\",\n",
    "    sector=\"ind\",\n",
    "    years_dict=years_dict,\n",
    "    year=\"SQ\",\n",
    "    plot_title=\"Werte für das minimale positive Lastmanagementpotenzial (Lastreduktion)\",\n",
    "    plot_ylabel=\"minimales positives Potenzial in MW\",\n",
    "    plot_colors=colors,\n",
    "    filter_sector=filter_sector\n",
    ")"
   ]
  },
  {
   "cell_type": "code",
   "execution_count": null,
   "metadata": {},
   "outputs": [],
   "source": [
    "extract_data_for_parameter_all_years(\n",
    "    grouped, \n",
    "    swapped_cols_dict, \n",
    "    parameters=\"Potenzial positiv max\",\n",
    "    sector=\"ind\",\n",
    "    years_dict=years_dict,\n",
    "    file_name_stats=\"potential_pos_max_ind_stats\",\n",
    "    file_name_sources=\"potential_pos_max_ind_sources\",\n",
    "    filter_sector=filter_sector\n",
    ")"
   ]
  },
  {
   "cell_type": "code",
   "execution_count": null,
   "metadata": {},
   "outputs": [],
   "source": [
    "run_analyses_for_parameter_single_year(\n",
    "    grouped, \n",
    "    swapped_cols_dict, \n",
    "    parameters=\"Potenzial positiv max\",\n",
    "    sector=\"ind\",\n",
    "    years_dict=years_dict,\n",
    "    year=\"SQ\",\n",
    "    plot_title=\"Werte für das maximale positive Lastmanagementpotenzial (Lastreduktion)\",\n",
    "    plot_ylabel=\"maximales positives Potenzial in MW\",\n",
    "    plot_colors=colors,\n",
    "    filter_sector=filter_sector\n",
    ")"
   ]
  },
  {
   "cell_type": "code",
   "execution_count": null,
   "metadata": {},
   "outputs": [],
   "source": [
    "extract_data_for_parameter_all_years(\n",
    "    grouped, \n",
    "    swapped_cols_dict, \n",
    "    parameters=[\"Potenzial positiv Mittel\", \"Potenzial positiv min\", \"Potenzial positiv max\"],\n",
    "    sector=\"ind\",\n",
    "    years_dict=years_dict,\n",
    "    file_name_stats=\"potential_pos_overall_ind_stats\",\n",
    "    file_name_sources=\"potential_pos_overall_ind_sources\",\n",
    "    filter_sector=filter_sector\n",
    ")"
   ]
  },
  {
   "cell_type": "code",
   "execution_count": null,
   "metadata": {},
   "outputs": [],
   "source": [
    "run_analyses_for_parameter_single_year(\n",
    "    grouped, \n",
    "    swapped_cols_dict, \n",
    "    parameters=[\"Potenzial positiv Mittel\", \"Potenzial positiv min\", \"Potenzial positiv max\"],\n",
    "    sector=\"ind\",\n",
    "    years_dict=years_dict,\n",
    "    year=\"SQ\",\n",
    "    plot_title=\"Werte für das positive Lastmanagementpotenzial (Lastreduktion)\",\n",
    "    plot_ylabel=\"positives Potenzial in MW\",\n",
    "    plot_colors=colors,\n",
    "    filter_sector=filter_sector\n",
    ")"
   ]
  },
  {
   "cell_type": "markdown",
   "metadata": {},
   "source": [
    "### Positive load shedding potential"
   ]
  },
  {
   "cell_type": "code",
   "execution_count": null,
   "metadata": {},
   "outputs": [],
   "source": [
    "extract_data_for_parameter_all_years(\n",
    "    grouped, \n",
    "    swapped_cols_dict, \n",
    "    parameters=\"Potenzial positiv Mittel Lastverzicht\",\n",
    "    sector=\"ind\",\n",
    "    years_dict=years_dict,\n",
    "    file_name_stats=\"potential_pos_ave_shed_ind_stats\",\n",
    "    file_name_sources=\"potential_pos_ave_shed_ind_sources\",\n",
    "    filter_sector=filter_sector\n",
    ")"
   ]
  },
  {
   "cell_type": "code",
   "execution_count": null,
   "metadata": {},
   "outputs": [],
   "source": [
    "run_analyses_for_parameter_single_year(\n",
    "    grouped, \n",
    "    swapped_cols_dict, \n",
    "    parameters=\"Potenzial positiv Mittel Lastverzicht\",\n",
    "    sector=\"ind\",\n",
    "    years_dict=years_dict,\n",
    "    year=\"SQ\",\n",
    "    plot_title=(\n",
    "        \"Werte für das durchschnittliche positive \"\n",
    "        \"Abschaltpotenzial (Lastverzicht)\"\n",
    "    ),\n",
    "    plot_ylabel=\"durchschn. positives Potenzial in MW\",\n",
    "    plot_colors=colors,\n",
    "    filter_sector=filter_sector\n",
    ")"
   ]
  },
  {
   "cell_type": "code",
   "execution_count": null,
   "metadata": {},
   "outputs": [],
   "source": [
    "extract_data_for_parameter_all_years(\n",
    "    grouped, \n",
    "    swapped_cols_dict, \n",
    "    parameters=\"Potenzial positiv min Lastverzicht\",\n",
    "    sector=\"ind\",\n",
    "    years_dict=years_dict,\n",
    "    file_name_stats=\"potential_pos_min_shed_ind_stats\",\n",
    "    file_name_sources=\"potential_pos_min_shed_ind_sources\",\n",
    "    filter_sector=filter_sector\n",
    ")"
   ]
  },
  {
   "cell_type": "code",
   "execution_count": null,
   "metadata": {},
   "outputs": [],
   "source": [
    "run_analyses_for_parameter_single_year(\n",
    "    grouped, \n",
    "    swapped_cols_dict, \n",
    "    parameters=\"Potenzial positiv min Lastverzicht\",\n",
    "    sector=\"ind\",\n",
    "    years_dict=years_dict,\n",
    "    year=\"SQ\",\n",
    "    plot_title=\"Werte für das minimale positive Abschaltpotenzial (Lastverzicht)\",\n",
    "    plot_ylabel=\"minimales positives Potenzial in MW\",\n",
    "    plot_colors=colors,\n",
    "    filter_sector=filter_sector\n",
    ")"
   ]
  },
  {
   "cell_type": "code",
   "execution_count": null,
   "metadata": {},
   "outputs": [],
   "source": [
    "extract_data_for_parameter_all_years(\n",
    "    grouped, \n",
    "    swapped_cols_dict, \n",
    "    parameters=\"Potenzial positiv max Lastverzicht\",\n",
    "    sector=\"ind\",\n",
    "    years_dict=years_dict,\n",
    "    file_name_stats=\"potential_pos_max_shed_ind_stats\",\n",
    "    file_name_sources=\"potential_pos_max_shed_ind_sources\",\n",
    "    filter_sector=filter_sector\n",
    ")"
   ]
  },
  {
   "cell_type": "code",
   "execution_count": null,
   "metadata": {},
   "outputs": [],
   "source": [
    "run_analyses_for_parameter_single_year(\n",
    "    grouped, \n",
    "    swapped_cols_dict, \n",
    "    parameters=\"Potenzial positiv max Lastverzicht\",\n",
    "    sector=\"ind\",\n",
    "    years_dict=years_dict,\n",
    "    year=\"SQ\",\n",
    "    plot_title=\"Werte für das maximale positive Abschaltpotenzial (Lastverzicht)\",\n",
    "    plot_ylabel=\"maximales positives Potenzial in MW\",\n",
    "    plot_colors=colors,\n",
    "    filter_sector=filter_sector\n",
    ")"
   ]
  },
  {
   "cell_type": "code",
   "execution_count": null,
   "metadata": {},
   "outputs": [],
   "source": [
    "extract_data_for_parameter_all_years(\n",
    "    grouped, \n",
    "    swapped_cols_dict, \n",
    "    parameters=[\n",
    "        \"Potenzial positiv Mittel Lastverzicht\", \n",
    "        \"Potenzial positiv min Lastverzicht\", \n",
    "        \"Potenzial positiv max Lastverzicht\"\n",
    "    ],\n",
    "    sector=\"ind\",\n",
    "    years_dict=years_dict,\n",
    "    file_name_stats=\"potential_pos_overall_shed_ind_stats\",\n",
    "    file_name_sources=\"potential_pos_overall_shed_ind_sources\",\n",
    "    filter_sector=filter_sector\n",
    ")"
   ]
  },
  {
   "cell_type": "code",
   "execution_count": null,
   "metadata": {},
   "outputs": [],
   "source": [
    "run_analyses_for_parameter_single_year(\n",
    "    grouped, \n",
    "    swapped_cols_dict, \n",
    "    parameters=[\n",
    "        \"Potenzial positiv Mittel Lastverzicht\",\n",
    "        \"Potenzial positiv min Lastverzicht\",\n",
    "        \"Potenzial positiv max Lastverzicht\"],\n",
    "    sector=\"ind\",\n",
    "    years_dict=years_dict,\n",
    "    year=\"SQ\",\n",
    "    plot_title=\"Werte für das positive Abschaltpotenzial (Lastverzicht)\",\n",
    "    plot_ylabel=\"positives Potenzial in MW\",\n",
    "    plot_colors=colors,\n",
    "    filter_sector=filter_sector\n",
    ")"
   ]
  },
  {
   "cell_type": "markdown",
   "metadata": {},
   "source": [
    "### Negative load shift potential"
   ]
  },
  {
   "cell_type": "code",
   "execution_count": null,
   "metadata": {},
   "outputs": [],
   "source": [
    "extract_data_for_parameter_all_years(\n",
    "    grouped, \n",
    "    swapped_cols_dict, \n",
    "    parameters=\"Potenzial negativ Mittel\",\n",
    "    sector=\"ind\",\n",
    "    years_dict=years_dict,\n",
    "    file_name_stats=\"potential_neg_ave_ind_stats\",\n",
    "    file_name_sources=\"potential_neg_ave_ind_sources\",\n",
    "    filter_sector=filter_sector\n",
    ")"
   ]
  },
  {
   "cell_type": "code",
   "execution_count": null,
   "metadata": {},
   "outputs": [],
   "source": [
    "run_analyses_for_parameter_single_year(\n",
    "    grouped, \n",
    "    swapped_cols_dict, \n",
    "    parameters=\"Potenzial negativ Mittel\",\n",
    "    sector=\"ind\",\n",
    "    years_dict=years_dict,\n",
    "    year=\"SQ\",\n",
    "    plot_title=(\n",
    "        \"Werte für das durchschnittliche negative \"\n",
    "        \"Lastmanagementpotenzial (Lasterhöhung)\"\n",
    "    ),\n",
    "    plot_ylabel=\"durchschn. negatives Potenzial in MW\",\n",
    "    plot_colors=colors,\n",
    "    filter_sector=filter_sector\n",
    ")"
   ]
  },
  {
   "cell_type": "code",
   "execution_count": null,
   "metadata": {},
   "outputs": [],
   "source": [
    "extract_data_for_parameter_all_years(\n",
    "    grouped, \n",
    "    swapped_cols_dict, \n",
    "    parameters=\"Potenzial negativ min\",\n",
    "    sector=\"ind\",\n",
    "    years_dict=years_dict,\n",
    "    file_name_stats=\"potential_neg_min_ind_stats\",\n",
    "    file_name_sources=\"potential_neg_min_ind_sources\",\n",
    "    filter_sector=filter_sector\n",
    ")"
   ]
  },
  {
   "cell_type": "code",
   "execution_count": null,
   "metadata": {},
   "outputs": [],
   "source": [
    "run_analyses_for_parameter_single_year(\n",
    "    grouped, \n",
    "    swapped_cols_dict, \n",
    "    parameters=\"Potenzial negativ min\",\n",
    "    sector=\"ind\",\n",
    "    years_dict=years_dict,\n",
    "    year=\"SQ\",\n",
    "    plot_title=\"Werte für das minimale negative Lastmanagementpotenzial (Lasterhöhung)\",\n",
    "    plot_ylabel=\"minimales negatives Potenzial in MW\",\n",
    "    plot_colors=colors,\n",
    "    filter_sector=filter_sector\n",
    ")"
   ]
  },
  {
   "cell_type": "code",
   "execution_count": null,
   "metadata": {},
   "outputs": [],
   "source": [
    "extract_data_for_parameter_all_years(\n",
    "    grouped, \n",
    "    swapped_cols_dict, \n",
    "    parameters=\"Potenzial negativ max\",\n",
    "    sector=\"ind\",\n",
    "    years_dict=years_dict,\n",
    "    file_name_stats=\"potential_neg_max_ind_stats\",\n",
    "    file_name_sources=\"potential_neg_max_ind_sources\",\n",
    "    filter_sector=filter_sector\n",
    ")"
   ]
  },
  {
   "cell_type": "code",
   "execution_count": null,
   "metadata": {},
   "outputs": [],
   "source": [
    "run_analyses_for_parameter_single_year(\n",
    "    grouped, \n",
    "    swapped_cols_dict, \n",
    "    parameters=\"Potenzial negativ max\",\n",
    "    sector=\"ind\",\n",
    "    years_dict=years_dict,\n",
    "    year=\"SQ\",\n",
    "    plot_title=\"Werte für das maximale negative Lastmanagementpotenzial (Lasterhöhung)\",\n",
    "    plot_ylabel=\"maximales negatives Potenzial in MW\",\n",
    "    plot_colors=colors,\n",
    "    filter_sector=filter_sector\n",
    ")"
   ]
  },
  {
   "cell_type": "code",
   "execution_count": null,
   "metadata": {},
   "outputs": [],
   "source": [
    "extract_data_for_parameter_all_years(\n",
    "    grouped, \n",
    "    swapped_cols_dict, \n",
    "    parameters=[\n",
    "        \"Potenzial negativ Mittel\", \n",
    "        \"Potenzial negativ min\", \n",
    "        \"Potenzial negativ max\"\n",
    "    ],\n",
    "    sector=\"ind\",\n",
    "    years_dict=years_dict,\n",
    "    file_name_stats=\"potential_neg_overall_ind_stats\",\n",
    "    file_name_sources=\"potential_neg_overall_ind_sources\",\n",
    "    filter_sector=filter_sector\n",
    ")"
   ]
  },
  {
   "cell_type": "code",
   "execution_count": null,
   "metadata": {},
   "outputs": [],
   "source": [
    "run_analyses_for_parameter_single_year(\n",
    "    grouped, \n",
    "    swapped_cols_dict, \n",
    "    parameters=[\n",
    "        \"Potenzial negativ Mittel\", \n",
    "        \"Potenzial negativ min\", \n",
    "        \"Potenzial negativ max\"\n",
    "    ],\n",
    "    sector=\"ind\",\n",
    "    years_dict=years_dict,\n",
    "    year=\"SQ\",\n",
    "    plot_title=\"Werte für das negative Lastmanagementpotenzial (Lastverhöhung)\",\n",
    "    plot_ylabel=\"negatives Potenzial in MW\",\n",
    "    plot_colors=colors,\n",
    "    filter_sector=filter_sector\n",
    ")"
   ]
  },
  {
   "cell_type": "markdown",
   "metadata": {},
   "source": [
    "### Average load values"
   ]
  },
  {
   "cell_type": "code",
   "execution_count": null,
   "metadata": {},
   "outputs": [],
   "source": [
    "extract_data_for_parameter_all_years(\n",
    "    grouped, \n",
    "    swapped_cols_dict, \n",
    "    parameters=\"Durchschnittsauslastung\",\n",
    "    sector=\"ind\",\n",
    "    years_dict=years_dict,\n",
    "    file_name_stats=\"ave_load_ind_stats\",\n",
    "    file_name_sources=\"ave_load_ind_sources\",\n",
    "    filter_sector=filter_sector\n",
    ")"
   ]
  },
  {
   "cell_type": "code",
   "execution_count": null,
   "metadata": {},
   "outputs": [],
   "source": [
    "run_analyses_for_parameter_single_year(\n",
    "    grouped, \n",
    "    swapped_cols_dict, \n",
    "    parameters=\"Durchschnittsauslastung\",\n",
    "    sector=\"ind\",\n",
    "    years_dict=years_dict,\n",
    "    year=\"SQ\",\n",
    "    plot_title=\"Durchschnittlicher Lastfaktor\",\n",
    "    plot_ylabel=\"Durchschnittlicher Lastfaktor in p.u.\",\n",
    "    plot_colors=colors,\n",
    "    filter_sector=filter_sector\n",
    ")"
   ]
  },
  {
   "cell_type": "markdown",
   "metadata": {},
   "source": [
    "### Minimum load values"
   ]
  },
  {
   "cell_type": "code",
   "execution_count": null,
   "metadata": {},
   "outputs": [],
   "source": [
    "extract_data_for_parameter_all_years(\n",
    "    grouped, \n",
    "    swapped_cols_dict, \n",
    "    parameters=\"Minimalauslastung\",\n",
    "    sector=\"ind\",\n",
    "    years_dict=years_dict,\n",
    "    file_name_stats=\"min_load_ind_stats\",\n",
    "    file_name_sources=\"min_load_ind_sources\",\n",
    "    filter_sector=filter_sector\n",
    ")"
   ]
  },
  {
   "cell_type": "code",
   "execution_count": null,
   "metadata": {},
   "outputs": [],
   "source": [
    "run_analyses_for_parameter_single_year(\n",
    "    grouped, \n",
    "    swapped_cols_dict, \n",
    "    parameters=\"Minimalauslastung\",\n",
    "    sector=\"ind\",\n",
    "    years_dict=years_dict,\n",
    "    year=\"SQ\",\n",
    "    plot_title=\"Minimaler Lastfaktor\",\n",
    "    plot_ylabel=\"Minimaler Lastfaktor in p.u.\",\n",
    "    plot_colors=colors,\n",
    "    filter_sector=filter_sector\n",
    ")"
   ]
  },
  {
   "cell_type": "markdown",
   "metadata": {},
   "source": [
    "### Maximum load values"
   ]
  },
  {
   "cell_type": "code",
   "execution_count": null,
   "metadata": {},
   "outputs": [],
   "source": [
    "extract_data_for_parameter_all_years(\n",
    "    grouped, \n",
    "    swapped_cols_dict, \n",
    "    parameters=\"Maximalauslastung\",\n",
    "    sector=\"ind\",\n",
    "    years_dict=years_dict,\n",
    "    file_name_stats=\"max_load_ind_stats\",\n",
    "    file_name_sources=\"max_load_ind_sources\",\n",
    "    filter_sector=filter_sector\n",
    ")"
   ]
  },
  {
   "cell_type": "code",
   "execution_count": null,
   "metadata": {},
   "outputs": [],
   "source": [
    "run_analyses_for_parameter_single_year(\n",
    "    grouped, \n",
    "    swapped_cols_dict, \n",
    "    parameters=\"Maximalauslastung\",\n",
    "    sector=\"ind\",\n",
    "    years_dict=years_dict,\n",
    "    year=\"SQ\",\n",
    "    plot_title=\"Maximaler Lastfaktor\",\n",
    "    plot_ylabel=\"Maximaler Lastfaktor in p.u.\",\n",
    "    plot_colors=colors,\n",
    "    filter_sector=filter_sector\n",
    ")"
   ]
  },
  {
   "cell_type": "markdown",
   "metadata": {},
   "source": [
    "### Installed capacity"
   ]
  },
  {
   "cell_type": "code",
   "execution_count": null,
   "metadata": {},
   "outputs": [],
   "source": [
    "extract_data_for_parameter_all_years(\n",
    "    grouped, \n",
    "    swapped_cols_dict, \n",
    "    parameters=\"installierte Leistung\",\n",
    "    sector=\"ind\",\n",
    "    years_dict=years_dict,\n",
    "    file_name_stats=\"installed_cap_ind_stats\",\n",
    "    file_name_sources=\"installed_cap_ind_sources\",\n",
    "    filter_sector=filter_sector\n",
    ")"
   ]
  },
  {
   "cell_type": "code",
   "execution_count": null,
   "metadata": {},
   "outputs": [],
   "source": [
    "run_analyses_for_parameter_single_year(\n",
    "    grouped, \n",
    "    swapped_cols_dict, \n",
    "    parameters=\"installierte Leistung\",\n",
    "    sector=\"ind\",\n",
    "    years_dict=years_dict,\n",
    "    year=\"SQ\",\n",
    "    plot_title=\"installierte Leistung\",\n",
    "    plot_ylabel=\"installierte Leistung in MW\",\n",
    "    plot_colors=colors,\n",
    "    filter_sector=filter_sector\n",
    ")"
   ]
  },
  {
   "cell_type": "markdown",
   "metadata": {},
   "source": [
    "### Shiftable share"
   ]
  },
  {
   "cell_type": "code",
   "execution_count": null,
   "metadata": {},
   "outputs": [],
   "source": [
    "extract_data_for_parameter_all_years(\n",
    "    grouped, \n",
    "    swapped_cols_dict, \n",
    "    parameters=\"flexibilisierbarer Leistungsanteil\",\n",
    "    sector=\"ind\",\n",
    "    years_dict=years_dict,\n",
    "    file_name_stats=\"shiftable_share_ind_stats\",\n",
    "    file_name_sources=\"shiftable_share_ind_sources\",\n",
    "    filter_sector=filter_sector\n",
    ")"
   ]
  },
  {
   "cell_type": "code",
   "execution_count": null,
   "metadata": {
    "scrolled": true
   },
   "outputs": [],
   "source": [
    "run_analyses_for_parameter_single_year(\n",
    "    grouped, \n",
    "    swapped_cols_dict, \n",
    "    parameters=\"flexibilisierbarer Leistungsanteil\",\n",
    "    sector=\"ind\",\n",
    "    years_dict=years_dict,\n",
    "    year=\"SQ\",\n",
    "    plot_title=\"flexibilisierbarer Leistungsanteil\",\n",
    "    plot_ylabel=\"flexibilisierbarer Leistungsanteil in p.u.\",\n",
    "    plot_colors=colors,\n",
    "    filter_sector=filter_sector\n",
    ")"
   ]
  },
  {
   "cell_type": "markdown",
   "metadata": {},
   "source": [
    "## Trade, commerce and services"
   ]
  },
  {
   "cell_type": "markdown",
   "metadata": {},
   "source": [
    "### Positive load shift potential"
   ]
  },
  {
   "cell_type": "code",
   "execution_count": null,
   "metadata": {},
   "outputs": [],
   "source": [
    "extract_data_for_parameter_all_years(\n",
    "    grouped, \n",
    "    swapped_cols_dict, \n",
    "    parameters=\"Potenzial positiv Mittel\",\n",
    "    sector=\"tcs\",\n",
    "    years_dict=years_dict,\n",
    "    file_name_stats=\"potential_pos_ave_tcs_stats\",\n",
    "    file_name_sources=\"potential_pos_ave_tcs_sources\",\n",
    "    filter_sector=filter_sector\n",
    ")"
   ]
  },
  {
   "cell_type": "code",
   "execution_count": null,
   "metadata": {},
   "outputs": [],
   "source": [
    "run_analyses_for_parameter_single_year(\n",
    "    grouped, \n",
    "    swapped_cols_dict, \n",
    "    parameters=\"Potenzial positiv Mittel\",\n",
    "    sector=\"tcs\",\n",
    "    years_dict=years_dict,\n",
    "    year=\"SQ\",\n",
    "    plot_title=\"Werte für das durchschnittliche positive Lastmanagementpotenzial (Lastreduktion)\",\n",
    "    plot_ylabel=\"durchschn. positives Potenzial in MW\",\n",
    "    plot_colors=colors,\n",
    "    filter_sector=filter_sector\n",
    ")"
   ]
  },
  {
   "cell_type": "code",
   "execution_count": null,
   "metadata": {},
   "outputs": [],
   "source": [
    "extract_data_for_parameter_all_years(\n",
    "    grouped, \n",
    "    swapped_cols_dict, \n",
    "    parameters=\"Potenzial positiv min\",\n",
    "    sector=\"tcs\",\n",
    "    years_dict=years_dict,\n",
    "    file_name_stats=\"potential_pos_min_tcs_stats\",\n",
    "    file_name_sources=\"potential_pos_min_tcs_sources\",\n",
    "    filter_sector=filter_sector\n",
    ")"
   ]
  },
  {
   "cell_type": "code",
   "execution_count": null,
   "metadata": {},
   "outputs": [],
   "source": [
    "run_analyses_for_parameter_single_year(\n",
    "    grouped, \n",
    "    swapped_cols_dict, \n",
    "    parameters=\"Potenzial positiv min\",\n",
    "    sector=\"tcs\",\n",
    "    years_dict=years_dict,\n",
    "    year=\"SQ\",\n",
    "    plot_title=\"Werte für das minimale positive Lastmanagementpotenzial (Lastreduktion)\",\n",
    "    plot_ylabel=\"minimales positives Potenzial in MW\",\n",
    "    plot_colors=colors,\n",
    "    filter_sector=filter_sector\n",
    ")"
   ]
  },
  {
   "cell_type": "code",
   "execution_count": null,
   "metadata": {},
   "outputs": [],
   "source": [
    "extract_data_for_parameter_all_years(\n",
    "    grouped, \n",
    "    swapped_cols_dict, \n",
    "    parameters=\"Potenzial positiv max\",\n",
    "    sector=\"tcs\",\n",
    "    years_dict=years_dict,\n",
    "    file_name_stats=\"potential_pos_max_tcs_stats\",\n",
    "    file_name_sources=\"potential_pos_max_tcs_sources\",\n",
    "    filter_sector=filter_sector\n",
    ")"
   ]
  },
  {
   "cell_type": "code",
   "execution_count": null,
   "metadata": {},
   "outputs": [],
   "source": [
    "run_analyses_for_parameter_single_year(\n",
    "    grouped, \n",
    "    swapped_cols_dict, \n",
    "    parameters=\"Potenzial positiv max\",\n",
    "    sector=\"tcs\",\n",
    "    years_dict=years_dict,\n",
    "    year=\"SQ\",\n",
    "    plot_title=\"Werte für das maximale positive Lastmanagementpotenzial (Lastreduktion)\",\n",
    "    plot_ylabel=\"maximales positives Potenzial in MW\",\n",
    "    plot_colors=colors,\n",
    "    filter_sector=filter_sector\n",
    ")"
   ]
  },
  {
   "cell_type": "code",
   "execution_count": null,
   "metadata": {},
   "outputs": [],
   "source": [
    "extract_data_for_parameter_all_years(\n",
    "    grouped, \n",
    "    swapped_cols_dict, \n",
    "    parameters=[\"Potenzial positiv Mittel\", \"Potenzial positiv min\", \n",
    "                \"Potenzial positiv max\"],\n",
    "    sector=\"tcs\",\n",
    "    years_dict=years_dict,\n",
    "    file_name_stats=\"potential_pos_overall_tcs_stats\",\n",
    "    file_name_sources=\"potential_pos_overall_tcs_sources\",\n",
    "    filter_sector=filter_sector\n",
    ")"
   ]
  },
  {
   "cell_type": "code",
   "execution_count": null,
   "metadata": {},
   "outputs": [],
   "source": [
    "run_analyses_for_parameter_single_year(\n",
    "    grouped, \n",
    "    swapped_cols_dict, \n",
    "    parameters=[\"Potenzial positiv Mittel\", \"Potenzial positiv min\", \n",
    "                \"Potenzial positiv max\"],\n",
    "    sector=\"tcs\",\n",
    "    years_dict=years_dict,\n",
    "    year=\"SQ\",\n",
    "    plot_title=\"Werte für das positive Lastmanagementpotenzial (Lastreduktion)\",\n",
    "    plot_ylabel=\"positives Potenzial in MW\",\n",
    "    plot_colors=colors,\n",
    "    filter_sector=filter_sector\n",
    ")"
   ]
  },
  {
   "cell_type": "markdown",
   "metadata": {},
   "source": [
    "### Positive load shedding potential"
   ]
  },
  {
   "cell_type": "code",
   "execution_count": null,
   "metadata": {},
   "outputs": [],
   "source": [
    "extract_data_for_parameter_all_years(\n",
    "    grouped, \n",
    "    swapped_cols_dict, \n",
    "    parameters=\"Potenzial positiv Mittel Lastverzicht\",\n",
    "    sector=\"tcs\",\n",
    "    years_dict=years_dict,\n",
    "    file_name_stats=\"potential_pos_ave_shed_tcs_stats\",\n",
    "    file_name_sources=\"potential_pos_ave_shed_tcs_sources\",\n",
    "    filter_sector=filter_sector\n",
    ")"
   ]
  },
  {
   "cell_type": "code",
   "execution_count": null,
   "metadata": {},
   "outputs": [],
   "source": [
    "run_analyses_for_parameter_single_year(\n",
    "    grouped, \n",
    "    swapped_cols_dict, \n",
    "    parameters=\"Potenzial positiv Mittel Lastverzicht\",\n",
    "    sector=\"tcs\",\n",
    "    years_dict=years_dict,\n",
    "    year=\"SQ\",\n",
    "    plot_title=(\n",
    "        \"Werte für das durchschnittliche positive \"\n",
    "        \"Abschaltpotenzial (Lastverzicht)\"\n",
    "    ),\n",
    "    plot_ylabel=\"durchschn. positives Potenzial in MW\",\n",
    "    plot_colors=colors,\n",
    "    filter_sector=filter_sector\n",
    ")"
   ]
  },
  {
   "cell_type": "code",
   "execution_count": null,
   "metadata": {},
   "outputs": [],
   "source": [
    "extract_data_for_parameter_all_years(\n",
    "    grouped, \n",
    "    swapped_cols_dict, \n",
    "    parameters=\"Potenzial positiv min Lastverzicht\",\n",
    "    sector=\"tcs\",\n",
    "    years_dict=years_dict,\n",
    "    file_name_stats=\"potential_pos_min_shed_tcs_stats\",\n",
    "    file_name_sources=\"potential_pos_min_shed_tcs_sources\",\n",
    "    filter_sector=filter_sector\n",
    ")"
   ]
  },
  {
   "cell_type": "code",
   "execution_count": null,
   "metadata": {},
   "outputs": [],
   "source": [
    "run_analyses_for_parameter_single_year(\n",
    "    grouped, \n",
    "    swapped_cols_dict, \n",
    "    parameters=\"Potenzial positiv min Lastverzicht\",\n",
    "    sector=\"tcs\",\n",
    "    years_dict=years_dict,\n",
    "    year=\"SQ\",\n",
    "    plot_title=\"Werte für das minimale positive Abschaltpotenzial (Lastverzicht)\",\n",
    "    plot_ylabel=\"minimales positives Potenzial in MW\",\n",
    "    plot_colors=colors,\n",
    "    filter_sector=filter_sector\n",
    ")"
   ]
  },
  {
   "cell_type": "code",
   "execution_count": null,
   "metadata": {},
   "outputs": [],
   "source": [
    "extract_data_for_parameter_all_years(\n",
    "    grouped, \n",
    "    swapped_cols_dict, \n",
    "    parameters=\"Potenzial positiv max Lastverzicht\",\n",
    "    sector=\"tcs\",\n",
    "    years_dict=years_dict,\n",
    "    file_name_stats=\"potential_pos_max_shed_tcs_stats\",\n",
    "    file_name_sources=\"potential_pos_max_shed_tcs_sources\",\n",
    "    filter_sector=filter_sector\n",
    ")"
   ]
  },
  {
   "cell_type": "code",
   "execution_count": null,
   "metadata": {},
   "outputs": [],
   "source": [
    "run_analyses_for_parameter_single_year(\n",
    "    grouped, \n",
    "    swapped_cols_dict, \n",
    "    parameters=\"Potenzial positiv max Lastverzicht\",\n",
    "    sector=\"tcs\",\n",
    "    years_dict=years_dict,\n",
    "    year=\"SQ\",\n",
    "    plot_title=\"Werte für das maximale positive Abschaltpotenzial (Lastverzicht)\",\n",
    "    plot_ylabel=\"maximales positives Potenzial in MW\",\n",
    "    plot_colors=colors,\n",
    "    filter_sector=filter_sector\n",
    ")"
   ]
  },
  {
   "cell_type": "code",
   "execution_count": null,
   "metadata": {},
   "outputs": [],
   "source": [
    "extract_data_for_parameter_all_years(\n",
    "    grouped, \n",
    "    swapped_cols_dict, \n",
    "    parameters=[\n",
    "        \"Potenzial positiv Mittel Lastverzicht\", \n",
    "        \"Potenzial positiv min Lastverzicht\", \n",
    "        \"Potenzial positiv max Lastverzicht\"\n",
    "    ],\n",
    "    sector=\"tcs\",\n",
    "    years_dict=years_dict,\n",
    "    file_name_stats=\"potential_pos_overall_shed_tcs_stats\",\n",
    "    file_name_sources=\"potential_pos_overall_shed_tcs_sources\",\n",
    "    filter_sector=filter_sector\n",
    ")"
   ]
  },
  {
   "cell_type": "code",
   "execution_count": null,
   "metadata": {},
   "outputs": [],
   "source": [
    "run_analyses_for_parameter_single_year(\n",
    "    grouped, \n",
    "    swapped_cols_dict, \n",
    "    parameters=[\n",
    "        \"Potenzial positiv Mittel Lastverzicht\",\n",
    "        \"Potenzial positiv min Lastverzicht\",\n",
    "        \"Potenzial positiv max Lastverzicht\"],\n",
    "    sector=\"tcs\",\n",
    "    years_dict=years_dict,\n",
    "    year=\"SQ\",\n",
    "    plot_title=\"Werte für das positive Abschaltpotenzial (Lastverzicht)\",\n",
    "    plot_ylabel=\"positives Potenzial in MW\",\n",
    "    plot_colors=colors,\n",
    "    filter_sector=filter_sector\n",
    ")"
   ]
  },
  {
   "cell_type": "markdown",
   "metadata": {},
   "source": [
    "### Negative load shift potential"
   ]
  },
  {
   "cell_type": "code",
   "execution_count": null,
   "metadata": {},
   "outputs": [],
   "source": [
    "extract_data_for_parameter_all_years(\n",
    "    grouped, \n",
    "    swapped_cols_dict, \n",
    "    parameters=\"Potenzial negativ Mittel\",\n",
    "    sector=\"tcs\",\n",
    "    years_dict=years_dict,\n",
    "    file_name_stats=\"potential_neg_ave_tcs_stats\",\n",
    "    file_name_sources=\"potential_neg_ave_tcs_sources\",\n",
    "    filter_sector=filter_sector\n",
    ")"
   ]
  },
  {
   "cell_type": "code",
   "execution_count": null,
   "metadata": {},
   "outputs": [],
   "source": [
    "run_analyses_for_parameter_single_year(\n",
    "    grouped, \n",
    "    swapped_cols_dict, \n",
    "    parameters=\"Potenzial negativ Mittel\",\n",
    "    sector=\"tcs\",\n",
    "    years_dict=years_dict,\n",
    "    year=\"SQ\",\n",
    "    plot_title=(\n",
    "        \"Werte für das durchschnittliche negative \"\n",
    "        \"Lastmanagementpotenzial (Lasterhöhung)\"\n",
    "    ),\n",
    "    plot_ylabel=\"durchschn. negatives Potenzial in MW\",\n",
    "    plot_colors=colors,\n",
    "    filter_sector=filter_sector\n",
    ")"
   ]
  },
  {
   "cell_type": "code",
   "execution_count": null,
   "metadata": {},
   "outputs": [],
   "source": [
    "extract_data_for_parameter_all_years(\n",
    "    grouped, \n",
    "    swapped_cols_dict, \n",
    "    parameters=\"Potenzial negativ min\",\n",
    "    sector=\"tcs\",\n",
    "    years_dict=years_dict,\n",
    "    file_name_stats=\"potential_neg_min_tcs_stats\",\n",
    "    file_name_sources=\"potential_neg_min_tcs_sources\",\n",
    "    filter_sector=filter_sector\n",
    ")"
   ]
  },
  {
   "cell_type": "code",
   "execution_count": null,
   "metadata": {},
   "outputs": [],
   "source": [
    "run_analyses_for_parameter_single_year(\n",
    "    grouped, \n",
    "    swapped_cols_dict, \n",
    "    parameters=\"Potenzial negativ min\",\n",
    "    sector=\"tcs\",\n",
    "    years_dict=years_dict,\n",
    "    year=\"SQ\",\n",
    "    plot_title=\"Werte für das minimale negative Lastmanagementpotenzial (Lasterhöhung)\",\n",
    "    plot_ylabel=\"minimales negatives Potenzial in MW\",\n",
    "    plot_colors=colors,\n",
    "    filter_sector=filter_sector\n",
    ")"
   ]
  },
  {
   "cell_type": "code",
   "execution_count": null,
   "metadata": {},
   "outputs": [],
   "source": [
    "extract_data_for_parameter_all_years(\n",
    "    grouped, \n",
    "    swapped_cols_dict, \n",
    "    parameters=\"Potenzial negativ max\",\n",
    "    sector=\"tcs\",\n",
    "    years_dict=years_dict,\n",
    "    file_name_stats=\"potential_neg_max_tcs_stats\",\n",
    "    file_name_sources=\"potential_neg_max_tcs_sources\",\n",
    "    filter_sector=filter_sector\n",
    ")"
   ]
  },
  {
   "cell_type": "code",
   "execution_count": null,
   "metadata": {},
   "outputs": [],
   "source": [
    "run_analyses_for_parameter_single_year(\n",
    "    grouped, \n",
    "    swapped_cols_dict, \n",
    "    parameters=\"Potenzial negativ max\",\n",
    "    sector=\"tcs\",\n",
    "    years_dict=years_dict,\n",
    "    year=\"SQ\",\n",
    "    plot_title=\"Werte für das maximale negative Lastmanagementpotenzial (Lasterhöhung)\",\n",
    "    plot_ylabel=\"maximales negatives Potenzial in MW\",\n",
    "    plot_colors=colors,\n",
    "    filter_sector=filter_sector\n",
    ")"
   ]
  },
  {
   "cell_type": "code",
   "execution_count": null,
   "metadata": {},
   "outputs": [],
   "source": [
    "extract_data_for_parameter_all_years(\n",
    "    grouped, \n",
    "    swapped_cols_dict, \n",
    "    parameters=[\n",
    "        \"Potenzial negativ Mittel\", \n",
    "        \"Potenzial negativ min\", \n",
    "        \"Potenzial negativ max\"\n",
    "    ],\n",
    "    sector=\"tcs\",\n",
    "    years_dict=years_dict,\n",
    "    file_name_stats=\"potential_neg_overall_tcs_stats\",\n",
    "    file_name_sources=\"potential_neg_overall_tcs_sources\",\n",
    "    filter_sector=filter_sector\n",
    ")"
   ]
  },
  {
   "cell_type": "code",
   "execution_count": null,
   "metadata": {},
   "outputs": [],
   "source": [
    "run_analyses_for_parameter_single_year(\n",
    "    grouped, \n",
    "    swapped_cols_dict, \n",
    "    parameters=[\n",
    "        \"Potenzial negativ Mittel\", \n",
    "        \"Potenzial negativ min\", \n",
    "        \"Potenzial negativ max\"\n",
    "    ],\n",
    "    sector=\"tcs\",\n",
    "    years_dict=years_dict,\n",
    "    year=\"SQ\",\n",
    "    plot_title=\"Werte für das negative Lastmanagementpotenzial (Lastverhöhung)\",\n",
    "    plot_ylabel=\"negatives Potenzial in MW\",\n",
    "    plot_colors=colors,\n",
    "    filter_sector=filter_sector\n",
    ")"
   ]
  },
  {
   "cell_type": "markdown",
   "metadata": {},
   "source": [
    "### Average load values"
   ]
  },
  {
   "cell_type": "code",
   "execution_count": null,
   "metadata": {},
   "outputs": [],
   "source": [
    "extract_data_for_parameter_all_years(\n",
    "    grouped, \n",
    "    swapped_cols_dict, \n",
    "    parameters=\"Durchschnittsauslastung\",\n",
    "    sector=\"tcs\",\n",
    "    years_dict=years_dict,\n",
    "    file_name_stats=\"ave_load_tcs_stats\",\n",
    "    file_name_sources=\"ave_load_tcs_sources\",\n",
    "    filter_sector=filter_sector\n",
    ")"
   ]
  },
  {
   "cell_type": "code",
   "execution_count": null,
   "metadata": {},
   "outputs": [],
   "source": [
    "run_analyses_for_parameter_single_year(\n",
    "    grouped, \n",
    "    swapped_cols_dict, \n",
    "    parameters=\"Durchschnittsauslastung\",\n",
    "    sector=\"tcs\",\n",
    "    years_dict=years_dict,\n",
    "    year=\"SQ\",\n",
    "    plot_title=\"Durchschnittlicher Lastfaktor\",\n",
    "    plot_ylabel=\"Durchschnittlicher Lastfaktor in p.u.\",\n",
    "    plot_colors=colors,\n",
    "    filter_sector=filter_sector\n",
    ")"
   ]
  },
  {
   "cell_type": "markdown",
   "metadata": {},
   "source": [
    "### Minimum load values"
   ]
  },
  {
   "cell_type": "code",
   "execution_count": null,
   "metadata": {},
   "outputs": [],
   "source": [
    "extract_data_for_parameter_all_years(\n",
    "    grouped, \n",
    "    swapped_cols_dict, \n",
    "    parameters=\"Minimalauslastung\",\n",
    "    sector=\"tcs\",\n",
    "    years_dict=years_dict,\n",
    "    file_name_stats=\"min_load_tcs_stats\",\n",
    "    file_name_sources=\"min_load_tcs_sources\",\n",
    "    filter_sector=filter_sector\n",
    ")"
   ]
  },
  {
   "cell_type": "code",
   "execution_count": null,
   "metadata": {},
   "outputs": [],
   "source": [
    "run_analyses_for_parameter_single_year(\n",
    "    grouped, \n",
    "    swapped_cols_dict, \n",
    "    parameters=\"Minimalauslastung\",\n",
    "    sector=\"tcs\",\n",
    "    years_dict=years_dict,\n",
    "    year=\"SQ\",\n",
    "    plot_title=\"Minimaler Lastfaktor\",\n",
    "    plot_ylabel=\"Minimaler Lastfaktor in p.u.\",\n",
    "    plot_colors=colors,\n",
    "    filter_sector=filter_sector\n",
    ")"
   ]
  },
  {
   "cell_type": "markdown",
   "metadata": {},
   "source": [
    "### Maximum load values"
   ]
  },
  {
   "cell_type": "code",
   "execution_count": null,
   "metadata": {},
   "outputs": [],
   "source": [
    "extract_data_for_parameter_all_years(\n",
    "    grouped, \n",
    "    swapped_cols_dict, \n",
    "    parameters=\"Maximalauslastung\",\n",
    "    sector=\"tcs\",\n",
    "    years_dict=years_dict,\n",
    "    file_name_stats=\"max_load_tcs_stats\",\n",
    "    file_name_sources=\"max_load_tcs_sources\",\n",
    "    filter_sector=filter_sector\n",
    ")"
   ]
  },
  {
   "cell_type": "code",
   "execution_count": null,
   "metadata": {},
   "outputs": [],
   "source": [
    "run_analyses_for_parameter_single_year(\n",
    "    grouped, \n",
    "    swapped_cols_dict, \n",
    "    parameters=\"Maximalauslastung\",\n",
    "    sector=\"tcs\",\n",
    "    years_dict=years_dict,\n",
    "    year=\"SQ\",\n",
    "    plot_title=\"Maximaler Lastfaktor\",\n",
    "    plot_ylabel=\"Maximaler Lastfaktor in p.u.\",\n",
    "    plot_colors=colors,\n",
    "    filter_sector=filter_sector\n",
    ")"
   ]
  },
  {
   "cell_type": "markdown",
   "metadata": {},
   "source": [
    "### Installed capacity"
   ]
  },
  {
   "cell_type": "code",
   "execution_count": null,
   "metadata": {},
   "outputs": [],
   "source": [
    "extract_data_for_parameter_all_years(\n",
    "    grouped, \n",
    "    swapped_cols_dict, \n",
    "    parameters=\"installierte Leistung\",\n",
    "    sector=\"tcs\",\n",
    "    years_dict=years_dict,\n",
    "    file_name_stats=\"installed_cap_tcs_stats\",\n",
    "    file_name_sources=\"installed_cap_tcs_sources\",\n",
    "    filter_sector=filter_sector\n",
    ")"
   ]
  },
  {
   "cell_type": "code",
   "execution_count": null,
   "metadata": {},
   "outputs": [],
   "source": [
    "run_analyses_for_parameter_single_year(\n",
    "    grouped, \n",
    "    swapped_cols_dict, \n",
    "    parameters=\"installierte Leistung\",\n",
    "    sector=\"tcs\",\n",
    "    years_dict=years_dict,\n",
    "    year=\"SQ\",\n",
    "    plot_title=\"installierte Leistung\",\n",
    "    plot_ylabel=\"installierte Leistung in MW\",\n",
    "    plot_colors=colors,\n",
    "    filter_sector=filter_sector\n",
    ")"
   ]
  },
  {
   "cell_type": "markdown",
   "metadata": {},
   "source": [
    "### Shiftable share"
   ]
  },
  {
   "cell_type": "code",
   "execution_count": null,
   "metadata": {},
   "outputs": [],
   "source": [
    "extract_data_for_parameter_all_years(\n",
    "    grouped, \n",
    "    swapped_cols_dict, \n",
    "    parameters=\"flexibilisierbarer Leistungsanteil\",\n",
    "    sector=\"tcs\",\n",
    "    years_dict=years_dict,\n",
    "    file_name_stats=\"shiftable_share_tcs_stats\",\n",
    "    file_name_sources=\"shiftable_share_tcs_sources\",\n",
    "    filter_sector=filter_sector\n",
    ")"
   ]
  },
  {
   "cell_type": "code",
   "execution_count": null,
   "metadata": {
    "scrolled": true
   },
   "outputs": [],
   "source": [
    "run_analyses_for_parameter_single_year(\n",
    "    grouped, \n",
    "    swapped_cols_dict, \n",
    "    parameters=\"flexibilisierbarer Leistungsanteil\",\n",
    "    sector=\"tcs\",\n",
    "    years_dict=years_dict,\n",
    "    year=\"SQ\",\n",
    "    plot_title=\"flexibilisierbarer Leistungsanteil\",\n",
    "    plot_ylabel=\"flexibilisierbarer Leistungsanteil in p.u.\",\n",
    "    plot_colors=colors,\n",
    "    filter_sector=filter_sector\n",
    ")"
   ]
  },
  {
   "cell_type": "markdown",
   "metadata": {},
   "source": [
    "## Households"
   ]
  },
  {
   "cell_type": "markdown",
   "metadata": {},
   "source": [
    "### Positive load shift potential"
   ]
  },
  {
   "cell_type": "code",
   "execution_count": null,
   "metadata": {},
   "outputs": [],
   "source": [
    "extract_data_for_parameter_all_years(\n",
    "    grouped, \n",
    "    swapped_cols_dict, \n",
    "    parameters=\"Potenzial positiv Mittel\",\n",
    "    sector=\"hoho\",\n",
    "    years_dict=years_dict,\n",
    "    file_name_stats=\"potential_pos_ave_hoho_stats\",\n",
    "    file_name_sources=\"potential_pos_ave_hoho_sources\",\n",
    "    filter_sector=filter_sector\n",
    ")"
   ]
  },
  {
   "cell_type": "code",
   "execution_count": null,
   "metadata": {},
   "outputs": [],
   "source": [
    "run_analyses_for_parameter_single_year(\n",
    "    grouped, \n",
    "    swapped_cols_dict, \n",
    "    parameters=\"Potenzial positiv Mittel\",\n",
    "    sector=\"hoho\",\n",
    "    years_dict=years_dict,\n",
    "    year=\"SQ\",\n",
    "    plot_title=\"Werte für das durchschnittliche positive Lastmanagementpotenzial (Lastreduktion)\",\n",
    "    plot_ylabel=\"durchschn. positives Potenzial in MW\",\n",
    "    plot_colors=colors,\n",
    "    filter_sector=filter_sector\n",
    ")"
   ]
  },
  {
   "cell_type": "code",
   "execution_count": null,
   "metadata": {},
   "outputs": [],
   "source": [
    "extract_data_for_parameter_all_years(\n",
    "    grouped, \n",
    "    swapped_cols_dict, \n",
    "    parameters=\"Potenzial positiv min\",\n",
    "    sector=\"hoho\",\n",
    "    years_dict=years_dict,\n",
    "    file_name_stats=\"potential_pos_min_hoho_stats\",\n",
    "    file_name_sources=\"potential_pos_min_hoho_sources\",\n",
    "    filter_sector=filter_sector\n",
    ")"
   ]
  },
  {
   "cell_type": "code",
   "execution_count": null,
   "metadata": {},
   "outputs": [],
   "source": [
    "run_analyses_for_parameter_single_year(\n",
    "    grouped, \n",
    "    swapped_cols_dict, \n",
    "    parameters=\"Potenzial positiv min\",\n",
    "    sector=\"hoho\",\n",
    "    years_dict=years_dict,\n",
    "    year=\"SQ\",\n",
    "    plot_title=\"Werte für das minimale positive Lastmanagementpotenzial (Lastreduktion)\",\n",
    "    plot_ylabel=\"minimales positives Potenzial in MW\",\n",
    "    plot_colors=colors,\n",
    "    filter_sector=filter_sector\n",
    ")"
   ]
  },
  {
   "cell_type": "code",
   "execution_count": null,
   "metadata": {},
   "outputs": [],
   "source": [
    "extract_data_for_parameter_all_years(\n",
    "    grouped, \n",
    "    swapped_cols_dict, \n",
    "    parameters=\"Potenzial positiv max\",\n",
    "    sector=\"hoho\",\n",
    "    years_dict=years_dict,\n",
    "    file_name_stats=\"potential_pos_max_hoho_stats\",\n",
    "    file_name_sources=\"potential_pos_max_hoho_sources\",\n",
    "    filter_sector=filter_sector\n",
    ")"
   ]
  },
  {
   "cell_type": "code",
   "execution_count": null,
   "metadata": {},
   "outputs": [],
   "source": [
    "run_analyses_for_parameter_single_year(\n",
    "    grouped, \n",
    "    swapped_cols_dict, \n",
    "    parameters=\"Potenzial positiv max\",\n",
    "    sector=\"hoho\",\n",
    "    years_dict=years_dict,\n",
    "    year=\"SQ\",\n",
    "    plot_title=\"Werte für das maximale positive Lastmanagementpotenzial (Lastreduktion)\",\n",
    "    plot_ylabel=\"maximales positives Potenzial in MW\",\n",
    "    plot_colors=colors,\n",
    "    filter_sector=filter_sector\n",
    ")"
   ]
  },
  {
   "cell_type": "code",
   "execution_count": null,
   "metadata": {},
   "outputs": [],
   "source": [
    "extract_data_for_parameter_all_years(\n",
    "    grouped, \n",
    "    swapped_cols_dict, \n",
    "    parameters=[\"Potenzial positiv Mittel\", \"Potenzial positiv min\", \n",
    "                \"Potenzial positiv max\"],\n",
    "    sector=\"hoho\",\n",
    "    years_dict=years_dict,\n",
    "    file_name_stats=\"potential_pos_overall_hoho_stats\",\n",
    "    file_name_sources=\"potential_pos_overall_hoho_sources\",\n",
    "    filter_sector=filter_sector\n",
    ")"
   ]
  },
  {
   "cell_type": "code",
   "execution_count": null,
   "metadata": {},
   "outputs": [],
   "source": [
    "run_analyses_for_parameter_single_year(\n",
    "    grouped, \n",
    "    swapped_cols_dict, \n",
    "    parameters=[\"Potenzial positiv Mittel\", \"Potenzial positiv min\", \n",
    "                \"Potenzial positiv max\"],\n",
    "    sector=\"hoho\",\n",
    "    years_dict=years_dict,\n",
    "    year=\"SQ\",\n",
    "    plot_title=\"Werte für das positive Lastmanagementpotenzial (Lastreduktion)\",\n",
    "    plot_ylabel=\"positives Potenzial in MW\",\n",
    "    plot_colors=colors,\n",
    "    filter_sector=filter_sector\n",
    ")"
   ]
  },
  {
   "cell_type": "markdown",
   "metadata": {},
   "source": [
    "### Positive load shedding potential"
   ]
  },
  {
   "cell_type": "code",
   "execution_count": null,
   "metadata": {},
   "outputs": [],
   "source": [
    "extract_data_for_parameter_all_years(\n",
    "    grouped, \n",
    "    swapped_cols_dict, \n",
    "    parameters=\"Potenzial positiv Mittel Lastverzicht\",\n",
    "    sector=\"hoho\",\n",
    "    years_dict=years_dict,\n",
    "    file_name_stats=\"potential_pos_ave_shed_hoho_stats\",\n",
    "    file_name_sources=\"potential_pos_ave_shed_hoho_sources\",\n",
    "    filter_sector=filter_sector\n",
    ")"
   ]
  },
  {
   "cell_type": "code",
   "execution_count": null,
   "metadata": {},
   "outputs": [],
   "source": [
    "run_analyses_for_parameter_single_year(\n",
    "    grouped, \n",
    "    swapped_cols_dict, \n",
    "    parameters=\"Potenzial positiv Mittel Lastverzicht\",\n",
    "    sector=\"hoho\",\n",
    "    years_dict=years_dict,\n",
    "    year=\"SQ\",\n",
    "    plot_title=(\n",
    "        \"Werte für das durchschnittliche positive \"\n",
    "        \"Abschaltpotenzial (Lastverzicht)\"\n",
    "    ),\n",
    "    plot_ylabel=\"durchschn. positives Potenzial in MW\",\n",
    "    plot_colors=colors,\n",
    "    filter_sector=filter_sector\n",
    ")"
   ]
  },
  {
   "cell_type": "code",
   "execution_count": null,
   "metadata": {},
   "outputs": [],
   "source": [
    "extract_data_for_parameter_all_years(\n",
    "    grouped, \n",
    "    swapped_cols_dict, \n",
    "    parameters=\"Potenzial positiv min Lastverzicht\",\n",
    "    sector=\"hoho\",\n",
    "    years_dict=years_dict,\n",
    "    file_name_stats=\"potential_pos_min_shed_hoho_stats\",\n",
    "    file_name_sources=\"potential_pos_min_shed_hoho_sources\",\n",
    "    filter_sector=filter_sector\n",
    ")"
   ]
  },
  {
   "cell_type": "code",
   "execution_count": null,
   "metadata": {},
   "outputs": [],
   "source": [
    "run_analyses_for_parameter_single_year(\n",
    "    grouped, \n",
    "    swapped_cols_dict, \n",
    "    parameters=\"Potenzial positiv min Lastverzicht\",\n",
    "    sector=\"hoho\",\n",
    "    years_dict=years_dict,\n",
    "    year=\"SQ\",\n",
    "    plot_title=\"Werte für das minimale positive Abschaltpotenzial (Lastverzicht)\",\n",
    "    plot_ylabel=\"minimales positives Potenzial in MW\",\n",
    "    plot_colors=colors,\n",
    "    filter_sector=filter_sector\n",
    ")"
   ]
  },
  {
   "cell_type": "code",
   "execution_count": null,
   "metadata": {},
   "outputs": [],
   "source": [
    "extract_data_for_parameter_all_years(\n",
    "    grouped, \n",
    "    swapped_cols_dict, \n",
    "    parameters=\"Potenzial positiv max Lastverzicht\",\n",
    "    sector=\"hoho\",\n",
    "    years_dict=years_dict,\n",
    "    file_name_stats=\"potential_pos_max_shed_hoho_stats\",\n",
    "    file_name_sources=\"potential_pos_max_shed_hoho_sources\",\n",
    "    filter_sector=filter_sector\n",
    ")"
   ]
  },
  {
   "cell_type": "code",
   "execution_count": null,
   "metadata": {},
   "outputs": [],
   "source": [
    "run_analyses_for_parameter_single_year(\n",
    "    grouped, \n",
    "    swapped_cols_dict, \n",
    "    parameters=\"Potenzial positiv max Lastverzicht\",\n",
    "    sector=\"hoho\",\n",
    "    years_dict=years_dict,\n",
    "    year=\"SQ\",\n",
    "    plot_title=\"Werte für das maximale positive Abschaltpotenzial (Lastverzicht)\",\n",
    "    plot_ylabel=\"maximales positives Potenzial in MW\",\n",
    "    plot_colors=colors,\n",
    "    filter_sector=filter_sector\n",
    ")"
   ]
  },
  {
   "cell_type": "code",
   "execution_count": null,
   "metadata": {},
   "outputs": [],
   "source": [
    "extract_data_for_parameter_all_years(\n",
    "    grouped, \n",
    "    swapped_cols_dict, \n",
    "    parameters=[\n",
    "        \"Potenzial positiv Mittel Lastverzicht\", \n",
    "        \"Potenzial positiv min Lastverzicht\", \n",
    "        \"Potenzial positiv max Lastverzicht\"\n",
    "    ],\n",
    "    sector=\"hoho\",\n",
    "    years_dict=years_dict,\n",
    "    file_name_stats=\"potential_pos_overall_shed_hoho_stats\",\n",
    "    file_name_sources=\"potential_pos_overall_shed_hoho_sources\",\n",
    "    filter_sector=filter_sector\n",
    ")"
   ]
  },
  {
   "cell_type": "code",
   "execution_count": null,
   "metadata": {},
   "outputs": [],
   "source": [
    "run_analyses_for_parameter_single_year(\n",
    "    grouped, \n",
    "    swapped_cols_dict, \n",
    "    parameters=[\n",
    "        \"Potenzial positiv Mittel Lastverzicht\",\n",
    "        \"Potenzial positiv min Lastverzicht\",\n",
    "        \"Potenzial positiv max Lastverzicht\"],\n",
    "    sector=\"hoho\",\n",
    "    years_dict=years_dict,\n",
    "    year=\"SQ\",\n",
    "    plot_title=\"Werte für das positive Abschaltpotenzial (Lastverzicht)\",\n",
    "    plot_ylabel=\"positives Potenzial in MW\",\n",
    "    plot_colors=colors,\n",
    "    filter_sector=filter_sector\n",
    ")"
   ]
  },
  {
   "cell_type": "markdown",
   "metadata": {},
   "source": [
    "### Negative load shift potential"
   ]
  },
  {
   "cell_type": "code",
   "execution_count": null,
   "metadata": {},
   "outputs": [],
   "source": [
    "extract_data_for_parameter_all_years(\n",
    "    grouped, \n",
    "    swapped_cols_dict, \n",
    "    parameters=\"Potenzial negativ Mittel\",\n",
    "    sector=\"hoho\",\n",
    "    years_dict=years_dict,\n",
    "    file_name_stats=\"potential_neg_ave_hoho_stats\",\n",
    "    file_name_sources=\"potential_neg_ave_hoho_sources\",\n",
    "    filter_sector=filter_sector\n",
    ")"
   ]
  },
  {
   "cell_type": "code",
   "execution_count": null,
   "metadata": {},
   "outputs": [],
   "source": [
    "run_analyses_for_parameter_single_year(\n",
    "    grouped, \n",
    "    swapped_cols_dict, \n",
    "    parameters=\"Potenzial negativ Mittel\",\n",
    "    sector=\"hoho\",\n",
    "    years_dict=years_dict,\n",
    "    year=\"SQ\",\n",
    "    plot_title=(\n",
    "        \"Werte für das durchschnittliche negative \"\n",
    "        \"Lastmanagementpotenzial (Lasterhöhung)\"\n",
    "    ),\n",
    "    plot_ylabel=\"durchschn. negatives Potenzial in MW\",\n",
    "    plot_colors=colors,\n",
    "    filter_sector=filter_sector\n",
    ")"
   ]
  },
  {
   "cell_type": "code",
   "execution_count": null,
   "metadata": {},
   "outputs": [],
   "source": [
    "extract_data_for_parameter_all_years(\n",
    "    grouped, \n",
    "    swapped_cols_dict, \n",
    "    parameters=\"Potenzial negativ min\",\n",
    "    sector=\"hoho\",\n",
    "    years_dict=years_dict,\n",
    "    file_name_stats=\"potential_neg_min_hoho_stats\",\n",
    "    file_name_sources=\"potential_neg_min_hoho_sources\",\n",
    "    filter_sector=filter_sector\n",
    ")"
   ]
  },
  {
   "cell_type": "code",
   "execution_count": null,
   "metadata": {},
   "outputs": [],
   "source": [
    "run_analyses_for_parameter_single_year(\n",
    "    grouped, \n",
    "    swapped_cols_dict, \n",
    "    parameters=\"Potenzial negativ min\",\n",
    "    sector=\"hoho\",\n",
    "    years_dict=years_dict,\n",
    "    year=\"SQ\",\n",
    "    plot_title=\"Werte für das minimale negative Lastmanagementpotenzial (Lasterhöhung)\",\n",
    "    plot_ylabel=\"minimales negatives Potenzial in MW\",\n",
    "    plot_colors=colors,\n",
    "    filter_sector=filter_sector\n",
    ")"
   ]
  },
  {
   "cell_type": "code",
   "execution_count": null,
   "metadata": {},
   "outputs": [],
   "source": [
    "extract_data_for_parameter_all_years(\n",
    "    grouped, \n",
    "    swapped_cols_dict, \n",
    "    parameters=\"Potenzial negativ max\",\n",
    "    sector=\"hoho\",\n",
    "    years_dict=years_dict,\n",
    "    file_name_stats=\"potential_neg_max_hoho_stats\",\n",
    "    file_name_sources=\"potential_neg_max_hoho_sources\",\n",
    "    filter_sector=filter_sector\n",
    ")"
   ]
  },
  {
   "cell_type": "code",
   "execution_count": null,
   "metadata": {},
   "outputs": [],
   "source": [
    "run_analyses_for_parameter_single_year(\n",
    "    grouped, \n",
    "    swapped_cols_dict, \n",
    "    parameters=\"Potenzial negativ max\",\n",
    "    sector=\"hoho\",\n",
    "    years_dict=years_dict,\n",
    "    year=\"SQ\",\n",
    "    plot_title=\"Werte für das maximale negative Lastmanagementpotenzial (Lasterhöhung)\",\n",
    "    plot_ylabel=\"maximales negatives Potenzial in MW\",\n",
    "    plot_colors=colors,\n",
    "    filter_sector=filter_sector\n",
    ")"
   ]
  },
  {
   "cell_type": "code",
   "execution_count": null,
   "metadata": {},
   "outputs": [],
   "source": [
    "extract_data_for_parameter_all_years(\n",
    "    grouped, \n",
    "    swapped_cols_dict, \n",
    "    parameters=[\n",
    "        \"Potenzial negativ Mittel\", \n",
    "        \"Potenzial negativ min\", \n",
    "        \"Potenzial negativ max\"\n",
    "    ],\n",
    "    sector=\"hoho\",\n",
    "    years_dict=years_dict,\n",
    "    file_name_stats=\"potential_neg_overall_hoho_stats\",\n",
    "    file_name_sources=\"potential_neg_overall_hoho_sources\",\n",
    "    filter_sector=filter_sector\n",
    ")"
   ]
  },
  {
   "cell_type": "code",
   "execution_count": null,
   "metadata": {},
   "outputs": [],
   "source": [
    "run_analyses_for_parameter_single_year(\n",
    "    grouped, \n",
    "    swapped_cols_dict, \n",
    "    parameters=[\n",
    "        \"Potenzial negativ Mittel\", \n",
    "        \"Potenzial negativ min\", \n",
    "        \"Potenzial negativ max\"\n",
    "    ],\n",
    "    sector=\"hoho\",\n",
    "    years_dict=years_dict,\n",
    "    year=\"SQ\",\n",
    "    plot_title=\"Werte für das negative Lastmanagementpotenzial (Lastverhöhung)\",\n",
    "    plot_ylabel=\"negatives Potenzial in MW\",\n",
    "    plot_colors=colors,\n",
    "    filter_sector=filter_sector\n",
    ")"
   ]
  },
  {
   "cell_type": "markdown",
   "metadata": {},
   "source": [
    "### Average load values"
   ]
  },
  {
   "cell_type": "code",
   "execution_count": null,
   "metadata": {},
   "outputs": [],
   "source": [
    "extract_data_for_parameter_all_years(\n",
    "    grouped, \n",
    "    swapped_cols_dict, \n",
    "    parameters=\"Durchschnittsauslastung\",\n",
    "    sector=\"hoho\",\n",
    "    years_dict=years_dict,\n",
    "    file_name_stats=\"ave_load_hoho_stats\",\n",
    "    file_name_sources=\"ave_load_hoho_sources\",\n",
    "    filter_sector=filter_sector\n",
    ")"
   ]
  },
  {
   "cell_type": "code",
   "execution_count": null,
   "metadata": {},
   "outputs": [],
   "source": [
    "run_analyses_for_parameter_single_year(\n",
    "    grouped, \n",
    "    swapped_cols_dict, \n",
    "    parameters=\"Durchschnittsauslastung\",\n",
    "    sector=\"hoho\",\n",
    "    years_dict=years_dict,\n",
    "    year=\"SQ\",\n",
    "    plot_title=\"Durchschnittlicher Lastfaktor\",\n",
    "    plot_ylabel=\"Durchschnittlicher Lastfaktor in p.u.\",\n",
    "    plot_colors=colors,\n",
    "    filter_sector=filter_sector\n",
    ")"
   ]
  },
  {
   "cell_type": "markdown",
   "metadata": {},
   "source": [
    "### Minimum load values"
   ]
  },
  {
   "cell_type": "code",
   "execution_count": null,
   "metadata": {},
   "outputs": [],
   "source": [
    "extract_data_for_parameter_all_years(\n",
    "    grouped, \n",
    "    swapped_cols_dict, \n",
    "    parameters=\"Minimalauslastung\",\n",
    "    sector=\"hoho\",\n",
    "    years_dict=years_dict,\n",
    "    file_name_stats=\"min_load_hoho_stats\",\n",
    "    file_name_sources=\"min_load_hoho_sources\",\n",
    "    filter_sector=filter_sector\n",
    ")"
   ]
  },
  {
   "cell_type": "code",
   "execution_count": null,
   "metadata": {},
   "outputs": [],
   "source": [
    "run_analyses_for_parameter_single_year(\n",
    "    grouped, \n",
    "    swapped_cols_dict, \n",
    "    parameters=\"Minimalauslastung\",\n",
    "    sector=\"hoho\",\n",
    "    years_dict=years_dict,\n",
    "    year=\"SQ\",\n",
    "    plot_title=\"Minimaler Lastfaktor\",\n",
    "    plot_ylabel=\"Minimaler Lastfaktor in p.u.\",\n",
    "    plot_colors=colors,\n",
    "    filter_sector=filter_sector\n",
    ")"
   ]
  },
  {
   "cell_type": "markdown",
   "metadata": {},
   "source": [
    "### Maximum load values"
   ]
  },
  {
   "cell_type": "code",
   "execution_count": null,
   "metadata": {},
   "outputs": [],
   "source": [
    "extract_data_for_parameter_all_years(\n",
    "    grouped, \n",
    "    swapped_cols_dict, \n",
    "    parameters=\"Maximalauslastung\",\n",
    "    sector=\"hoho\",\n",
    "    years_dict=years_dict,\n",
    "    file_name_stats=\"max_load_hoho_stats\",\n",
    "    file_name_sources=\"max_load_hoho_sources\",\n",
    "    filter_sector=filter_sector\n",
    ")"
   ]
  },
  {
   "cell_type": "code",
   "execution_count": null,
   "metadata": {},
   "outputs": [],
   "source": [
    "run_analyses_for_parameter_single_year(\n",
    "    grouped, \n",
    "    swapped_cols_dict, \n",
    "    parameters=\"Maximalauslastung\",\n",
    "    sector=\"hoho\",\n",
    "    years_dict=years_dict,\n",
    "    year=\"SQ\",\n",
    "    plot_title=\"Maximaler Lastfaktor\",\n",
    "    plot_ylabel=\"Maximaler Lastfaktor in p.u.\",\n",
    "    plot_colors=colors,\n",
    "    filter_sector=filter_sector\n",
    ")"
   ]
  },
  {
   "cell_type": "markdown",
   "metadata": {},
   "source": [
    "### Installed capacity"
   ]
  },
  {
   "cell_type": "code",
   "execution_count": null,
   "metadata": {},
   "outputs": [],
   "source": [
    "extract_data_for_parameter_all_years(\n",
    "    grouped, \n",
    "    swapped_cols_dict, \n",
    "    parameters=\"installierte Leistung\",\n",
    "    sector=\"hoho\",\n",
    "    years_dict=years_dict,\n",
    "    file_name_stats=\"installed_cap_hoho_stats\",\n",
    "    file_name_sources=\"installed_cap_hoho_sources\",\n",
    "    filter_sector=filter_sector\n",
    ")"
   ]
  },
  {
   "cell_type": "code",
   "execution_count": null,
   "metadata": {},
   "outputs": [],
   "source": [
    "run_analyses_for_parameter_single_year(\n",
    "    grouped, \n",
    "    swapped_cols_dict, \n",
    "    parameters=\"installierte Leistung\",\n",
    "    sector=\"hoho\",\n",
    "    years_dict=years_dict,\n",
    "    year=\"SQ\",\n",
    "    plot_title=\"installierte Leistung\",\n",
    "    plot_ylabel=\"installierte Leistung in MW\",\n",
    "    plot_colors=colors,\n",
    "    filter_sector=filter_sector\n",
    ")"
   ]
  },
  {
   "cell_type": "markdown",
   "metadata": {},
   "source": [
    "### Shiftable share"
   ]
  },
  {
   "cell_type": "code",
   "execution_count": null,
   "metadata": {},
   "outputs": [],
   "source": [
    "extract_data_for_parameter_all_years(\n",
    "    grouped, \n",
    "    swapped_cols_dict, \n",
    "    parameters=\"flexibilisierbarer Leistungsanteil\",\n",
    "    sector=\"hoho\",\n",
    "    years_dict=years_dict,\n",
    "    file_name_stats=\"shiftable_share_hoho_stats\",\n",
    "    file_name_sources=\"shiftable_share_hoho_sources\",\n",
    "    filter_sector=filter_sector\n",
    ")"
   ]
  },
  {
   "cell_type": "code",
   "execution_count": null,
   "metadata": {
    "scrolled": true
   },
   "outputs": [],
   "source": [
    "run_analyses_for_parameter_single_year(\n",
    "    grouped, \n",
    "    swapped_cols_dict, \n",
    "    parameters=\"flexibilisierbarer Leistungsanteil\",\n",
    "    sector=\"hoho\",\n",
    "    years_dict=years_dict,\n",
    "    year=\"SQ\",\n",
    "    plot_title=\"flexibilisierbarer Leistungsanteil\",\n",
    "    plot_ylabel=\"flexibilisierbarer Leistungsanteil in p.u.\",\n",
    "    plot_colors=colors,\n",
    "    filter_sector=filter_sector\n",
    ")"
   ]
  },
  {
   "cell_type": "markdown",
   "metadata": {},
   "source": [
    "# Time-related parameters\n",
    "In the following, all time-related demand response parameters are evaluated. These comprise\n",
    "* activation duration (in h),\n",
    "* interference duration in postive (shifting and shedding) and negative direction (in h),\n",
    "* shifting duration (in h),\n",
    "* regeneration duration (in h) as well as\n",
    "* maximum activations per year (for shifting and shedding) (in 1).\n",
    "\n",
    "The evaluation is carried out per process / appliance for a given sector and year."
   ]
  },
  {
   "cell_type": "markdown",
   "metadata": {},
   "source": [
    "## Industry"
   ]
  },
  {
   "cell_type": "markdown",
   "metadata": {},
   "source": [
    "### Activation duration"
   ]
  },
  {
   "cell_type": "code",
   "execution_count": null,
   "metadata": {},
   "outputs": [],
   "source": [
    "extract_data_for_parameter_all_years(\n",
    "    grouped, \n",
    "    swapped_cols_dict, \n",
    "    parameters=\"Aktivierungsdauer\",\n",
    "    sector=\"ind\",\n",
    "    years_dict=years_dict,\n",
    "    file_name_stats=\"activation_duration_ind_stats\",\n",
    "    file_name_sources=\"activation_duration_ind_sources\",\n",
    "    filter_sector=filter_sector\n",
    ")"
   ]
  },
  {
   "cell_type": "code",
   "execution_count": null,
   "metadata": {},
   "outputs": [],
   "source": [
    "run_analyses_for_parameter_single_year(\n",
    "    grouped, \n",
    "    swapped_cols_dict, \n",
    "    parameters=\"Aktivierungsdauer\",\n",
    "    sector=\"ind\",\n",
    "    years_dict=years_dict,\n",
    "    year=\"SQ\",\n",
    "    plot_title=\"Aktivierungsdauer\",\n",
    "    plot_ylabel=\"Aktivierungsdauer in h\",\n",
    "    plot_colors=colors,\n",
    "    filter_sector=filter_sector\n",
    ")"
   ]
  },
  {
   "cell_type": "markdown",
   "metadata": {},
   "source": [
    "### interference duration positive load shifting"
   ]
  },
  {
   "cell_type": "code",
   "execution_count": null,
   "metadata": {},
   "outputs": [],
   "source": [
    "extract_data_for_parameter_all_years(\n",
    "    grouped, \n",
    "    swapped_cols_dict, \n",
    "    parameters=\"Schaltdauer positiv\",\n",
    "    sector=\"ind\",\n",
    "    years_dict=years_dict,\n",
    "    file_name_stats=\"interference_duration_pos_ind_stats\",\n",
    "    file_name_sources=\"interference_duration_pos_ind_sources\",\n",
    "    filter_sector=filter_sector\n",
    ")"
   ]
  },
  {
   "cell_type": "code",
   "execution_count": null,
   "metadata": {},
   "outputs": [],
   "source": [
    "run_analyses_for_parameter_single_year(\n",
    "    grouped, \n",
    "    swapped_cols_dict, \n",
    "    parameters=\"Schaltdauer positiv\",\n",
    "    sector=\"ind\",\n",
    "    years_dict=years_dict,\n",
    "    year=\"SQ\",\n",
    "    plot_title=\"positive Schaltdauer (Lastreduktion)\",\n",
    "    plot_ylabel=\"positive Schaltdauer in h\",\n",
    "    plot_colors=colors,\n",
    "    filter_sector=filter_sector\n",
    ")"
   ]
  },
  {
   "cell_type": "markdown",
   "metadata": {},
   "source": [
    "### interference duration positive load shedding"
   ]
  },
  {
   "cell_type": "code",
   "execution_count": null,
   "metadata": {},
   "outputs": [],
   "source": [
    "extract_data_for_parameter_all_years(\n",
    "    grouped, \n",
    "    swapped_cols_dict, \n",
    "    parameters=\"Schaltdauer positiv Lastverzicht\",\n",
    "    sector=\"ind\",\n",
    "    years_dict=years_dict,\n",
    "    file_name_stats=\"interference_duration_pos_shed_ind_stats\",\n",
    "    file_name_sources=\"interference_duration_pos_shed_ind_sources\",\n",
    "    filter_sector=filter_sector\n",
    ")"
   ]
  },
  {
   "cell_type": "code",
   "execution_count": null,
   "metadata": {},
   "outputs": [],
   "source": [
    "run_analyses_for_parameter_single_year(\n",
    "    grouped, \n",
    "    swapped_cols_dict, \n",
    "    parameters=\"Schaltdauer positiv Lastverzicht\",\n",
    "    sector=\"ind\",\n",
    "    years_dict=years_dict,\n",
    "    year=\"SQ\",\n",
    "    plot_title=\"positive Schaltdauer (Lastverzicht)\",\n",
    "    plot_ylabel=\"positive Schaltdauer in h\",\n",
    "    plot_colors=colors,\n",
    "    filter_sector=filter_sector\n",
    ")"
   ]
  },
  {
   "cell_type": "markdown",
   "metadata": {},
   "source": [
    "### interference duration negative"
   ]
  },
  {
   "cell_type": "code",
   "execution_count": null,
   "metadata": {},
   "outputs": [],
   "source": [
    "extract_data_for_parameter_all_years(\n",
    "    grouped, \n",
    "    swapped_cols_dict, \n",
    "    parameters=\"Schaltdauer negativ\",\n",
    "    sector=\"ind\",\n",
    "    years_dict=years_dict,\n",
    "    file_name_stats=\"interference_duration_neg_ind_stats\",\n",
    "    file_name_sources=\"interference_duration_neg_ind_sources\",\n",
    "    filter_sector=filter_sector\n",
    ")"
   ]
  },
  {
   "cell_type": "code",
   "execution_count": null,
   "metadata": {},
   "outputs": [],
   "source": [
    "run_analyses_for_parameter_single_year(\n",
    "    grouped, \n",
    "    swapped_cols_dict, \n",
    "    parameters=\"Schaltdauer negativ\",\n",
    "    sector=\"ind\",\n",
    "    years_dict=years_dict,\n",
    "    year=\"SQ\",\n",
    "    plot_title=\"negative Schaltdauer (Lasterhöhung)\",\n",
    "    plot_ylabel=\"negative Schaltdauer in h\",\n",
    "    plot_colors=colors,\n",
    "    filter_sector=filter_sector\n",
    ")"
   ]
  },
  {
   "cell_type": "markdown",
   "metadata": {},
   "source": [
    "### shifting duration"
   ]
  },
  {
   "cell_type": "code",
   "execution_count": null,
   "metadata": {},
   "outputs": [],
   "source": [
    "extract_data_for_parameter_all_years(\n",
    "    grouped, \n",
    "    swapped_cols_dict, \n",
    "    parameters=\"Verschiebedauer\",\n",
    "    sector=\"ind\",\n",
    "    years_dict=years_dict,\n",
    "    file_name_stats=\"shifting_duration_ind_stats\",\n",
    "    file_name_sources=\"shifting_duration_ind_sources\",\n",
    "    filter_sector=filter_sector\n",
    ")"
   ]
  },
  {
   "cell_type": "code",
   "execution_count": null,
   "metadata": {},
   "outputs": [],
   "source": [
    "run_analyses_for_parameter_single_year(\n",
    "    grouped, \n",
    "    swapped_cols_dict, \n",
    "    parameters=\"Verschiebedauer\",\n",
    "    sector=\"ind\",\n",
    "    years_dict=years_dict,\n",
    "    year=\"SQ\",\n",
    "    plot_title=\"Verschiebedauer\",\n",
    "    plot_ylabel=\"Verschiebedauer in h\",\n",
    "    plot_colors=colors,\n",
    "    filter_sector=filter_sector\n",
    ")"
   ]
  },
  {
   "cell_type": "markdown",
   "metadata": {},
   "source": [
    "### regeneration duration"
   ]
  },
  {
   "cell_type": "code",
   "execution_count": null,
   "metadata": {},
   "outputs": [],
   "source": [
    "extract_data_for_parameter_all_years(\n",
    "    grouped, \n",
    "    swapped_cols_dict, \n",
    "    parameters=\"Regenerationsdauer\",\n",
    "    sector=\"ind\",\n",
    "    years_dict=years_dict,\n",
    "    file_name_stats=\"regeneration_duration_ind_stats\",\n",
    "    file_name_sources=\"regeneration_duration_ind_sources\",\n",
    "    filter_sector=filter_sector\n",
    ")"
   ]
  },
  {
   "cell_type": "code",
   "execution_count": null,
   "metadata": {},
   "outputs": [],
   "source": [
    "run_analyses_for_parameter_single_year(\n",
    "    grouped, \n",
    "    swapped_cols_dict, \n",
    "    parameters=\"Regenerationsdauer\",\n",
    "    sector=\"ind\",\n",
    "    years_dict=years_dict,\n",
    "    year=\"SQ\",\n",
    "    plot_title=\"Regenerationsdauer\",\n",
    "    plot_ylabel=\"Regenerationsdauer in h\",\n",
    "    plot_colors=colors,\n",
    "    filter_sector=filter_sector\n",
    ")"
   ]
  },
  {
   "cell_type": "markdown",
   "metadata": {},
   "source": [
    "### maximum activations per year load shifting"
   ]
  },
  {
   "cell_type": "code",
   "execution_count": null,
   "metadata": {},
   "outputs": [],
   "source": [
    "extract_data_for_parameter_all_years(\n",
    "    grouped, \n",
    "    swapped_cols_dict, \n",
    "    parameters=\"maximale Abrufhäufigkeit pro Jahr\",\n",
    "    sector=\"ind\",\n",
    "    years_dict=years_dict,\n",
    "    file_name_stats=\"maximum_activations_year_ind_stats\",\n",
    "    file_name_sources=\"maximum_activations_year_ind_sources\",\n",
    "    filter_sector=filter_sector\n",
    ")"
   ]
  },
  {
   "cell_type": "code",
   "execution_count": null,
   "metadata": {},
   "outputs": [],
   "source": [
    "run_analyses_for_parameter_single_year(\n",
    "    grouped, \n",
    "    swapped_cols_dict, \n",
    "    parameters=\"maximale Abrufhäufigkeit pro Jahr\",\n",
    "    sector=\"ind\",\n",
    "    years_dict=years_dict,\n",
    "    year=\"SQ\",\n",
    "    plot_title=\"Maximale Aktivierungshäufigkeit pro Jahr\",\n",
    "    plot_ylabel=\"Anzahl an Aktivierungen in 1/a\",\n",
    "    plot_colors=colors,\n",
    "    filter_sector=filter_sector\n",
    ")"
   ]
  },
  {
   "cell_type": "markdown",
   "metadata": {},
   "source": [
    "### maximum activations per year load shedding"
   ]
  },
  {
   "cell_type": "code",
   "execution_count": null,
   "metadata": {},
   "outputs": [],
   "source": [
    "extract_data_for_parameter_all_years(\n",
    "    grouped, \n",
    "    swapped_cols_dict, \n",
    "    parameters=\"maximale Abrufhäufigkeit pro Jahr Lastverzicht\",\n",
    "    sector=\"ind\",\n",
    "    years_dict=years_dict,\n",
    "    file_name_stats=\"maximum_activations_year_shed_ind_stats\",\n",
    "    file_name_sources=\"maximum_activations_year_shed_ind_sources\",\n",
    "    filter_sector=filter_sector\n",
    ")"
   ]
  },
  {
   "cell_type": "code",
   "execution_count": null,
   "metadata": {},
   "outputs": [],
   "source": [
    "run_analyses_for_parameter_single_year(\n",
    "    grouped, \n",
    "    swapped_cols_dict, \n",
    "    parameters=\"maximale Abrufhäufigkeit pro Jahr Lastverzicht\",\n",
    "    sector=\"ind\",\n",
    "    years_dict=years_dict,\n",
    "    year=\"SQ\",\n",
    "    plot_title=\"Maximale Aktivierungshäufigkeit pro Jahr (Lastverzicht)\",\n",
    "    plot_ylabel=\"Anzahl an Aktivierungen in 1/a\",\n",
    "    plot_colors=colors,\n",
    "    filter_sector=filter_sector\n",
    ")"
   ]
  },
  {
   "cell_type": "markdown",
   "metadata": {},
   "source": [
    "## Trade, commerce and services"
   ]
  },
  {
   "cell_type": "markdown",
   "metadata": {},
   "source": [
    "### Activation duration"
   ]
  },
  {
   "cell_type": "code",
   "execution_count": null,
   "metadata": {},
   "outputs": [],
   "source": [
    "extract_data_for_parameter_all_years(\n",
    "    grouped, \n",
    "    swapped_cols_dict, \n",
    "    parameters=\"Aktivierungsdauer\",\n",
    "    sector=\"tcs\",\n",
    "    years_dict=years_dict,\n",
    "    file_name_stats=\"activation_duration_tcs_stats\",\n",
    "    file_name_sources=\"activation_duration_tcs_sources\",\n",
    "    filter_sector=filter_sector\n",
    ")"
   ]
  },
  {
   "cell_type": "code",
   "execution_count": null,
   "metadata": {},
   "outputs": [],
   "source": [
    "run_analyses_for_parameter_single_year(\n",
    "    grouped, \n",
    "    swapped_cols_dict, \n",
    "    parameters=\"Aktivierungsdauer\",\n",
    "    sector=\"tcs\",\n",
    "    years_dict=years_dict,\n",
    "    year=\"SQ\",\n",
    "    plot_title=\"Aktivierungsdauer\",\n",
    "    plot_ylabel=\"Aktivierungsdauer in h\",\n",
    "    plot_colors=colors,\n",
    "    filter_sector=filter_sector\n",
    ")"
   ]
  },
  {
   "cell_type": "markdown",
   "metadata": {},
   "source": [
    "### interference duration positive load shifting"
   ]
  },
  {
   "cell_type": "code",
   "execution_count": null,
   "metadata": {},
   "outputs": [],
   "source": [
    "extract_data_for_parameter_all_years(\n",
    "    grouped, \n",
    "    swapped_cols_dict, \n",
    "    parameters=\"Schaltdauer positiv\",\n",
    "    sector=\"tcs\",\n",
    "    years_dict=years_dict,\n",
    "    file_name_stats=\"interference_duration_pos_tcs_stats\",\n",
    "    file_name_sources=\"interference_duration_pos_tcs_sources\",\n",
    "    filter_sector=filter_sector\n",
    ")"
   ]
  },
  {
   "cell_type": "code",
   "execution_count": null,
   "metadata": {},
   "outputs": [],
   "source": [
    "run_analyses_for_parameter_single_year(\n",
    "    grouped, \n",
    "    swapped_cols_dict, \n",
    "    parameters=\"Schaltdauer positiv\",\n",
    "    sector=\"tcs\",\n",
    "    years_dict=years_dict,\n",
    "    year=\"SQ\",\n",
    "    plot_title=\"positive Schaltdauer (Lastreduktion)\",\n",
    "    plot_ylabel=\"positive Schaltdauer in h\",\n",
    "    plot_colors=colors,\n",
    "    filter_sector=filter_sector\n",
    ")"
   ]
  },
  {
   "cell_type": "markdown",
   "metadata": {},
   "source": [
    "### interference duration positive load shedding"
   ]
  },
  {
   "cell_type": "code",
   "execution_count": null,
   "metadata": {},
   "outputs": [],
   "source": [
    "extract_data_for_parameter_all_years(\n",
    "    grouped, \n",
    "    swapped_cols_dict, \n",
    "    parameters=\"Schaltdauer positiv Lastverzicht\",\n",
    "    sector=\"tcs\",\n",
    "    years_dict=years_dict,\n",
    "    file_name_stats=\"interference_duration_pos_shed_tcs_stats\",\n",
    "    file_name_sources=\"interference_duration_pos_shed_tcs_sources\",\n",
    "    filter_sector=filter_sector\n",
    ")"
   ]
  },
  {
   "cell_type": "code",
   "execution_count": null,
   "metadata": {},
   "outputs": [],
   "source": [
    "run_analyses_for_parameter_single_year(\n",
    "    grouped, \n",
    "    swapped_cols_dict, \n",
    "    parameters=\"Schaltdauer positiv Lastverzicht\",\n",
    "    sector=\"tcs\",\n",
    "    years_dict=years_dict,\n",
    "    year=\"SQ\",\n",
    "    plot_title=\"positive Schaltdauer (Lastverzicht)\",\n",
    "    plot_ylabel=\"positive Schaltdauer in h\",\n",
    "    plot_colors=colors,\n",
    "    filter_sector=filter_sector\n",
    ")"
   ]
  },
  {
   "cell_type": "markdown",
   "metadata": {},
   "source": [
    "### interference duration negative"
   ]
  },
  {
   "cell_type": "code",
   "execution_count": null,
   "metadata": {},
   "outputs": [],
   "source": [
    "extract_data_for_parameter_all_years(\n",
    "    grouped, \n",
    "    swapped_cols_dict, \n",
    "    parameters=\"Schaltdauer negativ\",\n",
    "    sector=\"tcs\",\n",
    "    years_dict=years_dict,\n",
    "    file_name_stats=\"interference_duration_neg_tcs_stats\",\n",
    "    file_name_sources=\"interference_duration_neg_tcs_sources\",\n",
    "    filter_sector=filter_sector\n",
    ")"
   ]
  },
  {
   "cell_type": "code",
   "execution_count": null,
   "metadata": {},
   "outputs": [],
   "source": [
    "run_analyses_for_parameter_single_year(\n",
    "    grouped, \n",
    "    swapped_cols_dict, \n",
    "    parameters=\"Schaltdauer negativ\",\n",
    "    sector=\"tcs\",\n",
    "    years_dict=years_dict,\n",
    "    year=\"SQ\",\n",
    "    plot_title=\"negative Schaltdauer (Lasterhöhung)\",\n",
    "    plot_ylabel=\"negative Schaltdauer in h\",\n",
    "    plot_colors=colors,\n",
    "    filter_sector=filter_sector\n",
    ")"
   ]
  },
  {
   "cell_type": "markdown",
   "metadata": {},
   "source": [
    "### shifting duration"
   ]
  },
  {
   "cell_type": "code",
   "execution_count": null,
   "metadata": {},
   "outputs": [],
   "source": [
    "extract_data_for_parameter_all_years(\n",
    "    grouped, \n",
    "    swapped_cols_dict, \n",
    "    parameters=\"Verschiebedauer\",\n",
    "    sector=\"tcs\",\n",
    "    years_dict=years_dict,\n",
    "    file_name_stats=\"shifting_duration_tcs_stats\",\n",
    "    file_name_sources=\"shifting_duration_tcs_sources\",\n",
    "    filter_sector=filter_sector\n",
    ")"
   ]
  },
  {
   "cell_type": "code",
   "execution_count": null,
   "metadata": {},
   "outputs": [],
   "source": [
    "run_analyses_for_parameter_single_year(\n",
    "    grouped, \n",
    "    swapped_cols_dict, \n",
    "    parameters=\"Verschiebedauer\",\n",
    "    sector=\"tcs\",\n",
    "    years_dict=years_dict,\n",
    "    year=\"SQ\",\n",
    "    plot_title=\"Verschiebedauer\",\n",
    "    plot_ylabel=\"Verschiebedauer in h\",\n",
    "    plot_colors=colors,\n",
    "    filter_sector=filter_sector\n",
    ")"
   ]
  },
  {
   "cell_type": "markdown",
   "metadata": {},
   "source": [
    "### regeneration duration"
   ]
  },
  {
   "cell_type": "code",
   "execution_count": null,
   "metadata": {},
   "outputs": [],
   "source": [
    "extract_data_for_parameter_all_years(\n",
    "    grouped, \n",
    "    swapped_cols_dict, \n",
    "    parameters=\"Regenerationsdauer\",\n",
    "    sector=\"tcs\",\n",
    "    years_dict=years_dict,\n",
    "    file_name_stats=\"regeneration_duration_tcs_stats\",\n",
    "    file_name_sources=\"regeneration_duration_tcs_sources\",\n",
    "    filter_sector=filter_sector\n",
    ")"
   ]
  },
  {
   "cell_type": "code",
   "execution_count": null,
   "metadata": {},
   "outputs": [],
   "source": [
    "run_analyses_for_parameter_single_year(\n",
    "    grouped, \n",
    "    swapped_cols_dict, \n",
    "    parameters=\"Regenerationsdauer\",\n",
    "    sector=\"tcs\",\n",
    "    years_dict=years_dict,\n",
    "    year=\"SQ\",\n",
    "    plot_title=\"Regenerationsdauer\",\n",
    "    plot_ylabel=\"Regenerationsdauer in h\",\n",
    "    plot_colors=colors,\n",
    "    filter_sector=filter_sector\n",
    ")"
   ]
  },
  {
   "cell_type": "markdown",
   "metadata": {},
   "source": [
    "### maximum activations per year load shifting"
   ]
  },
  {
   "cell_type": "code",
   "execution_count": null,
   "metadata": {},
   "outputs": [],
   "source": [
    "extract_data_for_parameter_all_years(\n",
    "    grouped, \n",
    "    swapped_cols_dict, \n",
    "    parameters=\"maximale Abrufhäufigkeit pro Jahr\",\n",
    "    sector=\"tcs\",\n",
    "    years_dict=years_dict,\n",
    "    file_name_stats=\"maximum_activations_year_tcs_stats\",\n",
    "    file_name_sources=\"maximum_activations_year_tcs_sources\",\n",
    "    filter_sector=filter_sector\n",
    ")"
   ]
  },
  {
   "cell_type": "code",
   "execution_count": null,
   "metadata": {},
   "outputs": [],
   "source": [
    "run_analyses_for_parameter_single_year(\n",
    "    grouped, \n",
    "    swapped_cols_dict, \n",
    "    parameters=\"maximale Abrufhäufigkeit pro Jahr\",\n",
    "    sector=\"tcs\",\n",
    "    years_dict=years_dict,\n",
    "    year=\"SQ\",\n",
    "    plot_title=\"Maximale Aktivierungshäufigkeit pro Jahr\",\n",
    "    plot_ylabel=\"Anzahl an Aktivierungen in 1/a\",\n",
    "    plot_colors=colors,\n",
    "    filter_sector=filter_sector\n",
    ")"
   ]
  },
  {
   "cell_type": "markdown",
   "metadata": {},
   "source": [
    "### maximum activations per year load shedding"
   ]
  },
  {
   "cell_type": "code",
   "execution_count": null,
   "metadata": {},
   "outputs": [],
   "source": [
    "extract_data_for_parameter_all_years(\n",
    "    grouped, \n",
    "    swapped_cols_dict, \n",
    "    parameters=\"maximale Abrufhäufigkeit pro Jahr Lastverzicht\",\n",
    "    sector=\"tcs\",\n",
    "    years_dict=years_dict,\n",
    "    file_name_stats=\"maximum_activations_year_shed_tcs_stats\",\n",
    "    file_name_sources=\"maximum_activations_year_shed_tcs_sources\",\n",
    "    filter_sector=filter_sector\n",
    ")"
   ]
  },
  {
   "cell_type": "code",
   "execution_count": null,
   "metadata": {},
   "outputs": [],
   "source": [
    "run_analyses_for_parameter_single_year(\n",
    "    grouped, \n",
    "    swapped_cols_dict, \n",
    "    parameters=\"maximale Abrufhäufigkeit pro Jahr Lastverzicht\",\n",
    "    sector=\"tcs\",\n",
    "    years_dict=years_dict,\n",
    "    year=\"SQ\",\n",
    "    plot_title=\"Maximale Aktivierungshäufigkeit pro Jahr (Lastverzicht)\",\n",
    "    plot_ylabel=\"Anzahl an Aktivierungen in 1/a\",\n",
    "    plot_colors=colors,\n",
    "    filter_sector=filter_sector\n",
    ")"
   ]
  },
  {
   "cell_type": "markdown",
   "metadata": {},
   "source": [
    "## Households"
   ]
  },
  {
   "cell_type": "markdown",
   "metadata": {},
   "source": [
    "### Activation duration"
   ]
  },
  {
   "cell_type": "code",
   "execution_count": null,
   "metadata": {},
   "outputs": [],
   "source": [
    "extract_data_for_parameter_all_years(\n",
    "    grouped, \n",
    "    swapped_cols_dict, \n",
    "    parameters=\"Aktivierungsdauer\",\n",
    "    sector=\"hoho\",\n",
    "    years_dict=years_dict,\n",
    "    file_name_stats=\"activation_duration_hoho_stats\",\n",
    "    file_name_sources=\"activation_duration_hoho_sources\",\n",
    "    filter_sector=filter_sector\n",
    ")"
   ]
  },
  {
   "cell_type": "code",
   "execution_count": null,
   "metadata": {},
   "outputs": [],
   "source": [
    "run_analyses_for_parameter_single_year(\n",
    "    grouped, \n",
    "    swapped_cols_dict, \n",
    "    parameters=\"Aktivierungsdauer\",\n",
    "    sector=\"hoho\",\n",
    "    years_dict=years_dict,\n",
    "    year=\"SQ\",\n",
    "    plot_title=\"Aktivierungsdauer\",\n",
    "    plot_ylabel=\"Aktivierungsdauer in h\",\n",
    "    plot_colors=colors,\n",
    "    filter_sector=filter_sector\n",
    ")"
   ]
  },
  {
   "cell_type": "markdown",
   "metadata": {},
   "source": [
    "### interference duration positive load shifting"
   ]
  },
  {
   "cell_type": "code",
   "execution_count": null,
   "metadata": {},
   "outputs": [],
   "source": [
    "extract_data_for_parameter_all_years(\n",
    "    grouped, \n",
    "    swapped_cols_dict, \n",
    "    parameters=\"Schaltdauer positiv\",\n",
    "    sector=\"hoho\",\n",
    "    years_dict=years_dict,\n",
    "    file_name_stats=\"interference_duration_pos_hoho_stats\",\n",
    "    file_name_sources=\"interference_duration_pos_hoho_sources\",\n",
    "    filter_sector=filter_sector\n",
    ")"
   ]
  },
  {
   "cell_type": "code",
   "execution_count": null,
   "metadata": {},
   "outputs": [],
   "source": [
    "run_analyses_for_parameter_single_year(\n",
    "    grouped, \n",
    "    swapped_cols_dict, \n",
    "    parameters=\"Schaltdauer positiv\",\n",
    "    sector=\"hoho\",\n",
    "    years_dict=years_dict,\n",
    "    year=\"SQ\",\n",
    "    plot_title=\"positive Schaltdauer (Lastreduktion)\",\n",
    "    plot_ylabel=\"positive Schaltdauer in h\",\n",
    "    plot_colors=colors,\n",
    "    filter_sector=filter_sector\n",
    ")"
   ]
  },
  {
   "cell_type": "markdown",
   "metadata": {},
   "source": [
    "### interference duration positive load shedding"
   ]
  },
  {
   "cell_type": "code",
   "execution_count": null,
   "metadata": {},
   "outputs": [],
   "source": [
    "extract_data_for_parameter_all_years(\n",
    "    grouped, \n",
    "    swapped_cols_dict, \n",
    "    parameters=\"Schaltdauer positiv Lastverzicht\",\n",
    "    sector=\"hoho\",\n",
    "    years_dict=years_dict,\n",
    "    file_name_stats=\"interference_duration_pos_shed_hoho_stats\",\n",
    "    file_name_sources=\"interference_duration_pos_shed_hoho_sources\",\n",
    "    filter_sector=filter_sector\n",
    ")"
   ]
  },
  {
   "cell_type": "code",
   "execution_count": null,
   "metadata": {},
   "outputs": [],
   "source": [
    "run_analyses_for_parameter_single_year(\n",
    "    grouped, \n",
    "    swapped_cols_dict, \n",
    "    parameters=\"Schaltdauer positiv Lastverzicht\",\n",
    "    sector=\"hoho\",\n",
    "    years_dict=years_dict,\n",
    "    year=\"SQ\",\n",
    "    plot_title=\"positive Schaltdauer (Lastverzicht)\",\n",
    "    plot_ylabel=\"positive Schaltdauer in h\",\n",
    "    plot_colors=colors,\n",
    "    filter_sector=filter_sector\n",
    ")"
   ]
  },
  {
   "cell_type": "markdown",
   "metadata": {},
   "source": [
    "### interference duration negative"
   ]
  },
  {
   "cell_type": "code",
   "execution_count": null,
   "metadata": {},
   "outputs": [],
   "source": [
    "extract_data_for_parameter_all_years(\n",
    "    grouped, \n",
    "    swapped_cols_dict, \n",
    "    parameters=\"Schaltdauer negativ\",\n",
    "    sector=\"hoho\",\n",
    "    years_dict=years_dict,\n",
    "    file_name_stats=\"interference_duration_neg_hoho_stats\",\n",
    "    file_name_sources=\"interference_duration_neg_hoho_sources\",\n",
    "    filter_sector=filter_sector\n",
    ")"
   ]
  },
  {
   "cell_type": "code",
   "execution_count": null,
   "metadata": {},
   "outputs": [],
   "source": [
    "run_analyses_for_parameter_single_year(\n",
    "    grouped, \n",
    "    swapped_cols_dict, \n",
    "    parameters=\"Schaltdauer negativ\",\n",
    "    sector=\"hoho\",\n",
    "    years_dict=years_dict,\n",
    "    year=\"SQ\",\n",
    "    plot_title=\"negative Schaltdauer (Lasterhöhung)\",\n",
    "    plot_ylabel=\"negative Schaltdauer in h\",\n",
    "    plot_colors=colors,\n",
    "    filter_sector=filter_sector\n",
    ")"
   ]
  },
  {
   "cell_type": "markdown",
   "metadata": {},
   "source": [
    "### shifting duration"
   ]
  },
  {
   "cell_type": "code",
   "execution_count": null,
   "metadata": {},
   "outputs": [],
   "source": [
    "extract_data_for_parameter_all_years(\n",
    "    grouped, \n",
    "    swapped_cols_dict, \n",
    "    parameters=\"Verschiebedauer\",\n",
    "    sector=\"hoho\",\n",
    "    years_dict=years_dict,\n",
    "    file_name_stats=\"shifting_duration_hoho_stats\",\n",
    "    file_name_sources=\"shifting_duration_hoho_sources\",\n",
    "    filter_sector=filter_sector\n",
    ")"
   ]
  },
  {
   "cell_type": "code",
   "execution_count": null,
   "metadata": {},
   "outputs": [],
   "source": [
    "run_analyses_for_parameter_single_year(\n",
    "    grouped, \n",
    "    swapped_cols_dict, \n",
    "    parameters=\"Verschiebedauer\",\n",
    "    sector=\"hoho\",\n",
    "    years_dict=years_dict,\n",
    "    year=\"SQ\",\n",
    "    plot_title=\"Verschiebedauer\",\n",
    "    plot_ylabel=\"Verschiebedauer in h\",\n",
    "    plot_colors=colors,\n",
    "    filter_sector=filter_sector\n",
    ")"
   ]
  },
  {
   "cell_type": "markdown",
   "metadata": {},
   "source": [
    "### regeneration duration"
   ]
  },
  {
   "cell_type": "code",
   "execution_count": null,
   "metadata": {},
   "outputs": [],
   "source": [
    "extract_data_for_parameter_all_years(\n",
    "    grouped, \n",
    "    swapped_cols_dict, \n",
    "    parameters=\"Regenerationsdauer\",\n",
    "    sector=\"hoho\",\n",
    "    years_dict=years_dict,\n",
    "    file_name_stats=\"regeneration_duration_hoho_stats\",\n",
    "    file_name_sources=\"regeneration_duration_hoho_sources\",\n",
    "    filter_sector=filter_sector\n",
    ")"
   ]
  },
  {
   "cell_type": "code",
   "execution_count": null,
   "metadata": {},
   "outputs": [],
   "source": [
    "run_analyses_for_parameter_single_year(\n",
    "    grouped, \n",
    "    swapped_cols_dict, \n",
    "    parameters=\"Regenerationsdauer\",\n",
    "    sector=\"hoho\",\n",
    "    years_dict=years_dict,\n",
    "    year=\"SQ\",\n",
    "    plot_title=\"Regenerationsdauer\",\n",
    "    plot_ylabel=\"Regenerationsdauer in h\",\n",
    "    plot_colors=colors,\n",
    "    filter_sector=filter_sector\n",
    ")"
   ]
  },
  {
   "cell_type": "markdown",
   "metadata": {},
   "source": [
    "### maximum activations per year load shifting"
   ]
  },
  {
   "cell_type": "code",
   "execution_count": null,
   "metadata": {},
   "outputs": [],
   "source": [
    "extract_data_for_parameter_all_years(\n",
    "    grouped, \n",
    "    swapped_cols_dict, \n",
    "    parameters=\"maximale Abrufhäufigkeit pro Jahr\",\n",
    "    sector=\"hoho\",\n",
    "    years_dict=years_dict,\n",
    "    file_name_stats=\"maximum_activations_year_hoho_stats\",\n",
    "    file_name_sources=\"maximum_activations_year_hoho_sources\",\n",
    "    filter_sector=filter_sector\n",
    ")"
   ]
  },
  {
   "cell_type": "code",
   "execution_count": null,
   "metadata": {},
   "outputs": [],
   "source": [
    "run_analyses_for_parameter_single_year(\n",
    "    grouped, \n",
    "    swapped_cols_dict, \n",
    "    parameters=\"maximale Abrufhäufigkeit pro Jahr\",\n",
    "    sector=\"hoho\",\n",
    "    years_dict=years_dict,\n",
    "    year=\"SQ\",\n",
    "    plot_title=\"Maximale Aktivierungshäufigkeit pro Jahr\",\n",
    "    plot_ylabel=\"Anzahl an Aktivierungen in 1/a\",\n",
    "    plot_colors=colors,\n",
    "    filter_sector=filter_sector\n",
    ")"
   ]
  },
  {
   "cell_type": "markdown",
   "metadata": {},
   "source": [
    "### maximum activations per year load shedding"
   ]
  },
  {
   "cell_type": "code",
   "execution_count": null,
   "metadata": {},
   "outputs": [],
   "source": [
    "extract_data_for_parameter_all_years(\n",
    "    grouped, \n",
    "    swapped_cols_dict, \n",
    "    parameters=\"maximale Abrufhäufigkeit pro Jahr Lastverzicht\",\n",
    "    sector=\"hoho\",\n",
    "    years_dict=years_dict,\n",
    "    file_name_stats=\"maximum_activations_year_shed_hoho_stats\",\n",
    "    file_name_sources=\"maximum_activations_year_shed_hoho_sources\",\n",
    "    filter_sector=filter_sector\n",
    ")"
   ]
  },
  {
   "cell_type": "code",
   "execution_count": null,
   "metadata": {},
   "outputs": [],
   "source": [
    "run_analyses_for_parameter_single_year(\n",
    "    grouped, \n",
    "    swapped_cols_dict, \n",
    "    parameters=\"maximale Abrufhäufigkeit pro Jahr Lastverzicht\",\n",
    "    sector=\"hoho\",\n",
    "    years_dict=years_dict,\n",
    "    year=\"SQ\",\n",
    "    plot_title=\"Maximale Aktivierungshäufigkeit pro Jahr (Lastverzicht)\",\n",
    "    plot_ylabel=\"Anzahl an Aktivierungen in 1/a\",\n",
    "    plot_colors=colors,\n",
    "    filter_sector=filter_sector\n",
    ")"
   ]
  },
  {
   "cell_type": "markdown",
   "metadata": {},
   "source": [
    "# Cost-related parameters\n",
    "In the following, all cost-related demand response parameters are evaluated. These comprise\n",
    "* specific investments (in $€_{2018}/kW$),\n",
    "* variable costs (in $€_{2018}/MWh$) as well as\n",
    "* fixed costs (in $€_{2018}/kW$).\n",
    "\n",
    "The evaluation is carried out per process / appliance for a given sector and year."
   ]
  },
  {
   "cell_type": "markdown",
   "metadata": {},
   "source": [
    "## Industry"
   ]
  },
  {
   "cell_type": "markdown",
   "metadata": {},
   "source": [
    "### Specific investments"
   ]
  },
  {
   "cell_type": "code",
   "execution_count": null,
   "metadata": {},
   "outputs": [],
   "source": [
    "extract_data_for_parameter_all_years(\n",
    "    grouped, \n",
    "    swapped_cols_dict, \n",
    "    parameters=\"Investitionsausgaben\",\n",
    "    sector=\"ind\",\n",
    "    years_dict=years_dict,\n",
    "    file_name_stats=\"specific_investments_ind_stats\",\n",
    "    file_name_sources=\"specific_investments_ind_sources\",\n",
    "    filter_sector=filter_sector\n",
    ")"
   ]
  },
  {
   "cell_type": "code",
   "execution_count": null,
   "metadata": {},
   "outputs": [],
   "source": [
    "run_analyses_for_parameter_single_year(\n",
    "    grouped, \n",
    "    swapped_cols_dict, \n",
    "    parameters=\"Investitionsausgaben\",\n",
    "    sector=\"ind\",\n",
    "    years_dict=years_dict,\n",
    "    year=\"SQ\",\n",
    "    plot_title=\"Spezifische Investitionsausgaben\",\n",
    "    plot_ylabel=\"spezifische Investitionsausgaben in €_2020/kW\",\n",
    "    plot_colors=colors,\n",
    "    filter_sector=filter_sector\n",
    ")"
   ]
  },
  {
   "cell_type": "markdown",
   "metadata": {},
   "source": [
    "### variable costs load shifting"
   ]
  },
  {
   "cell_type": "code",
   "execution_count": null,
   "metadata": {},
   "outputs": [],
   "source": [
    "extract_data_for_parameter_all_years(\n",
    "    grouped, \n",
    "    swapped_cols_dict, \n",
    "    parameters=\"variable Kosten\",\n",
    "    sector=\"ind\",\n",
    "    years_dict=years_dict,\n",
    "    file_name_stats=\"variable_costs_ind_stats\",\n",
    "    file_name_sources=\"variable_costs_ind_sources\",\n",
    "    filter_sector=filter_sector\n",
    ")"
   ]
  },
  {
   "cell_type": "code",
   "execution_count": null,
   "metadata": {},
   "outputs": [],
   "source": [
    "run_analyses_for_parameter_single_year(\n",
    "    grouped, \n",
    "    swapped_cols_dict, \n",
    "    parameters=\"variable Kosten\",\n",
    "    sector=\"ind\",\n",
    "    years_dict=years_dict,\n",
    "    year=\"SQ\",\n",
    "    plot_title=\"Variable Kosten (Lastverschiebung)\",\n",
    "    plot_ylabel=\"variable Kosten in €_2020/MWh\",\n",
    "    plot_colors=colors,\n",
    "    filter_sector=filter_sector\n",
    ")"
   ]
  },
  {
   "cell_type": "markdown",
   "metadata": {},
   "source": [
    "### variable costs load shedding"
   ]
  },
  {
   "cell_type": "code",
   "execution_count": null,
   "metadata": {},
   "outputs": [],
   "source": [
    "extract_data_for_parameter_all_years(\n",
    "    grouped, \n",
    "    swapped_cols_dict, \n",
    "    parameters=\"variable Kosten Lastverzicht\",\n",
    "    sector=\"ind\",\n",
    "    years_dict=years_dict,\n",
    "    file_name_stats=\"variable_costs_shed_ind_stats\",\n",
    "    file_name_sources=\"variable_costs_shed_ind_sources\",\n",
    "    filter_sector=filter_sector\n",
    ")"
   ]
  },
  {
   "cell_type": "code",
   "execution_count": null,
   "metadata": {},
   "outputs": [],
   "source": [
    "run_analyses_for_parameter_single_year(\n",
    "    grouped, \n",
    "    swapped_cols_dict, \n",
    "    parameters=\"variable Kosten Lastverzicht\",\n",
    "    sector=\"ind\",\n",
    "    years_dict=years_dict,\n",
    "    year=\"SQ\",\n",
    "    plot_title=\"Variable Kosten (Lastverzicht)\",\n",
    "    plot_ylabel=\"variable Kosten in €_2020/MWh\",\n",
    "    plot_colors=colors,\n",
    "    filter_sector=filter_sector\n",
    ")"
   ]
  },
  {
   "cell_type": "markdown",
   "metadata": {},
   "source": [
    "### fixed costs"
   ]
  },
  {
   "cell_type": "code",
   "execution_count": null,
   "metadata": {},
   "outputs": [],
   "source": [
    "extract_data_for_parameter_all_years(\n",
    "    grouped, \n",
    "    swapped_cols_dict, \n",
    "    parameters=\"fixe Kosten\",\n",
    "    sector=\"ind\",\n",
    "    years_dict=years_dict,\n",
    "    file_name_stats=\"fixed_costs_ind_stats\",\n",
    "    file_name_sources=\"fixed_costs_ind_sources\",\n",
    "    filter_sector=filter_sector\n",
    ")"
   ]
  },
  {
   "cell_type": "code",
   "execution_count": null,
   "metadata": {},
   "outputs": [],
   "source": [
    "run_analyses_for_parameter_single_year(\n",
    "    grouped, \n",
    "    swapped_cols_dict, \n",
    "    parameters=\"fixe Kosten\",\n",
    "    sector=\"ind\",\n",
    "    years_dict=years_dict,\n",
    "    year=\"SQ\",\n",
    "    plot_title=\"Fixe Kosten\",\n",
    "    plot_ylabel=\"fixe Kosten in €_2020/kW*a\",\n",
    "    plot_colors=colors,\n",
    "    filter_sector=filter_sector\n",
    ")"
   ]
  },
  {
   "cell_type": "markdown",
   "metadata": {},
   "source": [
    "## Trade, commerce and services"
   ]
  },
  {
   "cell_type": "markdown",
   "metadata": {},
   "source": [
    "### Specific investments"
   ]
  },
  {
   "cell_type": "code",
   "execution_count": null,
   "metadata": {},
   "outputs": [],
   "source": [
    "extract_data_for_parameter_all_years(\n",
    "    grouped, \n",
    "    swapped_cols_dict, \n",
    "    parameters=\"Investitionsausgaben\",\n",
    "    sector=\"tcs\",\n",
    "    years_dict=years_dict,\n",
    "    file_name_stats=\"specific_investments_tcs_stats\",\n",
    "    file_name_sources=\"specific_investments_tcs_sources\",\n",
    "    filter_sector=filter_sector\n",
    ")"
   ]
  },
  {
   "cell_type": "code",
   "execution_count": null,
   "metadata": {},
   "outputs": [],
   "source": [
    "run_analyses_for_parameter_single_year(\n",
    "    grouped, \n",
    "    swapped_cols_dict, \n",
    "    parameters=\"Investitionsausgaben\",\n",
    "    sector=\"tcs\",\n",
    "    years_dict=years_dict,\n",
    "    year=\"SQ\",\n",
    "    plot_title=\"Spezifische Investitionsausgaben\",\n",
    "    plot_ylabel=\"spezifische Investitionsausgaben in €_2020/kW\",\n",
    "    plot_colors=colors,\n",
    "    filter_sector=filter_sector\n",
    ")"
   ]
  },
  {
   "cell_type": "markdown",
   "metadata": {},
   "source": [
    "### variable costs load shifting"
   ]
  },
  {
   "cell_type": "code",
   "execution_count": null,
   "metadata": {},
   "outputs": [],
   "source": [
    "extract_data_for_parameter_all_years(\n",
    "    grouped, \n",
    "    swapped_cols_dict, \n",
    "    parameters=\"variable Kosten\",\n",
    "    sector=\"tcs\",\n",
    "    years_dict=years_dict,\n",
    "    file_name_stats=\"variable_costs_tcs_stats\",\n",
    "    file_name_sources=\"variable_costs_tcs_sources\",\n",
    "    filter_sector=filter_sector\n",
    ")"
   ]
  },
  {
   "cell_type": "code",
   "execution_count": null,
   "metadata": {},
   "outputs": [],
   "source": [
    "run_analyses_for_parameter_single_year(\n",
    "    grouped, \n",
    "    swapped_cols_dict, \n",
    "    parameters=\"variable Kosten\",\n",
    "    sector=\"tcs\",\n",
    "    years_dict=years_dict,\n",
    "    year=\"SQ\",\n",
    "    plot_title=\"Variable Kosten (Lastverschiebung)\",\n",
    "    plot_ylabel=\"variable Kosten in €_2020/MWh\",\n",
    "    plot_colors=colors,\n",
    "    filter_sector=filter_sector\n",
    ")"
   ]
  },
  {
   "cell_type": "markdown",
   "metadata": {},
   "source": [
    "### variable costs load shedding"
   ]
  },
  {
   "cell_type": "code",
   "execution_count": null,
   "metadata": {},
   "outputs": [],
   "source": [
    "extract_data_for_parameter_all_years(\n",
    "    grouped, \n",
    "    swapped_cols_dict, \n",
    "    parameters=\"variable Kosten Lastverzicht\",\n",
    "    sector=\"tcs\",\n",
    "    years_dict=years_dict,\n",
    "    file_name_stats=\"variable_costs_shed_tcs_stats\",\n",
    "    file_name_sources=\"variable_costs_shed_tcs_sources\",\n",
    "    filter_sector=filter_sector\n",
    ")"
   ]
  },
  {
   "cell_type": "code",
   "execution_count": null,
   "metadata": {},
   "outputs": [],
   "source": [
    "run_analyses_for_parameter_single_year(\n",
    "    grouped, \n",
    "    swapped_cols_dict, \n",
    "    parameters=\"variable Kosten Lastverzicht\",\n",
    "    sector=\"tcs\",\n",
    "    years_dict=years_dict,\n",
    "    year=\"SQ\",\n",
    "    plot_title=\"Variable Kosten (Lastverzicht)\",\n",
    "    plot_ylabel=\"variable Kosten in €_2020/MWh\",\n",
    "    plot_colors=colors,\n",
    "    filter_sector=filter_sector\n",
    ")"
   ]
  },
  {
   "cell_type": "markdown",
   "metadata": {},
   "source": [
    "### fixed costs"
   ]
  },
  {
   "cell_type": "code",
   "execution_count": null,
   "metadata": {},
   "outputs": [],
   "source": [
    "extract_data_for_parameter_all_years(\n",
    "    grouped, \n",
    "    swapped_cols_dict, \n",
    "    parameters=\"fixe Kosten\",\n",
    "    sector=\"tcs\",\n",
    "    years_dict=years_dict,\n",
    "    file_name_stats=\"fixed_costs_tcs_stats\",\n",
    "    file_name_sources=\"fixed_costs_tcs_sources\",\n",
    "    filter_sector=filter_sector\n",
    ")"
   ]
  },
  {
   "cell_type": "code",
   "execution_count": null,
   "metadata": {},
   "outputs": [],
   "source": [
    "run_analyses_for_parameter_single_year(\n",
    "    grouped, \n",
    "    swapped_cols_dict, \n",
    "    parameters=\"fixe Kosten\",\n",
    "    sector=\"tcs\",\n",
    "    years_dict=years_dict,\n",
    "    year=\"SQ\",\n",
    "    plot_title=\"Fixe Kosten\",\n",
    "    plot_ylabel=\"fixe Kosten in €_2020/kW*a\",\n",
    "    plot_colors=colors,\n",
    "    filter_sector=filter_sector\n",
    ")"
   ]
  },
  {
   "cell_type": "markdown",
   "metadata": {},
   "source": [
    "## Households"
   ]
  },
  {
   "cell_type": "markdown",
   "metadata": {},
   "source": [
    "### Specific investments"
   ]
  },
  {
   "cell_type": "code",
   "execution_count": null,
   "metadata": {},
   "outputs": [],
   "source": [
    "extract_data_for_parameter_all_years(\n",
    "    grouped, \n",
    "    swapped_cols_dict, \n",
    "    parameters=\"Investitionsausgaben\",\n",
    "    sector=\"hoho\",\n",
    "    years_dict=years_dict,\n",
    "    file_name_stats=\"specific_investments_hoho_stats\",\n",
    "    file_name_sources=\"specific_investments_hoho_sources\",\n",
    "    filter_sector=filter_sector\n",
    ")"
   ]
  },
  {
   "cell_type": "code",
   "execution_count": null,
   "metadata": {},
   "outputs": [],
   "source": [
    "run_analyses_for_parameter_single_year(\n",
    "    grouped, \n",
    "    swapped_cols_dict, \n",
    "    parameters=\"Investitionsausgaben\",\n",
    "    sector=\"hoho\",\n",
    "    years_dict=years_dict,\n",
    "    year=\"SQ\",\n",
    "    plot_title=\"Spezifische Investitionsausgaben\",\n",
    "    plot_ylabel=\"spezifische Investitionsausgaben in €_2020/kW\",\n",
    "    plot_colors=colors,\n",
    "    filter_sector=filter_sector\n",
    ")"
   ]
  },
  {
   "cell_type": "markdown",
   "metadata": {},
   "source": [
    "### variable costs load shifting"
   ]
  },
  {
   "cell_type": "code",
   "execution_count": null,
   "metadata": {},
   "outputs": [],
   "source": [
    "extract_data_for_parameter_all_years(\n",
    "    grouped, \n",
    "    swapped_cols_dict, \n",
    "    parameters=\"variable Kosten\",\n",
    "    sector=\"hoho\",\n",
    "    years_dict=years_dict,\n",
    "    file_name_stats=\"variable_costs_hoho_stats\",\n",
    "    file_name_sources=\"variable_costs_hoho_sources\",\n",
    "    filter_sector=filter_sector\n",
    ")"
   ]
  },
  {
   "cell_type": "code",
   "execution_count": null,
   "metadata": {},
   "outputs": [],
   "source": [
    "run_analyses_for_parameter_single_year(\n",
    "    grouped, \n",
    "    swapped_cols_dict, \n",
    "    parameters=\"variable Kosten\",\n",
    "    sector=\"hoho\",\n",
    "    years_dict=years_dict,\n",
    "    year=\"SQ\",\n",
    "    plot_title=\"Variable Kosten (Lastverschiebung)\",\n",
    "    plot_ylabel=\"variable Kosten in €_2020/MWh\",\n",
    "    plot_colors=colors,\n",
    "    filter_sector=filter_sector\n",
    ")"
   ]
  },
  {
   "cell_type": "markdown",
   "metadata": {},
   "source": [
    "### variable costs load shedding"
   ]
  },
  {
   "cell_type": "code",
   "execution_count": null,
   "metadata": {},
   "outputs": [],
   "source": [
    "extract_data_for_parameter_all_years(\n",
    "    grouped, \n",
    "    swapped_cols_dict, \n",
    "    parameters=\"variable Kosten Lastverzicht\",\n",
    "    sector=\"hoho\",\n",
    "    years_dict=years_dict,\n",
    "    file_name_stats=\"variable_costs_shed_hoho_stats\",\n",
    "    file_name_sources=\"variable_costs_shed_hoho_sources\",\n",
    "    filter_sector=filter_sector\n",
    ")"
   ]
  },
  {
   "cell_type": "code",
   "execution_count": null,
   "metadata": {},
   "outputs": [],
   "source": [
    "run_analyses_for_parameter_single_year(\n",
    "    grouped, \n",
    "    swapped_cols_dict, \n",
    "    parameters=\"variable Kosten Lastverzicht\",\n",
    "    sector=\"hoho\",\n",
    "    years_dict=years_dict,\n",
    "    year=\"SQ\",\n",
    "    plot_title=\"Variable Kosten (Lastverzicht)\",\n",
    "    plot_ylabel=\"variable Kosten in €_2020/MWh\",\n",
    "    plot_colors=colors,\n",
    "    filter_sector=filter_sector\n",
    ")"
   ]
  },
  {
   "cell_type": "markdown",
   "metadata": {},
   "source": [
    "### fixed costs"
   ]
  },
  {
   "cell_type": "code",
   "execution_count": null,
   "metadata": {},
   "outputs": [],
   "source": [
    "extract_data_for_parameter_all_years(\n",
    "    grouped, \n",
    "    swapped_cols_dict, \n",
    "    parameters=\"fixe Kosten\",\n",
    "    sector=\"hoho\",\n",
    "    years_dict=years_dict,\n",
    "    file_name_stats=\"fixed_costs_hoho_stats\",\n",
    "    file_name_sources=\"fixed_costs_hoho_sources\",\n",
    "    filter_sector=filter_sector\n",
    ")"
   ]
  },
  {
   "cell_type": "code",
   "execution_count": null,
   "metadata": {},
   "outputs": [],
   "source": [
    "run_analyses_for_parameter_single_year(\n",
    "    grouped, \n",
    "    swapped_cols_dict, \n",
    "    parameters=\"fixe Kosten\",\n",
    "    sector=\"hoho\",\n",
    "    years_dict=years_dict,\n",
    "    year=\"SQ\",\n",
    "    plot_title=\"Fixe Kosten\",\n",
    "    plot_ylabel=\"fixe Kosten in €_2020/kW*a\",\n",
    "    plot_colors=colors,\n",
    "    filter_sector=filter_sector\n",
    ")"
   ]
  },
  {
   "cell_type": "markdown",
   "metadata": {},
   "source": [
    "# Potential outlook\n",
    "In this section, an outlook for the future development of some Demand Response parameters up to (at most) 2050 is given.\n",
    "Future development for the following parameters is assessed\n",
    "* Capacity-related parameters: positive load shift potential, negative load shift potential\n",
    "* Cost-related parameters: specific investments, variable costs and fixed costs\n",
    "\n",
    "Time-related parameters are assumed to remain the same. Changes in processes are out of scope resp. depicted in the changes of the potentials themselves."
   ]
  },
  {
   "cell_type": "markdown",
   "metadata": {},
   "source": [
    "## Industry"
   ]
  },
  {
   "cell_type": "markdown",
   "metadata": {},
   "source": [
    "### Select some processes for further analysis\n",
    "There are two ways to determine, which processes resp. appliances shall be further evaluated:\n",
    "* one rather systematic one choosing those with the highest potential (in the status quo resp. in 2050) and\n",
    "* a self-defined selection of processes which is influenced by the literature itself (and a potential personal bias).\n",
    "It can be chosen between the two by using the control parameter `use_nlargest_cols`.\n",
    "\n",
    "Method and criterions used for selection when using the columns with the highest potentials:\n",
    "* Select those with highest demand response potential in the status quo.\n",
    "* Select those with highest demand response potential in the 2050.\n",
    "* Combine the two."
   ]
  },
  {
   "cell_type": "code",
   "execution_count": null,
   "metadata": {},
   "outputs": [],
   "source": [
    "if not use_nlargest_cols:\n",
    "    industry_cols = [\"Chlor-Alkali-Elektrolyse\", \n",
    "                     \"Elektrostahlherstellung (Lichtbogenofen)\", \n",
    "                     \"Primäraluminiumelektrolyse\", \n",
    "                     \"Holz- und Zellstoffherstellung\"]\n",
    "else:\n",
    "    industry_cols = extract_nlargest(\n",
    "        grouped, \n",
    "        \"ind\", years_dict, \n",
    "        drop_data_lack=True, metric=\"50%\", n=5,\n",
    "        filter_sector=filter_sector\n",
    "    )"
   ]
  },
  {
   "cell_type": "markdown",
   "metadata": {},
   "source": [
    "### Positive load shift potential"
   ]
  },
  {
   "cell_type": "code",
   "execution_count": null,
   "metadata": {},
   "outputs": [],
   "source": [
    "extract_projection_for_all_years(\n",
    "    grouped, \n",
    "    swapped_cols_dict, \n",
    "    [\"Potenzial positiv Mittel\", \"Potenzial positiv min\", \"Potenzial positiv max\"],\n",
    "    \"ind\",\n",
    "    years_dict,\n",
    "    \"Projektionen für das positive Potenzial (Lastreduktion)\",\n",
    "    \"positives Potenzial in MW\",\n",
    "    plot_colors=colors,\n",
    "    processes=industry_cols,\n",
    "    drop_data_lack=True,\n",
    "    save_sources=True,\n",
    "    path_folder_sources=\"./out/sources/\",\n",
    "    file_name_sources=\"sources_projection_potential_pos_overall_ind.txt\",\n",
    "    filter_sector=filter_sector\n",
    ")"
   ]
  },
  {
   "cell_type": "markdown",
   "metadata": {},
   "source": [
    "### Negative load shift potential"
   ]
  },
  {
   "cell_type": "code",
   "execution_count": null,
   "metadata": {},
   "outputs": [],
   "source": [
    "extract_projection_for_all_years(\n",
    "    grouped, \n",
    "    swapped_cols_dict, \n",
    "    [\"Potenzial negativ Mittel\", \"Potenzial negativ min\", \"Potenzial negativ max\"],\n",
    "    \"ind\",\n",
    "    years_dict,\n",
    "    \"Projektionen für das negative Potenzial (Lasterhöhung)\",\n",
    "    \"negatives Potenzial in MW\",\n",
    "    plot_colors=colors,\n",
    "    processes=industry_cols,\n",
    "    drop_data_lack=True,\n",
    "    save_sources=True,\n",
    "    path_folder_sources=\"./out/sources/\",\n",
    "    file_name_sources=\"sources_projection_potential_neg_overall_ind.txt\",\n",
    "    filter_sector=filter_sector\n",
    ")"
   ]
  },
  {
   "cell_type": "markdown",
   "metadata": {},
   "source": [
    "### Specific investments"
   ]
  },
  {
   "cell_type": "code",
   "execution_count": null,
   "metadata": {},
   "outputs": [],
   "source": [
    "extract_projection_for_all_years(\n",
    "    grouped, \n",
    "    swapped_cols_dict, \n",
    "    \"Investitionsausgaben\",\n",
    "    \"ind\",\n",
    "    years_dict,\n",
    "    \"Projektionen für spezifische Investitionsausgaben\",\n",
    "    \"spezifische Investitionsausgaben in €_2020/MW\",\n",
    "    plot_colors=colors,\n",
    "    processes=industry_cols,\n",
    "    drop_data_lack=True,\n",
    "    save_sources=True,\n",
    "    path_folder_sources=\"./out/sources/\",\n",
    "    file_name_sources=\"sources_projection_specific_investments_ind.txt\",\n",
    "    filter_sector=filter_sector\n",
    ")"
   ]
  },
  {
   "cell_type": "markdown",
   "metadata": {},
   "source": [
    "### Variable costs"
   ]
  },
  {
   "cell_type": "code",
   "execution_count": null,
   "metadata": {},
   "outputs": [],
   "source": [
    "extract_projection_for_all_years(\n",
    "    grouped, \n",
    "    swapped_cols_dict, \n",
    "    \"variable Kosten\",\n",
    "    \"ind\",\n",
    "    years_dict,\n",
    "    \"Projektionen für variable Kosten\",\n",
    "    \"variable Kosten in €_2020/MWh\",\n",
    "    plot_colors=colors,\n",
    "    processes=industry_cols,\n",
    "    drop_data_lack=True,\n",
    "    save_sources=True,\n",
    "    path_folder_sources=\"./out/sources/\",\n",
    "    file_name_sources=\"sources_projection_variable_costs_ind.txt\",\n",
    "    filter_sector=filter_sector\n",
    ")"
   ]
  },
  {
   "cell_type": "markdown",
   "metadata": {},
   "source": [
    "### Fixed costs"
   ]
  },
  {
   "cell_type": "code",
   "execution_count": null,
   "metadata": {
    "scrolled": true
   },
   "outputs": [],
   "source": [
    "extract_projection_for_all_years(\n",
    "    grouped, \n",
    "    swapped_cols_dict, \n",
    "    \"fixe Kosten\",\n",
    "    \"ind\",\n",
    "    years_dict,\n",
    "    \"Projektionen für fixe Kosten\",\n",
    "    \"fixe Kosten in €_2020/kW*a\",\n",
    "    plot_colors=colors,\n",
    "    processes=industry_cols,\n",
    "    drop_data_lack=True,\n",
    "    save_sources=True,\n",
    "    path_folder_sources=\"./out/sources/\",\n",
    "    file_name_sources=\"sources_projection_fixed_costs_ind.txt\",\n",
    "    filter_sector=filter_sector\n",
    ")"
   ]
  },
  {
   "cell_type": "markdown",
   "metadata": {},
   "source": [
    "## Trade, commerce and services"
   ]
  },
  {
   "cell_type": "markdown",
   "metadata": {},
   "source": [
    "### Select some processes for further analysis"
   ]
  },
  {
   "cell_type": "code",
   "execution_count": null,
   "metadata": {},
   "outputs": [],
   "source": [
    "if not use_nlargest_cols:\n",
    "    tcs_cols = [\"Prozesskälte\", \"Belüftung\", \"Klimakälte\", \n",
    "                \"Pumpenanwendungen in der Wasserversorgung\"]\n",
    "else:\n",
    "    tcs_cols = extract_nlargest(\n",
    "        grouped, \"tcs\", years_dict, drop_data_lack=True, metric=\"50%\", n=5,\n",
    "        filter_sector=filter_sector\n",
    "    )"
   ]
  },
  {
   "cell_type": "markdown",
   "metadata": {},
   "source": [
    "### Positive load shift potential"
   ]
  },
  {
   "cell_type": "code",
   "execution_count": null,
   "metadata": {},
   "outputs": [],
   "source": [
    "extract_projection_for_all_years(\n",
    "    grouped, \n",
    "    swapped_cols_dict, \n",
    "    [\"Potenzial positiv Mittel\", \"Potenzial positiv min\", \"Potenzial positiv max\"],\n",
    "    \"tcs\",\n",
    "    years_dict,\n",
    "    \"Projektionen für das positive Potenzial (Lastreduktion)\",\n",
    "    \"positives Potenzial in MW\",\n",
    "    plot_colors=colors,\n",
    "    processes=tcs_cols,\n",
    "    drop_data_lack=True,\n",
    "    save_sources=True,\n",
    "    path_folder_sources=\"./out/sources/\",\n",
    "    file_name_sources=\"sources_projection_potential_pos_overall_tcs.txt\",\n",
    "    filter_sector=filter_sector\n",
    ")"
   ]
  },
  {
   "cell_type": "markdown",
   "metadata": {},
   "source": [
    "### Negative load shift potential"
   ]
  },
  {
   "cell_type": "code",
   "execution_count": null,
   "metadata": {},
   "outputs": [],
   "source": [
    "extract_projection_for_all_years(\n",
    "    grouped, \n",
    "    swapped_cols_dict, \n",
    "    [\"Potenzial negativ Mittel\", \"Potenzial negativ min\", \"Potenzial negativ max\"],\n",
    "    \"tcs\",\n",
    "    years_dict,\n",
    "    \"Projektionen für das negative Potenzial (Lasterhöhung)\",\n",
    "    \"negatives Potenzial in MW\",\n",
    "    plot_colors=colors,\n",
    "    processes=tcs_cols,\n",
    "    drop_data_lack=True,\n",
    "    save_sources=True,\n",
    "    path_folder_sources=\"./out/sources/\",\n",
    "    file_name_sources=\"sources_projection_potential_neg_overall_tcs.txt\",\n",
    "    filter_sector=filter_sector\n",
    ")"
   ]
  },
  {
   "cell_type": "markdown",
   "metadata": {},
   "source": [
    "### Specific investments"
   ]
  },
  {
   "cell_type": "code",
   "execution_count": null,
   "metadata": {},
   "outputs": [],
   "source": [
    "extract_projection_for_all_years(\n",
    "    grouped, \n",
    "    swapped_cols_dict, \n",
    "    \"Investitionsausgaben\",\n",
    "    \"tcs\",\n",
    "    years_dict,\n",
    "    \"Projektionen für spezifische Investitionsausgaben\",\n",
    "    \"spezifische Investitionsausgaben in €_2020/MW\",\n",
    "    plot_colors=colors,\n",
    "    processes=tcs_cols,\n",
    "    drop_data_lack=True,\n",
    "    save_sources=True,\n",
    "    path_folder_sources=\"./out/sources/\",\n",
    "    file_name_sources=\"sources_projection_specific_investments_tcs.txt\",\n",
    "    filter_sector=filter_sector\n",
    ")"
   ]
  },
  {
   "cell_type": "markdown",
   "metadata": {},
   "source": [
    "### Variable costs"
   ]
  },
  {
   "cell_type": "code",
   "execution_count": null,
   "metadata": {},
   "outputs": [],
   "source": [
    "extract_projection_for_all_years(\n",
    "    grouped, \n",
    "    swapped_cols_dict, \n",
    "    \"variable Kosten\",\n",
    "    \"tcs\",\n",
    "    years_dict,\n",
    "    \"Projektionen für variable Kosten\",\n",
    "    \"variable Kosten in €_2020/MWh\",\n",
    "    plot_colors=colors,\n",
    "    processes=tcs_cols,\n",
    "    drop_data_lack=True,\n",
    "    save_sources=True,\n",
    "    path_folder_sources=\"./out/sources/\",\n",
    "    file_name_sources=\"sources_projection_variable_costs_tcs.txt\",\n",
    "    filter_sector=filter_sector\n",
    ")"
   ]
  },
  {
   "cell_type": "markdown",
   "metadata": {},
   "source": [
    "### Fixed costs"
   ]
  },
  {
   "cell_type": "code",
   "execution_count": null,
   "metadata": {
    "scrolled": true
   },
   "outputs": [],
   "source": [
    "extract_projection_for_all_years(\n",
    "    grouped, \n",
    "    swapped_cols_dict, \n",
    "    \"fixe Kosten\",\n",
    "    \"tcs\",\n",
    "    years_dict,\n",
    "    \"Projektionen für fixe Kosten\",\n",
    "    \"fixe Kosten in €_2020/kW*a\",\n",
    "    plot_colors=colors,\n",
    "    processes=tcs_cols,\n",
    "    drop_data_lack=True,\n",
    "    save_sources=True,\n",
    "    path_folder_sources=\"./out/sources/\",\n",
    "    file_name_sources=\"sources_projection_fixed_costs_tcs.txt\",\n",
    "    filter_sector=filter_sector\n",
    ")"
   ]
  },
  {
   "cell_type": "markdown",
   "metadata": {},
   "source": [
    "## Households"
   ]
  },
  {
   "cell_type": "markdown",
   "metadata": {},
   "source": [
    "### Select some processes for further analysis"
   ]
  },
  {
   "cell_type": "code",
   "execution_count": null,
   "metadata": {},
   "outputs": [],
   "source": [
    "if not use_nlargest_cols:\n",
    "    hoho_cols = [\"Wärmepumpen\", \n",
    "                 \"Nachtspeicherheizungen\", \n",
    "                 \"Klimakälte\", \n",
    "                 \"Kühlschränke\"]\n",
    "else:\n",
    "    hoho_cols = extract_nlargest(\n",
    "        grouped, \"hoho\", years_dict, drop_data_lack=True, metric=\"50%\", n=5,\n",
    "        filter_sector=filter_sector\n",
    "    )"
   ]
  },
  {
   "cell_type": "markdown",
   "metadata": {},
   "source": [
    "### Positive load shift potential"
   ]
  },
  {
   "cell_type": "code",
   "execution_count": null,
   "metadata": {},
   "outputs": [],
   "source": [
    "extract_projection_for_all_years(\n",
    "    grouped, \n",
    "    swapped_cols_dict, \n",
    "    [\"Potenzial positiv Mittel\", \"Potenzial positiv min\", \"Potenzial positiv max\"],\n",
    "    \"hoho\",\n",
    "    years_dict,\n",
    "    \"Projektionen für das positive Potenzial (Lastreduktion)\",\n",
    "    \"positives Potenzial in MW\",\n",
    "    plot_colors=colors,\n",
    "    processes=hoho_cols,\n",
    "    drop_data_lack=True,\n",
    "    save_sources=True,\n",
    "    path_folder_sources=\"./out/sources/\",\n",
    "    file_name_sources=\"sources_projection_potential_pos_overall_hoho.txt\",\n",
    "    filter_sector=filter_sector\n",
    ")"
   ]
  },
  {
   "cell_type": "markdown",
   "metadata": {},
   "source": [
    "### Negative load shift potential"
   ]
  },
  {
   "cell_type": "code",
   "execution_count": null,
   "metadata": {},
   "outputs": [],
   "source": [
    "extract_projection_for_all_years(\n",
    "    grouped, \n",
    "    swapped_cols_dict, \n",
    "    [\"Potenzial negativ Mittel\", \"Potenzial negativ min\", \"Potenzial negativ max\"],\n",
    "    \"hoho\",\n",
    "    years_dict,\n",
    "    \"Projektionen für das negative Potenzial (Lasterhöhung)\",\n",
    "    \"negatives Potenzial in MW\",\n",
    "    plot_colors=colors,\n",
    "    processes=hoho_cols,\n",
    "    drop_data_lack=True,\n",
    "    save_sources=True,\n",
    "    path_folder_sources=\"./out/sources/\",\n",
    "    file_name_sources=\"sources_projection_potential_neg_overall_hoho.txt\",\n",
    "    filter_sector=filter_sector\n",
    ")"
   ]
  },
  {
   "cell_type": "markdown",
   "metadata": {},
   "source": [
    "### Specific investments"
   ]
  },
  {
   "cell_type": "code",
   "execution_count": null,
   "metadata": {},
   "outputs": [],
   "source": [
    "extract_projection_for_all_years(\n",
    "    grouped, \n",
    "    swapped_cols_dict, \n",
    "    \"Investitionsausgaben\",\n",
    "    \"hoho\",\n",
    "    years_dict,\n",
    "    \"Projektionen für spezifische Investitionsausgaben\",\n",
    "    \"spezifische Investitionsausgaben in €_2020/MW\",\n",
    "    plot_colors=colors,\n",
    "    processes=hoho_cols,\n",
    "    drop_data_lack=True,\n",
    "    save_sources=True,\n",
    "    path_folder_sources=\"./out/sources/\",\n",
    "    file_name_sources=\"sources_projection_specific_investments_hoho.txt\",\n",
    "    filter_sector=filter_sector\n",
    ")"
   ]
  },
  {
   "cell_type": "markdown",
   "metadata": {},
   "source": [
    "### Variable costs"
   ]
  },
  {
   "cell_type": "code",
   "execution_count": null,
   "metadata": {},
   "outputs": [],
   "source": [
    "extract_projection_for_all_years(\n",
    "    grouped, \n",
    "    swapped_cols_dict, \n",
    "    \"variable Kosten\",\n",
    "    \"hoho\",\n",
    "    years_dict,\n",
    "    \"Projektionen für variable Kosten\",\n",
    "    \"variable Kosten in €_2020/MWh\",\n",
    "    plot_colors=colors,\n",
    "    processes=hoho_cols,\n",
    "    drop_data_lack=True,\n",
    "    save_sources=True,\n",
    "    path_folder_sources=\"./out/sources/\",\n",
    "    file_name_sources=\"sources_projection_variable_costs_hoho.txt\",\n",
    "    filter_sector=filter_sector\n",
    ")"
   ]
  },
  {
   "cell_type": "markdown",
   "metadata": {},
   "source": [
    "### Fixed costs"
   ]
  },
  {
   "cell_type": "code",
   "execution_count": null,
   "metadata": {
    "scrolled": true
   },
   "outputs": [],
   "source": [
    "extract_projection_for_all_years(\n",
    "    grouped, \n",
    "    swapped_cols_dict, \n",
    "    \"fixe Kosten\",\n",
    "    \"hoho\",\n",
    "    years_dict,\n",
    "    \"Projektionen für fixe Kosten\",\n",
    "    \"fixe Kosten in €_2020/kW*a\",\n",
    "    plot_colors=colors,\n",
    "    processes=hoho_cols,\n",
    "    drop_data_lack=True,\n",
    "    save_sources=True,\n",
    "    path_folder_sources=\"./out/sources/\",\n",
    "    file_name_sources=\"sources_projection_fixed_costs_hoho.txt\",\n",
    "    filter_sector=filter_sector\n",
    ")"
   ]
  },
  {
   "cell_type": "code",
   "execution_count": null,
   "metadata": {},
   "outputs": [],
   "source": []
  }
 ],
 "metadata": {
  "kernelspec": {
   "display_name": "Python 3 (ipykernel)",
   "language": "python",
   "name": "python3"
  },
  "language_info": {
   "codemirror_mode": {
    "name": "ipython",
    "version": 3
   },
   "file_extension": ".py",
   "mimetype": "text/x-python",
   "name": "python",
   "nbconvert_exporter": "python",
   "pygments_lexer": "ipython3",
   "version": "3.8.13"
  },
  "toc": {
   "base_numbering": 1,
   "nav_menu": {},
   "number_sections": true,
   "sideBar": true,
   "skip_h1_title": false,
   "title_cell": "Table of Contents",
   "title_sidebar": "Contents",
   "toc_cell": false,
   "toc_position": {
    "height": "calc(100% - 180px)",
    "left": "10px",
    "top": "150px",
    "width": "476.967px"
   },
   "toc_section_display": true,
   "toc_window_display": true
  },
  "toc-autonumbering": true,
  "toc-showcode": false,
  "toc-showtags": false,
  "varInspector": {
   "cols": {
    "lenName": 16,
    "lenType": 16,
    "lenVar": 40
   },
   "kernels_config": {
    "python": {
     "delete_cmd_postfix": "",
     "delete_cmd_prefix": "del ",
     "library": "var_list.py",
     "varRefreshCmd": "print(var_dic_list())"
    },
    "r": {
     "delete_cmd_postfix": ") ",
     "delete_cmd_prefix": "rm(",
     "library": "var_list.r",
     "varRefreshCmd": "cat(var_dic_list()) "
    }
   },
   "position": {
    "height": "941.85px",
    "left": "4301px",
    "right": "20px",
    "top": "268px",
    "width": "489px"
   },
   "types_to_exclude": [
    "module",
    "function",
    "builtin_function_or_method",
    "instance",
    "_Feature"
   ],
   "window_display": true
  }
 },
 "nbformat": 4,
 "nbformat_minor": 4
}
