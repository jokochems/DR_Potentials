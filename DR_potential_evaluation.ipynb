{
 "cells": [
  {
   "cell_type": "markdown",
   "metadata": {},
   "source": [
    "# Technical demand response potential meta analysis - result comparison (overview)\n",
    "\n",
    "**Puporse and background**: This notebook serves for evaluating the demand response potentials from different publications assessing technical demand response potentials for Germany. The data from the publications has been collected in order to carry out a meta analysis.\n",
    "\n",
    "## Method applied\n",
    "In the following, a brief description of the method applied is given for the sake of replicability.\n",
    "\n",
    "### Selection of publications\n",
    "Criterions for the selection of publications were:\n",
    "* Regional focus: Federal republic of Germany\n",
    "* Temporal restricitions: Publications until 2005\n",
    "* Contents: technical demand response potentials\n",
    "* Sectoral coverage: At least one of households, trade, commerce and services or industry assessed; no publications focusing on single appliances\n",
    "* Own analysis carried out (no other meta analysis included)\n",
    "* Inclusion of at least one of the parameters of interest (usually at least some information on potential in MW)\n",
    "\n",
    "### Parameters assessed\n",
    "Data for the following parameters was taken from the publications selected:\n",
    "* eligibility: general eligibility of processes, applications or branches (demand response categories in the following) for load shifting, load shedding resp. (sole) load increase\n",
    "* capacity-related parameters: capacity available for load shifting or load shedding, average, minimum and maximum load level, installed capacity as well as shiftable share of installed capacity\n",
    "* time-reletad parameters: activation duration, interference duration, shifting duration, regenaration duration, maximum activations per year\n",
    "* cost-related parameters: specific investments, variable costs (for activation), fixed costs\n",
    "\n",
    "### Filtering and data collection\n",
    "* A total of 70 publications has been selected in the first place in a literature research based on the titles, keywords and abstracts using terms like \"Demand Response\", \"Demand Side Management\", \"Demand Side Integration\", \"load management\", \"load shifting\", \"load shedding\", \"potential\", \"Germany\" as well as their German equivalents to formulate search strings. \n",
    "* Of these publications, 30 have met the above stated criteria and were further evaluated. \n",
    "* Because sometimes, several publications belonged to the same research project, these were grouped together resulting in 24 publication groups for which potential information has been evaluated.\n",
    "* The data has been collected in an Excel Workbook (\"Potenziale_Lastmanagement.xlsx\"). The latest version of this Excel Workbook is evaluated with this notebook.\n",
    "***\n",
    "> _NOTE:_ \n",
    "> * _This notebook offers some room for improvement in terms of computing and coding efficiency._\n",
    "> * _Pandas setting a value with a copy warning has been disabled. Instead, function definitions should be revised such that this is not necessary._"
   ]
  },
  {
   "cell_type": "markdown",
   "metadata": {},
   "source": [
    "# Package imports\n",
    "User-defined functions are imported in order to prevent redundancies:\n",
    "* *extract_info*: extracts the information for the relevant parameter out of the complete input data\n",
    "* *create_info_dict_for_years*: creates a dictionary for the relevant parameter info indexed by years\n",
    "* *save_info_stats*: writes some info statistics into an Excel workbook\n",
    "* *save_sources*: writes the sources information into an Excel workbook\n",
    "* *get_nlargest*: determines the demand response categories with the largest potential\n",
    "* *create_info_boxplot*: creates a box plot to visualize the parameter information\n",
    "* *extract_stats*: determines some statistical measures of central tendency for a demand response paramter\n",
    "* *create_projection_boxplot*: creates a box plot for future projections\n",
    "* *save_future_sources*: writes the sources for future projections into an Excel workbook"
   ]
  },
  {
   "cell_type": "code",
   "execution_count": null,
   "metadata": {},
   "outputs": [],
   "source": [
    "import pandas as pd\n",
    "import numpy as np\n",
    "import matplotlib.pyplot as plt\n",
    "import seaborn as sns\n",
    "import csv\n",
    "import xlrd\n",
    "import xlsxwriter\n",
    "from openpyxl import load_workbook, Workbook\n",
    "from collections import defaultdict\n",
    "import warnings\n",
    "\n",
    "from potential_evaluation_funcs import (extract_info, create_info_dict_for_years, \n",
    "                                        save_info_stats, save_sources, create_info_boxplot,\n",
    "                                        get_nlargest, extract_stats, create_projection_boxplot, \n",
    "                                        save_future_sources)\n",
    "\n",
    "# Allow for chained assignments (see note above)\n",
    "pd.options.mode.chained_assignment = None"
   ]
  },
  {
   "cell_type": "markdown",
   "metadata": {},
   "source": [
    "# Parameter settings\n",
    "Set some (mostly boolean) parameters here in order to ensure code adaptability to future versions of potential collection (Excel workbook).\n",
    "The following parameters determine the general workflow:\n",
    "\n",
    "| Parameter | Purpose |\n",
    "| :-: | :- |\n",
    "| *write_outputs* | If True, statistical information for demand response parameters is written to Excel files. |\n",
    "| *write_sources* | If True, sources information is written to Excel files. |\n",
    "| *presentation_stuff* | If True, some rearrangement of column order is done in order to create nicer box plot<br> visualizations which can be used for presentation slides (only for certain demand response parameters). |\n",
    "\n",
    "Some of the parameters are used to control user-defined function behaviour. These are set centrally here, but may be adapted for individual function calls. The following boolean parameters control function behaviour:\n",
    "\n",
    "| Parameter | Purpose | Comment |\n",
    "| :-: | :- | :- |\n",
    "| *drop* | If True, all processes for which no information on a certain parameter is available will not be shown in the boxplots |\n",
    "| *drop_datalack* | If True, all processes with less than 3 entries for a given parameter will be excluded. |\n",
    "| *sample_stats* | If True, info on sample size will be calculated based on the data and shown in boxplots. | _Warning: activation leads to relatively high computational effort._ |\n",
    "| *add_sources* | If True, source information for the data is collected. | _Warning: activation leads to relatively high computational effort._ |\n",
    "| *modify_categories* | If True, the original demand response categories from the studies are replaced with self-defined demand response categories in order to aggregate them. There is the possibility to choose, how granular the aggregation will be. | _Warning: activation leads to relatively high computational effort._ |\n",
    "| *aggregation_mode* | - Defines, how strongly the data will be aggregated if modify_categories is set to True.<br>- A broader aggregation increases the sample sizes but is more inaccurate since the underlying assumption in the grouping done here is that the profiles are identical.<br>- Options: \"granular\" which performs a decent aggregation vs. \"broad\" which combines lots of processes and applications into one category. |\n",
    "\n",
    "The following parameters control plot ouputs:\n",
    "\n",
    "| Paraneter | Purpose | Comment |\n",
    "| :-: | :- | :- |\n",
    "| *use_limits* | If True, the limits for the boxplot yaxis values are obtained from the data itself<br>(overall minimum / maximum in DataFrame to plot). | _Note: If parameter is set to True, yaxis limits given by the function<br>parameter ylim will be ignored._ |\n",
    "| *use_colors* | If True, color will be chosen for a given process. |\n",
    "| *show_title* | If True, the title for boxplots will be displayed. |\n",
    "| *swarmplot* | If True, a bee swarm plot will be plotted on top of the boxplots<br>(using seaborn for plotting). |\n",
    "| *savefig* | If True, boxplots are saved to .png files. |\n",
    "\n",
    "The following parameters control process selection:\n",
    "\n",
    "| Parameter | Purporse |\n",
    "| :-: | :- |\n",
    "| metric | Determines which metric shall be used to select processes for further analysis (median, mean, etc.) |\n",
    "| n | Determines the n largest values for a certain metric to be further analyzed. |\n",
    "| use_nlargest_cols | - If True, the processes resp. applications with the highest potentials are evaluated in the potential outlook.<br>- If False, a set of processes resp. applications is chosen that has been self-defined (instead of changing every single function parameter).<br>- If further options shall be incorporated, replace with a dict holding these options instead. |"
   ]
  },
  {
   "cell_type": "markdown",
   "metadata": {},
   "source": [
    "> _NOTE: For usage within the clustering notebooks, the following parameter settings are needed to create the correct parameter statistics outputs which are read in in the clustering process:_\n",
    "> * *write_outputs=True*\n",
    "> * *drop=True*\n",
    "> * *drop_datalack=True*\n",
    "> * *modify_categories=True*\n",
    "> * *aggregation_mode='granular'*\n",
    "\n",
    "The remainder of the parameters is only relevant for controlling the plots and sources information in this notebook and can be freely chosen."
   ]
  },
  {
   "cell_type": "code",
   "execution_count": null,
   "metadata": {},
   "outputs": [],
   "source": [
    "# Set paths and filenames for in- and outputs\n",
    "path_folder_in = \"./\"\n",
    "path_folder_out = \"./out/\"\n",
    "path_folder_stats = path_folder_out + \"stats/\"\n",
    "path_folder_sources = path_folder_out + \"sources/\"\n",
    "path_folder_plots = path_folder_out + \"plots/\"\n",
    "\n",
    "filename = \"Potenziale_Lastmanagement.xlsx\"\n",
    "# If no sources are added, columns containing information on sources are ignored\n",
    "filename_colnames = \"Columns.xlsx\"\n",
    "\n",
    "# boolean parameters for controlling the workflow\n",
    "write_outputs = True\n",
    "write_sources = False\n",
    "presentation_stuff = False\n",
    "\n",
    "# boolean parameters for controlling function behaviour\n",
    "drop = True\n",
    "drop_datalack = True\n",
    "sample_stats = True\n",
    "add_sources = False\n",
    "# Determine aggregation_mode if modify_categories is set to True\n",
    "modify_categories = True\n",
    "# Alternatives for aggregation mode: \"granular\" vs. \"broad\"\n",
    "aggregation_mode = \"granular\" \n",
    "\n",
    "# boolean parameters for controlling plot outputs\n",
    "use_limits = True\n",
    "use_colors = True          \n",
    "show_title = False\n",
    "swarmplot = True\n",
    "savefig = False\n",
    "\n",
    "# parameters for process selection for further analysis\n",
    "metric = \"50%\"\n",
    "n = 5\n",
    "use_nlargest_cols = False\n",
    "\n",
    "is_renamed = False"
   ]
  },
  {
   "cell_type": "markdown",
   "metadata": {},
   "source": [
    "Configure the fontsizes for matplotlib objects"
   ]
  },
  {
   "cell_type": "code",
   "execution_count": null,
   "metadata": {},
   "outputs": [],
   "source": [
    "SMALL_SIZE = 12\n",
    "MEDIUM_SIZE = 14\n",
    "BIGGER_SIZE = 15\n",
    "\n",
    "plt.rc('font', size=SMALL_SIZE)          # controls default text sizes\n",
    "plt.rc('axes', titlesize=BIGGER_SIZE)    # fontsize of the axes title\n",
    "plt.rc('axes', labelsize=MEDIUM_SIZE)    # fontsize of the x and y labels\n",
    "plt.rc('xtick', labelsize=SMALL_SIZE)    # fontsize of the tick labels\n",
    "plt.rc('ytick', labelsize=SMALL_SIZE)    # fontsize of the tick labels\n",
    "plt.rc('legend', fontsize=SMALL_SIZE)    # legend fontsize\n",
    "plt.rc('figure', titlesize=BIGGER_SIZE)  # fontsize of the figure title"
   ]
  },
  {
   "cell_type": "markdown",
   "metadata": {},
   "source": [
    "# Read in data\n",
    "* Read in the Excel Workbook containing all data\n",
    "* create a separate DataFrame with the potential information for every publication (which will be sliced and combined with the respective potential information from other studies in order to evaluate the respective parameter / appliance)."
   ]
  },
  {
   "cell_type": "code",
   "execution_count": null,
   "metadata": {},
   "outputs": [],
   "source": [
    "# Get all sheet names using xlrd\n",
    "xls = xlrd.open_workbook(path_folder_in+filename, on_demand=True)\n",
    "table_names = xls.sheet_names()\n",
    "\n",
    "# Remove all sheets that do not contain potential information as well as worksheets from publications which\n",
    "# were excluded in the process and include sheets \"Dropdown\" and \"Kategorien\"\n",
    "removed_names = {el for el in table_names if len(el) > 6}\n",
    "\n",
    "# Two publications were excluded in the latter process\n",
    "# The worksheets were not removed but hided, hence, have to be removed here\n",
    "removed_names.add(\"Stoe12\")\n",
    "removed_names.add(\"Bel15\")\n",
    "table_names = [el for el in table_names if el not in removed_names]\n",
    "\n",
    "# The worksheets dropdown (containing all feasible dropdown options), categories (containing processes) \n",
    "# and colors (containing a color mapping for processes) shall be evaluated, too\n",
    "table_names.append(\"Dropdown\")\n",
    "table_names.append(\"Kategorien\")\n",
    "table_names.append(\"Farben\")\n",
    "print(table_names)"
   ]
  },
  {
   "cell_type": "code",
   "execution_count": null,
   "metadata": {},
   "outputs": [],
   "source": [
    "# Read in data using pandas and parse it to individual DataFrames for each publication\n",
    "xls = pd.ExcelFile(path_folder_in+filename)\n",
    "\n",
    "ape12 = xls.parse(\"Ape12\")\n",
    "ary17 = xls.parse(\"Ary17\")\n",
    "blu13 = xls.parse(\"Blu13\")\n",
    "foc11 = xls.parse(\"Foc11\")\n",
    "gil15 = xls.parse(\"Gil15\")\n",
    "gob12 = xls.parse(\"Gob12\")\n",
    "gro13 = xls.parse(\"Gro13\")\n",
    "gru17 = xls.parse(\"Gru17\")\n",
    "haa17 = xls.parse(\"Haa17\")\n",
    "hen15 = xls.parse(\"Hen15\")\n",
    "klo09 = xls.parse(\"Klo09\")\n",
    "klo13 = xls.parse(\"Klo13\")\n",
    "krz13 = xls.parse(\"Krz13\")\n",
    "lad18 = xls.parse(\"Lad18\")\n",
    "lan15 = xls.parse(\"Lan15\")\n",
    "lie15 = xls.parse(\"Lie15\")\n",
    "mol10 = xls.parse(\"Mol10\")\n",
    "pau11 = xls.parse(\"Pau11\")\n",
    "pel16 = xls.parse(\"Pel16\")\n",
    "r2b14 = xls.parse(\"r2b14\")\n",
    "roo10 = xls.parse(\"Roo10\")\n",
    "sta06 = xls.parse(\"Sta06\")\n",
    "ste17 = xls.parse(\"Ste17\")\n",
    "sty15 = xls.parse(\"Sty15\")\n",
    "\n",
    "# Read in dropdown options, categories as well as colors used, as well\n",
    "dropdown = xls.parse(\"Dropdown\")\n",
    "if aggregation_mode == \"granular\":\n",
    "    categories = xls.parse(\"Kategorien\")\n",
    "elif aggregation_mode == \"broad\":\n",
    "    categories = xls.parse(\"Kategorien_grob\")\n",
    "colors = xls.parse(\"Farben\", index_col=0, header=0)"
   ]
  },
  {
   "cell_type": "markdown",
   "metadata": {},
   "source": [
    "# Prepare data for further analysis\n",
    "In the following, some data preparation steps are carried out in order to harmonize the data basis and ensure further usability."
   ]
  },
  {
   "cell_type": "markdown",
   "metadata": {},
   "source": [
    "## General routines\n",
    "The following general routines introduce dicts to easily adress all sheets / DataFrames using for loops. Furthermore, the years considered are grouped in order to distinct status quo considerations from projections for the future. Furthermore, the data basis is split up by sectors and years since this is often needed in the following."
   ]
  },
  {
   "cell_type": "markdown",
   "metadata": {},
   "source": [
    "### Publications dict (shortcut)\n",
    "Introduce a dict matching the DataFrames to a string name for quicker handling"
   ]
  },
  {
   "cell_type": "code",
   "execution_count": null,
   "metadata": {},
   "outputs": [],
   "source": [
    "publications_dict = {\n",
    "    \"Ape12\": ape12,\n",
    "    \"Ary17\": ary17,\n",
    "    \"Blu13\": blu13,\n",
    "    \"Foc11\": foc11,\n",
    "    \"Gil15\": gil15,\n",
    "    \"Gob12\": gob12,\n",
    "    \"Gro13\": gro13,\n",
    "    \"Gru17\": gru17,\n",
    "    \"Haa17\": haa17,\n",
    "    \"Hen15\": hen15,\n",
    "    \"Klo09\": klo09,\n",
    "    \"Klo13\": klo13,\n",
    "    \"Krz13\": krz13,\n",
    "    \"Lad18\": lad18,\n",
    "    \"Lan15\": lan15,\n",
    "    \"Lie15\": lie15,\n",
    "    \"Mol10\": mol10,\n",
    "    \"Pau11\": pau11,\n",
    "    \"Pel16\": pel16,\n",
    "    \"r2b14\": r2b14,\n",
    "    \"Roo10\": roo10,\n",
    "    \"Sta06\": sta06,\n",
    "    \"Ste17\": ste17,\n",
    "    \"Sty15\": sty15\n",
    "}"
   ]
  },
  {
   "cell_type": "markdown",
   "metadata": {},
   "source": [
    "### Years\n",
    "Evaluate the years for which potentials are given in order to group them into the following groups:\n",
    "* Status quo: prior to 2020\n",
    "* 2020\n",
    "* 2025 (including 2023)\n",
    "* 2030\n",
    "* 2035\n",
    "* 2040\n",
    "* 2045\n",
    "* 2050"
   ]
  },
  {
   "cell_type": "code",
   "execution_count": null,
   "metadata": {},
   "outputs": [],
   "source": [
    "# Get the years for which potentials are given\n",
    "set_years = set()\n",
    "\n",
    "for k, v in publications_dict.items():\n",
    "    for el in v[\"Jahr\"].unique():\n",
    "        set_years.add(el)\n",
    "\n",
    "# Define two groups of years (for potential evaluation)\n",
    "status_quo_years = {el for el in set_years if el < 2020}\n",
    "years_2025 = {2023, 2025}\n",
    "\n",
    "# Define year dict for checking the year (group)\n",
    "years_dict = {\n",
    "    \"SQ\": status_quo_years,\n",
    "    \"2020\": [2020],\n",
    "    \"2025\": years_2025,\n",
    "    \"2030\": [2030],\n",
    "    \"2035\": [2035],\n",
    "    \"2040\": [2040],\n",
    "    \"2045\": [2045],\n",
    "    \"2050\": [2050]\n",
    "}"
   ]
  },
  {
   "cell_type": "markdown",
   "metadata": {},
   "source": [
    "### Processes\n",
    "Obtain sets of processes from Excel workbook:\n",
    "* processes_original: Original listing of processes\n",
    "* processes_categorized: Categorization of processes (same as in method comparison)"
   ]
  },
  {
   "cell_type": "code",
   "execution_count": null,
   "metadata": {},
   "outputs": [],
   "source": [
    "# Original set of processes\n",
    "processes_original = set(dropdown[\"Prozess\"].values)\n",
    "\n",
    "# Categorized set of processes\n",
    "cat1 = categories[\"Prozesskategorie 1\"].values\n",
    "cat2 = categories[\"Prozesskategorie 2\"].dropna().values\n",
    "cat3 = categories[\"Prozesskategorie 3\"].dropna().values\n",
    "processes_categorized = set(np.concatenate((cat1, cat2, cat3), axis = 0))\n",
    "\n",
    "# Compare the number of processes before and after adjusting the categorization\n",
    "print(len(processes_original), len(processes_categorized))"
   ]
  },
  {
   "cell_type": "code",
   "execution_count": null,
   "metadata": {},
   "outputs": [],
   "source": [
    "categories.head()"
   ]
  },
  {
   "cell_type": "markdown",
   "metadata": {},
   "source": [
    "### Publications per sector and year (dict as shortcut)\n",
    "* Create DataFrames (subsets of overall data tables) which focus on a certain sector and year and store them in a dict indexed by publications and years resp. year groups\n",
    "* Include the adjusted process categorization in order to be able to use this for evaluation as well\n",
    "    * This operation is more or less equivalent to assigning the process categorization in the original data set which could be achieved using the Excel function VLOOKUP (SVERWEIS in German).\n",
    "    * It is implemented by merging the two DataFrames to a combined one since the indices differ and thus cannot be used for comparison."
   ]
  },
  {
   "cell_type": "code",
   "execution_count": null,
   "metadata": {},
   "outputs": [],
   "source": [
    "publications_ind_years_dict = {}\n",
    "publications_tcs_years_dict = {}\n",
    "publications_hoho_years_dict = {}\n",
    "\n",
    "for year_key, years in years_dict.items():\n",
    "    for k, v in publications_dict.items():\n",
    "        # Extract data for the industry sector\n",
    "        publications_ind_years_dict[k+\"_\"+year_key] = v[(v[\"Sektorenzuordnung\"] == \"Industrie\") & (v[\"Jahr\"].isin(years))]\n",
    "        publications_ind_years_dict[k+\"_\"+year_key][\"year_key\"] = year_key\n",
    "        publications_ind_years_dict[k+\"_\"+year_key] = \\\n",
    "            pd.merge(publications_ind_years_dict[k+\"_\"+year_key], categories, left_on=\"Prozess\", right_on=\"Prozess (ursprüngliche Kategorien)\", how=\"inner\").drop(\"Prozess (ursprüngliche Kategorien)\", axis=1)\n",
    "        \n",
    "        # Extract data for the trade, commerce and services sector\n",
    "        publications_tcs_years_dict[k+\"_\"+year_key] = v[(v[\"Sektorenzuordnung\"] == \"GHD\") & (v[\"Jahr\"].isin(years))]\n",
    "        publications_tcs_years_dict[k+\"_\"+year_key][\"year_key\"] = year_key\n",
    "        publications_tcs_years_dict[k+\"_\"+year_key] = \\\n",
    "            pd.merge(publications_tcs_years_dict[k+\"_\"+year_key], categories, left_on=\"Prozess\", right_on=\"Prozess (ursprüngliche Kategorien)\", how=\"inner\").drop(\"Prozess (ursprüngliche Kategorien)\", axis=1)\n",
    "        \n",
    "        # Extract data for the household sector\n",
    "        publications_hoho_years_dict[k+\"_\"+year_key] = v[(v[\"Sektorenzuordnung\"] == \"Haushalte\") & (v[\"Jahr\"].isin(years))]\n",
    "        publications_hoho_years_dict[k+\"_\"+year_key][\"year_key\"] = year_key\n",
    "        publications_hoho_years_dict[k+\"_\"+year_key] = \\\n",
    "            pd.merge(publications_hoho_years_dict[k+\"_\"+year_key], categories, left_on=\"Prozess\", right_on=\"Prozess (ursprüngliche Kategorien)\", how=\"inner\").drop(\"Prozess (ursprüngliche Kategorien)\", axis=1)"
   ]
  },
  {
   "cell_type": "markdown",
   "metadata": {},
   "source": [
    "### Prepare demand response categories for further analysis\n",
    "Due to the heterogenous demand response categories used, a harmonization / an own categorization is needed.\n",
    "This is done by a mapping of original process resp. demand response category names to self-chosen ones (derived from the categories of the meta-analysis and mostly on a basis of processes / applications). \n",
    "\n",
    "Some original categories have to be grouped together. If this is the case, their availability profiles are assumed to be (more or less) identical. Then, aggregation rules are applied to the demand response parameters (sum resp. (weigthed) average).\n",
    "\n",
    "For the decision, whether to just replace the original demand response category name or whether to apply aggregation rules, a variable *replacement_mode* is introduced:\n",
    "* -1: Keep original column name since there is no equivalent alternative\n",
    "* 0: Take column name from \"Prozesskategorie 1\" -> no duplicates (simple renaming)\n",
    "* 1: Replace multiple columns with one value of \"Prozesskategorie 1\" -> duplicates (aggregation is carried out)\n",
    "\n",
    "The replacement_mode is set here based on a prior visual inspection of the used categories (uncomment lines at the bottom to see the output)."
   ]
  },
  {
   "cell_type": "code",
   "execution_count": null,
   "metadata": {},
   "outputs": [],
   "source": [
    "# Industry sector\n",
    "\n",
    "if aggregation_mode == \"granular\":\n",
    "    # dict holding the entries to be changed to 1\n",
    "    replacement_dict = {\"Blu13_SQ\": [5, 6],\n",
    "                        \"Gil15_SQ\": [2, 3],\n",
    "                        \"Klo09_SQ\": [3, 4],\n",
    "                        \"Lad18_SQ\": [2, 3],\n",
    "                        \"Gil15_2020\": [2, 3],\n",
    "                        \"Klo09_2020\": [2, 3],\n",
    "                        \"Gil15_2030\": [2, 3],\n",
    "                        \"Gil15_2050\": [2, 3]}\n",
    "\n",
    "    # dict holding the entries to be changed to -1\n",
    "    keep_dict = {\"Lan15_SQ\": [0, 4],\n",
    "                 \"r2b14_SQ\": [1]}\n",
    "\n",
    "elif aggregation_mode == \"broad\":\n",
    "    # dict holding the entries to be changed to 1\n",
    "    replacement_dict = {\"Ape12_SQ\": [2, 3],\n",
    "                        \"Blu13_SQ\": [5, 6],\n",
    "                        \"Foc11_SQ\": [2, 3, 4, 5],\n",
    "                        \"Gil15_SQ\": [2, 3, 4, 5, 6],\n",
    "                        \"Gru17_SQ\": [2, 3],\n",
    "                        \"Klo09_SQ\": [3, 4, 5, 6, 7, 8],\n",
    "                        \"Klo13_SQ\": [2, 3],\n",
    "                        \"Lad18_SQ\": [2, 3],\n",
    "                        \"Mol10_SQ\": [4, 8, 9],\n",
    "                        \"Pel16_SQ\": [2, 3, 6, 10],\n",
    "                        \"Ste17_SQ\": [9, 10, 11],\n",
    "                        \"Ape12_2020\": [2, 3],\n",
    "                        \"Gil15_2020\": [2, 3, 4, 5, 6],\n",
    "                        \"Gru17_2020\": [2, 3],\n",
    "                        \"Klo09_2020\": [2, 3, 4, 5, 6, 7],\n",
    "                        \"Pel16_2020\": [2, 3],\n",
    "                        \"Ste17_2020\": [9, 10, 11],\n",
    "                        \"Gru17_2025\": [2, 3],\n",
    "                        \"Pel16_2025\": [2, 3],\n",
    "                        \"Ste17_2025\": [9, 10, 11],\n",
    "                        \"Ape12_2030\": [2, 3],\n",
    "                        \"Gil15_2030\": [2, 3, 4, 5, 6],\n",
    "                        \"Gru17_2030\": [2, 3],\n",
    "                        \"Pel16_2030\": [2, 3],\n",
    "                        \"Ste17_2030\": [9, 10, 11],\n",
    "                        \"Ste17_2035\": [9, 10, 11],\n",
    "                        \"Ste17_2040\": [9, 10, 11],\n",
    "                        \"Ste17_2045\": [9, 10, 11],\n",
    "                        \"Gil15_2050\": [2, 3, 4, 5, 6],\n",
    "                        \"Ste17_2050\": [9, 10, 11]}\n",
    "\n",
    "    # dict holding the entries to be changed to -1\n",
    "    keep_dict = {\"Lan15_SQ\": [0, 4],\n",
    "                 \"r2b14_SQ\": [1]}\n",
    "\n",
    "# Change the replacement_mode for the above stated entries\n",
    "for k, v in publications_ind_years_dict.items():\n",
    "    v[\"replacement_mode\"] = 0\n",
    "    if k in replacement_dict.keys():\n",
    "        v.loc[replacement_dict[k], \"replacement_mode\"] = 1\n",
    "    if k in keep_dict.keys():\n",
    "        v.loc[keep_dict[k], \"replacement_mode\"] = -1\n",
    "    \n",
    "    #print(k)    \n",
    "    #display(v.loc[:,[\"Prozess\", \"Prozesskategorie 1\", \"replacement_mode\"]])"
   ]
  },
  {
   "cell_type": "code",
   "execution_count": null,
   "metadata": {},
   "outputs": [],
   "source": [
    "# TCS sector\n",
    "\n",
    "if aggregation_mode == \"granular\":\n",
    "    # dict holding the entries to be changed to 1\n",
    "    replacement_dict = {\"Foc11_SQ\": [0, 4],\n",
    "                        \"Gil15_SQ\": [0, 1, 2],\n",
    "                        \"Klo09_SQ\": [0, 1, 3, 4, 5, 6],\n",
    "                        \"Gil15_2020\": [0, 1, 2],\n",
    "                        \"Klo09_2020\": [0, 1, 3, 4, 5, 6],\n",
    "                        \"Gil15_2030\": [0, 1, 2],\n",
    "                        \"Gil15_2050\": [0, 1, 2]}\n",
    "\n",
    "    # dict holding the entries to be changed to -1\n",
    "    keep_dict = {}\n",
    "    \n",
    "elif aggregation_mode == \"broad\":\n",
    "    # dict holding the entries to be changed to 1\n",
    "    replacement_dict = {\"Foc11_SQ\": [0, 4],\n",
    "                        \"Gil15_SQ\": [0, 1, 2],\n",
    "                        \"Klo09_SQ\": [0, 1, 2, 3, 4, 5, 6],\n",
    "                        \"Gil15_2020\": [0, 1, 2],\n",
    "                        \"Klo09_2020\": [0, 1, 2, 3, 4, 5, 6],\n",
    "                        \"Gil15_2030\": [0, 1, 2],\n",
    "                        \"Gil15_2050\": [0, 1, 2]}\n",
    "\n",
    "    # dict holding the entries to be changed to -1\n",
    "    keep_dict = {}\n",
    "\n",
    "# Change the replacement_mode for the above stated entries\n",
    "for k, v in publications_tcs_years_dict.items():\n",
    "    v[\"replacement_mode\"] = 0\n",
    "    if k in replacement_dict.keys():\n",
    "        v.loc[replacement_dict[k], \"replacement_mode\"] = 1\n",
    "    if k in keep_dict.keys():\n",
    "        v.loc[keep_dict[k], \"replacement_mode\"] = -1   \n",
    "    \n",
    "    #print(k)    \n",
    "    #display(v.loc[:,[\"Prozess\", \"Prozesskategorie 1\", \"replacement_mode\"]])"
   ]
  },
  {
   "cell_type": "code",
   "execution_count": null,
   "metadata": {},
   "outputs": [],
   "source": [
    "# Household sector\n",
    "\n",
    "if aggregation_mode == \"granular\":\n",
    "    # dict holding the entries to be changed to 1\n",
    "    replacement_dict = {}\n",
    "\n",
    "    # dict holding the entries to be changed to -1\n",
    "    keep_dict = {\"Gro13_SQ\": [0],\n",
    "                \"Klo13_SQ\": [2],\n",
    "                \"Mol10_SQ\": [6],\n",
    "                \"Pel16_SQ\": [4],\n",
    "                \"Sta06_SQ\": [6],\n",
    "                \"Mol10_2020\": [6],\n",
    "                \"Pel16_2020\": [4],            \n",
    "                \"Pel16_2025\": [4],            \n",
    "                \"Pel16_2030\": [4]}\n",
    "\n",
    "elif aggregation_mode == \"broad\":\n",
    "    # dict holding the entries to be changed to 1\n",
    "    replacement_dict = {\"Ape12_SQ\": [0, 7, 9],\n",
    "                        \"Ary17_SQ\": [4, 5],\n",
    "                        \"Haa17_SQ\": [0, 1, 2],\n",
    "                        \"Klo09_SQ\": [3, 4],\n",
    "                        \"Mol10_SQ\": [4, 5],\n",
    "                        \"Sta06_SQ\": [1, 2],\n",
    "                        \"Ste17_SQ\": [1, 4],\n",
    "                        \"Sty15_SQ\": [0, 1],\n",
    "                        \"Ape12_2020\": [0, 7, 9],\n",
    "                        \"Klo09_2020\": [3, 4],\n",
    "                        \"Mol10_2020\": [4, 5],\n",
    "                        \"Ste17_2020\": [1, 4],\n",
    "                        \"Ste17_2025\": [1, 4],\n",
    "                        \"Sty15_2025\": [0, 1],\n",
    "                        \"Ape12_2030\": [0, 7, 9],\n",
    "                        \"Ste17_2030\": [1, 4],\n",
    "                        \"Ste17_2035\": [1, 4],\n",
    "                        \"Ste17_2040\": [1, 4],\n",
    "                        \"Ste17_2045\": [1, 4],\n",
    "                        \"Ste17_2050\": [1, 4],\n",
    "                        \"Sty15_2050\": [0, 1]}\n",
    "\n",
    "    # dict holding the entries to be changed to -1\n",
    "    keep_dict = {\"Gro13_SQ\": [0],\n",
    "                \"Klo13_SQ\": [2],\n",
    "                \"Mol10_SQ\": [6],\n",
    "                \"Pel16_SQ\": [4],\n",
    "                \"Sta06_SQ\": [6],\n",
    "                \"Mol10_2020\": [6],\n",
    "                \"Pel16_2020\": [4],            \n",
    "                \"Pel16_2025\": [4],            \n",
    "                \"Pel16_2030\": [4]}\n",
    "\n",
    "# Change the replacement_mode for the above stated entries\n",
    "for k, v in publications_hoho_years_dict.items():\n",
    "    v[\"replacement_mode\"] = 0\n",
    "    if k in replacement_dict.keys():\n",
    "        v.loc[replacement_dict[k], \"replacement_mode\"] = 1\n",
    "    if k in keep_dict.keys():\n",
    "        v.loc[keep_dict[k], \"replacement_mode\"] = -1  \n",
    "    \n",
    "    #print(k)    \n",
    "    #display(v.loc[:,[\"Prozess\", \"Prozesskategorie 1\", \"replacement_mode\"]])"
   ]
  },
  {
   "cell_type": "markdown",
   "metadata": {},
   "source": [
    "### Prepare colors\n",
    "Include the values for \"Prozesskategorie 1\" from the categories DataFrame (and exclude duplicates)."
   ]
  },
  {
   "cell_type": "code",
   "execution_count": null,
   "metadata": {},
   "outputs": [],
   "source": [
    "# Include values of \"Prozesskategorie 1\" from the categories DataFrame in the color mapping\n",
    "new_colors = colors.copy()\n",
    "new_colors[\"Prozesskategorie 1\"] = categories.set_index(\"Prozess (ursprüngliche Kategorien)\")[\"Prozesskategorie 1\"]\n",
    "\n",
    "new_colors = new_colors.set_index(\"Prozesskategorie 1\")\n",
    "new_colors = new_colors.loc[~new_colors.index.duplicated(keep=\"first\")]\n",
    "new_colors.index.name = \"Prozess\"\n",
    "\n",
    "# concat original colors DataFrame with the one containing values for \"Prozesskategorie 1\"\n",
    "# and remove duplicates\n",
    "colors = pd.concat([colors, new_colors])\n",
    "colors = colors.loc[~colors.index.duplicated(keep=\"first\")]\n",
    "\n",
    "# Show colors\n",
    "colors"
   ]
  },
  {
   "cell_type": "markdown",
   "metadata": {},
   "source": [
    "**NEW COLOR MAPPING - REMOVE OLD VERSION ABOVE**"
   ]
  },
  {
   "cell_type": "code",
   "execution_count": null,
   "metadata": {},
   "outputs": [],
   "source": [
    "colors = xls.parse(\"Farben_neu\", index_col=0, header=0)"
   ]
  },
  {
   "cell_type": "code",
   "execution_count": null,
   "metadata": {},
   "outputs": [],
   "source": [
    "colors"
   ]
  },
  {
   "cell_type": "markdown",
   "metadata": {},
   "source": [
    "## Prepare column names\n",
    "Column names have to be carefully selected and harmonized in order to be able to compare potential information on a common basis. This holds especially for evaluating capacity-related parameters.\n",
    "* Get capacity-related columns:\n",
    "    * Evaluate all columns holding the word \"potential\" or fractions of it.\n",
    "    * Distinct between pos and negative potentials.\n",
    "    * Remove columns evaluating sociotechnical instead of technical potentials as well as those evaluating energy instead of capacity."
   ]
  },
  {
   "cell_type": "markdown",
   "metadata": {},
   "source": [
    "Inspect columns by evaluating all column names used accross the publications"
   ]
  },
  {
   "cell_type": "code",
   "execution_count": null,
   "metadata": {},
   "outputs": [],
   "source": [
    "# initialize an empty throwaway array\n",
    "help_array = np.empty(shape=(0,))\n",
    "\n",
    "# add all column values and convert to a set to remove duplicates\n",
    "for k, v in publications_dict.items():\n",
    "    help_array = np.concatenate((help_array, v.columns.values), axis = 0)\n",
    "    \n",
    "all_cols = set(help_array)"
   ]
  },
  {
   "cell_type": "code",
   "execution_count": null,
   "metadata": {},
   "outputs": [],
   "source": [
    "# print the number of different column names used accross the publications\n",
    "len(all_cols)"
   ]
  },
  {
   "cell_type": "markdown",
   "metadata": {},
   "source": [
    "Prepare columns for further usage:\n",
    "* The list of all columns used has been transferred to an Excel workbook using the following commented lines of code.\n",
    "* The columns have been matched to one parameter for evaluation by going through them and assigning a parameter (has been done manually using Excel).\n",
    "* The manipulated Excel workbook (\"Columns.xlsx\") is read in in the following again to be able to use the grouping applied."
   ]
  },
  {
   "cell_type": "code",
   "execution_count": null,
   "metadata": {},
   "outputs": [],
   "source": [
    "# Uncomment this cell and reassign groups if changes to the columns in the data collection occur.\n",
    "#all_cols_Series = pd.Series(data=sorted(list(all_cols)))\n",
    "#all_cols_Series.to_excel(\"Columns.xlsx\", encoding=\"utf-8-sig\", header=False)"
   ]
  },
  {
   "cell_type": "code",
   "execution_count": null,
   "metadata": {},
   "outputs": [],
   "source": [
    "all_cols_df = pd.read_excel(path_folder_in+filename_colnames, index_col=0)"
   ]
  },
  {
   "cell_type": "code",
   "execution_count": null,
   "metadata": {},
   "outputs": [],
   "source": [
    "# Assign the groups that have been defined to a variable to use it as key for a dict\n",
    "groups = all_cols_df[\"Gruppe\"].unique()\n",
    "groups"
   ]
  },
  {
   "cell_type": "code",
   "execution_count": null,
   "metadata": {},
   "outputs": [],
   "source": [
    "cols_dict = {}\n",
    "\n",
    "for key in groups:\n",
    "    cols_dict[key] = list(all_cols_df[all_cols_df[\"Gruppe\"] == key].index.values)\n",
    "    #cols_dict[key].extend([\"Prozesskategorie\", \"Jahr\", \"Sektorenzuordnung\", \"study\"])\n",
    "\n",
    "swapped_cols_dict = {val: k for k, v in cols_dict.items() for val in v}"
   ]
  },
  {
   "cell_type": "markdown",
   "metadata": {},
   "source": [
    "# Prepare data for further analyses (NEW)\n",
    "Experimental section:\n",
    "* Use simple DataFrame filtering instead of creating extensive dict structures\n",
    "* TODO: Resume when time permits / Remove if not!"
   ]
  },
  {
   "cell_type": "markdown",
   "metadata": {},
   "source": [
    "## Create an overall parameter data set with all information\n",
    "Combine all DataFrames created from the Excel sheets of the dfferent studies into a single one holding all the information:\n",
    "* Filter cols that don't need renaming (columns used for filtering etc.)\n",
    "* Rename the other columns: Append the string for the study to the name in oder not to loose information in aggregation\n",
    "* Loop over the publications dict and concat the individual DataFrames in order to form one overall DataFrame that is used to flter the needed information in the following\n",
    "* Add the study string to all columns containing sources infomation (i.e. all containing the German string 'Fundstelle')\n",
    "* Merge the overall parameters data set with the process categories used for grouping"
   ]
  },
  {
   "cell_type": "code",
   "execution_count": null,
   "metadata": {},
   "outputs": [],
   "source": [
    "cols_not_to_rename = [\n",
    "    \"Prozess\", \"Sektorenzuordnung\", \"Jahr\", \n",
    "    \"Lastverschiebung\", \"Lastverzicht\", \"Lasterhöhung\", \n",
    "    \"study\"\n",
    "]\n",
    "cols_not_to_rename.extend([\n",
    "    col for col in all_cols if \"Fundstelle\" in col\n",
    "])"
   ]
  },
  {
   "cell_type": "code",
   "execution_count": null,
   "metadata": {},
   "outputs": [],
   "source": [
    "parameters = pd.DataFrame()\n",
    "if not is_renamed:\n",
    "    for k, v in publications_dict.items():\n",
    "        v[\"study\"] = k\n",
    "\n",
    "        cols_to_rename = {\n",
    "            col: col + \"_\" + k for col in v.columns \n",
    "            if col not in cols_not_to_rename\n",
    "        }\n",
    "        for col, renamed_col in cols_to_rename.items():\n",
    "            swapped_cols_dict[renamed_col] = swapped_cols_dict[col] \n",
    "\n",
    "        v.rename(columns=cols_to_rename, inplace=True)\n",
    "\n",
    "        parameters = pd.concat([parameters, v])\n",
    "\n",
    "    for el in parameters.columns:\n",
    "        if \"Fundstelle\" in el:\n",
    "            parameters[el] = (\n",
    "                parameters[\"study\"].values \n",
    "                + \": \" \n",
    "                + parameters[el].astype(str).values\n",
    "            )\n",
    "    \n",
    "    is_renamed = True"
   ]
  },
  {
   "cell_type": "code",
   "execution_count": null,
   "metadata": {},
   "outputs": [],
   "source": [
    "cats_new = xls.parse(\"Kategorien_neu\")"
   ]
  },
  {
   "cell_type": "code",
   "execution_count": null,
   "metadata": {},
   "outputs": [],
   "source": [
    "parameters = pd.merge(\n",
    "    parameters, cats_new,\n",
    "    left_on=\"Prozess\", \n",
    "    right_on=\"Prozess (ursprüngliche Kategorien)\",\n",
    "    how=\"left\"\n",
    ")"
   ]
  },
  {
   "cell_type": "markdown",
   "metadata": {},
   "source": [
    "## Aggregate data by process categories\n",
    "Determine aggregation rules:\n",
    "* For original columns, aggregation rules are given in the \"Columns.xlsx\" mapping specified. Columns not to be used are assigned a value of \"drop\" and neglected.\n",
    "* For the modified columns including the study shorthand symbol, an assignment is made based on the predefined mapping, whereby all sources columns - those with the string \"Fundstelle\" in it - are assigned the sum as aggregation rule.\n",
    "* In order not to create a lot of 0 entries by aggregating NaN values (which is the default behaviour), aggregation rule sum is replaced by a lambda function requiring a `min_count` of 1, i.e. at least of entry being notnull."
   ]
  },
  {
   "cell_type": "code",
   "execution_count": null,
   "metadata": {},
   "outputs": [],
   "source": [
    "agg_dict = all_cols_df[\"Aggregationsregel\"].loc[\n",
    "    all_cols_df[\"Aggregationsregel\"] != \"drop\"\n",
    "].to_dict()\n",
    "agg_dict[\"study\"] = \"first\"\n",
    "\n",
    "new_agg_dict = {}\n",
    "for col in parameters.columns:\n",
    "    for k, v in agg_dict.items():\n",
    "        if k in col:\n",
    "            if not \"Fundstelle\" in col:\n",
    "                new_agg_dict[col] = v\n",
    "            else:\n",
    "                new_agg_dict[col] = lambda x: x.sum(min_count=1)"
   ]
  },
  {
   "cell_type": "code",
   "execution_count": null,
   "metadata": {},
   "outputs": [],
   "source": [
    "reversed_agg_dict = defaultdict(list)\n",
    "for k, v in new_agg_dict.items():\n",
    "    reversed_agg_dict[v].append(k)\n",
    "    \n",
    "for k in reversed_agg_dict[\"sum\"]:\n",
    "    new_agg_dict[k] = lambda x: x.sum(min_count=1)"
   ]
  },
  {
   "cell_type": "markdown",
   "metadata": {},
   "source": [
    "Group by process category within studies in order to remove duplicates:\n",
    "* Define a filter for the sectors. For studies and years, existing dictionaries can be used.\n",
    "* Iterate over studies, sectors and years; _Note: This operation is quite expensive, but only needed once here_\n",
    "* Filter DataFrame accordingly and groupby \"Prozesskategorie\" to remove duplicates"
   ]
  },
  {
   "cell_type": "code",
   "execution_count": null,
   "metadata": {},
   "outputs": [],
   "source": [
    "# Define sector filter\n",
    "filter_sector = {\n",
    "    \"ind\": \"Industrie\",\n",
    "    \"tcs\": \"GHD\",\n",
    "    \"hoho\": \"Haushalte\"\n",
    "}"
   ]
  },
  {
   "cell_type": "code",
   "execution_count": null,
   "metadata": {},
   "outputs": [],
   "source": [
    "grouped = pd.DataFrame()\n",
    "for study in publications_dict.keys():\n",
    "    for sector, sector_filter in filter_sector.items():\n",
    "        for year_key, year_value in years_dict.items():\n",
    "            \n",
    "            filtered = parameters.loc[\n",
    "                (parameters[\"study\"] == study)\n",
    "                & (parameters[\"Sektorenzuordnung\"] == sector_filter)\n",
    "                & (parameters[\"Jahr\"].isin(year_value))\n",
    "            ].dropna(axis=1, how=\"all\")\n",
    "            \n",
    "            if not filtered.empty:\n",
    "            \n",
    "                filtered = filtered.groupby(\"Prozesskategorie\").agg({\n",
    "                    k: v for k, v in new_agg_dict.items() if k in filtered.columns\n",
    "                })\n",
    "                grouped = pd.concat([grouped, filtered])"
   ]
  },
  {
   "cell_type": "markdown",
   "metadata": {},
   "source": [
    "## Define functions for structuring the (repeated) analyses\n",
    "**_TODO: Move to dedicated .py file!_**"
   ]
  },
  {
   "cell_type": "code",
   "execution_count": null,
   "metadata": {},
   "outputs": [],
   "source": [
    "def extract_info(df, swapped_cols_dict, parameters, sector, years_dict, year):\n",
    "    \"\"\"Extract info for (a) given parameter(s), sector and year from data\n",
    "    \n",
    "    Parameters\n",
    "    ----------\n",
    "    df : pandas.DataFrame\n",
    "        grouped overall data set\n",
    "    \n",
    "    swapped_cols_dict : dict\n",
    "        dict mapping cols to the parameter group of interest\n",
    "    \n",
    "    parameters : str or list\n",
    "        parameter group to extract data for\n",
    "    \n",
    "    sector : str\n",
    "        Sector to look for;\n",
    "        possible values are \"ind\", \"tcs\" and \"hoho\"\n",
    "    \n",
    "    years_dict : dict\n",
    "        dict holding all possible years\n",
    "    \n",
    "    year : str\n",
    "        Year to extract data for; must be a key of years_dict;\n",
    "        possible values are \"SQ\", \"2020\", \"2025\", \"2030\", \"2035\", \n",
    "        \"2040\", \"2045\" and \"2050\"\n",
    "        \n",
    "    Returns\n",
    "    -------\n",
    "    filtered_df : pandas.DataFrame\n",
    "        Data set fltered for parameter(s) of interest\n",
    "    \"\"\"\n",
    "    # Filter for sector, year and parameter and determine cols to use\n",
    "    if isinstance(parameters, str):\n",
    "        parameter = parameters\n",
    "        parameters = []\n",
    "        parameters.append(parameter)\n",
    "    elif not isinstance(parameters, list):\n",
    "        raise TypeError(\n",
    "            \"parameters must be of type str (single parameter) \"\n",
    "            \"or list (multiple parameters).\"\n",
    "        )\n",
    "    \n",
    "    filtered_df = df.loc[\n",
    "        (df[\"Sektorenzuordnung\"] == filter_sector[sector]) \n",
    "        & (df[\"Jahr\"].isin(years_dict[year]))\n",
    "    ]\n",
    "    \n",
    "    cols_to_use = []\n",
    "    for parameter in parameters:\n",
    "        cols_to_use.extend([\n",
    "            col for col in filtered_df.columns\n",
    "            if col in swapped_cols_dict.keys()\n",
    "            and swapped_cols_dict[col] == parameter\n",
    "        ])\n",
    "    cols_to_use = list(set(cols_to_use))\n",
    "    sources_cols = [\n",
    "        col for col in cols_to_use if \"Fundstelle\" in col\n",
    "    ]\n",
    "    \n",
    "    # Filter for all nan rows and drop them\n",
    "    filtered_df.set_index(\"study\", append=True, inplace=True)\n",
    "    nan_idx = filtered_df.loc[\n",
    "        filtered_df[\n",
    "            [\n",
    "                col for col in cols_to_use \n",
    "                if col not in sources_cols\n",
    "            ]\n",
    "        ].isnull().all(1)].index    \n",
    "    filtered_df.drop(nan_idx, inplace=True)\n",
    "    filtered_df.reset_index(level=1, drop=False, inplace=True)\n",
    "    \n",
    "    cols_to_use.extend([\"Jahr\", \"Sektorenzuordnung\", \"study\"])\n",
    "    filtered_df = filtered_df[cols_to_use]\n",
    "    \n",
    "    return filtered_df"
   ]
  },
  {
   "cell_type": "code",
   "execution_count": null,
   "metadata": {},
   "outputs": [],
   "source": [
    "def add_value_counts_and_sources(filtered_df, drop_data_lack=True):\n",
    "    \"\"\"Add value counts to a filtered parameter data set\n",
    "    \n",
    "    Parameters\n",
    "    ----------\n",
    "    filtered_df : pandas.DataFrame\n",
    "        Data set filtered for the parameter(s) of interest\n",
    "    \n",
    "    drop_data_lack : boolean\n",
    "        If True, drop data sets where less than 3 data points exist\n",
    "        \n",
    "    Returns\n",
    "    -------\n",
    "    filtered_df : pandas.DataFrame\n",
    "        Data set filtered for the parameter(s) of interest including\n",
    "        information on the number of studies that contain values for this /\n",
    "        these parameter(s) as well as the number of data points per\n",
    "        process category\n",
    "    \"\"\"\n",
    "    # Count number of publications by counting indices\n",
    "    filtered_df[\"number_publications\"] = filtered_df.index.value_counts()\n",
    "    \n",
    "    # Count not null entries for each study and aggregate by process category\n",
    "    sources_cols = [\n",
    "        col for col in filtered_df.columns if \"Fundstelle\" in col\n",
    "    ]\n",
    "    filtered_df[\"number_entries\"] = (\n",
    "        filtered_df.count(axis=1) \n",
    "        - (len(sources_cols) \n",
    "           + len([\"Jahr\", \"Sektorenzuordnung\", \"study\", \"number_publications\"]))\n",
    "    )\n",
    "    entries = filtered_df[\"number_entries\"].groupby(filtered_df.index).sum()\n",
    "    filtered_df[\"abs_number_entries\"] = entries\n",
    "    filtered_df.drop(columns=[\"number_entries\"], inplace=True)\n",
    "    \n",
    "    if drop_data_lack:\n",
    "        filtered_df = filtered_df.loc[filtered_df[\"abs_number_entries\"] >= 3]\n",
    "    \n",
    "    # Join all the sources string information by process category\n",
    "    for col in sources_cols:\n",
    "        entries = filtered_df[col].groupby(filtered_df.index).apply(lambda x: \"; \".join(x))\n",
    "        filtered_df[\"all_sources_\" + col] = entries\n",
    "    \n",
    "    return filtered_df"
   ]
  },
  {
   "cell_type": "code",
   "execution_count": null,
   "metadata": {},
   "outputs": [],
   "source": [
    "def groupby_process_category(filtered_df, agg_rule=\"mean\"):\n",
    "    \"\"\"Group the filtered parameter data set by process categories\n",
    "    \n",
    "    Parameters\n",
    "    ----------\n",
    "    filtered_df : pandas.DataFrame\n",
    "        Data set filtered for the parameter(s) of interest\n",
    "        \n",
    "    agg_rule : str\n",
    "        Aggregation rule to apply; defaults to \"mean\"\n",
    "        Since the parameters come with distinct columns, it actually has\n",
    "        no effect. \"mean\" is preferred over \"sum\" since \"sum\" creates 0\n",
    "        entries when aggregating only np.nan values\n",
    "    \n",
    "    Returns\n",
    "    -------\n",
    "    grouped_df : pandas.DataFrame\n",
    "        Data set for parameter(s) of interested grouped by\n",
    "        process categories\n",
    "    \"\"\"\n",
    "    agg_rules = {\n",
    "        col: agg_rule for col in filtered_df.columns \n",
    "        if not \"all_sources\" in col\n",
    "        and not \"Fundstelle\" in col\n",
    "        and col not in [\"Jahr\", \"Sektorenzuordnung\", \"study\"]\n",
    "    }\n",
    "    for col in filtered_df.columns:\n",
    "        if \"all_sources\" in col:\n",
    "            agg_rules[col] = lambda x: \"; \".join(x)\n",
    "    \n",
    "    grouped_df = filtered_df.groupby(filtered_df.index).agg(agg_rules)\n",
    "    \n",
    "    return grouped_df"
   ]
  },
  {
   "cell_type": "code",
   "execution_count": null,
   "metadata": {},
   "outputs": [],
   "source": [
    "def transpose_and_split(grouped_df):\n",
    "    \"\"\"Transpose and split the grouped data set\n",
    "    \n",
    "    The DataFrame fed in is transposed and split into the actual\n",
    "    numeric parameter data, the counts of the number of publications\n",
    "    and data points as well as the combined sources information\n",
    "    \n",
    "    Parameters\n",
    "    ----------\n",
    "    grouped_df : pandas.DataFrame\n",
    "        Data set for parameter(s) of interested grouped by\n",
    "        process categories\n",
    "        \n",
    "    Returns\n",
    "    -------\n",
    "    numeric_df : pandas.DataFrame\n",
    "        Data set containing the actual numeric parameter information\n",
    "    \n",
    "    count_df : pandas.DataFrame\n",
    "        Data set containing the counts on the number of publications that\n",
    "        contain information as well as the number of data points per process\n",
    "        category\n",
    "    \n",
    "    all_sources_df : pandas.DataFrame\n",
    "        Data set containing the combined sources information for \n",
    "        the parameter\n",
    "    \"\"\"\n",
    "    transposed_df = grouped_df.T\n",
    "    \n",
    "    all_sources_rows = [\n",
    "        row for row in grouped_df.columns\n",
    "        if \"all_sources\" in row\n",
    "    ]\n",
    "    count_rows = [\"number_publications\", \"abs_number_entries\"]\n",
    "    numeric_rows = [\n",
    "        row for row in grouped_df.columns\n",
    "        if row not in all_sources_rows\n",
    "        and row not in count_rows\n",
    "    ]\n",
    "    \n",
    "    numeric_df = transposed_df.loc[numeric_rows]\n",
    "    numeric_df = numeric_df.astype(\"float64\")\n",
    "    count_df = transposed_df.loc[count_rows]\n",
    "    all_sources_df = transposed_df.loc[all_sources_rows]\n",
    "    \n",
    "    return numeric_df, count_df, all_sources_df"
   ]
  },
  {
   "cell_type": "code",
   "execution_count": null,
   "metadata": {},
   "outputs": [],
   "source": [
    "def extract_sample_stats(\n",
    "    numeric_df, \n",
    "    save=True, \n",
    "    path_folder=\"./out/stats/\", \n",
    "    file_name=\"stats.csv\", \n",
    "):\n",
    "    \"\"\"Extract the sample stats for the parameter data set\n",
    "    \n",
    "    Calculate statistical moments using the built-in \n",
    "    pandas.DataFrame.describe() method and add quantile 5%, 10%,\n",
    "    90% and 95% to it.\n",
    "    \n",
    "    Parameters\n",
    "    ----------\n",
    "    numeric_df : pandas.DataFrame\n",
    "        Data set containing the actual numeric parameter information\n",
    "        \n",
    "    save : boolean\n",
    "        Save the extracted parameter statistics if True\n",
    "    \n",
    "    path_folder : str\n",
    "        Path where to store the parameter statistics\n",
    "    \n",
    "    file_name : str\n",
    "        File name to use for storing the parameter statistics\n",
    "    \n",
    "    sheet_name : str\n",
    "        Sheet name to use / append\n",
    "    \n",
    "    Returns\n",
    "    -------\n",
    "    stats_df : pandas.DataFrame\n",
    "        Data set containing statistics for the parameter(s)\n",
    "    \"\"\"\n",
    "    if not numeric_df.empty:\n",
    "        stats_df = numeric_df.describe()\n",
    "        quantiles = {\"5%\": 0.05, \"10%\": 0.1, \"90%\": 0.9, \"95%\": 0.95}\n",
    "\n",
    "        for key, val in quantiles.items():\n",
    "            stats_df.loc[key] = numeric_df.quantile(val).values\n",
    "\n",
    "        if save:        \n",
    "            stats_df.to_csv(path_folder + file_name, sep=\";\", decimal=\".\")\n",
    "    \n",
    "        return stats_df"
   ]
  },
  {
   "cell_type": "code",
   "execution_count": null,
   "metadata": {},
   "outputs": [],
   "source": [
    "def extract_sample_sources(\n",
    "    all_sources_df, \n",
    "    save=True, \n",
    "    path_folder=\"./out/sources/\", \n",
    "    file_name=\"sources.csv\"\n",
    "):\n",
    "    \"\"\"Extract the sources for the parameter data set\n",
    "    \n",
    "    Parameters\n",
    "    ----------\n",
    "    all_sources_df : pandas.DataFrame\n",
    "        Data set containing the combined sources information\n",
    "        per pocess category\n",
    "    \n",
    "    save : boolean\n",
    "        Save the combined sources information if True\n",
    "    \n",
    "    path_folder : str\n",
    "        Path where to store the combined sources\n",
    "    \n",
    "    file_name : str\n",
    "        File name to use for storing the combined sources\n",
    "    \n",
    "    sheet_name : str\n",
    "        Sheet name to use / add\n",
    "    \n",
    "    Returns\n",
    "    -------\n",
    "    unique_sources_string : str\n",
    "        Combined sources string\n",
    "    \"\"\"\n",
    "    if not all_sources_df.empty:\n",
    "        combined_sources = all_sources_df.agg(lambda x: \"; \".join(x))\n",
    "        combined_sources = combined_sources.values + \"; \"\n",
    "        combined_sources_string = combined_sources.sum()\n",
    "\n",
    "        unique_sources_set = set(combined_sources_string.split(\"; \"))\n",
    "        unique_sources_set.discard(\"\")\n",
    "\n",
    "        unique_sources_string = \"; \".join(unique_sources_set)\n",
    "        unique_sources_string = unique_sources_string.replace(\".0\", \"\")\n",
    "\n",
    "        if save:\n",
    "            with open(path_folder + file_name, \"w\", encoding=\"UTF8\") as opf:\n",
    "                writer = csv.writer(opf)\n",
    "                writer.writerow(unique_sources_string)\n",
    "\n",
    "        return unique_sources_string"
   ]
  },
  {
   "cell_type": "code",
   "execution_count": null,
   "metadata": {},
   "outputs": [],
   "source": [
    "def create_boxplot(\n",
    "    numeric_df,\n",
    "    counts_df,\n",
    "    year,\n",
    "    title,\n",
    "    ylabel,\n",
    "    colors,\n",
    "    ylim=[0, 3000],\n",
    "    use_colors=False,\n",
    "    use_limits=True, \n",
    "    swarmplot=False,\n",
    "    savefig=False,\n",
    "    show_title=True,\n",
    "    path_folder=\"./out/plots/\",\n",
    "    file_name=\"parameter\"\n",
    "):\n",
    "    \"\"\"\n",
    "    Function creates a boxplot for the relevant parameter, indexed by\n",
    "    processes.\n",
    "    \n",
    "    Parameters\n",
    "    ----------\n",
    "    dict_info_years: dict or list of dicts\n",
    "        Dictionary resp. dictionaries to store the info on the relevant \n",
    "        parameter, indexed by years\n",
    "        \n",
    "    year: str\n",
    "        Year for which the plot shall be created\n",
    "        \n",
    "    title: str\n",
    "        Title for the plot\n",
    "    \n",
    "    ylabel: str\n",
    "        label for the yaxis\n",
    "        \n",
    "    colors: pd.DataFrame\n",
    "        pd.DataFrame containing the category / color mapping\n",
    "        \n",
    "    ylim: list\n",
    "        limits for the yaxis\n",
    "        \n",
    "    use_colors: boolean\n",
    "        If True, colors from the given colors DataFrame will be used, default\n",
    "        ones elsewhise\n",
    "\n",
    "    use_limits: boolean\n",
    "        If True, yaxis limits will be obtained from the extreme values of\n",
    "        the data including some space\n",
    "        \n",
    "    sample_stats: boolean\n",
    "        True if info on the sample size is included\n",
    "    \n",
    "    add_sources: boolean\n",
    "        True if information on sources (page areas) is included\n",
    "        \n",
    "    swarmplot: boolean\n",
    "        Create an overlay bee swarm plot if True using seaborn\n",
    "\n",
    "    savefig: boolean\n",
    "        Save figure to png if True\n",
    "        \n",
    "    show_title: boolean\n",
    "        Show / hide the given title\n",
    "        \n",
    "    path_folder: str\n",
    "        Path where the png file shall be stored\n",
    "    \n",
    "    filename: str\n",
    "        Name of the png file to be stored    \n",
    "    \"\"\"\n",
    "    # Terminate execution when DataFrame is entirely empty\n",
    "    if numeric_df.empty:\n",
    "        warnings.warn(\"No numeric data to plot.\", UserWarning)\n",
    "        return None\n",
    "\n",
    "    fig, ax = plt.subplots(figsize=(15, 5))\n",
    "\n",
    "    numeric_df_plot = numeric_df.rename(columns={\n",
    "        col: col + \", n: \" + str(\n",
    "            int(counts_df.at[\"number_publications\", col])\n",
    "        ) + \", m: \" + str(\n",
    "            int(counts_df.at[\"abs_number_entries\", col])\n",
    "        )\n",
    "        for col in counts_df.columns\n",
    "    })\n",
    "\n",
    "    if not swarmplot:\n",
    "        _ = numeric_df_plot.plot(kind=\"box\", ax=ax)\n",
    "    else:\n",
    "        if use_colors:\n",
    "            _ = sns.boxplot(data=numeric_df_plot, ax=ax, width=0.5,\n",
    "                            boxprops=dict(alpha=0.2),\n",
    "                            palette=sns.color_palette([el for el in colors.loc[\n",
    "                                numeric_df.columns,\n",
    "                                \"Farbe (matplotlib strings)\"].values]))\n",
    "            _ = sns.swarmplot(data=numeric_df_plot, ax=ax,\n",
    "                              palette=sns.color_palette(\n",
    "                                  [el for el in colors.loc[\n",
    "                                      numeric_df.columns,\n",
    "                                      \"Farbe (matplotlib strings)\"].values]))\n",
    "        else:\n",
    "            _ = sns.boxplot(data=numeric_df_plot, ax=ax, width=0.5,\n",
    "                            boxprops=dict(alpha=0.2))\n",
    "            _ = sns.swarmplot(data=numeric_df_plot, ax=ax)\n",
    "\n",
    "    if show_title:\n",
    "        if year == \"SQ\":\n",
    "            _ = plt.title(title + \" im Status quo\")\n",
    "\n",
    "        else:\n",
    "            _ = plt.title(title + \" im Jahr \" + year)\n",
    "\n",
    "    if use_limits:\n",
    "        minimum = numeric_df.min().min()\n",
    "        maximum = numeric_df.max().max()\n",
    "\n",
    "        if minimum >= 0:\n",
    "            ylim = [minimum - 0.1 * minimum,\n",
    "                    maximum + 0.1 * maximum]\n",
    "        else:\n",
    "            ylim = [minimum + 0.1 * minimum,\n",
    "                    maximum - 0.1 * maximum]\n",
    "\n",
    "    _ = plt.ylim(ylim)\n",
    "    _ = plt.xlabel(\"Lastmanagementkategorie\")\n",
    "    _ = plt.ylabel(ylabel)\n",
    "    _ = plt.xticks(rotation=90)\n",
    "\n",
    "    if savefig:\n",
    "        plt.savefig(path_folder + file_name + \"_boxplot.png\", dpi=150,\n",
    "                    bbox_inches=\"tight\")\n",
    "\n",
    "    plt.show()"
   ]
  },
  {
   "cell_type": "code",
   "execution_count": null,
   "metadata": {},
   "outputs": [],
   "source": [
    "def run_analyses_for_parameter_single_year(\n",
    "    df, \n",
    "    swapped_cols_dict, \n",
    "    parameters,\n",
    "    sector,\n",
    "    years_dict,\n",
    "    year,\n",
    "    plot_title,\n",
    "    plot_ylabel,\n",
    "    plot_colors,\n",
    "    drop_data_lack=True,\n",
    "    save_stats=True,\n",
    "    path_folder_stats=\"./out/stats/\",\n",
    "    file_name_stats=\"stats.csv\",\n",
    "    save_sources=True,\n",
    "    path_folder_sources=\"./out/sources/\",\n",
    "    file_name_sources=\"sources.csv\",\n",
    "    ylim=[0, 3000],\n",
    "    use_colors=True,\n",
    "    use_limits=True, \n",
    "    swarmplot=True,\n",
    "    savefig=False,\n",
    "    show_title=True,\n",
    "    path_folder_plots=\"./out/plots/\",\n",
    "    file_name_plot=\"parameter\",\n",
    "    return_dfs=False\n",
    "):\n",
    "    \"\"\"Wrapper function that runs an analyses for a certain parameter\n",
    "    \n",
    "    Analysis is limited to the year given\n",
    "    \n",
    "    Complete analysis chain consists of:\n",
    "    * Extracting the parameter data\n",
    "    * Adding sources information to it\n",
    "    * Grouping parameter data by process category\n",
    "    * Transposing data and splitting numeric data, counts and sources\n",
    "    * Calculating sample stats\n",
    "    * Compiling sample sources\n",
    "    * Creating a nice combined swarm and boxplot for visualization\n",
    "    \n",
    "    See functions\n",
    "    * exctract_info\n",
    "    * add_value_counts\n",
    "    * groupby_process_category\n",
    "    * transpose_and_split\n",
    "    * extract_sample_stats\n",
    "    * extract_sample_sources\n",
    "    * create_boxplot\n",
    "    and their parameters\n",
    "    \n",
    "    Returns\n",
    "    -------\n",
    "    Nothing by default. If return_dfs is True, returns the following\n",
    "    \n",
    "    numeric_df : pd.DataFrame\n",
    "        All numeric parameter data\n",
    "    \n",
    "    counts_df : pd.DataFrame\n",
    "        Number of publications and data points\n",
    "    \n",
    "    sample_df : pd.DataFrame\n",
    "        statistical moments of numeric parameter data\n",
    "    \n",
    "    sample_sources : str\n",
    "        A combined string with the parameter sources information\n",
    "    \"\"\"\n",
    "    filtered_df = extract_info(\n",
    "        df, \n",
    "        swapped_cols_dict, \n",
    "        parameters, \n",
    "        sector, \n",
    "        years_dict, \n",
    "        year\n",
    "    )\n",
    "    filtered_df = add_value_counts_and_sources(filtered_df, drop_data_lack)\n",
    "    grouped_df = groupby_process_category(filtered_df)\n",
    "    numeric_df, counts_df, sources_df = transpose_and_split(grouped_df) \n",
    "\n",
    "    sample_df = extract_sample_stats(\n",
    "        numeric_df, \n",
    "        save=save_stats,\n",
    "        path_folder=path_folder_stats,\n",
    "        file_name=file_name_stats, \n",
    "    )\n",
    "    \n",
    "    sample_sources = extract_sample_sources(\n",
    "        sources_df,\n",
    "        save=save_sources,\n",
    "        path_folder=path_folder_sources, \n",
    "        file_name=file_name_sources,\n",
    "    )\n",
    "\n",
    "    create_boxplot(\n",
    "        numeric_df, \n",
    "        counts_df,\n",
    "        year,\n",
    "        plot_title,\n",
    "        plot_ylabel,\n",
    "        plot_colors,\n",
    "        ylim=ylim,\n",
    "        use_colors=use_colors,\n",
    "        use_limits=use_limits, \n",
    "        swarmplot=swarmplot,\n",
    "        savefig=savefig,\n",
    "        show_title=show_title,\n",
    "        path_folder=path_folder_plots,\n",
    "        file_name=file_name_plot\n",
    "    )\n",
    "    \n",
    "    if return_dfs:\n",
    "        return numeric_df, counts_df, sample_df, sample_sources"
   ]
  },
  {
   "cell_type": "code",
   "execution_count": null,
   "metadata": {},
   "outputs": [],
   "source": [
    "def extract_data_for_parameter_all_years(\n",
    "    df, \n",
    "    swapped_cols_dict, \n",
    "    parameters,\n",
    "    sector,\n",
    "    years_dict,\n",
    "    drop_data_lack=True,\n",
    "    file_name_stats=\"stats\",\n",
    "    file_name_sources=\"sources\",\n",
    "):\n",
    "    \"\"\"Wrapper function that extracts data for a certain parameter and all years\n",
    "    \n",
    "    Analysis chain consists of:\n",
    "    * Extracting the parameter data\n",
    "    * Adding sources information to it\n",
    "    * Grouping parameter data by process category\n",
    "    * Transposing data and splitting numeric data, counts and sources\n",
    "    * Calculating sample stats\n",
    "    * Compiling sample sources\n",
    "    \n",
    "    See functions\n",
    "    * exctract_info\n",
    "    * add_value_counts\n",
    "    * groupby_process_category\n",
    "    * transpose_and_split\n",
    "    * extract_sample_stats\n",
    "    * extract_sample_sources\n",
    "    and their parameters\n",
    "    \"\"\"\n",
    "    for year in years_dict.keys():\n",
    "        filtered_df = extract_info(\n",
    "            df, \n",
    "            swapped_cols_dict, \n",
    "            parameters, \n",
    "            sector, \n",
    "            years_dict,\n",
    "            year\n",
    "        )\n",
    "        filtered_df = add_value_counts_and_sources(filtered_df, drop_data_lack)\n",
    "        grouped_df = groupby_process_category(filtered_df)\n",
    "        numeric_df, counts_df, sources_df = transpose_and_split(grouped_df) \n",
    "\n",
    "        sample_df = extract_sample_stats(\n",
    "            numeric_df, \n",
    "            save=True,\n",
    "            file_name=file_name_stats + \"_\" + year + \".csv\", \n",
    "        )\n",
    "\n",
    "        sample_sources = extract_sample_sources(\n",
    "            sources_df,\n",
    "            save=True,\n",
    "            file_name=file_name_sources + \"_\" + year + \".csv\", \n",
    "        )"
   ]
  },
  {
   "cell_type": "code",
   "execution_count": null,
   "metadata": {},
   "outputs": [],
   "source": [
    "filtered_df = extract_info(\n",
    "    grouped, \n",
    "    swapped_cols_dict, \n",
    "    \"variable Kosten\", \n",
    "    \"ind\", \n",
    "    years_dict, \n",
    "    \"SQ\"\n",
    ")\n",
    "filtered_df = add_value_counts_and_sources(filtered_df, drop_data_lack=True)\n",
    "grouped_df = groupby_process_category(filtered_df)\n",
    "numeric_df, counts_df, sources_df = transpose_and_split(grouped_df) "
   ]
  },
  {
   "cell_type": "code",
   "execution_count": null,
   "metadata": {},
   "outputs": [],
   "source": [
    "sources_df"
   ]
  },
  {
   "cell_type": "code",
   "execution_count": null,
   "metadata": {},
   "outputs": [],
   "source": [
    "extract_data_for_parameter_all_years(\n",
    "    grouped, \n",
    "    swapped_cols_dict, \n",
    "    \"variable Kosten\",\n",
    "    \"ind\",\n",
    "    years_dict,\n",
    "    drop_data_lack=True,\n",
    "    file_name_stats=\"var_costs_ind_test_stats\",\n",
    "    file_name_sources=\"var_costs_ind_test_sources\",\n",
    ")"
   ]
  },
  {
   "cell_type": "code",
   "execution_count": null,
   "metadata": {},
   "outputs": [],
   "source": [
    "run_analyses_for_parameter_single_year(\n",
    "    grouped, \n",
    "    swapped_cols_dict, \n",
    "    \"variable Kosten\",\n",
    "    \"ind\",\n",
    "    years_dict,\n",
    "    \"SQ\",\n",
    "    \"Variable Kosten\",\n",
    "    \"Kosten in €/MWh\",\n",
    "    plot_colors=colors,\n",
    "    drop_data_lack=True,\n",
    "    save_stats=True,\n",
    "    path_folder_stats=\"./out/stats/\",\n",
    "    file_name_stats=\"stats.csv\",\n",
    "    save_sources=True,\n",
    "    path_folder_sources=\"./out/sources/\",\n",
    "    file_name_sources=\"sources.csv\",\n",
    "    ylim=[0, 3000],\n",
    "    use_colors=False,\n",
    "    use_limits=True, \n",
    "    swarmplot=True,\n",
    "    savefig=False,\n",
    "    show_title=True,\n",
    "    path_folder_plots=\"./out/plots/\",\n",
    "    file_name_plot=\"parameter\",\n",
    "    return_dfs=False\n",
    ")"
   ]
  },
  {
   "cell_type": "markdown",
   "metadata": {
    "toc-hr-collapsed": false
   },
   "source": [
    "# Capacity-related parameters\n",
    "In the following, all capacity-related demand response parameters are evaluated. These comprise\n",
    "* demand response potentials in positive or negative direction (in MW),\n",
    "* average, minimum and maximum load factors (in percent of installed capacity) as well as\n",
    "* installed capacities (in MW) and shiftable load share (in percent).\n",
    "\n",
    "The evaluation is carried out per process / appliance / branch (demand response category) for a given sector and year."
   ]
  },
  {
   "cell_type": "markdown",
   "metadata": {},
   "source": [
    "## Industry"
   ]
  },
  {
   "cell_type": "markdown",
   "metadata": {},
   "source": [
    "### Positive load shift potential"
   ]
  },
  {
   "cell_type": "code",
   "execution_count": null,
   "metadata": {},
   "outputs": [],
   "source": [
    "extract_data_for_parameter_all_years(\n",
    "    grouped, \n",
    "    swapped_cols_dict, \n",
    "    parameters=\"Potenzial positiv Mittel\",\n",
    "    sector=\"ind\",\n",
    "    years_dict=years_dict,\n",
    "    file_name_stats=\"potential_pos_ave_ind_stats\",\n",
    "    file_name_sources=\"potential_pos_ave_ind_sources\"\n",
    ")"
   ]
  },
  {
   "cell_type": "code",
   "execution_count": null,
   "metadata": {},
   "outputs": [],
   "source": [
    "run_analyses_for_parameter_single_year(\n",
    "    grouped, \n",
    "    swapped_cols_dict, \n",
    "    parameters=\"Potenzial positiv Mittel\",\n",
    "    sector=\"ind\",\n",
    "    years_dict=years_dict,\n",
    "    year=\"SQ\",\n",
    "    plot_title=\"Werte für das durchschnittliche positive Lastmanagementpotenzial (Lastreduktion)\",\n",
    "    plot_ylabel=\"durchschn. positives Potenzial in MW\",\n",
    "    plot_colors=colors\n",
    ")"
   ]
  },
  {
   "cell_type": "code",
   "execution_count": null,
   "metadata": {},
   "outputs": [],
   "source": [
    "extract_data_for_parameter_all_years(\n",
    "    grouped, \n",
    "    swapped_cols_dict, \n",
    "    parameters=\"Potenzial positiv min\",\n",
    "    sector=\"ind\",\n",
    "    years_dict=years_dict,\n",
    "    file_name_stats=\"potential_pos_min_ind_stats\",\n",
    "    file_name_sources=\"potential_pos_min_ind_sources\"\n",
    ")"
   ]
  },
  {
   "cell_type": "code",
   "execution_count": null,
   "metadata": {},
   "outputs": [],
   "source": [
    "run_analyses_for_parameter_single_year(\n",
    "    grouped, \n",
    "    swapped_cols_dict, \n",
    "    parameters=\"Potenzial positiv min\",\n",
    "    sector=\"ind\",\n",
    "    years_dict=years_dict,\n",
    "    year=\"SQ\",\n",
    "    plot_title=\"Werte für das minimale positive Lastmanagementpotenzial (Lastreduktion)\",\n",
    "    plot_ylabel=\"minimales positives Potenzial in MW\",\n",
    "    plot_colors=colors\n",
    ")"
   ]
  },
  {
   "cell_type": "code",
   "execution_count": null,
   "metadata": {},
   "outputs": [],
   "source": [
    "extract_data_for_parameter_all_years(\n",
    "    grouped, \n",
    "    swapped_cols_dict, \n",
    "    parameters=\"Potenzial positiv max\",\n",
    "    sector=\"ind\",\n",
    "    years_dict=years_dict,\n",
    "    file_name_stats=\"potential_pos_max_ind_stats\",\n",
    "    file_name_sources=\"potential_pos_max_ind_sources\",\n",
    ")"
   ]
  },
  {
   "cell_type": "code",
   "execution_count": null,
   "metadata": {},
   "outputs": [],
   "source": [
    "run_analyses_for_parameter_single_year(\n",
    "    grouped, \n",
    "    swapped_cols_dict, \n",
    "    parameters=\"Potenzial positiv max\",\n",
    "    sector=\"ind\",\n",
    "    years_dict=years_dict,\n",
    "    year=\"SQ\",\n",
    "    plot_title=\"Werte für das maximale positive Lastmanagementpotenzial (Lastreduktion)\",\n",
    "    plot_ylabel=\"maximales positives Potenzial in MW\",\n",
    "    plot_colors=colors\n",
    ")"
   ]
  },
  {
   "cell_type": "code",
   "execution_count": null,
   "metadata": {},
   "outputs": [],
   "source": [
    "extract_data_for_parameter_all_years(\n",
    "    grouped, \n",
    "    swapped_cols_dict, \n",
    "    parameters=[\"Potenzial positiv Mittel\", \"Potenzial positiv min\", \"Potenzial positiv max\"],\n",
    "    sector=\"ind\",\n",
    "    years_dict=years_dict,\n",
    "    file_name_stats=\"potential_pos_overall_ind_stats\",\n",
    "    file_name_sources=\"potential_pos_overall_ind_sources\",\n",
    ")"
   ]
  },
  {
   "cell_type": "code",
   "execution_count": null,
   "metadata": {},
   "outputs": [],
   "source": [
    "run_analyses_for_parameter_single_year(\n",
    "    grouped, \n",
    "    swapped_cols_dict, \n",
    "    parameters=[\"Potenzial positiv Mittel\", \"Potenzial positiv min\", \"Potenzial positiv max\"],\n",
    "    sector=\"ind\",\n",
    "    years_dict=years_dict,\n",
    "    year=\"SQ\",\n",
    "    plot_title=\"Werte für das positive Lastmanagementpotenzial (Lastreduktion)\",\n",
    "    plot_ylabel=\"positives Potenzial in MW\",\n",
    "    plot_colors=colors,\n",
    ")"
   ]
  },
  {
   "cell_type": "markdown",
   "metadata": {},
   "source": [
    "### Positive load shedding potential"
   ]
  },
  {
   "cell_type": "code",
   "execution_count": null,
   "metadata": {},
   "outputs": [],
   "source": [
    "extract_data_for_parameter_all_years(\n",
    "    grouped, \n",
    "    swapped_cols_dict, \n",
    "    parameters=\"Potenzial positiv Mittel Lastverzicht\",\n",
    "    sector=\"ind\",\n",
    "    years_dict=years_dict,\n",
    "    file_name_stats=\"potential_pos_ave_shed_ind_stats.xlsx\",\n",
    "    file_name_sources=\"potential_pos_ave_shed_ind_sources.xlsx\",\n",
    ")"
   ]
  },
  {
   "cell_type": "code",
   "execution_count": null,
   "metadata": {},
   "outputs": [],
   "source": [
    "run_analyses_for_parameter_single_year(\n",
    "    grouped, \n",
    "    swapped_cols_dict, \n",
    "    parameters=\"Potenzial positiv Mittel Lastverzicht\",\n",
    "    sector=\"ind\",\n",
    "    years_dict=years_dict,\n",
    "    year=\"SQ\",\n",
    "    plot_title=(\n",
    "        \"Werte für das durchschnittliche positive \"\n",
    "        \"Abschaltpotenzial (Lastverzicht)\"\n",
    "    ),\n",
    "    plot_ylabel=\"durchschn. positives Potenzial in MW\",\n",
    "    plot_colors=colors,\n",
    ")"
   ]
  },
  {
   "cell_type": "code",
   "execution_count": null,
   "metadata": {},
   "outputs": [],
   "source": [
    "extract_data_for_parameter_all_years(\n",
    "    grouped, \n",
    "    swapped_cols_dict, \n",
    "    parameters=\"Potenzial positiv min Lastverzicht\",\n",
    "    sector=\"ind\",\n",
    "    years_dict=years_dict,\n",
    "    file_name_stats=\"potential_pos_min_shed_ind_stats.xlsx\",\n",
    "    file_name_sources=\"potential_pos_min_shed_ind_sources.xlsx\",\n",
    ")"
   ]
  },
  {
   "cell_type": "code",
   "execution_count": null,
   "metadata": {},
   "outputs": [],
   "source": [
    "run_analyses_for_parameter_single_year(\n",
    "    grouped, \n",
    "    swapped_cols_dict, \n",
    "    parameters=\"Potenzial positiv min Lastverzicht\",\n",
    "    sector=\"ind\",\n",
    "    years_dict=years_dict,\n",
    "    year=\"SQ\",\n",
    "    plot_title=\"Werte für das minimale positive Abschaltpotenzial (Lastverzicht)\",\n",
    "    plot_ylabel=\"minimales positives Potenzial in MW\",\n",
    "    plot_colors=colors,\n",
    ")"
   ]
  },
  {
   "cell_type": "code",
   "execution_count": null,
   "metadata": {},
   "outputs": [],
   "source": [
    "extract_data_for_parameter_all_years(\n",
    "    grouped, \n",
    "    swapped_cols_dict, \n",
    "    parameters=\"Potenzial positiv max Lastverzicht\",\n",
    "    sector=\"ind\",\n",
    "    years_dict=years_dict,\n",
    "    file_name_stats=\"potential_pos_max_shed_ind_stats.xlsx\",\n",
    "    file_name_sources=\"potential_pos_max_shed_ind_sources.xlsx\",\n",
    ")"
   ]
  },
  {
   "cell_type": "code",
   "execution_count": null,
   "metadata": {},
   "outputs": [],
   "source": [
    "run_analyses_for_parameter_single_year(\n",
    "    grouped, \n",
    "    swapped_cols_dict, \n",
    "    parameters=\"Potenzial positiv max Lastverzicht\",\n",
    "    sector=\"ind\",\n",
    "    years_dict=years_dict,\n",
    "    year=\"SQ\",\n",
    "    plot_title=\"Werte für das maximale positive Abschaltpotenzial (Lastverzicht)\",\n",
    "    plot_ylabel=\"maximales positives Potenzial in MW\",\n",
    "    plot_colors=colors,\n",
    ")"
   ]
  },
  {
   "cell_type": "code",
   "execution_count": null,
   "metadata": {},
   "outputs": [],
   "source": [
    "extract_data_for_parameter_all_years(\n",
    "    grouped, \n",
    "    swapped_cols_dict, \n",
    "    parameters=[\n",
    "        \"Potenzial positiv Mittel Lastverzicht\", \n",
    "        \"Potenzial positiv min Lastverzicht\", \n",
    "        \"Potenzial positiv max Lastverzicht\"\n",
    "    ],\n",
    "    sector=\"ind\",\n",
    "    years_dict=years_dict,\n",
    "    file_name_stats=\"potential_pos_overall_shed_ind_stats.xlsx\",\n",
    "    file_name_sources=\"potential_pos_overall_shed_ind_sources.xlsx\",\n",
    ")"
   ]
  },
  {
   "cell_type": "code",
   "execution_count": null,
   "metadata": {},
   "outputs": [],
   "source": [
    "run_analyses_for_parameter_single_year(\n",
    "    grouped, \n",
    "    swapped_cols_dict, \n",
    "    parameters=[\n",
    "        \"Potenzial positiv Mittel Lastverzicht\",\n",
    "        \"Potenzial positiv min Lastverzicht\",\n",
    "        \"Potenzial positiv max Lastverzicht\"],\n",
    "    sector=\"ind\",\n",
    "    years_dict=years_dict,\n",
    "    year=\"SQ\",\n",
    "    plot_title=\"Werte für das positive Abschaltpotenzial (Lastverzicht)\",\n",
    "    plot_ylabel=\"positives Potenzial in MW\",\n",
    "    plot_colors=colors,\n",
    ")"
   ]
  },
  {
   "cell_type": "markdown",
   "metadata": {},
   "source": [
    "### Negative load shift potential"
   ]
  },
  {
   "cell_type": "code",
   "execution_count": null,
   "metadata": {},
   "outputs": [],
   "source": [
    "extract_data_for_parameter_all_years(\n",
    "    grouped, \n",
    "    swapped_cols_dict, \n",
    "    parameters=\"Potenzial negativ Mittel\",\n",
    "    sector=\"ind\",\n",
    "    years_dict=years_dict,\n",
    "    file_name_stats=\"potential_neg_ave_ind_stats.xlsx\",\n",
    "    file_name_sources=\"potential_neg_ave_ind_sources.xlsx\",\n",
    ")"
   ]
  },
  {
   "cell_type": "code",
   "execution_count": null,
   "metadata": {},
   "outputs": [],
   "source": [
    "run_analyses_for_parameter_single_year(\n",
    "    grouped, \n",
    "    swapped_cols_dict, \n",
    "    parameters=\"Potenzial negativ Mittel\",\n",
    "    sector=\"ind\",\n",
    "    years_dict=years_dict,\n",
    "    year=\"SQ\",\n",
    "    plot_title=(\n",
    "        \"Werte für das durchschnittliche negative \"\n",
    "        \"Lastmanagementpotenzial (Lasterhöhung)\"\n",
    "    ),\n",
    "    plot_ylabel=\"durchschn. negatives Potenzial in MW\",\n",
    "    plot_colors=colors,\n",
    ")"
   ]
  },
  {
   "cell_type": "code",
   "execution_count": null,
   "metadata": {},
   "outputs": [],
   "source": [
    "extract_data_for_parameter_all_years(\n",
    "    grouped, \n",
    "    swapped_cols_dict, \n",
    "    parameters=\"Potenzial negativ min\",\n",
    "    sector=\"ind\",\n",
    "    years_dict=years_dict,\n",
    "    file_name_stats=\"potential_neg_min_ind_stats.xlsx\",\n",
    "    file_name_sources=\"potential_neg_min_ind_sources.xlsx\",\n",
    ")"
   ]
  },
  {
   "cell_type": "code",
   "execution_count": null,
   "metadata": {},
   "outputs": [],
   "source": [
    "run_analyses_for_parameter_single_year(\n",
    "    grouped, \n",
    "    swapped_cols_dict, \n",
    "    parameters=\"Potenzial negativ min\",\n",
    "    sector=\"ind\",\n",
    "    years_dict=years_dict,\n",
    "    year=\"SQ\",\n",
    "    plot_title=\"Werte für das minimale negative Lastmanagementpotenzial (Lasterhöhung)\",\n",
    "    plot_ylabel=\"minimales negatives Potenzial in MW\",\n",
    "    plot_colors=colors,\n",
    ")"
   ]
  },
  {
   "cell_type": "code",
   "execution_count": null,
   "metadata": {},
   "outputs": [],
   "source": [
    "extract_data_for_parameter_all_years(\n",
    "    grouped, \n",
    "    swapped_cols_dict, \n",
    "    parameters=\"Potenzial negativ max\",\n",
    "    sector=\"ind\",\n",
    "    years_dict=years_dict,\n",
    "    file_name_stats=\"potential_neg_max_ind_stats.xlsx\",\n",
    "    file_name_sources=\"potential_neg_max_ind_sources.xlsx\",\n",
    ")"
   ]
  },
  {
   "cell_type": "code",
   "execution_count": null,
   "metadata": {},
   "outputs": [],
   "source": [
    "run_analyses_for_parameter_single_year(\n",
    "    grouped, \n",
    "    swapped_cols_dict, \n",
    "    parameters=\"Potenzial negativ max\",\n",
    "    sector=\"ind\",\n",
    "    years_dict=years_dict,\n",
    "    year=\"SQ\",\n",
    "    plot_title=\"Werte für das maximale negative Lastmanagementpotenzial (Lasterhöhung)\",\n",
    "    plot_ylabel=\"maximales negatives Potenzial in MW\",\n",
    "    plot_colors=colors,\n",
    ")"
   ]
  },
  {
   "cell_type": "code",
   "execution_count": null,
   "metadata": {},
   "outputs": [],
   "source": [
    "extract_data_for_parameter_all_years(\n",
    "    grouped, \n",
    "    swapped_cols_dict, \n",
    "    parameters=[\n",
    "        \"Potenzial negativ Mittel\", \n",
    "        \"Potenzial negativ min\", \n",
    "        \"Potenzial negativ max\"\n",
    "    ],\n",
    "    sector=\"ind\",\n",
    "    years_dict=years_dict,\n",
    "    file_name_stats=\"potential_neg_overall_ind_stats.xlsx\",\n",
    "    file_name_sources=\"potential_neg_overall_ind_sources.xlsx\",\n",
    ")"
   ]
  },
  {
   "cell_type": "code",
   "execution_count": null,
   "metadata": {},
   "outputs": [],
   "source": [
    "run_analyses_for_parameter_single_year(\n",
    "    grouped, \n",
    "    swapped_cols_dict, \n",
    "    parameters=[\n",
    "        \"Potenzial negativ Mittel\", \n",
    "        \"Potenzial negativ min\", \n",
    "        \"Potenzial negativ max\"\n",
    "    ],\n",
    "    sector=\"ind\",\n",
    "    years_dict=years_dict,\n",
    "    year=\"SQ\",\n",
    "    plot_title=\"Werte für das negative Lastmanagementpotenzial (Lastverhöhung)\",\n",
    "    plot_ylabel=\"negatives Potenzial in MW\",\n",
    "    plot_colors=colors,\n",
    ")"
   ]
  },
  {
   "cell_type": "markdown",
   "metadata": {},
   "source": [
    "### Average load values"
   ]
  },
  {
   "cell_type": "code",
   "execution_count": null,
   "metadata": {},
   "outputs": [],
   "source": [
    "extract_data_for_parameter_all_years(\n",
    "    grouped, \n",
    "    swapped_cols_dict, \n",
    "    parameters=\"Durchschnittsauslastung\",\n",
    "    sector=\"ind\",\n",
    "    years_dict=years_dict,\n",
    "    file_name_stats=\"ave_load_ind_stats.xlsx\",\n",
    "    file_name_sources=\"ave_load_ind_sources.xlsx\",\n",
    ")"
   ]
  },
  {
   "cell_type": "code",
   "execution_count": null,
   "metadata": {},
   "outputs": [],
   "source": [
    "run_analyses_for_parameter_single_year(\n",
    "    grouped, \n",
    "    swapped_cols_dict, \n",
    "    parameters=\"Durchschnittsauslastung\",\n",
    "    sector=\"ind\",\n",
    "    years_dict=years_dict,\n",
    "    year=\"SQ\",\n",
    "    plot_title=\"Durchschnittlicher Lastfaktor\",\n",
    "    plot_ylabel=\"Durchschnittlicher Lastfaktor in p.u.\",\n",
    "    plot_colors=colors,\n",
    ")"
   ]
  },
  {
   "cell_type": "markdown",
   "metadata": {},
   "source": [
    "### Minimum load values"
   ]
  },
  {
   "cell_type": "code",
   "execution_count": null,
   "metadata": {},
   "outputs": [],
   "source": [
    "extract_data_for_parameter_all_years(\n",
    "    grouped, \n",
    "    swapped_cols_dict, \n",
    "    parameters=\"Minimalauslastung\",\n",
    "    sector=\"ind\",\n",
    "    years_dict=years_dict,\n",
    "    file_name_stats=\"min_load_ind_stats.xlsx\",\n",
    "    file_name_sources=\"min_load_ind_sources.xlsx\",\n",
    ")"
   ]
  },
  {
   "cell_type": "code",
   "execution_count": null,
   "metadata": {},
   "outputs": [],
   "source": [
    "run_analyses_for_parameter_single_year(\n",
    "    grouped, \n",
    "    swapped_cols_dict, \n",
    "    parameters=\"Minimalauslastung\",\n",
    "    sector=\"ind\",\n",
    "    years_dict=years_dict,\n",
    "    year=\"SQ\",\n",
    "    plot_title=\"Minimaler Lastfaktor\",\n",
    "    plot_ylabel=\"Minimaler Lastfaktor in p.u.\",\n",
    "    plot_colors=colors,\n",
    ")"
   ]
  },
  {
   "cell_type": "markdown",
   "metadata": {},
   "source": [
    "### Maximum load values"
   ]
  },
  {
   "cell_type": "code",
   "execution_count": null,
   "metadata": {},
   "outputs": [],
   "source": [
    "extract_data_for_parameter_all_years(\n",
    "    grouped, \n",
    "    swapped_cols_dict, \n",
    "    parameters=\"Maximalauslastung\",\n",
    "    sector=\"ind\",\n",
    "    years_dict=years_dict,\n",
    "    file_name_stats=\"max_load_ind_stats.xlsx\",\n",
    "    file_name_sources=\"max_load_ind_sources.xlsx\",\n",
    ")"
   ]
  },
  {
   "cell_type": "code",
   "execution_count": null,
   "metadata": {},
   "outputs": [],
   "source": [
    "run_analyses_for_parameter_single_year(\n",
    "    grouped, \n",
    "    swapped_cols_dict, \n",
    "    parameters=\"Maximalauslastung\",\n",
    "    sector=\"ind\",\n",
    "    years_dict=years_dict,\n",
    "    year=\"SQ\",\n",
    "    plot_title=\"Maximaler Lastfaktor\",\n",
    "    plot_ylabel=\"Maximaler Lastfaktor in p.u.\",\n",
    "    plot_colors=colors,\n",
    ")"
   ]
  },
  {
   "cell_type": "markdown",
   "metadata": {},
   "source": [
    "### Installed capacity"
   ]
  },
  {
   "cell_type": "code",
   "execution_count": null,
   "metadata": {},
   "outputs": [],
   "source": [
    "extract_data_for_parameter_all_years(\n",
    "    grouped, \n",
    "    swapped_cols_dict, \n",
    "    parameters=\"installierte Leistung\",\n",
    "    sector=\"ind\",\n",
    "    years_dict=years_dict,\n",
    "    file_name_stats=\"installed_cap_ind_stats.xlsx\",\n",
    "    file_name_sources=\"installed_cap_ind_sources.xlsx\",\n",
    ")"
   ]
  },
  {
   "cell_type": "code",
   "execution_count": null,
   "metadata": {},
   "outputs": [],
   "source": [
    "run_analyses_for_parameter_single_year(\n",
    "    grouped, \n",
    "    swapped_cols_dict, \n",
    "    parameters=\"installierte Leistung\",\n",
    "    sector=\"ind\",\n",
    "    years_dict=years_dict,\n",
    "    year=\"SQ\",\n",
    "    plot_title=\"installierte Leistung\",\n",
    "    plot_ylabel=\"installierte Leistung in MW\",\n",
    "    plot_colors=colors,\n",
    ")"
   ]
  },
  {
   "cell_type": "markdown",
   "metadata": {},
   "source": [
    "### Shiftable share"
   ]
  },
  {
   "cell_type": "code",
   "execution_count": null,
   "metadata": {},
   "outputs": [],
   "source": [
    "extract_data_for_parameter_all_years(\n",
    "    grouped, \n",
    "    swapped_cols_dict, \n",
    "    parameters=\"flexibilisierbarer Leistungsanteil\",\n",
    "    sector=\"ind\",\n",
    "    years_dict=years_dict,\n",
    "    file_name_stats=\"shiftable_share_ind_stats.xlsx\",\n",
    "    file_name_sources=\"shiftable_share_ind_sources.xlsx\",\n",
    ")"
   ]
  },
  {
   "cell_type": "code",
   "execution_count": null,
   "metadata": {
    "scrolled": true
   },
   "outputs": [],
   "source": [
    "run_analyses_for_parameter_single_year(\n",
    "    grouped, \n",
    "    swapped_cols_dict, \n",
    "    parameters=\"flexibilisierbarer Leistungsanteil\",\n",
    "    sector=\"ind\",\n",
    "    years_dict=years_dict,\n",
    "    year=\"SQ\",\n",
    "    plot_title=\"flexibilisierbarer Leistungsanteil\",\n",
    "    plot_ylabel=\"flexibilisierbarer Leistungsanteil in p.u.\",\n",
    "    plot_colors=colors,\n",
    ")"
   ]
  },
  {
   "cell_type": "markdown",
   "metadata": {},
   "source": [
    "## Trade, commerce and services"
   ]
  },
  {
   "cell_type": "markdown",
   "metadata": {},
   "source": [
    "### Positive load shift potential"
   ]
  },
  {
   "cell_type": "code",
   "execution_count": null,
   "metadata": {},
   "outputs": [],
   "source": [
    "extract_data_for_parameter_all_years(\n",
    "    grouped, \n",
    "    swapped_cols_dict, \n",
    "    parameters=\"Potenzial positiv Mittel\",\n",
    "    sector=\"tcs\",\n",
    "    years_dict=years_dict,\n",
    "    file_name_stats=\"potential_pos_ave_tcs_stats\",\n",
    "    file_name_sources=\"potential_pos_ave_tcs_sources\"\n",
    ")"
   ]
  },
  {
   "cell_type": "code",
   "execution_count": null,
   "metadata": {},
   "outputs": [],
   "source": [
    "run_analyses_for_parameter_single_year(\n",
    "    grouped, \n",
    "    swapped_cols_dict, \n",
    "    parameters=\"Potenzial positiv Mittel\",\n",
    "    sector=\"tcs\",\n",
    "    years_dict=years_dict,\n",
    "    year=\"SQ\",\n",
    "    plot_title=\"Werte für das durchschnittliche positive Lastmanagementpotenzial (Lastreduktion)\",\n",
    "    plot_ylabel=\"durchschn. positives Potenzial in MW\",\n",
    "    plot_colors=colors\n",
    ")"
   ]
  },
  {
   "cell_type": "code",
   "execution_count": null,
   "metadata": {},
   "outputs": [],
   "source": [
    "extract_data_for_parameter_all_years(\n",
    "    grouped, \n",
    "    swapped_cols_dict, \n",
    "    parameters=\"Potenzial positiv min\",\n",
    "    sector=\"tcs\",\n",
    "    years_dict=years_dict,\n",
    "    file_name_stats=\"potential_pos_min_tcs_stats\",\n",
    "    file_name_sources=\"potential_pos_min_tcs_sources\"\n",
    ")"
   ]
  },
  {
   "cell_type": "code",
   "execution_count": null,
   "metadata": {},
   "outputs": [],
   "source": [
    "run_analyses_for_parameter_single_year(\n",
    "    grouped, \n",
    "    swapped_cols_dict, \n",
    "    parameters=\"Potenzial positiv min\",\n",
    "    sector=\"tcs\",\n",
    "    years_dict=years_dict,\n",
    "    year=\"SQ\",\n",
    "    plot_title=\"Werte für das minimale positive Lastmanagementpotenzial (Lastreduktion)\",\n",
    "    plot_ylabel=\"minimales positives Potenzial in MW\",\n",
    "    plot_colors=colors\n",
    ")"
   ]
  },
  {
   "cell_type": "code",
   "execution_count": null,
   "metadata": {},
   "outputs": [],
   "source": [
    "extract_data_for_parameter_all_years(\n",
    "    grouped, \n",
    "    swapped_cols_dict, \n",
    "    parameters=\"Potenzial positiv max\",\n",
    "    sector=\"tcs\",\n",
    "    years_dict=years_dict,\n",
    "    file_name_stats=\"potential_pos_max_tcs_stats\",\n",
    "    file_name_sources=\"potential_pos_max_tcs_sources\",\n",
    ")"
   ]
  },
  {
   "cell_type": "code",
   "execution_count": null,
   "metadata": {},
   "outputs": [],
   "source": [
    "run_analyses_for_parameter_single_year(\n",
    "    grouped, \n",
    "    swapped_cols_dict, \n",
    "    parameters=\"Potenzial positiv max\",\n",
    "    sector=\"tcs\",\n",
    "    years_dict=years_dict,\n",
    "    year=\"SQ\",\n",
    "    plot_title=\"Werte für das maximale positive Lastmanagementpotenzial (Lastreduktion)\",\n",
    "    plot_ylabel=\"maximales positives Potenzial in MW\",\n",
    "    plot_colors=colors\n",
    ")"
   ]
  },
  {
   "cell_type": "code",
   "execution_count": null,
   "metadata": {},
   "outputs": [],
   "source": [
    "extract_data_for_parameter_all_years(\n",
    "    grouped, \n",
    "    swapped_cols_dict, \n",
    "    parameters=[\"Potenzial positiv Mittel\", \"Potenzial positiv min\", \"Potenzial positiv max\"],\n",
    "    sector=\"tcs\",\n",
    "    years_dict=years_dict,\n",
    "    file_name_stats=\"potential_pos_overall_tcs_stats\",\n",
    "    file_name_sources=\"potential_pos_overall_tcs_sources\",\n",
    ")"
   ]
  },
  {
   "cell_type": "code",
   "execution_count": null,
   "metadata": {},
   "outputs": [],
   "source": [
    "run_analyses_for_parameter_single_year(\n",
    "    grouped, \n",
    "    swapped_cols_dict, \n",
    "    parameters=[\"Potenzial positiv Mittel\", \"Potenzial positiv min\", \"Potenzial positiv max\"],\n",
    "    sector=\"tcs\",\n",
    "    years_dict=years_dict,\n",
    "    year=\"SQ\",\n",
    "    plot_title=\"Werte für das positive Lastmanagementpotenzial (Lastreduktion)\",\n",
    "    plot_ylabel=\"positives Potenzial in MW\",\n",
    "    plot_colors=colors,\n",
    ")"
   ]
  },
  {
   "cell_type": "markdown",
   "metadata": {},
   "source": [
    "### Positive load shedding potential"
   ]
  },
  {
   "cell_type": "code",
   "execution_count": null,
   "metadata": {},
   "outputs": [],
   "source": [
    "extract_data_for_parameter_all_years(\n",
    "    grouped, \n",
    "    swapped_cols_dict, \n",
    "    parameters=\"Potenzial positiv Mittel Lastverzicht\",\n",
    "    sector=\"tcs\",\n",
    "    years_dict=years_dict,\n",
    "    file_name_stats=\"potential_pos_ave_shed_tcs_stats.xlsx\",\n",
    "    file_name_sources=\"potential_pos_ave_shed_tcs_sources.xlsx\",\n",
    ")"
   ]
  },
  {
   "cell_type": "code",
   "execution_count": null,
   "metadata": {},
   "outputs": [],
   "source": [
    "run_analyses_for_parameter_single_year(\n",
    "    grouped, \n",
    "    swapped_cols_dict, \n",
    "    parameters=\"Potenzial positiv Mittel Lastverzicht\",\n",
    "    sector=\"tcs\",\n",
    "    years_dict=years_dict,\n",
    "    year=\"SQ\",\n",
    "    plot_title=(\n",
    "        \"Werte für das durchschnittliche positive \"\n",
    "        \"Abschaltpotenzial (Lastverzicht)\"\n",
    "    ),\n",
    "    plot_ylabel=\"durchschn. positives Potenzial in MW\",\n",
    "    plot_colors=colors,\n",
    ")"
   ]
  },
  {
   "cell_type": "code",
   "execution_count": null,
   "metadata": {},
   "outputs": [],
   "source": [
    "extract_data_for_parameter_all_years(\n",
    "    grouped, \n",
    "    swapped_cols_dict, \n",
    "    parameters=\"Potenzial positiv min Lastverzicht\",\n",
    "    sector=\"tcs\",\n",
    "    years_dict=years_dict,\n",
    "    file_name_stats=\"potential_pos_min_shed_tcs_stats.xlsx\",\n",
    "    file_name_sources=\"potential_pos_min_shed_tcs_sources.xlsx\",\n",
    ")"
   ]
  },
  {
   "cell_type": "code",
   "execution_count": null,
   "metadata": {},
   "outputs": [],
   "source": [
    "run_analyses_for_parameter_single_year(\n",
    "    grouped, \n",
    "    swapped_cols_dict, \n",
    "    parameters=\"Potenzial positiv min Lastverzicht\",\n",
    "    sector=\"tcs\",\n",
    "    years_dict=years_dict,\n",
    "    year=\"SQ\",\n",
    "    plot_title=\"Werte für das minimale positive Abschaltpotenzial (Lastverzicht)\",\n",
    "    plot_ylabel=\"minimales positives Potenzial in MW\",\n",
    "    plot_colors=colors,\n",
    ")"
   ]
  },
  {
   "cell_type": "code",
   "execution_count": null,
   "metadata": {},
   "outputs": [],
   "source": [
    "extract_data_for_parameter_all_years(\n",
    "    grouped, \n",
    "    swapped_cols_dict, \n",
    "    parameters=\"Potenzial positiv max Lastverzicht\",\n",
    "    sector=\"tcs\",\n",
    "    years_dict=years_dict,\n",
    "    file_name_stats=\"potential_pos_max_shed_tcs_stats.xlsx\",\n",
    "    file_name_sources=\"potential_pos_max_shed_tcs_sources.xlsx\",\n",
    ")"
   ]
  },
  {
   "cell_type": "code",
   "execution_count": null,
   "metadata": {},
   "outputs": [],
   "source": [
    "run_analyses_for_parameter_single_year(\n",
    "    grouped, \n",
    "    swapped_cols_dict, \n",
    "    parameters=\"Potenzial positiv max Lastverzicht\",\n",
    "    sector=\"tcs\",\n",
    "    years_dict=years_dict,\n",
    "    year=\"SQ\",\n",
    "    plot_title=\"Werte für das maximale positive Abschaltpotenzial (Lastverzicht)\",\n",
    "    plot_ylabel=\"maximales positives Potenzial in MW\",\n",
    "    plot_colors=colors,\n",
    ")"
   ]
  },
  {
   "cell_type": "code",
   "execution_count": null,
   "metadata": {},
   "outputs": [],
   "source": [
    "extract_data_for_parameter_all_years(\n",
    "    grouped, \n",
    "    swapped_cols_dict, \n",
    "    parameters=[\n",
    "        \"Potenzial positiv Mittel Lastverzicht\", \n",
    "        \"Potenzial positiv min Lastverzicht\", \n",
    "        \"Potenzial positiv max Lastverzicht\"\n",
    "    ],\n",
    "    sector=\"tcs\",\n",
    "    years_dict=years_dict,\n",
    "    file_name_stats=\"potential_pos_overall_shed_tcs_stats.xlsx\",\n",
    "    file_name_sources=\"potential_pos_overall_shed_tcs_sources.xlsx\",\n",
    ")"
   ]
  },
  {
   "cell_type": "code",
   "execution_count": null,
   "metadata": {},
   "outputs": [],
   "source": [
    "run_analyses_for_parameter_single_year(\n",
    "    grouped, \n",
    "    swapped_cols_dict, \n",
    "    parameters=[\n",
    "        \"Potenzial positiv Mittel Lastverzicht\",\n",
    "        \"Potenzial positiv min Lastverzicht\",\n",
    "        \"Potenzial positiv max Lastverzicht\"],\n",
    "    sector=\"tcs\",\n",
    "    years_dict=years_dict,\n",
    "    year=\"SQ\",\n",
    "    plot_title=\"Werte für das positive Abschaltpotenzial (Lastverzicht)\",\n",
    "    plot_ylabel=\"positives Potenzial in MW\",\n",
    "    plot_colors=colors,\n",
    ")"
   ]
  },
  {
   "cell_type": "markdown",
   "metadata": {},
   "source": [
    "### Negative load shift potential"
   ]
  },
  {
   "cell_type": "code",
   "execution_count": null,
   "metadata": {},
   "outputs": [],
   "source": [
    "extract_data_for_parameter_all_years(\n",
    "    grouped, \n",
    "    swapped_cols_dict, \n",
    "    parameters=\"Potenzial negativ Mittel\",\n",
    "    sector=\"tcs\",\n",
    "    years_dict=years_dict,\n",
    "    file_name_stats=\"potential_neg_ave_tcs_stats.xlsx\",\n",
    "    file_name_sources=\"potential_neg_ave_tcs_sources.xlsx\",\n",
    ")"
   ]
  },
  {
   "cell_type": "code",
   "execution_count": null,
   "metadata": {},
   "outputs": [],
   "source": [
    "run_analyses_for_parameter_single_year(\n",
    "    grouped, \n",
    "    swapped_cols_dict, \n",
    "    parameters=\"Potenzial negativ Mittel\",\n",
    "    sector=\"tcs\",\n",
    "    years_dict=years_dict,\n",
    "    year=\"SQ\",\n",
    "    plot_title=(\n",
    "        \"Werte für das durchschnittliche negative \"\n",
    "        \"Lastmanagementpotenzial (Lasterhöhung)\"\n",
    "    ),\n",
    "    plot_ylabel=\"durchschn. negatives Potenzial in MW\",\n",
    "    plot_colors=colors,\n",
    ")"
   ]
  },
  {
   "cell_type": "code",
   "execution_count": null,
   "metadata": {},
   "outputs": [],
   "source": [
    "extract_data_for_parameter_all_years(\n",
    "    grouped, \n",
    "    swapped_cols_dict, \n",
    "    parameters=\"Potenzial negativ min\",\n",
    "    sector=\"tcs\",\n",
    "    years_dict=years_dict,\n",
    "    file_name_stats=\"potential_neg_min_tcs_stats.xlsx\",\n",
    "    file_name_sources=\"potential_neg_min_tcs_sources.xlsx\",\n",
    ")"
   ]
  },
  {
   "cell_type": "code",
   "execution_count": null,
   "metadata": {},
   "outputs": [],
   "source": [
    "run_analyses_for_parameter_single_year(\n",
    "    grouped, \n",
    "    swapped_cols_dict, \n",
    "    parameters=\"Potenzial negativ min\",\n",
    "    sector=\"tcs\",\n",
    "    years_dict=years_dict,\n",
    "    year=\"SQ\",\n",
    "    plot_title=\"Werte für das minimale negative Lastmanagementpotenzial (Lasterhöhung)\",\n",
    "    plot_ylabel=\"minimales negatives Potenzial in MW\",\n",
    "    plot_colors=colors,\n",
    ")"
   ]
  },
  {
   "cell_type": "code",
   "execution_count": null,
   "metadata": {},
   "outputs": [],
   "source": [
    "extract_data_for_parameter_all_years(\n",
    "    grouped, \n",
    "    swapped_cols_dict, \n",
    "    parameters=\"Potenzial negativ max\",\n",
    "    sector=\"tcs\",\n",
    "    years_dict=years_dict,\n",
    "    file_name_stats=\"potential_neg_max_tcs_stats.xlsx\",\n",
    "    file_name_sources=\"potential_neg_max_tcs_sources.xlsx\",\n",
    ")"
   ]
  },
  {
   "cell_type": "code",
   "execution_count": null,
   "metadata": {},
   "outputs": [],
   "source": [
    "run_analyses_for_parameter_single_year(\n",
    "    grouped, \n",
    "    swapped_cols_dict, \n",
    "    parameters=\"Potenzial negativ max\",\n",
    "    sector=\"tcs\",\n",
    "    years_dict=years_dict,\n",
    "    year=\"SQ\",\n",
    "    plot_title=\"Werte für das maximale negative Lastmanagementpotenzial (Lasterhöhung)\",\n",
    "    plot_ylabel=\"maximales negatives Potenzial in MW\",\n",
    "    plot_colors=colors,\n",
    ")"
   ]
  },
  {
   "cell_type": "code",
   "execution_count": null,
   "metadata": {},
   "outputs": [],
   "source": [
    "extract_data_for_parameter_all_years(\n",
    "    grouped, \n",
    "    swapped_cols_dict, \n",
    "    parameters=[\n",
    "        \"Potenzial negativ Mittel\", \n",
    "        \"Potenzial negativ min\", \n",
    "        \"Potenzial negativ max\"\n",
    "    ],\n",
    "    sector=\"tcs\",\n",
    "    years_dict=years_dict,\n",
    "    file_name_stats=\"potential_neg_overall_tcs_stats.xlsx\",\n",
    "    file_name_sources=\"potential_neg_overall_tcs_sources.xlsx\",\n",
    ")"
   ]
  },
  {
   "cell_type": "code",
   "execution_count": null,
   "metadata": {},
   "outputs": [],
   "source": [
    "run_analyses_for_parameter_single_year(\n",
    "    grouped, \n",
    "    swapped_cols_dict, \n",
    "    parameters=[\n",
    "        \"Potenzial negativ Mittel\", \n",
    "        \"Potenzial negativ min\", \n",
    "        \"Potenzial negativ max\"\n",
    "    ],\n",
    "    sector=\"tcs\",\n",
    "    years_dict=years_dict,\n",
    "    year=\"SQ\",\n",
    "    plot_title=\"Werte für das negative Lastmanagementpotenzial (Lastverhöhung)\",\n",
    "    plot_ylabel=\"negatives Potenzial in MW\",\n",
    "    plot_colors=colors,\n",
    ")"
   ]
  },
  {
   "cell_type": "markdown",
   "metadata": {},
   "source": [
    "### Average load values"
   ]
  },
  {
   "cell_type": "code",
   "execution_count": null,
   "metadata": {},
   "outputs": [],
   "source": [
    "extract_data_for_parameter_all_years(\n",
    "    grouped, \n",
    "    swapped_cols_dict, \n",
    "    parameters=\"Durchschnittsauslastung\",\n",
    "    sector=\"tcs\",\n",
    "    years_dict=years_dict,\n",
    "    file_name_stats=\"ave_load_tcs_stats.xlsx\",\n",
    "    file_name_sources=\"ave_load_tcs_sources.xlsx\",\n",
    ")"
   ]
  },
  {
   "cell_type": "code",
   "execution_count": null,
   "metadata": {},
   "outputs": [],
   "source": [
    "run_analyses_for_parameter_single_year(\n",
    "    grouped, \n",
    "    swapped_cols_dict, \n",
    "    parameters=\"Durchschnittsauslastung\",\n",
    "    sector=\"tcs\",\n",
    "    years_dict=years_dict,\n",
    "    year=\"SQ\",\n",
    "    plot_title=\"Durchschnittlicher Lastfaktor\",\n",
    "    plot_ylabel=\"Durchschnittlicher Lastfaktor in p.u.\",\n",
    "    plot_colors=colors,\n",
    ")"
   ]
  },
  {
   "cell_type": "markdown",
   "metadata": {},
   "source": [
    "### Minimum load values"
   ]
  },
  {
   "cell_type": "code",
   "execution_count": null,
   "metadata": {},
   "outputs": [],
   "source": [
    "extract_data_for_parameter_all_years(\n",
    "    grouped, \n",
    "    swapped_cols_dict, \n",
    "    parameters=\"Minimalauslastung\",\n",
    "    sector=\"tcs\",\n",
    "    years_dict=years_dict,\n",
    "    file_name_stats=\"min_load_tcs_stats.xlsx\",\n",
    "    file_name_sources=\"min_load_tcs_sources.xlsx\",\n",
    ")"
   ]
  },
  {
   "cell_type": "code",
   "execution_count": null,
   "metadata": {},
   "outputs": [],
   "source": [
    "run_analyses_for_parameter_single_year(\n",
    "    grouped, \n",
    "    swapped_cols_dict, \n",
    "    parameters=\"Minimalauslastung\",\n",
    "    sector=\"tcs\",\n",
    "    years_dict=years_dict,\n",
    "    year=\"SQ\",\n",
    "    plot_title=\"Minimaler Lastfaktor\",\n",
    "    plot_ylabel=\"Minimaler Lastfaktor in p.u.\",\n",
    "    plot_colors=colors,\n",
    ")"
   ]
  },
  {
   "cell_type": "markdown",
   "metadata": {},
   "source": [
    "### Maximum load values"
   ]
  },
  {
   "cell_type": "code",
   "execution_count": null,
   "metadata": {},
   "outputs": [],
   "source": [
    "extract_data_for_parameter_all_years(\n",
    "    grouped, \n",
    "    swapped_cols_dict, \n",
    "    parameters=\"Maximalauslastung\",\n",
    "    sector=\"tcs\",\n",
    "    years_dict=years_dict,\n",
    "    file_name_stats=\"max_load_tcs_stats.xlsx\",\n",
    "    file_name_sources=\"max_load_tcs_sources.xlsx\",\n",
    ")"
   ]
  },
  {
   "cell_type": "code",
   "execution_count": null,
   "metadata": {},
   "outputs": [],
   "source": [
    "run_analyses_for_parameter_single_year(\n",
    "    grouped, \n",
    "    swapped_cols_dict, \n",
    "    parameters=\"Maximalauslastung\",\n",
    "    sector=\"tcs\",\n",
    "    years_dict=years_dict,\n",
    "    year=\"SQ\",\n",
    "    plot_title=\"Maximaler Lastfaktor\",\n",
    "    plot_ylabel=\"Maximaler Lastfaktor in p.u.\",\n",
    "    plot_colors=colors,\n",
    ")"
   ]
  },
  {
   "cell_type": "markdown",
   "metadata": {},
   "source": [
    "### Installed capacity"
   ]
  },
  {
   "cell_type": "code",
   "execution_count": null,
   "metadata": {},
   "outputs": [],
   "source": [
    "extract_data_for_parameter_all_years(\n",
    "    grouped, \n",
    "    swapped_cols_dict, \n",
    "    parameters=\"installierte Leistung\",\n",
    "    sector=\"tcs\",\n",
    "    years_dict=years_dict,\n",
    "    file_name_stats=\"installed_cap_tcs_stats.xlsx\",\n",
    "    file_name_sources=\"installed_cap_tcs_sources.xlsx\",\n",
    ")"
   ]
  },
  {
   "cell_type": "code",
   "execution_count": null,
   "metadata": {},
   "outputs": [],
   "source": [
    "run_analyses_for_parameter_single_year(\n",
    "    grouped, \n",
    "    swapped_cols_dict, \n",
    "    parameters=\"installierte Leistung\",\n",
    "    sector=\"tcs\",\n",
    "    years_dict=years_dict,\n",
    "    year=\"SQ\",\n",
    "    plot_title=\"installierte Leistung\",\n",
    "    plot_ylabel=\"installierte Leistung in MW\",\n",
    "    plot_colors=colors,\n",
    ")"
   ]
  },
  {
   "cell_type": "markdown",
   "metadata": {},
   "source": [
    "### Shiftable share"
   ]
  },
  {
   "cell_type": "code",
   "execution_count": null,
   "metadata": {},
   "outputs": [],
   "source": [
    "extract_data_for_parameter_all_years(\n",
    "    grouped, \n",
    "    swapped_cols_dict, \n",
    "    parameters=\"flexibilisierbarer Leistungsanteil\",\n",
    "    sector=\"tcs\",\n",
    "    years_dict=years_dict,\n",
    "    file_name_stats=\"shiftable_share_tcs_stats.xlsx\",\n",
    "    file_name_sources=\"shiftable_share_tcs_sources.xlsx\",\n",
    ")"
   ]
  },
  {
   "cell_type": "code",
   "execution_count": null,
   "metadata": {
    "scrolled": true
   },
   "outputs": [],
   "source": [
    "run_analyses_for_parameter_single_year(\n",
    "    grouped, \n",
    "    swapped_cols_dict, \n",
    "    parameters=\"flexibilisierbarer Leistungsanteil\",\n",
    "    sector=\"tcs\",\n",
    "    years_dict=years_dict,\n",
    "    year=\"SQ\",\n",
    "    plot_title=\"flexibilisierbarer Leistungsanteil\",\n",
    "    plot_ylabel=\"flexibilisierbarer Leistungsanteil in p.u.\",\n",
    "    plot_colors=colors,\n",
    ")"
   ]
  },
  {
   "cell_type": "markdown",
   "metadata": {},
   "source": [
    "## Households"
   ]
  },
  {
   "cell_type": "markdown",
   "metadata": {},
   "source": [
    "### Positive load shift potential"
   ]
  },
  {
   "cell_type": "code",
   "execution_count": null,
   "metadata": {},
   "outputs": [],
   "source": [
    "extract_data_for_parameter_all_years(\n",
    "    grouped, \n",
    "    swapped_cols_dict, \n",
    "    parameters=\"Potenzial positiv Mittel\",\n",
    "    sector=\"hoho\",\n",
    "    years_dict=years_dict,\n",
    "    file_name_stats=\"potential_pos_ave_hoho_stats\",\n",
    "    file_name_sources=\"potential_pos_ave_hoho_sources\"\n",
    ")"
   ]
  },
  {
   "cell_type": "code",
   "execution_count": null,
   "metadata": {},
   "outputs": [],
   "source": [
    "run_analyses_for_parameter_single_year(\n",
    "    grouped, \n",
    "    swapped_cols_dict, \n",
    "    parameters=\"Potenzial positiv Mittel\",\n",
    "    sector=\"hoho\",\n",
    "    years_dict=years_dict,\n",
    "    year=\"SQ\",\n",
    "    plot_title=\"Werte für das durchschnittliche positive Lastmanagementpotenzial (Lastreduktion)\",\n",
    "    plot_ylabel=\"durchschn. positives Potenzial in MW\",\n",
    "    plot_colors=colors\n",
    ")"
   ]
  },
  {
   "cell_type": "code",
   "execution_count": null,
   "metadata": {},
   "outputs": [],
   "source": [
    "extract_data_for_parameter_all_years(\n",
    "    grouped, \n",
    "    swapped_cols_dict, \n",
    "    parameters=\"Potenzial positiv min\",\n",
    "    sector=\"hoho\",\n",
    "    years_dict=years_dict,\n",
    "    file_name_stats=\"potential_pos_min_hoho_stats\",\n",
    "    file_name_sources=\"potential_pos_min_hoho_sources\"\n",
    ")"
   ]
  },
  {
   "cell_type": "code",
   "execution_count": null,
   "metadata": {},
   "outputs": [],
   "source": [
    "run_analyses_for_parameter_single_year(\n",
    "    grouped, \n",
    "    swapped_cols_dict, \n",
    "    parameters=\"Potenzial positiv min\",\n",
    "    sector=\"hoho\",\n",
    "    years_dict=years_dict,\n",
    "    year=\"SQ\",\n",
    "    plot_title=\"Werte für das minimale positive Lastmanagementpotenzial (Lastreduktion)\",\n",
    "    plot_ylabel=\"minimales positives Potenzial in MW\",\n",
    "    plot_colors=colors\n",
    ")"
   ]
  },
  {
   "cell_type": "code",
   "execution_count": null,
   "metadata": {},
   "outputs": [],
   "source": [
    "extract_data_for_parameter_all_years(\n",
    "    grouped, \n",
    "    swapped_cols_dict, \n",
    "    parameters=\"Potenzial positiv max\",\n",
    "    sector=\"hoho\",\n",
    "    years_dict=years_dict,\n",
    "    file_name_stats=\"potential_pos_max_hoho_stats\",\n",
    "    file_name_sources=\"potential_pos_max_hoho_sources\",\n",
    ")"
   ]
  },
  {
   "cell_type": "code",
   "execution_count": null,
   "metadata": {},
   "outputs": [],
   "source": [
    "run_analyses_for_parameter_single_year(\n",
    "    grouped, \n",
    "    swapped_cols_dict, \n",
    "    parameters=\"Potenzial positiv max\",\n",
    "    sector=\"hoho\",\n",
    "    years_dict=years_dict,\n",
    "    year=\"SQ\",\n",
    "    plot_title=\"Werte für das maximale positive Lastmanagementpotenzial (Lastreduktion)\",\n",
    "    plot_ylabel=\"maximales positives Potenzial in MW\",\n",
    "    plot_colors=colors\n",
    ")"
   ]
  },
  {
   "cell_type": "code",
   "execution_count": null,
   "metadata": {},
   "outputs": [],
   "source": [
    "extract_data_for_parameter_all_years(\n",
    "    grouped, \n",
    "    swapped_cols_dict, \n",
    "    parameters=[\"Potenzial positiv Mittel\", \"Potenzial positiv min\", \"Potenzial positiv max\"],\n",
    "    sector=\"hoho\",\n",
    "    years_dict=years_dict,\n",
    "    file_name_stats=\"potential_pos_overall_hoho_stats\",\n",
    "    file_name_sources=\"potential_pos_overall_hoho_sources\",\n",
    ")"
   ]
  },
  {
   "cell_type": "code",
   "execution_count": null,
   "metadata": {},
   "outputs": [],
   "source": [
    "run_analyses_for_parameter_single_year(\n",
    "    grouped, \n",
    "    swapped_cols_dict, \n",
    "    parameters=[\"Potenzial positiv Mittel\", \"Potenzial positiv min\", \"Potenzial positiv max\"],\n",
    "    sector=\"hoho\",\n",
    "    years_dict=years_dict,\n",
    "    year=\"SQ\",\n",
    "    plot_title=\"Werte für das positive Lastmanagementpotenzial (Lastreduktion)\",\n",
    "    plot_ylabel=\"positives Potenzial in MW\",\n",
    "    plot_colors=colors,\n",
    ")"
   ]
  },
  {
   "cell_type": "markdown",
   "metadata": {},
   "source": [
    "### Positive load shedding potential"
   ]
  },
  {
   "cell_type": "code",
   "execution_count": null,
   "metadata": {},
   "outputs": [],
   "source": [
    "extract_data_for_parameter_all_years(\n",
    "    grouped, \n",
    "    swapped_cols_dict, \n",
    "    parameters=\"Potenzial positiv Mittel Lastverzicht\",\n",
    "    sector=\"hoho\",\n",
    "    years_dict=years_dict,\n",
    "    file_name_stats=\"potential_pos_ave_shed_hoho_stats.xlsx\",\n",
    "    file_name_sources=\"potential_pos_ave_shed_hoho_sources.xlsx\",\n",
    ")"
   ]
  },
  {
   "cell_type": "code",
   "execution_count": null,
   "metadata": {},
   "outputs": [],
   "source": [
    "run_analyses_for_parameter_single_year(\n",
    "    grouped, \n",
    "    swapped_cols_dict, \n",
    "    parameters=\"Potenzial positiv Mittel Lastverzicht\",\n",
    "    sector=\"hoho\",\n",
    "    years_dict=years_dict,\n",
    "    year=\"SQ\",\n",
    "    plot_title=(\n",
    "        \"Werte für das durchschnittliche positive \"\n",
    "        \"Abschaltpotenzial (Lastverzicht)\"\n",
    "    ),\n",
    "    plot_ylabel=\"durchschn. positives Potenzial in MW\",\n",
    "    plot_colors=colors,\n",
    ")"
   ]
  },
  {
   "cell_type": "code",
   "execution_count": null,
   "metadata": {},
   "outputs": [],
   "source": [
    "extract_data_for_parameter_all_years(\n",
    "    grouped, \n",
    "    swapped_cols_dict, \n",
    "    parameters=\"Potenzial positiv min Lastverzicht\",\n",
    "    sector=\"hoho\",\n",
    "    years_dict=years_dict,\n",
    "    file_name_stats=\"potential_pos_min_shed_hoho_stats.xlsx\",\n",
    "    file_name_sources=\"potential_pos_min_shed_hoho_sources.xlsx\",\n",
    ")"
   ]
  },
  {
   "cell_type": "code",
   "execution_count": null,
   "metadata": {},
   "outputs": [],
   "source": [
    "run_analyses_for_parameter_single_year(\n",
    "    grouped, \n",
    "    swapped_cols_dict, \n",
    "    parameters=\"Potenzial positiv min Lastverzicht\",\n",
    "    sector=\"hoho\",\n",
    "    years_dict=years_dict,\n",
    "    year=\"SQ\",\n",
    "    plot_title=\"Werte für das minimale positive Abschaltpotenzial (Lastverzicht)\",\n",
    "    plot_ylabel=\"minimales positives Potenzial in MW\",\n",
    "    plot_colors=colors,\n",
    ")"
   ]
  },
  {
   "cell_type": "code",
   "execution_count": null,
   "metadata": {},
   "outputs": [],
   "source": [
    "extract_data_for_parameter_all_years(\n",
    "    grouped, \n",
    "    swapped_cols_dict, \n",
    "    parameters=\"Potenzial positiv max Lastverzicht\",\n",
    "    sector=\"hoho\",\n",
    "    years_dict=years_dict,\n",
    "    file_name_stats=\"potential_pos_max_shed_hoho_stats.xlsx\",\n",
    "    file_name_sources=\"potential_pos_max_shed_hoho_sources.xlsx\",\n",
    ")"
   ]
  },
  {
   "cell_type": "code",
   "execution_count": null,
   "metadata": {},
   "outputs": [],
   "source": [
    "run_analyses_for_parameter_single_year(\n",
    "    grouped, \n",
    "    swapped_cols_dict, \n",
    "    parameters=\"Potenzial positiv max Lastverzicht\",\n",
    "    sector=\"hoho\",\n",
    "    years_dict=years_dict,\n",
    "    year=\"SQ\",\n",
    "    plot_title=\"Werte für das maximale positive Abschaltpotenzial (Lastverzicht)\",\n",
    "    plot_ylabel=\"maximales positives Potenzial in MW\",\n",
    "    plot_colors=colors,\n",
    ")"
   ]
  },
  {
   "cell_type": "code",
   "execution_count": null,
   "metadata": {},
   "outputs": [],
   "source": [
    "extract_data_for_parameter_all_years(\n",
    "    grouped, \n",
    "    swapped_cols_dict, \n",
    "    parameters=[\n",
    "        \"Potenzial positiv Mittel Lastverzicht\", \n",
    "        \"Potenzial positiv min Lastverzicht\", \n",
    "        \"Potenzial positiv max Lastverzicht\"\n",
    "    ],\n",
    "    sector=\"hoho\",\n",
    "    years_dict=years_dict,\n",
    "    file_name_stats=\"potential_pos_overall_shed_hoho_stats.xlsx\",\n",
    "    file_name_sources=\"potential_pos_overall_shed_hoho_sources.xlsx\",\n",
    ")"
   ]
  },
  {
   "cell_type": "code",
   "execution_count": null,
   "metadata": {},
   "outputs": [],
   "source": [
    "run_analyses_for_parameter_single_year(\n",
    "    grouped, \n",
    "    swapped_cols_dict, \n",
    "    parameters=[\n",
    "        \"Potenzial positiv Mittel Lastverzicht\",\n",
    "        \"Potenzial positiv min Lastverzicht\",\n",
    "        \"Potenzial positiv max Lastverzicht\"],\n",
    "    sector=\"hoho\",\n",
    "    years_dict=years_dict,\n",
    "    year=\"SQ\",\n",
    "    plot_title=\"Werte für das positive Abschaltpotenzial (Lastverzicht)\",\n",
    "    plot_ylabel=\"positives Potenzial in MW\",\n",
    "    plot_colors=colors,\n",
    ")"
   ]
  },
  {
   "cell_type": "markdown",
   "metadata": {},
   "source": [
    "### Negative load shift potential"
   ]
  },
  {
   "cell_type": "code",
   "execution_count": null,
   "metadata": {},
   "outputs": [],
   "source": [
    "extract_data_for_parameter_all_years(\n",
    "    grouped, \n",
    "    swapped_cols_dict, \n",
    "    parameters=\"Potenzial negativ Mittel\",\n",
    "    sector=\"hoho\",\n",
    "    years_dict=years_dict,\n",
    "    file_name_stats=\"potential_neg_ave_hoho_stats.xlsx\",\n",
    "    file_name_sources=\"potential_neg_ave_hoho_sources.xlsx\",\n",
    ")"
   ]
  },
  {
   "cell_type": "code",
   "execution_count": null,
   "metadata": {},
   "outputs": [],
   "source": [
    "run_analyses_for_parameter_single_year(\n",
    "    grouped, \n",
    "    swapped_cols_dict, \n",
    "    parameters=\"Potenzial negativ Mittel\",\n",
    "    sector=\"hoho\",\n",
    "    years_dict=years_dict,\n",
    "    year=\"SQ\",\n",
    "    plot_title=(\n",
    "        \"Werte für das durchschnittliche negative \"\n",
    "        \"Lastmanagementpotenzial (Lasterhöhung)\"\n",
    "    ),\n",
    "    plot_ylabel=\"durchschn. negatives Potenzial in MW\",\n",
    "    plot_colors=colors,\n",
    ")"
   ]
  },
  {
   "cell_type": "code",
   "execution_count": null,
   "metadata": {},
   "outputs": [],
   "source": [
    "extract_data_for_parameter_all_years(\n",
    "    grouped, \n",
    "    swapped_cols_dict, \n",
    "    parameters=\"Potenzial negativ min\",\n",
    "    sector=\"hoho\",\n",
    "    years_dict=years_dict,\n",
    "    file_name_stats=\"potential_neg_min_hoho_stats.xlsx\",\n",
    "    file_name_sources=\"potential_neg_min_hoho_sources.xlsx\",\n",
    ")"
   ]
  },
  {
   "cell_type": "code",
   "execution_count": null,
   "metadata": {},
   "outputs": [],
   "source": [
    "run_analyses_for_parameter_single_year(\n",
    "    grouped, \n",
    "    swapped_cols_dict, \n",
    "    parameters=\"Potenzial negativ min\",\n",
    "    sector=\"hoho\",\n",
    "    years_dict=years_dict,\n",
    "    year=\"SQ\",\n",
    "    plot_title=\"Werte für das minimale negative Lastmanagementpotenzial (Lasterhöhung)\",\n",
    "    plot_ylabel=\"minimales negatives Potenzial in MW\",\n",
    "    plot_colors=colors,\n",
    ")"
   ]
  },
  {
   "cell_type": "code",
   "execution_count": null,
   "metadata": {},
   "outputs": [],
   "source": [
    "extract_data_for_parameter_all_years(\n",
    "    grouped, \n",
    "    swapped_cols_dict, \n",
    "    parameters=\"Potenzial negativ max\",\n",
    "    sector=\"hoho\",\n",
    "    years_dict=years_dict,\n",
    "    file_name_stats=\"potential_neg_max_hoho_stats.xlsx\",\n",
    "    file_name_sources=\"potential_neg_max_hoho_sources.xlsx\",\n",
    ")"
   ]
  },
  {
   "cell_type": "code",
   "execution_count": null,
   "metadata": {},
   "outputs": [],
   "source": [
    "run_analyses_for_parameter_single_year(\n",
    "    grouped, \n",
    "    swapped_cols_dict, \n",
    "    parameters=\"Potenzial negativ max\",\n",
    "    sector=\"hoho\",\n",
    "    years_dict=years_dict,\n",
    "    year=\"SQ\",\n",
    "    plot_title=\"Werte für das maximale negative Lastmanagementpotenzial (Lasterhöhung)\",\n",
    "    plot_ylabel=\"maximales negatives Potenzial in MW\",\n",
    "    plot_colors=colors,\n",
    ")"
   ]
  },
  {
   "cell_type": "code",
   "execution_count": null,
   "metadata": {},
   "outputs": [],
   "source": [
    "extract_data_for_parameter_all_years(\n",
    "    grouped, \n",
    "    swapped_cols_dict, \n",
    "    parameters=[\n",
    "        \"Potenzial negativ Mittel\", \n",
    "        \"Potenzial negativ min\", \n",
    "        \"Potenzial negativ max\"\n",
    "    ],\n",
    "    sector=\"hoho\",\n",
    "    years_dict=years_dict,\n",
    "    file_name_stats=\"potential_neg_overall_hoho_stats.xlsx\",\n",
    "    file_name_sources=\"potential_neg_overall_hoho_sources.xlsx\",\n",
    ")"
   ]
  },
  {
   "cell_type": "code",
   "execution_count": null,
   "metadata": {},
   "outputs": [],
   "source": [
    "run_analyses_for_parameter_single_year(\n",
    "    grouped, \n",
    "    swapped_cols_dict, \n",
    "    parameters=[\n",
    "        \"Potenzial negativ Mittel\", \n",
    "        \"Potenzial negativ min\", \n",
    "        \"Potenzial negativ max\"\n",
    "    ],\n",
    "    sector=\"hoho\",\n",
    "    years_dict=years_dict,\n",
    "    year=\"SQ\",\n",
    "    plot_title=\"Werte für das negative Lastmanagementpotenzial (Lastverhöhung)\",\n",
    "    plot_ylabel=\"negatives Potenzial in MW\",\n",
    "    plot_colors=colors,\n",
    ")"
   ]
  },
  {
   "cell_type": "markdown",
   "metadata": {},
   "source": [
    "### Average load values"
   ]
  },
  {
   "cell_type": "code",
   "execution_count": null,
   "metadata": {},
   "outputs": [],
   "source": [
    "extract_data_for_parameter_all_years(\n",
    "    grouped, \n",
    "    swapped_cols_dict, \n",
    "    parameters=\"Durchschnittsauslastung\",\n",
    "    sector=\"hoho\",\n",
    "    years_dict=years_dict,\n",
    "    file_name_stats=\"ave_load_hoho_stats.xlsx\",\n",
    "    file_name_sources=\"ave_load_hoho_sources.xlsx\",\n",
    ")"
   ]
  },
  {
   "cell_type": "code",
   "execution_count": null,
   "metadata": {},
   "outputs": [],
   "source": [
    "run_analyses_for_parameter_single_year(\n",
    "    grouped, \n",
    "    swapped_cols_dict, \n",
    "    parameters=\"Durchschnittsauslastung\",\n",
    "    sector=\"hoho\",\n",
    "    years_dict=years_dict,\n",
    "    year=\"SQ\",\n",
    "    plot_title=\"Durchschnittlicher Lastfaktor\",\n",
    "    plot_ylabel=\"Durchschnittlicher Lastfaktor in p.u.\",\n",
    "    plot_colors=colors,\n",
    ")"
   ]
  },
  {
   "cell_type": "markdown",
   "metadata": {},
   "source": [
    "### Minimum load values"
   ]
  },
  {
   "cell_type": "code",
   "execution_count": null,
   "metadata": {},
   "outputs": [],
   "source": [
    "extract_data_for_parameter_all_years(\n",
    "    grouped, \n",
    "    swapped_cols_dict, \n",
    "    parameters=\"Minimalauslastung\",\n",
    "    sector=\"hoho\",\n",
    "    years_dict=years_dict,\n",
    "    file_name_stats=\"min_load_hoho_stats.xlsx\",\n",
    "    file_name_sources=\"min_load_hoho_sources.xlsx\",\n",
    ")"
   ]
  },
  {
   "cell_type": "code",
   "execution_count": null,
   "metadata": {},
   "outputs": [],
   "source": [
    "run_analyses_for_parameter_single_year(\n",
    "    grouped, \n",
    "    swapped_cols_dict, \n",
    "    parameters=\"Minimalauslastung\",\n",
    "    sector=\"hoho\",\n",
    "    years_dict=years_dict,\n",
    "    year=\"SQ\",\n",
    "    plot_title=\"Minimaler Lastfaktor\",\n",
    "    plot_ylabel=\"Minimaler Lastfaktor in p.u.\",\n",
    "    plot_colors=colors,\n",
    ")"
   ]
  },
  {
   "cell_type": "markdown",
   "metadata": {},
   "source": [
    "### Maximum load values"
   ]
  },
  {
   "cell_type": "code",
   "execution_count": null,
   "metadata": {},
   "outputs": [],
   "source": [
    "extract_data_for_parameter_all_years(\n",
    "    grouped, \n",
    "    swapped_cols_dict, \n",
    "    parameters=\"Maximalauslastung\",\n",
    "    sector=\"hoho\",\n",
    "    years_dict=years_dict,\n",
    "    file_name_stats=\"max_load_hoho_stats.xlsx\",\n",
    "    file_name_sources=\"max_load_hoho_sources.xlsx\",\n",
    ")"
   ]
  },
  {
   "cell_type": "code",
   "execution_count": null,
   "metadata": {},
   "outputs": [],
   "source": [
    "run_analyses_for_parameter_single_year(\n",
    "    grouped, \n",
    "    swapped_cols_dict, \n",
    "    parameters=\"Maximalauslastung\",\n",
    "    sector=\"hoho\",\n",
    "    years_dict=years_dict,\n",
    "    year=\"SQ\",\n",
    "    plot_title=\"Maximaler Lastfaktor\",\n",
    "    plot_ylabel=\"Maximaler Lastfaktor in p.u.\",\n",
    "    plot_colors=colors,\n",
    ")"
   ]
  },
  {
   "cell_type": "markdown",
   "metadata": {},
   "source": [
    "### Installed capacity"
   ]
  },
  {
   "cell_type": "code",
   "execution_count": null,
   "metadata": {},
   "outputs": [],
   "source": [
    "extract_data_for_parameter_all_years(\n",
    "    grouped, \n",
    "    swapped_cols_dict, \n",
    "    parameters=\"installierte Leistung\",\n",
    "    sector=\"hoho\",\n",
    "    years_dict=years_dict,\n",
    "    file_name_stats=\"installed_cap_hoho_stats.xlsx\",\n",
    "    file_name_sources=\"installed_cap_hoho_sources.xlsx\",\n",
    ")"
   ]
  },
  {
   "cell_type": "code",
   "execution_count": null,
   "metadata": {},
   "outputs": [],
   "source": [
    "run_analyses_for_parameter_single_year(\n",
    "    grouped, \n",
    "    swapped_cols_dict, \n",
    "    parameters=\"installierte Leistung\",\n",
    "    sector=\"hoho\",\n",
    "    years_dict=years_dict,\n",
    "    year=\"SQ\",\n",
    "    plot_title=\"installierte Leistung\",\n",
    "    plot_ylabel=\"installierte Leistung in MW\",\n",
    "    plot_colors=colors,\n",
    ")"
   ]
  },
  {
   "cell_type": "markdown",
   "metadata": {},
   "source": [
    "### Shiftable share"
   ]
  },
  {
   "cell_type": "code",
   "execution_count": null,
   "metadata": {},
   "outputs": [],
   "source": [
    "extract_data_for_parameter_all_years(\n",
    "    grouped, \n",
    "    swapped_cols_dict, \n",
    "    parameters=\"flexibilisierbarer Leistungsanteil\",\n",
    "    sector=\"hoho\",\n",
    "    years_dict=years_dict,\n",
    "    file_name_stats=\"shiftable_share_hoho_stats.xlsx\",\n",
    "    file_name_sources=\"shiftable_share_hoho_sources.xlsx\",\n",
    ")"
   ]
  },
  {
   "cell_type": "code",
   "execution_count": null,
   "metadata": {
    "scrolled": true
   },
   "outputs": [],
   "source": [
    "run_analyses_for_parameter_single_year(\n",
    "    grouped, \n",
    "    swapped_cols_dict, \n",
    "    parameters=\"flexibilisierbarer Leistungsanteil\",\n",
    "    sector=\"hoho\",\n",
    "    years_dict=years_dict,\n",
    "    year=\"SQ\",\n",
    "    plot_title=\"flexibilisierbarer Leistungsanteil\",\n",
    "    plot_ylabel=\"flexibilisierbarer Leistungsanteil in p.u.\",\n",
    "    plot_colors=colors,\n",
    ")"
   ]
  },
  {
   "cell_type": "markdown",
   "metadata": {},
   "source": [
    "# Time-related parameters\n",
    "In the following, all time-related demand response parameters are evaluated. These comprise\n",
    "* activation duration (in h),\n",
    "* interference duration in postive (shifting and shedding) and negative direction (in h),\n",
    "* shifting duration (in h),\n",
    "* regeneration duration (in h) as well as\n",
    "* maximum activations per year (for shifting and shedding) (in 1).\n",
    "\n",
    "The evaluation is carried out per process / appliance for a given sector and year."
   ]
  },
  {
   "cell_type": "markdown",
   "metadata": {},
   "source": [
    "## Industry"
   ]
  },
  {
   "cell_type": "markdown",
   "metadata": {},
   "source": [
    "### Activation duration"
   ]
  },
  {
   "cell_type": "code",
   "execution_count": null,
   "metadata": {},
   "outputs": [],
   "source": [
    "extract_data_for_parameter_all_years(\n",
    "    grouped, \n",
    "    swapped_cols_dict, \n",
    "    parameters=\"Aktivierungsdauer\",\n",
    "    sector=\"ind\",\n",
    "    years_dict=years_dict,\n",
    "    file_name_stats=\"activation_duration_ind_stats\",\n",
    "    file_name_sources=\"activation_duration_ind_sources\"\n",
    ")"
   ]
  },
  {
   "cell_type": "code",
   "execution_count": null,
   "metadata": {},
   "outputs": [],
   "source": [
    "run_analyses_for_parameter_single_year(\n",
    "    grouped, \n",
    "    swapped_cols_dict, \n",
    "    parameters=\"Aktivierungsdauer\",\n",
    "    sector=\"ind\",\n",
    "    years_dict=years_dict,\n",
    "    year=\"SQ\",\n",
    "    plot_title=\"Aktivierungsdauer\",\n",
    "    plot_ylabel=\"Aktivierungsdauer in h\",\n",
    "    plot_colors=colors\n",
    ")"
   ]
  },
  {
   "cell_type": "markdown",
   "metadata": {},
   "source": [
    "### interference duration positive load shifting"
   ]
  },
  {
   "cell_type": "code",
   "execution_count": null,
   "metadata": {},
   "outputs": [],
   "source": [
    "extract_data_for_parameter_all_years(\n",
    "    grouped, \n",
    "    swapped_cols_dict, \n",
    "    parameters=\"Schaltdauer positiv\",\n",
    "    sector=\"ind\",\n",
    "    years_dict=years_dict,\n",
    "    file_name_stats=\"interference_duration_pos_ind_stats\",\n",
    "    file_name_sources=\"interference_duration_pos_ind_sources\"\n",
    ")"
   ]
  },
  {
   "cell_type": "code",
   "execution_count": null,
   "metadata": {},
   "outputs": [],
   "source": [
    "run_analyses_for_parameter_single_year(\n",
    "    grouped, \n",
    "    swapped_cols_dict, \n",
    "    parameters=\"Schaltdauer positiv\",\n",
    "    sector=\"ind\",\n",
    "    years_dict=years_dict,\n",
    "    year=\"SQ\",\n",
    "    plot_title=\"positive Schaltdauer (Lastreduktion)\",\n",
    "    plot_ylabel=\"positive Schaltdauer in h\",\n",
    "    plot_colors=colors\n",
    ")"
   ]
  },
  {
   "cell_type": "markdown",
   "metadata": {},
   "source": [
    "### interference duration positive load shedding"
   ]
  },
  {
   "cell_type": "code",
   "execution_count": null,
   "metadata": {},
   "outputs": [],
   "source": [
    "extract_data_for_parameter_all_years(\n",
    "    grouped, \n",
    "    swapped_cols_dict, \n",
    "    parameters=\"Schaltdauer positiv Lastverzicht\",\n",
    "    sector=\"ind\",\n",
    "    years_dict=years_dict,\n",
    "    file_name_stats=\"interference_duration_pos_shed_ind_stats\",\n",
    "    file_name_sources=\"interference_duration_pos_shed_ind_sources\"\n",
    ")"
   ]
  },
  {
   "cell_type": "code",
   "execution_count": null,
   "metadata": {},
   "outputs": [],
   "source": [
    "run_analyses_for_parameter_single_year(\n",
    "    grouped, \n",
    "    swapped_cols_dict, \n",
    "    parameters=\"Schaltdauer positiv Lastverzicht\",\n",
    "    sector=\"ind\",\n",
    "    years_dict=years_dict,\n",
    "    year=\"SQ\",\n",
    "    plot_title=\"positive Schaltdauer (Lastverzicht)\",\n",
    "    plot_ylabel=\"positive Schaltdauer in h\",\n",
    "    plot_colors=colors\n",
    ")"
   ]
  },
  {
   "cell_type": "markdown",
   "metadata": {},
   "source": [
    "### interference duration negative"
   ]
  },
  {
   "cell_type": "code",
   "execution_count": null,
   "metadata": {},
   "outputs": [],
   "source": [
    "extract_data_for_parameter_all_years(\n",
    "    grouped, \n",
    "    swapped_cols_dict, \n",
    "    parameters=\"Schaltdauer negativ\",\n",
    "    sector=\"ind\",\n",
    "    years_dict=years_dict,\n",
    "    file_name_stats=\"interference_duration_neg_ind_stats\",\n",
    "    file_name_sources=\"interference_duration_neg_ind_sources\"\n",
    ")"
   ]
  },
  {
   "cell_type": "code",
   "execution_count": null,
   "metadata": {},
   "outputs": [],
   "source": [
    "run_analyses_for_parameter_single_year(\n",
    "    grouped, \n",
    "    swapped_cols_dict, \n",
    "    parameters=\"Schaltdauer negativ\",\n",
    "    sector=\"ind\",\n",
    "    years_dict=years_dict,\n",
    "    year=\"SQ\",\n",
    "    plot_title=\"negative Schaltdauer (Lasterhöhung)\",\n",
    "    plot_ylabel=\"negative Schaltdauer in h\",\n",
    "    plot_colors=colors\n",
    ")"
   ]
  },
  {
   "cell_type": "markdown",
   "metadata": {},
   "source": [
    "### shifting duration"
   ]
  },
  {
   "cell_type": "code",
   "execution_count": null,
   "metadata": {},
   "outputs": [],
   "source": [
    "extract_data_for_parameter_all_years(\n",
    "    grouped, \n",
    "    swapped_cols_dict, \n",
    "    parameters=\"Verschiebedauer\",\n",
    "    sector=\"ind\",\n",
    "    years_dict=years_dict,\n",
    "    file_name_stats=\"shifting_duration_ind_stats\",\n",
    "    file_name_sources=\"shifting_duration_ind_sources\"\n",
    ")"
   ]
  },
  {
   "cell_type": "code",
   "execution_count": null,
   "metadata": {},
   "outputs": [],
   "source": [
    "run_analyses_for_parameter_single_year(\n",
    "    grouped, \n",
    "    swapped_cols_dict, \n",
    "    parameters=\"Verschiebedauer\",\n",
    "    sector=\"ind\",\n",
    "    years_dict=years_dict,\n",
    "    year=\"SQ\",\n",
    "    plot_title=\"Verschiebedauer\",\n",
    "    plot_ylabel=\"Verschiebedauer in h\",\n",
    "    plot_colors=colors\n",
    ")"
   ]
  },
  {
   "cell_type": "markdown",
   "metadata": {},
   "source": [
    "### regeneration duration"
   ]
  },
  {
   "cell_type": "code",
   "execution_count": null,
   "metadata": {},
   "outputs": [],
   "source": [
    "extract_data_for_parameter_all_years(\n",
    "    grouped, \n",
    "    swapped_cols_dict, \n",
    "    parameters=\"Regenerationsdauer\",\n",
    "    sector=\"ind\",\n",
    "    years_dict=years_dict,\n",
    "    file_name_stats=\"regeneration_duration_ind_stats\",\n",
    "    file_name_sources=\"regeneration_duration_ind_sources\"\n",
    ")"
   ]
  },
  {
   "cell_type": "code",
   "execution_count": null,
   "metadata": {},
   "outputs": [],
   "source": [
    "run_analyses_for_parameter_single_year(\n",
    "    grouped, \n",
    "    swapped_cols_dict, \n",
    "    parameters=\"Regenerationsdauer\",\n",
    "    sector=\"ind\",\n",
    "    years_dict=years_dict,\n",
    "    year=\"SQ\",\n",
    "    plot_title=\"Regenerationsdauer\",\n",
    "    plot_ylabel=\"Regenerationsdauer in h\",\n",
    "    plot_colors=colors\n",
    ")"
   ]
  },
  {
   "cell_type": "markdown",
   "metadata": {},
   "source": [
    "### maximum activations per year load shifting"
   ]
  },
  {
   "cell_type": "code",
   "execution_count": null,
   "metadata": {},
   "outputs": [],
   "source": [
    "extract_data_for_parameter_all_years(\n",
    "    grouped, \n",
    "    swapped_cols_dict, \n",
    "    parameters=\"maximale Abrufhäufigkeit pro Jahr\",\n",
    "    sector=\"ind\",\n",
    "    years_dict=years_dict,\n",
    "    file_name_stats=\"maximum_activations_year_ind_stats\",\n",
    "    file_name_sources=\"maximum_activations_year_ind_sources\"\n",
    ")"
   ]
  },
  {
   "cell_type": "code",
   "execution_count": null,
   "metadata": {},
   "outputs": [],
   "source": [
    "run_analyses_for_parameter_single_year(\n",
    "    grouped, \n",
    "    swapped_cols_dict, \n",
    "    parameters=\"maximale Abrufhäufigkeit pro Jahr\",\n",
    "    sector=\"ind\",\n",
    "    years_dict=years_dict,\n",
    "    year=\"SQ\",\n",
    "    plot_title=\"Maximale Aktivierungshäufigkeit pro Jahr\",\n",
    "    plot_ylabel=\"Anzahl an Aktivierungen in 1/a\",\n",
    "    plot_colors=colors\n",
    ")"
   ]
  },
  {
   "cell_type": "markdown",
   "metadata": {},
   "source": [
    "### maximum activations per year load shedding"
   ]
  },
  {
   "cell_type": "code",
   "execution_count": null,
   "metadata": {},
   "outputs": [],
   "source": [
    "extract_data_for_parameter_all_years(\n",
    "    grouped, \n",
    "    swapped_cols_dict, \n",
    "    parameters=\"maximale Abrufhäufigkeit pro Jahr Lastverzicht\",\n",
    "    sector=\"ind\",\n",
    "    years_dict=years_dict,\n",
    "    file_name_stats=\"maximum_activations_year_shed_ind_stats\",\n",
    "    file_name_sources=\"maximum_activations_year_shed_ind_sources\"\n",
    ")"
   ]
  },
  {
   "cell_type": "code",
   "execution_count": null,
   "metadata": {},
   "outputs": [],
   "source": [
    "run_analyses_for_parameter_single_year(\n",
    "    grouped, \n",
    "    swapped_cols_dict, \n",
    "    parameters=\"maximale Abrufhäufigkeit pro Jahr Lastverzicht\",\n",
    "    sector=\"ind\",\n",
    "    years_dict=years_dict,\n",
    "    year=\"SQ\",\n",
    "    plot_title=\"Maximale Aktivierungshäufigkeit pro Jahr (Lastverzicht)\",\n",
    "    plot_ylabel=\"Anzahl an Aktivierungen in 1/a\",\n",
    "    plot_colors=colors\n",
    ")"
   ]
  },
  {
   "cell_type": "markdown",
   "metadata": {},
   "source": [
    "## Trade, commerce and services"
   ]
  },
  {
   "cell_type": "markdown",
   "metadata": {},
   "source": [
    "### Activation duration"
   ]
  },
  {
   "cell_type": "code",
   "execution_count": null,
   "metadata": {},
   "outputs": [],
   "source": [
    "extract_data_for_parameter_all_years(\n",
    "    grouped, \n",
    "    swapped_cols_dict, \n",
    "    parameters=\"Aktivierungsdauer\",\n",
    "    sector=\"tcs\",\n",
    "    years_dict=years_dict,\n",
    "    file_name_stats=\"activation_duration_tcs_stats\",\n",
    "    file_name_sources=\"activation_duration_tcs_sources\"\n",
    ")"
   ]
  },
  {
   "cell_type": "code",
   "execution_count": null,
   "metadata": {},
   "outputs": [],
   "source": [
    "run_analyses_for_parameter_single_year(\n",
    "    grouped, \n",
    "    swapped_cols_dict, \n",
    "    parameters=\"Aktivierungsdauer\",\n",
    "    sector=\"tcs\",\n",
    "    years_dict=years_dict,\n",
    "    year=\"SQ\",\n",
    "    plot_title=\"Aktivierungsdauer\",\n",
    "    plot_ylabel=\"Aktivierungsdauer in h\",\n",
    "    plot_colors=colors\n",
    ")"
   ]
  },
  {
   "cell_type": "markdown",
   "metadata": {},
   "source": [
    "### interference duration positive load shifting"
   ]
  },
  {
   "cell_type": "code",
   "execution_count": null,
   "metadata": {},
   "outputs": [],
   "source": [
    "extract_data_for_parameter_all_years(\n",
    "    grouped, \n",
    "    swapped_cols_dict, \n",
    "    parameters=\"Schaltdauer positiv\",\n",
    "    sector=\"tcs\",\n",
    "    years_dict=years_dict,\n",
    "    file_name_stats=\"interference_duration_pos_tcs_stats\",\n",
    "    file_name_sources=\"interference_duration_pos_tcs_sources\"\n",
    ")"
   ]
  },
  {
   "cell_type": "code",
   "execution_count": null,
   "metadata": {},
   "outputs": [],
   "source": [
    "run_analyses_for_parameter_single_year(\n",
    "    grouped, \n",
    "    swapped_cols_dict, \n",
    "    parameters=\"Schaltdauer positiv\",\n",
    "    sector=\"tcs\",\n",
    "    years_dict=years_dict,\n",
    "    year=\"SQ\",\n",
    "    plot_title=\"positive Schaltdauer (Lastreduktion)\",\n",
    "    plot_ylabel=\"positive Schaltdauer in h\",\n",
    "    plot_colors=colors\n",
    ")"
   ]
  },
  {
   "cell_type": "markdown",
   "metadata": {},
   "source": [
    "### interference duration positive load shedding"
   ]
  },
  {
   "cell_type": "code",
   "execution_count": null,
   "metadata": {},
   "outputs": [],
   "source": [
    "extract_data_for_parameter_all_years(\n",
    "    grouped, \n",
    "    swapped_cols_dict, \n",
    "    parameters=\"Schaltdauer positiv Lastverzicht\",\n",
    "    sector=\"tcs\",\n",
    "    years_dict=years_dict,\n",
    "    file_name_stats=\"interference_duration_pos_shed_tcs_stats\",\n",
    "    file_name_sources=\"interference_duration_pos_shed_tcs_sources\"\n",
    ")"
   ]
  },
  {
   "cell_type": "code",
   "execution_count": null,
   "metadata": {},
   "outputs": [],
   "source": [
    "run_analyses_for_parameter_single_year(\n",
    "    grouped, \n",
    "    swapped_cols_dict, \n",
    "    parameters=\"Schaltdauer positiv Lastverzicht\",\n",
    "    sector=\"tcs\",\n",
    "    years_dict=years_dict,\n",
    "    year=\"SQ\",\n",
    "    plot_title=\"positive Schaltdauer (Lastverzicht)\",\n",
    "    plot_ylabel=\"positive Schaltdauer in h\",\n",
    "    plot_colors=colors\n",
    ")"
   ]
  },
  {
   "cell_type": "markdown",
   "metadata": {},
   "source": [
    "### interference duration negative"
   ]
  },
  {
   "cell_type": "code",
   "execution_count": null,
   "metadata": {},
   "outputs": [],
   "source": [
    "extract_data_for_parameter_all_years(\n",
    "    grouped, \n",
    "    swapped_cols_dict, \n",
    "    parameters=\"Schaltdauer negativ\",\n",
    "    sector=\"tcs\",\n",
    "    years_dict=years_dict,\n",
    "    file_name_stats=\"interference_duration_neg_tcs_stats\",\n",
    "    file_name_sources=\"interference_duration_neg_tcs_sources\"\n",
    ")"
   ]
  },
  {
   "cell_type": "code",
   "execution_count": null,
   "metadata": {},
   "outputs": [],
   "source": [
    "run_analyses_for_parameter_single_year(\n",
    "    grouped, \n",
    "    swapped_cols_dict, \n",
    "    parameters=\"Schaltdauer negativ\",\n",
    "    sector=\"tcs\",\n",
    "    years_dict=years_dict,\n",
    "    year=\"SQ\",\n",
    "    plot_title=\"negative Schaltdauer (Lasterhöhung)\",\n",
    "    plot_ylabel=\"negative Schaltdauer in h\",\n",
    "    plot_colors=colors\n",
    ")"
   ]
  },
  {
   "cell_type": "markdown",
   "metadata": {},
   "source": [
    "### shifting duration"
   ]
  },
  {
   "cell_type": "code",
   "execution_count": null,
   "metadata": {},
   "outputs": [],
   "source": [
    "extract_data_for_parameter_all_years(\n",
    "    grouped, \n",
    "    swapped_cols_dict, \n",
    "    parameters=\"Verschiebedauer\",\n",
    "    sector=\"tcs\",\n",
    "    years_dict=years_dict,\n",
    "    file_name_stats=\"shifting_duration_tcs_stats\",\n",
    "    file_name_sources=\"shifting_duration_tcs_sources\"\n",
    ")"
   ]
  },
  {
   "cell_type": "code",
   "execution_count": null,
   "metadata": {},
   "outputs": [],
   "source": [
    "run_analyses_for_parameter_single_year(\n",
    "    grouped, \n",
    "    swapped_cols_dict, \n",
    "    parameters=\"Verschiebedauer\",\n",
    "    sector=\"tcs\",\n",
    "    years_dict=years_dict,\n",
    "    year=\"SQ\",\n",
    "    plot_title=\"Verschiebedauer\",\n",
    "    plot_ylabel=\"Verschiebedauer in h\",\n",
    "    plot_colors=colors\n",
    ")"
   ]
  },
  {
   "cell_type": "markdown",
   "metadata": {},
   "source": [
    "### regeneration duration"
   ]
  },
  {
   "cell_type": "code",
   "execution_count": null,
   "metadata": {},
   "outputs": [],
   "source": [
    "extract_data_for_parameter_all_years(\n",
    "    grouped, \n",
    "    swapped_cols_dict, \n",
    "    parameters=\"Regenerationsdauer\",\n",
    "    sector=\"tcs\",\n",
    "    years_dict=years_dict,\n",
    "    file_name_stats=\"regeneration_duration_tcs_stats\",\n",
    "    file_name_sources=\"regeneration_duration_tcs_sources\"\n",
    ")"
   ]
  },
  {
   "cell_type": "code",
   "execution_count": null,
   "metadata": {},
   "outputs": [],
   "source": [
    "run_analyses_for_parameter_single_year(\n",
    "    grouped, \n",
    "    swapped_cols_dict, \n",
    "    parameters=\"Regenerationsdauer\",\n",
    "    sector=\"tcs\",\n",
    "    years_dict=years_dict,\n",
    "    year=\"SQ\",\n",
    "    plot_title=\"Regenerationsdauer\",\n",
    "    plot_ylabel=\"Regenerationsdauer in h\",\n",
    "    plot_colors=colors\n",
    ")"
   ]
  },
  {
   "cell_type": "markdown",
   "metadata": {},
   "source": [
    "### maximum activations per year load shifting"
   ]
  },
  {
   "cell_type": "code",
   "execution_count": null,
   "metadata": {},
   "outputs": [],
   "source": [
    "extract_data_for_parameter_all_years(\n",
    "    grouped, \n",
    "    swapped_cols_dict, \n",
    "    parameters=\"maximale Abrufhäufigkeit pro Jahr\",\n",
    "    sector=\"tcs\",\n",
    "    years_dict=years_dict,\n",
    "    file_name_stats=\"maximum_activations_year_tcs_stats\",\n",
    "    file_name_sources=\"maximum_activations_year_tcs_sources\"\n",
    ")"
   ]
  },
  {
   "cell_type": "code",
   "execution_count": null,
   "metadata": {},
   "outputs": [],
   "source": [
    "run_analyses_for_parameter_single_year(\n",
    "    grouped, \n",
    "    swapped_cols_dict, \n",
    "    parameters=\"maximale Abrufhäufigkeit pro Jahr\",\n",
    "    sector=\"tcs\",\n",
    "    years_dict=years_dict,\n",
    "    year=\"SQ\",\n",
    "    plot_title=\"Maximale Aktivierungshäufigkeit pro Jahr\",\n",
    "    plot_ylabel=\"Anzahl an Aktivierungen in 1/a\",\n",
    "    plot_colors=colors\n",
    ")"
   ]
  },
  {
   "cell_type": "markdown",
   "metadata": {},
   "source": [
    "### maximum activations per year load shedding"
   ]
  },
  {
   "cell_type": "code",
   "execution_count": null,
   "metadata": {},
   "outputs": [],
   "source": [
    "extract_data_for_parameter_all_years(\n",
    "    grouped, \n",
    "    swapped_cols_dict, \n",
    "    parameters=\"maximale Abrufhäufigkeit pro Jahr Lastverzicht\",\n",
    "    sector=\"tcs\",\n",
    "    years_dict=years_dict,\n",
    "    file_name_stats=\"maximum_activations_year_shed_tcs_stats\",\n",
    "    file_name_sources=\"maximum_activations_year_shed_tcs_sources\"\n",
    ")"
   ]
  },
  {
   "cell_type": "code",
   "execution_count": null,
   "metadata": {},
   "outputs": [],
   "source": [
    "run_analyses_for_parameter_single_year(\n",
    "    grouped, \n",
    "    swapped_cols_dict, \n",
    "    parameters=\"maximale Abrufhäufigkeit pro Jahr Lastverzicht\",\n",
    "    sector=\"tcs\",\n",
    "    years_dict=years_dict,\n",
    "    year=\"SQ\",\n",
    "    plot_title=\"Maximale Aktivierungshäufigkeit pro Jahr (Lastverzicht)\",\n",
    "    plot_ylabel=\"Anzahl an Aktivierungen in 1/a\",\n",
    "    plot_colors=colors\n",
    ")"
   ]
  },
  {
   "cell_type": "markdown",
   "metadata": {},
   "source": [
    "## Households"
   ]
  },
  {
   "cell_type": "markdown",
   "metadata": {},
   "source": [
    "### Activation duration"
   ]
  },
  {
   "cell_type": "code",
   "execution_count": null,
   "metadata": {},
   "outputs": [],
   "source": [
    "extract_data_for_parameter_all_years(\n",
    "    grouped, \n",
    "    swapped_cols_dict, \n",
    "    parameters=\"Aktivierungsdauer\",\n",
    "    sector=\"hoho\",\n",
    "    years_dict=years_dict,\n",
    "    file_name_stats=\"activation_duration_hoho_stats\",\n",
    "    file_name_sources=\"activation_duration_hoho_sources\"\n",
    ")"
   ]
  },
  {
   "cell_type": "code",
   "execution_count": null,
   "metadata": {},
   "outputs": [],
   "source": [
    "run_analyses_for_parameter_single_year(\n",
    "    grouped, \n",
    "    swapped_cols_dict, \n",
    "    parameters=\"Aktivierungsdauer\",\n",
    "    sector=\"hoho\",\n",
    "    years_dict=years_dict,\n",
    "    year=\"SQ\",\n",
    "    plot_title=\"Aktivierungsdauer\",\n",
    "    plot_ylabel=\"Aktivierungsdauer in h\",\n",
    "    plot_colors=colors\n",
    ")"
   ]
  },
  {
   "cell_type": "markdown",
   "metadata": {},
   "source": [
    "### interference duration positive load shifting"
   ]
  },
  {
   "cell_type": "code",
   "execution_count": null,
   "metadata": {},
   "outputs": [],
   "source": [
    "extract_data_for_parameter_all_years(\n",
    "    grouped, \n",
    "    swapped_cols_dict, \n",
    "    parameters=\"Schaltdauer positiv\",\n",
    "    sector=\"hoho\",\n",
    "    years_dict=years_dict,\n",
    "    file_name_stats=\"interference_duration_pos_hoho_stats\",\n",
    "    file_name_sources=\"interference_duration_pos_hoho_sources\"\n",
    ")"
   ]
  },
  {
   "cell_type": "code",
   "execution_count": null,
   "metadata": {},
   "outputs": [],
   "source": [
    "run_analyses_for_parameter_single_year(\n",
    "    grouped, \n",
    "    swapped_cols_dict, \n",
    "    parameters=\"Schaltdauer positiv\",\n",
    "    sector=\"hoho\",\n",
    "    years_dict=years_dict,\n",
    "    year=\"SQ\",\n",
    "    plot_title=\"positive Schaltdauer (Lastreduktion)\",\n",
    "    plot_ylabel=\"positive Schaltdauer in h\",\n",
    "    plot_colors=colors\n",
    ")"
   ]
  },
  {
   "cell_type": "markdown",
   "metadata": {},
   "source": [
    "### interference duration positive load shedding"
   ]
  },
  {
   "cell_type": "code",
   "execution_count": null,
   "metadata": {},
   "outputs": [],
   "source": [
    "extract_data_for_parameter_all_years(\n",
    "    grouped, \n",
    "    swapped_cols_dict, \n",
    "    parameters=\"Schaltdauer positiv Lastverzicht\",\n",
    "    sector=\"hoho\",\n",
    "    years_dict=years_dict,\n",
    "    file_name_stats=\"interference_duration_pos_shed_hoho_stats\",\n",
    "    file_name_sources=\"interference_duration_pos_shed_hoho_sources\"\n",
    ")"
   ]
  },
  {
   "cell_type": "code",
   "execution_count": null,
   "metadata": {},
   "outputs": [],
   "source": [
    "run_analyses_for_parameter_single_year(\n",
    "    grouped, \n",
    "    swapped_cols_dict, \n",
    "    parameters=\"Schaltdauer positiv Lastverzicht\",\n",
    "    sector=\"hoho\",\n",
    "    years_dict=years_dict,\n",
    "    year=\"SQ\",\n",
    "    plot_title=\"positive Schaltdauer (Lastverzicht)\",\n",
    "    plot_ylabel=\"positive Schaltdauer in h\",\n",
    "    plot_colors=colors\n",
    ")"
   ]
  },
  {
   "cell_type": "markdown",
   "metadata": {},
   "source": [
    "### interference duration negative"
   ]
  },
  {
   "cell_type": "code",
   "execution_count": null,
   "metadata": {},
   "outputs": [],
   "source": [
    "extract_data_for_parameter_all_years(\n",
    "    grouped, \n",
    "    swapped_cols_dict, \n",
    "    parameters=\"Schaltdauer negativ\",\n",
    "    sector=\"hoho\",\n",
    "    years_dict=years_dict,\n",
    "    file_name_stats=\"interference_duration_neg_hoho_stats\",\n",
    "    file_name_sources=\"interference_duration_neg_hoho_sources\"\n",
    ")"
   ]
  },
  {
   "cell_type": "code",
   "execution_count": null,
   "metadata": {},
   "outputs": [],
   "source": [
    "run_analyses_for_parameter_single_year(\n",
    "    grouped, \n",
    "    swapped_cols_dict, \n",
    "    parameters=\"Schaltdauer negativ\",\n",
    "    sector=\"hoho\",\n",
    "    years_dict=years_dict,\n",
    "    year=\"SQ\",\n",
    "    plot_title=\"negative Schaltdauer (Lasterhöhung)\",\n",
    "    plot_ylabel=\"negative Schaltdauer in h\",\n",
    "    plot_colors=colors\n",
    ")"
   ]
  },
  {
   "cell_type": "markdown",
   "metadata": {},
   "source": [
    "### shifting duration"
   ]
  },
  {
   "cell_type": "code",
   "execution_count": null,
   "metadata": {},
   "outputs": [],
   "source": [
    "extract_data_for_parameter_all_years(\n",
    "    grouped, \n",
    "    swapped_cols_dict, \n",
    "    parameters=\"Verschiebedauer\",\n",
    "    sector=\"hoho\",\n",
    "    years_dict=years_dict,\n",
    "    file_name_stats=\"shifting_duration_hoho_stats\",\n",
    "    file_name_sources=\"shifting_duration_hoho_sources\"\n",
    ")"
   ]
  },
  {
   "cell_type": "code",
   "execution_count": null,
   "metadata": {},
   "outputs": [],
   "source": [
    "run_analyses_for_parameter_single_year(\n",
    "    grouped, \n",
    "    swapped_cols_dict, \n",
    "    parameters=\"Verschiebedauer\",\n",
    "    sector=\"hoho\",\n",
    "    years_dict=years_dict,\n",
    "    year=\"SQ\",\n",
    "    plot_title=\"Verschiebedauer\",\n",
    "    plot_ylabel=\"Verschiebedauer in h\",\n",
    "    plot_colors=colors\n",
    ")"
   ]
  },
  {
   "cell_type": "markdown",
   "metadata": {},
   "source": [
    "### regeneration duration"
   ]
  },
  {
   "cell_type": "code",
   "execution_count": null,
   "metadata": {},
   "outputs": [],
   "source": [
    "extract_data_for_parameter_all_years(\n",
    "    grouped, \n",
    "    swapped_cols_dict, \n",
    "    parameters=\"Regenerationsdauer\",\n",
    "    sector=\"hoho\",\n",
    "    years_dict=years_dict,\n",
    "    file_name_stats=\"regeneration_duration_hoho_stats\",\n",
    "    file_name_sources=\"regeneration_duration_hoho_sources\"\n",
    ")"
   ]
  },
  {
   "cell_type": "code",
   "execution_count": null,
   "metadata": {},
   "outputs": [],
   "source": [
    "run_analyses_for_parameter_single_year(\n",
    "    grouped, \n",
    "    swapped_cols_dict, \n",
    "    parameters=\"Regenerationsdauer\",\n",
    "    sector=\"hoho\",\n",
    "    years_dict=years_dict,\n",
    "    year=\"SQ\",\n",
    "    plot_title=\"Regenerationsdauer\",\n",
    "    plot_ylabel=\"Regenerationsdauer in h\",\n",
    "    plot_colors=colors\n",
    ")"
   ]
  },
  {
   "cell_type": "markdown",
   "metadata": {},
   "source": [
    "### maximum activations per year load shifting"
   ]
  },
  {
   "cell_type": "code",
   "execution_count": null,
   "metadata": {},
   "outputs": [],
   "source": [
    "extract_data_for_parameter_all_years(\n",
    "    grouped, \n",
    "    swapped_cols_dict, \n",
    "    parameters=\"maximale Abrufhäufigkeit pro Jahr\",\n",
    "    sector=\"hoho\",\n",
    "    years_dict=years_dict,\n",
    "    file_name_stats=\"maximum_activations_year_hoho_stats\",\n",
    "    file_name_sources=\"maximum_activations_year_hoho_sources\"\n",
    ")"
   ]
  },
  {
   "cell_type": "code",
   "execution_count": null,
   "metadata": {},
   "outputs": [],
   "source": [
    "run_analyses_for_parameter_single_year(\n",
    "    grouped, \n",
    "    swapped_cols_dict, \n",
    "    parameters=\"maximale Abrufhäufigkeit pro Jahr\",\n",
    "    sector=\"hoho\",\n",
    "    years_dict=years_dict,\n",
    "    year=\"SQ\",\n",
    "    plot_title=\"Maximale Aktivierungshäufigkeit pro Jahr\",\n",
    "    plot_ylabel=\"Anzahl an Aktivierungen in 1/a\",\n",
    "    plot_colors=colors\n",
    ")"
   ]
  },
  {
   "cell_type": "markdown",
   "metadata": {},
   "source": [
    "### maximum activations per year load shedding"
   ]
  },
  {
   "cell_type": "code",
   "execution_count": null,
   "metadata": {},
   "outputs": [],
   "source": [
    "extract_data_for_parameter_all_years(\n",
    "    grouped, \n",
    "    swapped_cols_dict, \n",
    "    parameters=\"maximale Abrufhäufigkeit pro Jahr Lastverzicht\",\n",
    "    sector=\"hoho\",\n",
    "    years_dict=years_dict,\n",
    "    file_name_stats=\"maximum_activations_year_shed_hoho_stats\",\n",
    "    file_name_sources=\"maximum_activations_year_shed_hoho_sources\"\n",
    ")"
   ]
  },
  {
   "cell_type": "code",
   "execution_count": null,
   "metadata": {},
   "outputs": [],
   "source": [
    "run_analyses_for_parameter_single_year(\n",
    "    grouped, \n",
    "    swapped_cols_dict, \n",
    "    parameters=\"maximale Abrufhäufigkeit pro Jahr Lastverzicht\",\n",
    "    sector=\"hoho\",\n",
    "    years_dict=years_dict,\n",
    "    year=\"SQ\",\n",
    "    plot_title=\"Maximale Aktivierungshäufigkeit pro Jahr (Lastverzicht)\",\n",
    "    plot_ylabel=\"Anzahl an Aktivierungen in 1/a\",\n",
    "    plot_colors=colors\n",
    ")"
   ]
  },
  {
   "cell_type": "markdown",
   "metadata": {},
   "source": [
    "# Cost-related parameters\n",
    "In the following, all cost-related demand response parameters are evaluated. These comprise\n",
    "* specific investments (in $€_{2018}/kW$),\n",
    "* variable costs (in $€_{2018}/MWh$) as well as\n",
    "* fixed costs (in $€_{2018}/kW$).\n",
    "\n",
    "The evaluation is carried out per process / appliance for a given sector and year."
   ]
  },
  {
   "cell_type": "markdown",
   "metadata": {},
   "source": [
    "## Industry"
   ]
  },
  {
   "cell_type": "markdown",
   "metadata": {},
   "source": [
    "### Specific investments"
   ]
  },
  {
   "cell_type": "code",
   "execution_count": null,
   "metadata": {},
   "outputs": [],
   "source": [
    "extract_data_for_parameter_all_years(\n",
    "    grouped, \n",
    "    swapped_cols_dict, \n",
    "    parameters=\"Investitionsausgaben\",\n",
    "    sector=\"ind\",\n",
    "    years_dict=years_dict,\n",
    "    file_name_stats=\"specific_investments_ind_stats\",\n",
    "    file_name_sources=\"specific_investments_ind_sources\"\n",
    ")"
   ]
  },
  {
   "cell_type": "code",
   "execution_count": null,
   "metadata": {},
   "outputs": [],
   "source": [
    "run_analyses_for_parameter_single_year(\n",
    "    grouped, \n",
    "    swapped_cols_dict, \n",
    "    parameters=\"Investitionsausgaben\",\n",
    "    sector=\"ind\",\n",
    "    years_dict=years_dict,\n",
    "    year=\"SQ\",\n",
    "    plot_title=\"Spezifische Investitionsausgaben\",\n",
    "    plot_ylabel=\"spezifische Investitionsausgaben in €_2018/kW\",\n",
    "    plot_colors=colors\n",
    ")"
   ]
  },
  {
   "cell_type": "markdown",
   "metadata": {},
   "source": [
    "### variable costs load shifting"
   ]
  },
  {
   "cell_type": "code",
   "execution_count": null,
   "metadata": {},
   "outputs": [],
   "source": [
    "extract_data_for_parameter_all_years(\n",
    "    grouped, \n",
    "    swapped_cols_dict, \n",
    "    parameters=\"variable Kosten\",\n",
    "    sector=\"ind\",\n",
    "    years_dict=years_dict,\n",
    "    file_name_stats=\"variable_costs_ind_stats\",\n",
    "    file_name_sources=\"variable_costs_ind_sources\"\n",
    ")"
   ]
  },
  {
   "cell_type": "code",
   "execution_count": null,
   "metadata": {},
   "outputs": [],
   "source": [
    "run_analyses_for_parameter_single_year(\n",
    "    grouped, \n",
    "    swapped_cols_dict, \n",
    "    parameters=\"variable Kosten\",\n",
    "    sector=\"ind\",\n",
    "    years_dict=years_dict,\n",
    "    year=\"SQ\",\n",
    "    plot_title=\"Variable Kosten (Lastverschiebung)\",\n",
    "    plot_ylabel=\"variable Kosten in €_2018/MWh\",\n",
    "    plot_colors=colors\n",
    ")"
   ]
  },
  {
   "cell_type": "markdown",
   "metadata": {},
   "source": [
    "### variable costs load shedding"
   ]
  },
  {
   "cell_type": "code",
   "execution_count": null,
   "metadata": {},
   "outputs": [],
   "source": [
    "extract_data_for_parameter_all_years(\n",
    "    grouped, \n",
    "    swapped_cols_dict, \n",
    "    parameters=\"variable Kosten Lastverzicht\",\n",
    "    sector=\"ind\",\n",
    "    years_dict=years_dict,\n",
    "    file_name_stats=\"variable_costs_shed_ind_stats\",\n",
    "    file_name_sources=\"variable_costs_shed_ind_sources\"\n",
    ")"
   ]
  },
  {
   "cell_type": "code",
   "execution_count": null,
   "metadata": {},
   "outputs": [],
   "source": [
    "run_analyses_for_parameter_single_year(\n",
    "    grouped, \n",
    "    swapped_cols_dict, \n",
    "    parameters=\"variable Kosten Lastverzicht\",\n",
    "    sector=\"ind\",\n",
    "    years_dict=years_dict,\n",
    "    year=\"SQ\",\n",
    "    plot_title=\"Variable Kosten (Lastverzicht)\",\n",
    "    plot_ylabel=\"variable Kosten in €_2018/MWh\",\n",
    "    plot_colors=colors\n",
    ")"
   ]
  },
  {
   "cell_type": "markdown",
   "metadata": {},
   "source": [
    "### fixed costs"
   ]
  },
  {
   "cell_type": "code",
   "execution_count": null,
   "metadata": {},
   "outputs": [],
   "source": [
    "extract_data_for_parameter_all_years(\n",
    "    grouped, \n",
    "    swapped_cols_dict, \n",
    "    parameters=\"fixe Kosten\",\n",
    "    sector=\"ind\",\n",
    "    years_dict=years_dict,\n",
    "    file_name_stats=\"fixed_costs_ind_stats\",\n",
    "    file_name_sources=\"fixed_costs_ind_sources\"\n",
    ")"
   ]
  },
  {
   "cell_type": "code",
   "execution_count": null,
   "metadata": {},
   "outputs": [],
   "source": [
    "run_analyses_for_parameter_single_year(\n",
    "    grouped, \n",
    "    swapped_cols_dict, \n",
    "    parameters=\"fixe Kosten\",\n",
    "    sector=\"ind\",\n",
    "    years_dict=years_dict,\n",
    "    year=\"SQ\",\n",
    "    plot_title=\"Fixe Kosten\",\n",
    "    plot_ylabel=\"fixe Kosten in €_2018/kW*a\",\n",
    "    plot_colors=colors\n",
    ")"
   ]
  },
  {
   "cell_type": "markdown",
   "metadata": {},
   "source": [
    "## Trade, commerce and services"
   ]
  },
  {
   "cell_type": "markdown",
   "metadata": {},
   "source": [
    "### Specific investments"
   ]
  },
  {
   "cell_type": "code",
   "execution_count": null,
   "metadata": {},
   "outputs": [],
   "source": [
    "extract_data_for_parameter_all_years(\n",
    "    grouped, \n",
    "    swapped_cols_dict, \n",
    "    parameters=\"Investitionsausgaben\",\n",
    "    sector=\"tcs\",\n",
    "    years_dict=years_dict,\n",
    "    file_name_stats=\"specific_investments_tcs_stats\",\n",
    "    file_name_sources=\"specific_investments_tcs_sources\"\n",
    ")"
   ]
  },
  {
   "cell_type": "code",
   "execution_count": null,
   "metadata": {},
   "outputs": [],
   "source": [
    "run_analyses_for_parameter_single_year(\n",
    "    grouped, \n",
    "    swapped_cols_dict, \n",
    "    parameters=\"Investitionsausgaben\",\n",
    "    sector=\"tcs\",\n",
    "    years_dict=years_dict,\n",
    "    year=\"SQ\",\n",
    "    plot_title=\"Spezifische Investitionsausgaben\",\n",
    "    plot_ylabel=\"spezifische Investitionsausgaben in €_2018/kW\",\n",
    "    plot_colors=colors\n",
    ")"
   ]
  },
  {
   "cell_type": "markdown",
   "metadata": {},
   "source": [
    "### variable costs load shifting"
   ]
  },
  {
   "cell_type": "code",
   "execution_count": null,
   "metadata": {},
   "outputs": [],
   "source": [
    "extract_data_for_parameter_all_years(\n",
    "    grouped, \n",
    "    swapped_cols_dict, \n",
    "    parameters=\"variable Kosten\",\n",
    "    sector=\"tcs\",\n",
    "    years_dict=years_dict,\n",
    "    file_name_stats=\"variable_costs_tcs_stats\",\n",
    "    file_name_sources=\"variable_costs_tcs_sources\"\n",
    ")"
   ]
  },
  {
   "cell_type": "code",
   "execution_count": null,
   "metadata": {},
   "outputs": [],
   "source": [
    "run_analyses_for_parameter_single_year(\n",
    "    grouped, \n",
    "    swapped_cols_dict, \n",
    "    parameters=\"variable Kosten\",\n",
    "    sector=\"tcs\",\n",
    "    years_dict=years_dict,\n",
    "    year=\"SQ\",\n",
    "    plot_title=\"Variable Kosten (Lastverschiebung)\",\n",
    "    plot_ylabel=\"variable Kosten in €_2018/MWh\",\n",
    "    plot_colors=colors\n",
    ")"
   ]
  },
  {
   "cell_type": "markdown",
   "metadata": {},
   "source": [
    "### variable costs load shedding"
   ]
  },
  {
   "cell_type": "code",
   "execution_count": null,
   "metadata": {},
   "outputs": [],
   "source": [
    "extract_data_for_parameter_all_years(\n",
    "    grouped, \n",
    "    swapped_cols_dict, \n",
    "    parameters=\"variable Kosten Lastverzicht\",\n",
    "    sector=\"tcs\",\n",
    "    years_dict=years_dict,\n",
    "    file_name_stats=\"variable_costs_shed_tcs_stats\",\n",
    "    file_name_sources=\"variable_costs_shed_tcs_sources\"\n",
    ")"
   ]
  },
  {
   "cell_type": "code",
   "execution_count": null,
   "metadata": {},
   "outputs": [],
   "source": [
    "run_analyses_for_parameter_single_year(\n",
    "    grouped, \n",
    "    swapped_cols_dict, \n",
    "    parameters=\"variable Kosten Lastverzicht\",\n",
    "    sector=\"tcs\",\n",
    "    years_dict=years_dict,\n",
    "    year=\"SQ\",\n",
    "    plot_title=\"Variable Kosten (Lastverzicht)\",\n",
    "    plot_ylabel=\"variable Kosten in €_2018/MWh\",\n",
    "    plot_colors=colors\n",
    ")"
   ]
  },
  {
   "cell_type": "markdown",
   "metadata": {},
   "source": [
    "### fixed costs"
   ]
  },
  {
   "cell_type": "code",
   "execution_count": null,
   "metadata": {},
   "outputs": [],
   "source": [
    "extract_data_for_parameter_all_years(\n",
    "    grouped, \n",
    "    swapped_cols_dict, \n",
    "    parameters=\"fixe Kosten\",\n",
    "    sector=\"tcs\",\n",
    "    years_dict=years_dict,\n",
    "    file_name_stats=\"fixed_costs_tcs_stats\",\n",
    "    file_name_sources=\"fixed_costs_tcs_sources\"\n",
    ")"
   ]
  },
  {
   "cell_type": "code",
   "execution_count": null,
   "metadata": {},
   "outputs": [],
   "source": [
    "run_analyses_for_parameter_single_year(\n",
    "    grouped, \n",
    "    swapped_cols_dict, \n",
    "    parameters=\"fixe Kosten\",\n",
    "    sector=\"tcs\",\n",
    "    years_dict=years_dict,\n",
    "    year=\"SQ\",\n",
    "    plot_title=\"Fixe Kosten\",\n",
    "    plot_ylabel=\"fixe Kosten in €_2018/kW*a\",\n",
    "    plot_colors=colors\n",
    ")"
   ]
  },
  {
   "cell_type": "markdown",
   "metadata": {},
   "source": [
    "## Households"
   ]
  },
  {
   "cell_type": "markdown",
   "metadata": {},
   "source": [
    "### Specific investments"
   ]
  },
  {
   "cell_type": "code",
   "execution_count": null,
   "metadata": {},
   "outputs": [],
   "source": [
    "extract_data_for_parameter_all_years(\n",
    "    grouped, \n",
    "    swapped_cols_dict, \n",
    "    parameters=\"Investitionsausgaben\",\n",
    "    sector=\"hoho\",\n",
    "    years_dict=years_dict,\n",
    "    file_name_stats=\"specific_investments_hoho_stats\",\n",
    "    file_name_sources=\"specific_investments_hoho_sources\"\n",
    ")"
   ]
  },
  {
   "cell_type": "code",
   "execution_count": null,
   "metadata": {},
   "outputs": [],
   "source": [
    "run_analyses_for_parameter_single_year(\n",
    "    grouped, \n",
    "    swapped_cols_dict, \n",
    "    parameters=\"Investitionsausgaben\",\n",
    "    sector=\"hoho\",\n",
    "    years_dict=years_dict,\n",
    "    year=\"SQ\",\n",
    "    plot_title=\"Spezifische Investitionsausgaben\",\n",
    "    plot_ylabel=\"spezifische Investitionsausgaben in €_2018/kW\",\n",
    "    plot_colors=colors\n",
    ")"
   ]
  },
  {
   "cell_type": "markdown",
   "metadata": {},
   "source": [
    "### variable costs load shifting"
   ]
  },
  {
   "cell_type": "code",
   "execution_count": null,
   "metadata": {},
   "outputs": [],
   "source": [
    "extract_data_for_parameter_all_years(\n",
    "    grouped, \n",
    "    swapped_cols_dict, \n",
    "    parameters=\"variable Kosten\",\n",
    "    sector=\"hoho\",\n",
    "    years_dict=years_dict,\n",
    "    file_name_stats=\"variable_costs_hoho_stats\",\n",
    "    file_name_sources=\"variable_costs_hoho_sources\"\n",
    ")"
   ]
  },
  {
   "cell_type": "code",
   "execution_count": null,
   "metadata": {},
   "outputs": [],
   "source": [
    "run_analyses_for_parameter_single_year(\n",
    "    grouped, \n",
    "    swapped_cols_dict, \n",
    "    parameters=\"variable Kosten\",\n",
    "    sector=\"hoho\",\n",
    "    years_dict=years_dict,\n",
    "    year=\"SQ\",\n",
    "    plot_title=\"Variable Kosten (Lastverschiebung)\",\n",
    "    plot_ylabel=\"variable Kosten in €_2018/MWh\",\n",
    "    plot_colors=colors\n",
    ")"
   ]
  },
  {
   "cell_type": "markdown",
   "metadata": {},
   "source": [
    "### variable costs load shedding"
   ]
  },
  {
   "cell_type": "code",
   "execution_count": null,
   "metadata": {},
   "outputs": [],
   "source": [
    "extract_data_for_parameter_all_years(\n",
    "    grouped, \n",
    "    swapped_cols_dict, \n",
    "    parameters=\"variable Kosten Lastverzicht\",\n",
    "    sector=\"hoho\",\n",
    "    years_dict=years_dict,\n",
    "    file_name_stats=\"variable_costs_shed_hoho_stats\",\n",
    "    file_name_sources=\"variable_costs_shed_hoho_sources\"\n",
    ")"
   ]
  },
  {
   "cell_type": "code",
   "execution_count": null,
   "metadata": {},
   "outputs": [],
   "source": [
    "run_analyses_for_parameter_single_year(\n",
    "    grouped, \n",
    "    swapped_cols_dict, \n",
    "    parameters=\"variable Kosten Lastverzicht\",\n",
    "    sector=\"hoho\",\n",
    "    years_dict=years_dict,\n",
    "    year=\"SQ\",\n",
    "    plot_title=\"Variable Kosten (Lastverzicht)\",\n",
    "    plot_ylabel=\"variable Kosten in €_2018/MWh\",\n",
    "    plot_colors=colors\n",
    ")"
   ]
  },
  {
   "cell_type": "markdown",
   "metadata": {},
   "source": [
    "### fixed costs"
   ]
  },
  {
   "cell_type": "code",
   "execution_count": null,
   "metadata": {},
   "outputs": [],
   "source": [
    "extract_data_for_parameter_all_years(\n",
    "    grouped, \n",
    "    swapped_cols_dict, \n",
    "    parameters=\"fixe Kosten\",\n",
    "    sector=\"hoho\",\n",
    "    years_dict=years_dict,\n",
    "    file_name_stats=\"fixed_costs_hoho_stats\",\n",
    "    file_name_sources=\"fixed_costs_hoho_sources\"\n",
    ")"
   ]
  },
  {
   "cell_type": "code",
   "execution_count": null,
   "metadata": {},
   "outputs": [],
   "source": [
    "run_analyses_for_parameter_single_year(\n",
    "    grouped, \n",
    "    swapped_cols_dict, \n",
    "    parameters=\"fixe Kosten\",\n",
    "    sector=\"hoho\",\n",
    "    years_dict=years_dict,\n",
    "    year=\"SQ\",\n",
    "    plot_title=\"Fixe Kosten\",\n",
    "    plot_ylabel=\"fixe Kosten in €_2018/kW*a\",\n",
    "    plot_colors=colors\n",
    ")"
   ]
  },
  {
   "cell_type": "markdown",
   "metadata": {},
   "source": [
    "# Eligibility for load shifting / load shedding\n",
    "* Extract eligibility for the status quo\n",
    "* Groupby process categories\n",
    "* Calculate the numbers for non-eligibility by calculating the differences between the overall amount and the numbers for eligibility\n",
    "* Plot in a stacked bar plot\n",
    "* Extract sources information"
   ]
  },
  {
   "cell_type": "code",
   "execution_count": null,
   "metadata": {},
   "outputs": [],
   "source": [
    "grouped_SQ = grouped.loc[grouped[\"Jahr\"].isin(status_quo_years)]\n",
    "eligibility = grouped_SQ[\n",
    "    [\"Lastverschiebung\", \"Lastverzicht\", \"Lasterhöhung\"]\n",
    "].groupby(grouped_SQ.index).sum()\n",
    "eligibility[\"Anzahl\"] = grouped_SQ.index.value_counts()"
   ]
  },
  {
   "cell_type": "code",
   "execution_count": null,
   "metadata": {},
   "outputs": [],
   "source": [
    "eligibility[\"Lastverschiebung ungeeignet\"] = (\n",
    "    eligibility[\"Anzahl\"].values - eligibility[\"Lastverschiebung\"].values \n",
    ")\n",
    "eligibility[\"Lastverzicht ungeeignet\"] = (\n",
    "    eligibility[\"Anzahl\"].values - eligibility[\"Lastverzicht\"].values \n",
    ")\n",
    "eligibility[\"Lasterhöhung ungeeignet\"] = (\n",
    "    eligibility[\"Anzahl\"].values - eligibility[\"Lasterhöhung\"].values \n",
    ")\n",
    "eligibility.sort_values(by=\"Anzahl\", ascending=False, inplace=True)\n",
    "eligibility.index.name = \"Lastmanagementkategorie\""
   ]
  },
  {
   "cell_type": "code",
   "execution_count": null,
   "metadata": {},
   "outputs": [],
   "source": [
    "fig, ax = plt.subplots(3, 1, figsize=(20,15), sharex = True)\n",
    "\n",
    "for i, el in enumerate([\"Lastverschiebung\", \"Lastverzicht\", \"Lasterhöhung\"]):\n",
    "\n",
    "    _ = eligibility[[el, el + \" ungeeignet\"]].rename(columns={\n",
    "            el: \"geeignet\",\n",
    "            el + \" ungeeignet\": \"ungeeignet\"\n",
    "        }).plot(\n",
    "            kind=\"bar\", \n",
    "            stacked=True,\n",
    "            color=[\"dimgrey\", \"lightgrey\"],\n",
    "            ax=ax[i]\n",
    "    )\n",
    "    _ = ax[i].set_title(el)\n",
    "\n",
    "plt.savefig(path_folder_plots+\"eligibility_all.png\", dpi = 150, bbox_inches = \"tight\")\n",
    "\n",
    "plt.show()    "
   ]
  },
  {
   "cell_type": "code",
   "execution_count": null,
   "metadata": {},
   "outputs": [],
   "source": [
    "grouped_SQ[\"all_sources_eligibility\"] = \"\"\n",
    "for col in [\n",
    "    \"Fundstelle Lastverschiebung\", \n",
    "    \"Fundstelle Lastverzicht\", \n",
    "    \"Fundstelle Lasterhöhung\"\n",
    "]:\n",
    "    entries = grouped_SQ[col].groupby(grouped_SQ.index).apply(lambda x: \"; \".join(x))\n",
    "    grouped_SQ[\"all_sources_eligibility\"] = \"; \".join(entries)\n",
    "\n",
    "sources_eligibility_df = grouped_SQ[[\"all_sources_eligibility\"]].groupby(\n",
    "    grouped_SQ.index\n",
    ").agg(lambda x: \"; \".join(x)).T\n",
    "\n",
    "eligibility_sources = extract_sample_sources(\n",
    "    sources_eligibility_df, \n",
    "    save=True, \n",
    "    path_folder=\"./out/sources/\", \n",
    "    file_name=\"sources_eligibility.csv\"\n",
    ")"
   ]
  },
  {
   "cell_type": "markdown",
   "metadata": {},
   "source": [
    "# Potential outlook\n",
    "In this section, an outlook for the future development of some Demand Response parameters up to (at most) 2050 is given.\n",
    "Future development for the following parameters is assessed\n",
    "* Capcity-related parameters: positive load shift potential, negative load shift potential\n",
    "* Time-related parameters: ?\n",
    "* Cost-related parameters: specific investments, variable costs and fixed costs"
   ]
  },
  {
   "cell_type": "markdown",
   "metadata": {},
   "source": [
    "## Industry"
   ]
  },
  {
   "cell_type": "markdown",
   "metadata": {},
   "source": [
    "### Select some processes for further analysis\n",
    "There are two ways to determine, which processes resp. appliances shall be further evaluated:\n",
    "* one rather systematic one choosing those with the highest potential (in the status quo resp. in 2050) and\n",
    "* a self-defined selection of processes which is influenced by the literature itself (and a potential personal bias).\n",
    "It can be chosen between the two by using the control parameter `use_nlargest_cols`.\n",
    "\n",
    "Method and criterions used for selection when using the columns with the highest potentials:\n",
    "* Select those with highest demand response potential in the status quo.\n",
    "* Select those with highest demand response potential in the 2050.\n",
    "* Combine the two, i.e. remove those that only show large potentials in one of the categories.\n",
    "* Analysis is separately carried out for positive and negative potentials to select the top ones for either category.\n",
    "* For the time- and cost-related parameters, the top ones of every category (pos / neg) is chosen.\n",
    "* The number of processes resp. appliances to be considered is flexibly modified in order to receive 3 to 4 remaining processes resp. appliances.\n",
    "\n",
    "_Note: A suitable alternative approach would be to choose those categories for which data coverage is best or for which differences in the future potential can be noticed. This is not yet implemented._"
   ]
  },
  {
   "cell_type": "code",
   "execution_count": null,
   "metadata": {},
   "outputs": [],
   "source": [
    "# Get the 5 processes with the largest positive potential for the status quo and 2050\n",
    "high_potential_pos_ind_cols_SQ = get_nlargest(potential_pos_ind_ave_years_dict, year=\"SQ\", metric=metric, n=9, sample_stats=sample_stats)\n",
    "high_potential_pos_ind_cols_2050 = get_nlargest(potential_pos_ind_ave_years_dict, year=\"2050\", metric=metric, n=9, sample_stats=sample_stats)\n",
    "\n",
    "# Get the 5 processes with the largest negative potential for the status quo and 2050\n",
    "high_potential_neg_ind_cols_SQ = get_nlargest(potential_neg_ind_ave_years_dict, year=\"SQ\", metric=metric, n=n, sample_stats=sample_stats)\n",
    "high_potential_neg_ind_cols_2050 = get_nlargest(potential_neg_ind_ave_years_dict, year=\"2050\", metric=metric, n=n, sample_stats=sample_stats)\n",
    "\n",
    "# Select the processes with the largest potential by combining the two\n",
    "high_potential_pos_ind_cols = list(set(high_potential_pos_ind_cols_SQ).intersection(set(high_potential_pos_ind_cols_2050)))\n",
    "high_potential_neg_ind_cols = list(set(high_potential_neg_ind_cols_SQ).intersection(set(high_potential_neg_ind_cols_2050)))\n",
    "\n",
    "print(high_potential_pos_ind_cols)\n",
    "print(high_potential_neg_ind_cols)"
   ]
  },
  {
   "cell_type": "code",
   "execution_count": null,
   "metadata": {},
   "outputs": [],
   "source": [
    "# Get the 3 processes with the largest positive potential for the status quo and 2050\n",
    "highest_potential_pos_ind_cols_SQ = get_nlargest(potential_pos_ind_ave_years_dict, year=\"SQ\", metric=metric, n=3, sample_stats=sample_stats)\n",
    "highest_potential_pos_ind_cols_2050 = get_nlargest(potential_pos_ind_ave_years_dict, year=\"2050\", metric=metric, n=3, sample_stats=sample_stats)\n",
    "\n",
    "# Get the 3 processes with the largest negative potential for the status quo and 2050\n",
    "highest_potential_neg_ind_cols_SQ = get_nlargest(potential_neg_ind_ave_years_dict, year=\"SQ\", metric=metric, n=3, sample_stats=sample_stats)\n",
    "highest_potential_neg_ind_cols_2050 = get_nlargest(potential_neg_ind_ave_years_dict, year=\"2050\", metric=metric, n=3, sample_stats=sample_stats)\n",
    "\n",
    "# Select the processes with the largest potential by combining the two\n",
    "highest_potential_ind_cols = list(set(highest_potential_pos_ind_cols_SQ).intersection(set(highest_potential_pos_ind_cols_2050)))\n",
    "highest_potential_neg_ind_cols = list(set(highest_potential_neg_ind_cols_SQ).intersection(set(highest_potential_neg_ind_cols_2050)))\n",
    "highest_potential_ind_cols.extend(highest_potential_neg_ind_cols)\n",
    "highest_potential_ind_cols = list(set(highest_potential_ind_cols))\n",
    "\n",
    "print(highest_potential_ind_cols)"
   ]
  },
  {
   "cell_type": "markdown",
   "metadata": {},
   "source": [
    "Alternative approach:\n",
    "* No systematic choice of processes, but self-selection of those of interest.\n",
    "* Variable values are overwritten such that the function calls themselves do not have to be adjusted and flexibility is increased."
   ]
  },
  {
   "cell_type": "code",
   "execution_count": null,
   "metadata": {},
   "outputs": [],
   "source": [
    "if not use_nlargest_cols:\n",
    "    if not modify_categories:\n",
    "        industry_cols = [\"Chlor-Alkali-Elektrolyse\", \"Elektrostahlherstellung\", \"Primäraluminiumelektrolyse\", \"Holzstoffherstellung\"]\n",
    "    elif aggregation_mode == \"granular\":\n",
    "        industry_cols = [\"Chlor-Alkali-Elektrolyse\", \"Elektrostahlherstellung (Lichtbogenofen)\", \"Primäraluminiumelektrolyse\", \"Holz- und Zellstoffherstellung\"]\n",
    "    elif aggregation_mode == \"broad\":\n",
    "        industry_cols = [\"Chlor-Alkali-Elektrolyse\", \"Elektrostahlherstellung (Lichtbogenofen)\", \"Primäraluminiumelektrolyse\", \"Papierherstellung\"]\n",
    "    high_potential_pos_ind_cols = industry_cols\n",
    "    high_potential_neg_ind_cols = industry_cols\n",
    "    highest_potential_ind_cols = industry_cols\n",
    "    print(industry_cols)"
   ]
  },
  {
   "cell_type": "markdown",
   "metadata": {},
   "source": [
    "### Positive load shift potential"
   ]
  },
  {
   "cell_type": "markdown",
   "metadata": {},
   "source": [
    "Create a dict containing the statistical info per year as well as a DataFrame containing the info on the development of the respective parameter"
   ]
  },
  {
   "cell_type": "code",
   "execution_count": null,
   "metadata": {},
   "outputs": [],
   "source": [
    "potential_pos_ind_ave_projection_dict, potential_pos_ind_ave_projection_df = extract_stats(potential_pos_ind_ave_years_dict, years_dict)"
   ]
  },
  {
   "cell_type": "markdown",
   "metadata": {},
   "source": [
    "Visualize the data using a grouped boxplot"
   ]
  },
  {
   "cell_type": "code",
   "execution_count": null,
   "metadata": {},
   "outputs": [],
   "source": [
    "create_projection_boxplot(potential_pos_ind_ave_df, years_dict, high_potential_pos_ind_cols, \n",
    "                          title=\"Positives Lastmanagementpotenzial (Lastreduktion) für ausgewählte Industrieprozesse - Projektion\",\n",
    "                          ylabel=\"Potenzial in MW\", \n",
    "                          colors=colors,\n",
    "                          ylim=[0, 3000],\n",
    "                          use_colors=use_colors,\n",
    "                          use_limits=False, \n",
    "                          sample_stats=sample_stats, \n",
    "                          add_sources=add_sources, \n",
    "                          swarmplot=swarmplot, \n",
    "                          savefig=savefig, \n",
    "                          filename=\"potential_pos_ind_ave\")"
   ]
  },
  {
   "cell_type": "code",
   "execution_count": null,
   "metadata": {},
   "outputs": [],
   "source": [
    "if write_sources:\n",
    "    save_future_sources(potential_pos_ind_ave_df, high_potential_pos_ind_cols, path_folder=path_folder_sources, filename=\"potential_pos_ind_ave_projection_sources.xlsx\",  \n",
    "                        add_sources=add_sources)"
   ]
  },
  {
   "cell_type": "markdown",
   "metadata": {},
   "source": [
    "### Negative load shift potential"
   ]
  },
  {
   "cell_type": "code",
   "execution_count": null,
   "metadata": {},
   "outputs": [],
   "source": [
    "potential_neg_ind_ave_projection_dict, potential_neg_ind_ave_projection_df = extract_stats(potential_neg_ind_ave_years_dict, years_dict)"
   ]
  },
  {
   "cell_type": "code",
   "execution_count": null,
   "metadata": {},
   "outputs": [],
   "source": [
    "create_projection_boxplot(potential_neg_ind_ave_df, years_dict, high_potential_neg_ind_cols, \n",
    "                          title=\"Negatives Lastmanagementpotenzial (Lasterhöhung) für ausgewählte Industrieprozesse - Projektion\",\n",
    "                          ylabel=\"Potenzial in MW\", \n",
    "                          colors=colors,\n",
    "                          ylim=[-3000, 0],\n",
    "                          use_colors=use_colors,\n",
    "                          negate=True,\n",
    "                          use_limits=False, \n",
    "                          sample_stats=sample_stats, \n",
    "                          add_sources=add_sources, \n",
    "                          swarmplot=swarmplot, \n",
    "                          savefig=savefig, \n",
    "                          filename=\"potential_neg_ind_ave\")"
   ]
  },
  {
   "cell_type": "code",
   "execution_count": null,
   "metadata": {},
   "outputs": [],
   "source": [
    "if write_sources:\n",
    "    save_future_sources(potential_neg_ind_ave_df, high_potential_neg_ind_cols, path_folder=path_folder_sources, filename=\"potential_neg_ind_ave_projection_sources.xlsx\", \n",
    "                        add_sources=add_sources)"
   ]
  },
  {
   "cell_type": "markdown",
   "metadata": {},
   "source": [
    "Visualize the data using a grouped boxplot"
   ]
  },
  {
   "cell_type": "markdown",
   "metadata": {},
   "source": [
    "### Specific investments"
   ]
  },
  {
   "cell_type": "code",
   "execution_count": null,
   "metadata": {},
   "outputs": [],
   "source": [
    "specific_investments_ind_projection_dict, specific_investments_ind_projection_df = extract_stats(specific_investments_ind_years_dict, years_dict)"
   ]
  },
  {
   "cell_type": "markdown",
   "metadata": {},
   "source": [
    "Visualize the data using a grouped boxplot"
   ]
  },
  {
   "cell_type": "code",
   "execution_count": null,
   "metadata": {},
   "outputs": [],
   "source": [
    "create_projection_boxplot(specific_investments_ind_df, years_dict, highest_potential_ind_cols, \n",
    "                          title=\"Spezifische Investitionsausgaben für ausgewählte Industrieprozesse - Projektion\",\n",
    "                          ylabel=\"spezifische Investitionsausgaben in €_2018/kW\", \n",
    "                          colors=colors,\n",
    "                          ylim=[0, 3000],\n",
    "                          use_colors=use_colors,\n",
    "                          use_limits=use_limits, \n",
    "                          sample_stats=sample_stats, \n",
    "                          add_sources=add_sources, \n",
    "                          swarmplot=swarmplot, \n",
    "                          savefig=savefig, \n",
    "                          filename=\"specific_investments_ind\")"
   ]
  },
  {
   "cell_type": "code",
   "execution_count": null,
   "metadata": {},
   "outputs": [],
   "source": [
    "if write_sources:\n",
    "    save_future_sources(specific_investments_ind_df, highest_potential_ind_cols, path_folder=path_folder_sources, filename=\"specific_investments_ind_projection_sources.xlsx\",  \n",
    "                        add_sources=add_sources)"
   ]
  },
  {
   "cell_type": "markdown",
   "metadata": {},
   "source": [
    "### Variable costs"
   ]
  },
  {
   "cell_type": "code",
   "execution_count": null,
   "metadata": {},
   "outputs": [],
   "source": [
    "variable_costs_ind_projection_dict, variable_costs_ind_projection_df = extract_stats(variable_costs_ind_years_dict, years_dict)"
   ]
  },
  {
   "cell_type": "markdown",
   "metadata": {},
   "source": [
    "Visualize the data using a grouped boxplot"
   ]
  },
  {
   "cell_type": "code",
   "execution_count": null,
   "metadata": {},
   "outputs": [],
   "source": [
    "create_projection_boxplot(variable_costs_ind_df, years_dict, highest_potential_ind_cols, \n",
    "                          title=\"Variable Kosten für ausgewählte Industrieprozesse - Projektion\", \n",
    "                          ylabel=\"variable Kosten in €_2018/MWh\", \n",
    "                          colors=colors,\n",
    "                          ylim=[0, 3000],\n",
    "                          use_colors=use_colors,\n",
    "                          use_limits=use_limits, \n",
    "                          sample_stats=sample_stats, \n",
    "                          add_sources=add_sources, \n",
    "                          swarmplot=swarmplot, \n",
    "                          savefig=savefig, \n",
    "                          filename=\"variable_costs_ind\")"
   ]
  },
  {
   "cell_type": "code",
   "execution_count": null,
   "metadata": {},
   "outputs": [],
   "source": [
    "if write_sources:\n",
    "    save_future_sources(variable_costs_ind_df, highest_potential_ind_cols, path_folder=path_folder_sources, filename=\"variable_costs_ind_projection_sources.xlsx\",  \n",
    "                        add_sources=add_sources)"
   ]
  },
  {
   "cell_type": "markdown",
   "metadata": {},
   "source": [
    "### Fixed costs"
   ]
  },
  {
   "cell_type": "code",
   "execution_count": null,
   "metadata": {},
   "outputs": [],
   "source": [
    "fixed_costs_ind_projection_dict, fixed_costs_ind_projection_df = extract_stats(fixed_costs_ind_years_dict, years_dict)"
   ]
  },
  {
   "cell_type": "markdown",
   "metadata": {},
   "source": [
    "Visualize the data using a grouped boxplot"
   ]
  },
  {
   "cell_type": "code",
   "execution_count": null,
   "metadata": {},
   "outputs": [],
   "source": [
    "create_projection_boxplot(fixed_costs_ind_df, years_dict, highest_potential_ind_cols, \n",
    "                          title=\"Fixe Kosten für ausgewählte Industrieprozesse - Projektion\", \n",
    "                          ylabel=\"fixe Kosten in €_2018/kW*a\",  \n",
    "                          colors=colors,\n",
    "                          ylim=[0, 3000],\n",
    "                          use_colors=use_colors,\n",
    "                          use_limits=use_limits, \n",
    "                          sample_stats=sample_stats, \n",
    "                          add_sources=add_sources, \n",
    "                          swarmplot=swarmplot, \n",
    "                          savefig=savefig, \n",
    "                          filename=\"fixed_costs_ind\")"
   ]
  },
  {
   "cell_type": "code",
   "execution_count": null,
   "metadata": {},
   "outputs": [],
   "source": [
    "if write_sources:\n",
    "    save_future_sources(fixed_costs_ind_df, highest_potential_ind_cols, path_folder=path_folder_sources, filename=\"fixed_costs_ind_projection_sources.xlsx\",  \n",
    "                        add_sources=add_sources)"
   ]
  },
  {
   "cell_type": "markdown",
   "metadata": {},
   "source": [
    "## Trade, commerce and services"
   ]
  },
  {
   "cell_type": "markdown",
   "metadata": {},
   "source": [
    "### Select some processes for further analysis\n",
    "Method and criterions used for selection:\n",
    "* Select those with highest demand response potential in the status quo.\n",
    "* Select those with highest demand response potential in the 2050.\n",
    "* Combine the two, i.e. remove those that only show large potentials in one of the categories.\n",
    "* Analysis is separately carried out for positive and negative potentials to select the top 5 for either category.\n",
    "* For the time- and cost-related parameters, the top 3 of every category is chosen."
   ]
  },
  {
   "cell_type": "code",
   "execution_count": null,
   "metadata": {},
   "outputs": [],
   "source": [
    "# Get the 5 processes with the largest positive potential for the status quo and 2050\n",
    "high_potential_pos_tcs_cols_SQ = get_nlargest(potential_pos_tcs_ave_years_dict, year=\"SQ\", metric=metric, n=15)\n",
    "high_potential_pos_tcs_cols_2050 = get_nlargest(potential_pos_tcs_ave_years_dict, year=\"2050\", metric=metric, n=15)\n",
    "\n",
    "# Get the 5 processes with the largest negative potential for the status quo and 2050\n",
    "high_potential_neg_tcs_cols_SQ = get_nlargest(potential_neg_tcs_ave_years_dict, year=\"SQ\", metric=metric, n=6)\n",
    "high_potential_neg_tcs_cols_2050 = get_nlargest(potential_neg_tcs_ave_years_dict, year=\"2050\", metric=metric, n=6)\n",
    "\n",
    "# Select the processes with the largest potential by combining the two\n",
    "high_potential_pos_tcs_cols = list(set(high_potential_pos_tcs_cols_SQ).intersection(set(high_potential_pos_tcs_cols_2050)))\n",
    "high_potential_neg_tcs_cols = list(set(high_potential_neg_tcs_cols_SQ).intersection(set(high_potential_neg_tcs_cols_2050)))\n",
    "\n",
    "print(high_potential_pos_tcs_cols)\n",
    "print(high_potential_neg_tcs_cols)"
   ]
  },
  {
   "cell_type": "code",
   "execution_count": null,
   "metadata": {},
   "outputs": [],
   "source": [
    "# Get the 3 processes with the largest positive potential for the status quo and 2050\n",
    "highest_potential_pos_tcs_cols_SQ = get_nlargest(potential_pos_tcs_ave_years_dict, year=\"SQ\", metric=metric, n=5)\n",
    "highest_potential_pos_tcs_cols_2050 = get_nlargest(potential_pos_tcs_ave_years_dict, year=\"2050\", metric=metric, n=5)\n",
    "\n",
    "# Get the 3 processes with the largest negative potential for the status quo and 2050\n",
    "highest_potential_neg_tcs_cols_SQ = get_nlargest(potential_neg_tcs_ave_years_dict, year=\"SQ\", metric=metric, n=5)\n",
    "highest_potential_neg_tcs_cols_2050 = get_nlargest(potential_neg_tcs_ave_years_dict, year=\"2050\", metric=metric, n=5)\n",
    "\n",
    "# Select the processes with the largest potential by combining the two\n",
    "highest_potential_tcs_cols = list(set(highest_potential_pos_tcs_cols_SQ).intersection(set(highest_potential_pos_tcs_cols_2050)))\n",
    "highest_potential_neg_tcs_cols = list(set(highest_potential_neg_tcs_cols_SQ).intersection(set(highest_potential_neg_tcs_cols_2050)))\n",
    "highest_potential_tcs_cols.extend(highest_potential_neg_tcs_cols)\n",
    "highest_potential_tcs_cols = list(set(highest_potential_tcs_cols))\n",
    "\n",
    "print(highest_potential_tcs_cols)"
   ]
  },
  {
   "cell_type": "markdown",
   "metadata": {},
   "source": [
    "Alternative approach: No systematic choice of processes, but selection of those of interest."
   ]
  },
  {
   "cell_type": "code",
   "execution_count": null,
   "metadata": {},
   "outputs": [],
   "source": [
    "if not use_nlargest_cols:\n",
    "    if not modify_categories:\n",
    "        tcs_cols = [\"Prozesskälte gesamt\", \"Belüftung gesamt\", \"Klimaanlagen\", \"Trinkwasserpumpen\"]\n",
    "    elif aggregation_mode == \"granular\":\n",
    "        tcs_cols = [\"Prozesskälte\", \"Belüftung\", \"Klimakälte\", \"Pumpenanwendungen in der Wasserversorgung\"]\n",
    "    elif aggregation_mode == \"broad\":\n",
    "        tcs_cols = [\"Prozesskälte\", \"Belüftung\", \"Klimakälte\", \"Pumpenanwendungen in der Wasserversorgung\"]\n",
    "    high_potential_pos_tcs_cols = tcs_cols\n",
    "    high_potential_neg_tcs_cols = tcs_cols\n",
    "    highest_potential_tcs_cols = tcs_cols\n",
    "    print(tcs_cols)"
   ]
  },
  {
   "cell_type": "markdown",
   "metadata": {},
   "source": [
    "### Positive load shift potential"
   ]
  },
  {
   "cell_type": "markdown",
   "metadata": {},
   "source": [
    "Create a dict containing the statistical info per year as well as a DataFrame containing the info on the development of the respective parameter"
   ]
  },
  {
   "cell_type": "code",
   "execution_count": null,
   "metadata": {},
   "outputs": [],
   "source": [
    "potential_pos_tcs_ave_projection_dict, potential_pos_tcs_ave_projection_df = extract_stats(potential_pos_tcs_ave_years_dict, years_dict)"
   ]
  },
  {
   "cell_type": "markdown",
   "metadata": {},
   "source": [
    "Visualize the data using a grouped boxplot"
   ]
  },
  {
   "cell_type": "code",
   "execution_count": null,
   "metadata": {},
   "outputs": [],
   "source": [
    "create_projection_boxplot(potential_pos_tcs_ave_df, years_dict, high_potential_pos_tcs_cols, \n",
    "                          title=\"Positives Lastmanagementpotenzial (Lastreduktion) für ausgewählte Anwendungen im GHD-Sektor - Projektion\",\n",
    "                          ylabel=\"Potenzial in MW\", \n",
    "                          colors=colors,\n",
    "                          ylim=[0, 1000],\n",
    "                          use_colors=use_colors,\n",
    "                          use_limits=False,\n",
    "                          sample_stats=sample_stats, \n",
    "                          add_sources=add_sources, \n",
    "                          swarmplot=swarmplot, \n",
    "                          savefig=savefig, \n",
    "                          filename=\"potential_pos_tcs_ave\")"
   ]
  },
  {
   "cell_type": "code",
   "execution_count": null,
   "metadata": {},
   "outputs": [],
   "source": [
    "if write_sources:\n",
    "    save_future_sources(potential_pos_tcs_ave_df, high_potential_pos_tcs_cols, path_folder=path_folder_sources, filename=\"potential_pos_tcs_ave_projection_sources.xlsx\",  \n",
    "                        add_sources=add_sources)"
   ]
  },
  {
   "cell_type": "markdown",
   "metadata": {},
   "source": [
    "### Negative load shift potential"
   ]
  },
  {
   "cell_type": "code",
   "execution_count": null,
   "metadata": {},
   "outputs": [],
   "source": [
    "potential_neg_tcs_ave_projection_dict, potential_neg_tcs_ave_projection_df = extract_stats(potential_neg_tcs_ave_years_dict, years_dict)"
   ]
  },
  {
   "cell_type": "code",
   "execution_count": null,
   "metadata": {},
   "outputs": [],
   "source": [
    "create_projection_boxplot(potential_neg_tcs_ave_df, years_dict, high_potential_neg_tcs_cols, \n",
    "                          title=\"Negatives Lastmanagementpotenzial (Lasterhöhung) für ausgewählte Anwendungen im GHD-Sektor - Projektion\",\n",
    "                          ylabel=\"Potenzial in MW\",  \n",
    "                          colors=colors,\n",
    "                          ylim=[-3000, 0],\n",
    "                          use_colors=use_colors,\n",
    "                          negate=True,\n",
    "                          use_limits=False, \n",
    "                          sample_stats=sample_stats, \n",
    "                          add_sources=add_sources, \n",
    "                          swarmplot=swarmplot, \n",
    "                          savefig=savefig, \n",
    "                          filename=\"potential_neg_tcs_ave\")"
   ]
  },
  {
   "cell_type": "code",
   "execution_count": null,
   "metadata": {},
   "outputs": [],
   "source": [
    "if write_sources:\n",
    "    save_future_sources(potential_neg_tcs_ave_df, high_potential_neg_tcs_cols, path_folder=path_folder_sources, filename=\"potential_neg_tcs_ave_projection_sources.xlsx\",  \n",
    "                        add_sources=add_sources)"
   ]
  },
  {
   "cell_type": "markdown",
   "metadata": {},
   "source": [
    "Visualize the data using a grouped boxplot"
   ]
  },
  {
   "cell_type": "markdown",
   "metadata": {},
   "source": [
    "### Specific investments"
   ]
  },
  {
   "cell_type": "code",
   "execution_count": null,
   "metadata": {},
   "outputs": [],
   "source": [
    "specific_investments_tcs_projection_dict, specific_investments_tcs_projection_df = extract_stats(specific_investments_tcs_years_dict, years_dict)"
   ]
  },
  {
   "cell_type": "markdown",
   "metadata": {},
   "source": [
    "Visualize the data using a grouped boxplot"
   ]
  },
  {
   "cell_type": "code",
   "execution_count": null,
   "metadata": {},
   "outputs": [],
   "source": [
    "create_projection_boxplot(specific_investments_tcs_df, years_dict, highest_potential_tcs_cols, \n",
    "                          title=\"Spezifische Investitionsausgaben für ausgewählte Anwendungen im GHD-Sektor - Projektion\",\n",
    "                          ylabel=\"spezifische Investitionsausgaben in €_2018/kW\", \n",
    "                          colors=colors,\n",
    "                          ylim=[0, 3000],\n",
    "                          use_colors=use_colors,\n",
    "                          use_limits=use_limits, \n",
    "                          sample_stats=sample_stats, \n",
    "                          add_sources=add_sources, \n",
    "                          swarmplot=swarmplot, \n",
    "                          savefig=savefig, \n",
    "                          filename=\"specific_investments_tcs\")"
   ]
  },
  {
   "cell_type": "code",
   "execution_count": null,
   "metadata": {},
   "outputs": [],
   "source": [
    "if write_sources:\n",
    "    save_future_sources(specific_investments_tcs_df, highest_potential_tcs_cols, path_folder=path_folder_sources, filename=\"specific_investments_tcs_projection_sources.xlsx\",  \n",
    "                        add_sources=add_sources)"
   ]
  },
  {
   "cell_type": "markdown",
   "metadata": {},
   "source": [
    "### Variable costs"
   ]
  },
  {
   "cell_type": "code",
   "execution_count": null,
   "metadata": {},
   "outputs": [],
   "source": [
    "variable_costs_tcs_projection_dict, variable_costs_tcs_projection_df = extract_stats(variable_costs_tcs_years_dict, years_dict)"
   ]
  },
  {
   "cell_type": "markdown",
   "metadata": {},
   "source": [
    "Visualize the data using a grouped boxplot"
   ]
  },
  {
   "cell_type": "code",
   "execution_count": null,
   "metadata": {},
   "outputs": [],
   "source": [
    "create_projection_boxplot(variable_costs_tcs_df, years_dict, highest_potential_tcs_cols, \n",
    "                          title=\"Variable Kosten für ausgewählte Anwendungen im GHD-Sektor - Projektion\", \n",
    "                          ylabel=\"variable Kosten in €_2018/MWh\",\n",
    "                          colors=colors,\n",
    "                          ylim=[0, 3000],\n",
    "                          use_colors=use_colors,\n",
    "                          use_limits=use_limits, \n",
    "                          sample_stats=sample_stats, \n",
    "                          add_sources=add_sources, \n",
    "                          swarmplot=swarmplot, \n",
    "                          savefig=savefig, \n",
    "                          filename=\"variable_costs_tcs\")"
   ]
  },
  {
   "cell_type": "code",
   "execution_count": null,
   "metadata": {},
   "outputs": [],
   "source": [
    "if write_sources:\n",
    "    save_future_sources(variable_costs_tcs_df, highest_potential_tcs_cols, path_folder=path_folder_sources, filename=\"variable_costs_tcs_projection_sources.xlsx\",  \n",
    "                        add_sources=add_sources)"
   ]
  },
  {
   "cell_type": "markdown",
   "metadata": {},
   "source": [
    "### Fixed costs"
   ]
  },
  {
   "cell_type": "code",
   "execution_count": null,
   "metadata": {},
   "outputs": [],
   "source": [
    "fixed_costs_tcs_projection_dict, fixed_costs_tcs_projection_df = extract_stats(fixed_costs_tcs_years_dict, years_dict)"
   ]
  },
  {
   "cell_type": "markdown",
   "metadata": {},
   "source": [
    "Visualize the data using a grouped boxplot"
   ]
  },
  {
   "cell_type": "code",
   "execution_count": null,
   "metadata": {},
   "outputs": [],
   "source": [
    "create_projection_boxplot(fixed_costs_tcs_df, years_dict, highest_potential_tcs_cols, \n",
    "                          title=\"Fixe Kosten für ausgewählte Anwendungen im GHD-Sektor - Projektion\", \n",
    "                          ylabel=\"fixe Kosten in €_2018/kW*a\",\n",
    "                          colors=colors,\n",
    "                          ylim=[0, 3000],\n",
    "                          use_colors=use_colors,\n",
    "                          use_limits=use_limits, \n",
    "                          sample_stats=sample_stats, \n",
    "                          add_sources=add_sources, \n",
    "                          swarmplot=swarmplot, \n",
    "                          savefig=savefig, \n",
    "                          filename=\"fixed_costs_tcs\")"
   ]
  },
  {
   "cell_type": "code",
   "execution_count": null,
   "metadata": {},
   "outputs": [],
   "source": [
    "if write_sources:\n",
    "    save_future_sources(fixed_costs_tcs_df, highest_potential_tcs_cols, path_folder=path_folder_sources, filename=\"fixed_costs_tcs_projection_sources.xlsx\",  \n",
    "                        add_sources=add_sources)"
   ]
  },
  {
   "cell_type": "markdown",
   "metadata": {},
   "source": [
    "## Households"
   ]
  },
  {
   "cell_type": "markdown",
   "metadata": {},
   "source": [
    "### Select some processes for further analysis\n",
    "Method and criterions used for selection:\n",
    "* Select those with highest demand response potential in the status quo.\n",
    "* Select those with highest demand response potential in the 2050.\n",
    "* Combine the two, i.e. remove those that only show large potentials in one of the categories.\n",
    "* Analysis is separately carried out for positive and negative potentials to select the top 5 for either category.\n",
    "* For the time- and cost-related parameters, the top 3 of every category is chosen."
   ]
  },
  {
   "cell_type": "code",
   "execution_count": null,
   "metadata": {},
   "outputs": [],
   "source": [
    "# Get the 5 processes with the largest positive potential for the status quo and 2050\n",
    "high_potential_pos_hoho_cols_SQ = get_nlargest(potential_pos_hoho_ave_years_dict, year=\"SQ\", metric=metric, n=n)\n",
    "high_potential_pos_hoho_cols_2050 = get_nlargest(potential_pos_hoho_ave_years_dict, year=\"2050\", metric=metric, n=n)\n",
    "\n",
    "# Get the 5 processes with the largest negative potential for the status quo and 2050\n",
    "high_potential_neg_hoho_cols_SQ = get_nlargest(potential_neg_hoho_ave_years_dict, year=\"SQ\", metric=metric, n=n)\n",
    "high_potential_neg_hoho_cols_2050 = get_nlargest(potential_neg_hoho_ave_years_dict, year=\"2050\", metric=metric, n=n)\n",
    "\n",
    "# Select the processes with the largest potential by combining the two\n",
    "high_potential_pos_hoho_cols = list(set(high_potential_pos_hoho_cols_SQ).intersection(set(high_potential_pos_hoho_cols_2050)))\n",
    "high_potential_neg_hoho_cols = list(set(high_potential_neg_hoho_cols_SQ).intersection(set(high_potential_neg_hoho_cols_2050)))\n",
    "\n",
    "print(high_potential_pos_hoho_cols)\n",
    "print(high_potential_neg_hoho_cols)"
   ]
  },
  {
   "cell_type": "code",
   "execution_count": null,
   "metadata": {},
   "outputs": [],
   "source": [
    "# Get the 3 processes with the largest positive potential for the status quo and 2050\n",
    "highest_potential_pos_hoho_cols_SQ = get_nlargest(potential_pos_hoho_ave_years_dict, year=\"SQ\", metric=metric, n=3)\n",
    "highest_potential_pos_hoho_cols_2050 = get_nlargest(potential_pos_hoho_ave_years_dict, year=\"2050\", metric=metric, n=3)\n",
    "\n",
    "# Get the 3 processes with the largest negative potential for the status quo and 2050\n",
    "highest_potential_neg_hoho_cols_SQ = get_nlargest(potential_neg_hoho_ave_years_dict, year=\"SQ\", metric=metric, n=3)\n",
    "highest_potential_neg_hoho_cols_2050 = get_nlargest(potential_neg_hoho_ave_years_dict, year=\"2050\", metric=metric, n=3)\n",
    "\n",
    "# Select the processes with the largest potential by combining the two\n",
    "highest_potential_hoho_cols = list(set(highest_potential_pos_hoho_cols_SQ).intersection(set(highest_potential_pos_hoho_cols_2050)))\n",
    "highest_potential_neg_hoho_cols = list(set(highest_potential_neg_hoho_cols_SQ).intersection(set(highest_potential_neg_hoho_cols_2050)))\n",
    "highest_potential_hoho_cols.extend(highest_potential_neg_hoho_cols)\n",
    "highest_potential_hoho_cols = list(set(highest_potential_hoho_cols))\n",
    "\n",
    "print(highest_potential_hoho_cols)"
   ]
  },
  {
   "cell_type": "code",
   "execution_count": null,
   "metadata": {},
   "outputs": [],
   "source": [
    "if not use_nlargest_cols:\n",
    "    if not modify_categories:\n",
    "        hoho_cols = [\"Wärmepumpen\", \"Nachtspeicher Haushalte\", \"Klimaanlagen\", \"Kühlschrank\"]\n",
    "    elif aggregation_mode == \"granular\":\n",
    "        hoho_cols = [\"Wärmepumpen\", \"Nachtspeicherheizungen\", \"Klimakälte\", \"Kühlschränke\"]\n",
    "    elif aggregation_mode == \"broad\":\n",
    "        hoho_cols = [\"Wärmepumpen\", \"Nachtspeicherheizungen\", \"Klimakälte\", \"Kühl- und Gefrieranwendungen\"]\n",
    "    high_potential_pos_hoho_cols = hoho_cols\n",
    "    high_potential_neg_hoho_cols = hoho_cols\n",
    "    highest_potential_hoho_cols = hoho_cols\n",
    "    print(hoho_cols)"
   ]
  },
  {
   "cell_type": "markdown",
   "metadata": {},
   "source": [
    "### Positive load shift potential"
   ]
  },
  {
   "cell_type": "markdown",
   "metadata": {},
   "source": [
    "Create a dict containing the statistical info per year as well as a DataFrame containing the info on the development of the respective parameter"
   ]
  },
  {
   "cell_type": "code",
   "execution_count": null,
   "metadata": {},
   "outputs": [],
   "source": [
    "potential_pos_hoho_ave_projection_dict, potential_pos_hoho_ave_projection_df = extract_stats(potential_pos_hoho_ave_years_dict, years_dict)"
   ]
  },
  {
   "cell_type": "markdown",
   "metadata": {},
   "source": [
    "Visualize the data using a grouped boxplot"
   ]
  },
  {
   "cell_type": "code",
   "execution_count": null,
   "metadata": {},
   "outputs": [],
   "source": [
    "create_projection_boxplot(potential_pos_hoho_ave_df, years_dict, high_potential_pos_hoho_cols, \n",
    "                          title=\"Projektion des positiven Lastmanagementpotenzials (Lastreduktion) für ausgewählte Haushaltsanwendungen\",\n",
    "                          ylabel=\"durchn. positives Potenzial in MW\",\n",
    "                          colors=colors,\n",
    "                          ylim=[0, 12000],\n",
    "                          use_colors=use_colors,\n",
    "                          use_limits=False, \n",
    "                          sample_stats=sample_stats, \n",
    "                          add_sources=add_sources, \n",
    "                          swarmplot=swarmplot, \n",
    "                          savefig=savefig, \n",
    "                          filename=\"potential_pos_hoho_ave\")"
   ]
  },
  {
   "cell_type": "code",
   "execution_count": null,
   "metadata": {},
   "outputs": [],
   "source": [
    "if write_sources:\n",
    "    save_future_sources(potential_pos_hoho_ave_df, high_potential_pos_hoho_cols, path_folder=path_folder_sources, filename=\"potential_pos_hoho_ave_projection_sources.xlsx\",  \n",
    "                        add_sources=add_sources)"
   ]
  },
  {
   "cell_type": "markdown",
   "metadata": {},
   "source": [
    "### Negative load shift potential"
   ]
  },
  {
   "cell_type": "code",
   "execution_count": null,
   "metadata": {},
   "outputs": [],
   "source": [
    "potential_neg_hoho_ave_projection_dict, potential_neg_hoho_ave_projection_df = extract_stats(potential_neg_hoho_ave_years_dict, years_dict)"
   ]
  },
  {
   "cell_type": "code",
   "execution_count": null,
   "metadata": {},
   "outputs": [],
   "source": [
    "create_projection_boxplot(potential_neg_hoho_ave_df, years_dict, high_potential_neg_hoho_cols, \n",
    "                          title=\"Negatives Lastmanagementpotenzial (Lasterhöhung) für ausgewählte Haushaltsanwendungen - Projektion\",\n",
    "                          ylabel=\"Potenzial in MW\", \n",
    "                          colors=colors,\n",
    "                          ylim=[-12000, 0],\n",
    "                          use_colors=use_colors,\n",
    "                          negate=True,\n",
    "                          use_limits=False, \n",
    "                          sample_stats=sample_stats, \n",
    "                          add_sources=add_sources, \n",
    "                          swarmplot=swarmplot, \n",
    "                          savefig=savefig, \n",
    "                          filename=\"potential_neg_hoho_ave\")"
   ]
  },
  {
   "cell_type": "code",
   "execution_count": null,
   "metadata": {},
   "outputs": [],
   "source": [
    "if write_sources:\n",
    "    save_future_sources(potential_neg_hoho_ave_df, high_potential_neg_hoho_cols, path_folder=path_folder_sources, filename=\"potential_neg_hoho_ave_projection_sources.xlsx\",  \n",
    "                        add_sources=add_sources)"
   ]
  },
  {
   "cell_type": "markdown",
   "metadata": {},
   "source": [
    "Visualize the data using a grouped boxplot"
   ]
  },
  {
   "cell_type": "markdown",
   "metadata": {},
   "source": [
    "### Specific investments"
   ]
  },
  {
   "cell_type": "code",
   "execution_count": null,
   "metadata": {},
   "outputs": [],
   "source": [
    "specific_investments_hoho_projection_dict, specific_investments_hoho_projection_df = extract_stats(specific_investments_hoho_years_dict, years_dict)"
   ]
  },
  {
   "cell_type": "markdown",
   "metadata": {},
   "source": [
    "Visualize the data using a grouped boxplot"
   ]
  },
  {
   "cell_type": "code",
   "execution_count": null,
   "metadata": {},
   "outputs": [],
   "source": [
    "create_projection_boxplot(specific_investments_hoho_df, years_dict, highest_potential_hoho_cols, \n",
    "                          title=\"Spezifische Investitionsausgaben für ausgewählte Haushaltsanwendungen - Projektion\",\n",
    "                          ylabel=\"spezifische Investitionsausgaben in €_2018/kW\",\n",
    "                          colors=colors,\n",
    "                          ylim=[0, 1500],\n",
    "                          use_colors=use_colors,\n",
    "                          use_limits=False, \n",
    "                          sample_stats=sample_stats, \n",
    "                          add_sources=add_sources, \n",
    "                          swarmplot=swarmplot, \n",
    "                          savefig=savefig, \n",
    "                          filename=\"specific_investments_hoho\")"
   ]
  },
  {
   "cell_type": "code",
   "execution_count": null,
   "metadata": {},
   "outputs": [],
   "source": [
    "if write_sources:\n",
    "    save_future_sources(specific_investments_hoho_df, highest_potential_hoho_cols, path_folder=path_folder_sources, filename=\"specific_investments_hoho_projection_sources.xlsx\",  \n",
    "                        add_sources=add_sources)"
   ]
  },
  {
   "cell_type": "markdown",
   "metadata": {},
   "source": [
    "### Variable costs"
   ]
  },
  {
   "cell_type": "code",
   "execution_count": null,
   "metadata": {},
   "outputs": [],
   "source": [
    "variable_costs_hoho_projection_dict, variable_costs_hoho_projection_df = extract_stats(variable_costs_hoho_years_dict, years_dict)"
   ]
  },
  {
   "cell_type": "markdown",
   "metadata": {},
   "source": [
    "Visualize the data using a grouped boxplot"
   ]
  },
  {
   "cell_type": "code",
   "execution_count": null,
   "metadata": {},
   "outputs": [],
   "source": [
    "create_projection_boxplot(variable_costs_hoho_df, years_dict, highest_potential_hoho_cols, \n",
    "                          title=\"Variable Kosten für ausgewählte Haushaltsanwendungen - Projektion\", \n",
    "                          ylabel=\"variable Kosten in €_2018/MWh\",\n",
    "                          colors=colors,\n",
    "                          ylim=[0, 3000],\n",
    "                          use_colors=use_colors,\n",
    "                          use_limits=use_limits, \n",
    "                          sample_stats=sample_stats, \n",
    "                          add_sources=add_sources, \n",
    "                          swarmplot=swarmplot, \n",
    "                          savefig=savefig, \n",
    "                          filename=\"variable_costs_hoho\")"
   ]
  },
  {
   "cell_type": "code",
   "execution_count": null,
   "metadata": {},
   "outputs": [],
   "source": [
    "if write_sources:\n",
    "    save_future_sources(variable_costs_hoho_df, highest_potential_hoho_cols, path_folder=path_folder_sources, filename=\"variable_costs_hoho_projection_sources.xlsx\",  \n",
    "                        add_sources=add_sources)"
   ]
  },
  {
   "cell_type": "markdown",
   "metadata": {},
   "source": [
    "### Fixed costs"
   ]
  },
  {
   "cell_type": "code",
   "execution_count": null,
   "metadata": {},
   "outputs": [],
   "source": [
    "fixed_costs_hoho_projection_dict, fixed_costs_hoho_projection_df = extract_stats(fixed_costs_hoho_years_dict, years_dict)"
   ]
  },
  {
   "cell_type": "markdown",
   "metadata": {},
   "source": [
    "Visualize the data using a grouped boxplot"
   ]
  },
  {
   "cell_type": "code",
   "execution_count": null,
   "metadata": {},
   "outputs": [],
   "source": [
    "create_projection_boxplot(fixed_costs_hoho_df, years_dict, highest_potential_hoho_cols, \n",
    "                          title=\"Fixe Kosten für ausgewählte Anwendungen im GHD-Sektor - Projektion\", \n",
    "                          ylabel=\"fixe Kosten in €_2018/kW*a\", \n",
    "                          colors=colors,\n",
    "                          ylim=[0, 3000],\n",
    "                          use_colors=use_colors,\n",
    "                          use_limits=use_limits, \n",
    "                          sample_stats=sample_stats, \n",
    "                          add_sources=add_sources, \n",
    "                          swarmplot=swarmplot, \n",
    "                          savefig=savefig, \n",
    "                          filename=\"fixed_costs_hoho\")"
   ]
  },
  {
   "cell_type": "code",
   "execution_count": null,
   "metadata": {},
   "outputs": [],
   "source": [
    "if write_sources:\n",
    "    save_future_sources(fixed_costs_hoho_df, highest_potential_hoho_cols, path_folder=path_folder_sources, filename=\"fixed_costs_hoho_projection_sources.xlsx\",  \n",
    "                        add_sources=add_sources)"
   ]
  },
  {
   "cell_type": "code",
   "execution_count": null,
   "metadata": {},
   "outputs": [],
   "source": []
  },
  {
   "cell_type": "code",
   "execution_count": null,
   "metadata": {},
   "outputs": [],
   "source": []
  }
 ],
 "metadata": {
  "kernelspec": {
   "display_name": "Python 3",
   "language": "python",
   "name": "python3"
  },
  "language_info": {
   "codemirror_mode": {
    "name": "ipython",
    "version": 3
   },
   "file_extension": ".py",
   "mimetype": "text/x-python",
   "name": "python",
   "nbconvert_exporter": "python",
   "pygments_lexer": "ipython3",
   "version": "3.8.5"
  },
  "toc": {
   "base_numbering": 1,
   "nav_menu": {},
   "number_sections": true,
   "sideBar": true,
   "skip_h1_title": false,
   "title_cell": "Table of Contents",
   "title_sidebar": "Contents",
   "toc_cell": false,
   "toc_position": {
    "height": "calc(100% - 180px)",
    "left": "10px",
    "top": "150px",
    "width": "422.433px"
   },
   "toc_section_display": true,
   "toc_window_display": true
  },
  "toc-autonumbering": true,
  "toc-showcode": false,
  "toc-showtags": false,
  "varInspector": {
   "cols": {
    "lenName": 16,
    "lenType": 16,
    "lenVar": 40
   },
   "kernels_config": {
    "python": {
     "delete_cmd_postfix": "",
     "delete_cmd_prefix": "del ",
     "library": "var_list.py",
     "varRefreshCmd": "print(var_dic_list())"
    },
    "r": {
     "delete_cmd_postfix": ") ",
     "delete_cmd_prefix": "rm(",
     "library": "var_list.r",
     "varRefreshCmd": "cat(var_dic_list()) "
    }
   },
   "position": {
    "height": "941.85px",
    "left": "4301px",
    "right": "20px",
    "top": "268px",
    "width": "489px"
   },
   "types_to_exclude": [
    "module",
    "function",
    "builtin_function_or_method",
    "instance",
    "_Feature"
   ],
   "window_display": false
  }
 },
 "nbformat": 4,
 "nbformat_minor": 4
}
