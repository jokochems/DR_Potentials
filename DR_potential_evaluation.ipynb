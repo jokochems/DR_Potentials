{
 "cells": [
  {
   "cell_type": "markdown",
   "metadata": {},
   "source": [
    "# Technical demand response potential meta analysis - result comparison (overview)\n",
    "\n",
    "**Puporse and background**: This notebook serves for evaluating the demand response potentials from different publications assessing technical demand response potentials for Germany. The data from the publications has been collected in order to carry out a meta analysis.\n",
    "\n",
    "## Method applied\n",
    "In the following, a brief description of the method applied is given for the sake of replicability.\n",
    "\n",
    "### Selection of publications\n",
    "Criterions for the selection of publications were:\n",
    "* Regional focus: Federal republic of Germany\n",
    "* Temporal restricitions: Publications until 2005\n",
    "* Contents: technical demand response potentials\n",
    "* Sectoral coverage: At least one of households, trade, commerce and services or industry assessed; no publications focusing on single appliances\n",
    "* Own analysis carried out (no other meta analysis included)\n",
    "* Inclusion of at least one of the parameters of interest (usually at least some information on potential in MW)\n",
    "\n",
    "### Parameters assessed\n",
    "Data for the following parameters was taken from the publications selected:\n",
    "* eligibility: general eligibility of processes, applications or branches (demand response categories in the following) for load shifting, load shedding resp. (sole) load increase\n",
    "* capacity-related parameters: capacity available for load shifting or load shedding, average, minimum and maximum load level, installed capacity as well as shiftable share of installed capacity\n",
    "* time-reletad parameters: activation duration, interference duration, shifting duration, regenaration duration, maximum activations per year\n",
    "* cost-related parameters: specific investments, variable costs (for activation), fixed costs\n",
    "\n",
    "### Filtering and data collection\n",
    "* A total of 70 publications has been selected in the first place in a literature research based on the titles, keywords and abstracts using terms like \"Demand Response\", \"Demand Side Management\", \"Demand Side Integration\", \"load management\", \"load shifting\", \"load shedding\", \"potential\", \"Germany\" as well as their German equivalents to formulate search strings. \n",
    "* Of these publications, 30 have met the above stated criteria and were further evaluated. \n",
    "* Because sometimes, several publications belonged to the same research project, these were grouped together resulting in 24 publication groups for which potential information has been evaluated.\n",
    "* The data has been collected in an Excel Workbook (\"Potenziale_Lastmanagement.xlsx\"). The latest version of this Excel Workbook is evaluated with this notebook.\n",
    "***\n",
    "> _NOTE:_ \n",
    "> * _This notebook offers some room for improvement in terms of computing and coding efficiency._\n",
    "> * _Pandas setting a value with a copy warning has been disabled. Instead, function definitions should be revised such that this is not necessary._"
   ]
  },
  {
   "cell_type": "markdown",
   "metadata": {},
   "source": [
    "# Package imports\n",
    "User-defined functions are imported in order to prevent redundancies:\n",
    "* *extract_info*: extracts the information for the relevant parameter out of the complete input data\n",
    "* *create_info_dict_for_years*: creates a dictionary for the relevant parameter info indexed by years\n",
    "* *save_info_stats*: writes some info statistics into an Excel workbook\n",
    "* *save_sources*: writes the sources information into an Excel workbook\n",
    "* *get_nlargest*: determines the demand response categories with the largest potential\n",
    "* *create_info_boxplot*: creates a box plot to visualize the parameter information\n",
    "* *extract_stats*: determines some statistical measures of central tendency for a demand response paramter\n",
    "* *create_projection_boxplot*: creates a box plot for future projections\n",
    "* *save_future_sources*: writes the sources for future projections into an Excel workbook"
   ]
  },
  {
   "cell_type": "code",
   "execution_count": null,
   "metadata": {},
   "outputs": [],
   "source": [
    "import pandas as pd\n",
    "import numpy as np\n",
    "import matplotlib.pyplot as plt\n",
    "import seaborn as sns\n",
    "import xlrd\n",
    "\n",
    "from potential_evaluation_funcs import (extract_info, create_info_dict_for_years, \n",
    "                                        save_info_stats, save_sources, create_info_boxplot,\n",
    "                                        get_nlargest, extract_stats, create_projection_boxplot, \n",
    "                                        save_future_sources)\n",
    "\n",
    "# Allow for chained assignments (see note above)\n",
    "pd.options.mode.chained_assignment = None"
   ]
  },
  {
   "cell_type": "markdown",
   "metadata": {},
   "source": [
    "# Parameter settings\n",
    "Set some (mostly boolean) parameters here in order to ensure code adaptability to future versions of potential collection (Excel workbook).\n",
    "The following parameters determine the general workflow:\n",
    "\n",
    "| Parameter | Purpose |\n",
    "| :-: | :- |\n",
    "| *write_outputs* | If True, statistical information for demand response parameters is written to Excel files. |\n",
    "| *write_sources* | If True, sources information is written to Excel files. |\n",
    "| *presentation_stuff* | If True, some rearrangement of column order is done in order to create nicer box plot<br> visualizations which can be used for presentation slides (only for certain demand response parameters). |\n",
    "\n",
    "Some of the parameters are used to control user-defined function behaviour. These are set centrally here, but may be adapted for individual function calls. The following boolean parameters control function behaviour:\n",
    "\n",
    "| Parameter | Purpose | Comment |\n",
    "| :-: | :- | :- |\n",
    "| *drop* | If True, all processes for which no information on a certain parameter is available will not be shown in the boxplots |\n",
    "| *drop_datalack* | If True, all processes with less than 3 entries for a given parameter will be excluded. |\n",
    "| *sample_stats* | If True, info on sample size will be calculated based on the data and shown in boxplots. | _Warning: activation leads to relatively high computational effort._ |\n",
    "| *add_sources* | If True, source information for the data is collected. | _Warning: activation leads to relatively high computational effort._ |\n",
    "| *modify_categories* | If True, the original demand response categories from the studies are replaced with self-defined demand response categories in order to aggregate them. There is the possibility to choose, how granular the aggregation will be. | _Warning: activation leads to relatively high computational effort._ |\n",
    "| *aggregation_mode* | - Defines, how strongly the data will be aggregated if modify_categories is set to True.<br>- A broader aggregation increases the sample sizes but is more inaccurate since the underlying assumption in the grouping done here is that the profiles are identical.<br>- Options: \"granular\" which performs a decent aggregation vs. \"broad\" which combines lots of processes and applications into one category. |\n",
    "\n",
    "The following parameters control plot ouputs:\n",
    "\n",
    "| Paraneter | Purpose | Comment |\n",
    "| :-: | :- | :- |\n",
    "| *use_limits* | If True, the limits for the boxplot yaxis values are obtained from the data itself<br>(overall minimum / maximum in DataFrame to plot). | _Note: If parameter is set to True, yaxis limits given by the function<br>parameter ylim will be ignored._ |\n",
    "| *use_colors* | If True, color will be chosen for a given process. |\n",
    "| *show_title* | If True, the title for boxplots will be displayed. |\n",
    "| *swarmplot* | If True, a bee swarm plot will be plotted on top of the boxplots<br>(using seaborn for plotting). |\n",
    "| *savefig* | If True, boxplots are saved to .png files. |\n",
    "\n",
    "The following parameters control process selection:\n",
    "\n",
    "| Parameter | Purporse |\n",
    "| :-: | :- |\n",
    "| metric | Determines which metric shall be used to select processes for further analysis (median, mean, etc.) |\n",
    "| n | Determines the n largest values for a certain metric to be further analyzed. |\n",
    "| use_nlargest_cols | - If True, the processes resp. applications with the highest potentials are evaluated in the potential outlook.<br>- If False, a set of processes resp. applications is chosen that has been self-defined (instead of changing every single function parameter).<br>- If further options shall be incorporated, replace with a dict holding these options instead. |"
   ]
  },
  {
   "cell_type": "markdown",
   "metadata": {},
   "source": [
    "> _NOTE: For usage within the clustering notebooks, the following parameter settings are needed to create the correct parameter statistics outputs which are read in in the clustering process:_\n",
    "> * *write_outputs=True*\n",
    "> * *drop=True*\n",
    "> * *drop_datalack=True*\n",
    "> * *modify_categories=True*\n",
    "> * *aggregation_mode='granular'*\n",
    "\n",
    "The remainder of the parameters is only relevant for controlling the plots and sources information in this notebook and can be freely chosen."
   ]
  },
  {
   "cell_type": "code",
   "execution_count": null,
   "metadata": {},
   "outputs": [],
   "source": [
    "# Set paths and filenames for in- and outputs\n",
    "path_folder_in = \"./\"\n",
    "path_folder_out = \"./out/\"\n",
    "path_folder_stats = path_folder_out + \"stats/\"\n",
    "path_folder_sources = path_folder_out + \"sources/\"\n",
    "path_folder_plots = path_folder_out + \"plots/\"\n",
    "\n",
    "filename = \"Potenziale_Lastmanagement.xlsx\"\n",
    "# If no sources are added, columns containing information on sources are ignored\n",
    "filename_colnames = \"Columns.xlsx\"\n",
    "\n",
    "# boolean parameters for controlling the workflow\n",
    "write_outputs = True\n",
    "write_sources = False\n",
    "presentation_stuff = False\n",
    "\n",
    "# boolean parameters for controlling function behaviour\n",
    "drop = True\n",
    "drop_datalack = True\n",
    "sample_stats = True\n",
    "add_sources = False\n",
    "# Determine aggregation_mode if modify_categories is set to True\n",
    "modify_categories = True\n",
    "# Alternatives for aggregation mode: \"granular\" vs. \"broad\"\n",
    "aggregation_mode = \"granular\" \n",
    "\n",
    "# boolean parameters for controlling plot outputs\n",
    "use_limits = True\n",
    "use_colors = True          \n",
    "show_title = False\n",
    "swarmplot = True\n",
    "savefig = False\n",
    "\n",
    "# parameters for process selection for further analysis\n",
    "metric = \"50%\"\n",
    "n = 5\n",
    "use_nlargest_cols = False"
   ]
  },
  {
   "cell_type": "markdown",
   "metadata": {},
   "source": [
    "Configure the fontsizes for matplotlib objects"
   ]
  },
  {
   "cell_type": "code",
   "execution_count": null,
   "metadata": {},
   "outputs": [],
   "source": [
    "SMALL_SIZE = 12\n",
    "MEDIUM_SIZE = 14\n",
    "BIGGER_SIZE = 15\n",
    "\n",
    "plt.rc('font', size=SMALL_SIZE)          # controls default text sizes\n",
    "plt.rc('axes', titlesize=BIGGER_SIZE)    # fontsize of the axes title\n",
    "plt.rc('axes', labelsize=MEDIUM_SIZE)    # fontsize of the x and y labels\n",
    "plt.rc('xtick', labelsize=SMALL_SIZE)    # fontsize of the tick labels\n",
    "plt.rc('ytick', labelsize=SMALL_SIZE)    # fontsize of the tick labels\n",
    "plt.rc('legend', fontsize=SMALL_SIZE)    # legend fontsize\n",
    "plt.rc('figure', titlesize=BIGGER_SIZE)  # fontsize of the figure title"
   ]
  },
  {
   "cell_type": "markdown",
   "metadata": {},
   "source": [
    "# Read in data\n",
    "* Read in the Excel Workbook containing all data\n",
    "* create a separate DataFrame with the potential information for every publication (which will be sliced and combined with the respective potential information from other studies in order to evaluate the respective parameter / appliance)."
   ]
  },
  {
   "cell_type": "code",
   "execution_count": null,
   "metadata": {},
   "outputs": [],
   "source": [
    "# Get all sheet names using xlrd\n",
    "xls = xlrd.open_workbook(path_folder_in+filename, on_demand=True)\n",
    "table_names = xls.sheet_names()\n",
    "\n",
    "# Remove all sheets that do not contain potential information as well as worksheets from publications which\n",
    "# were excluded in the process and include sheets \"Dropdown\" and \"Kategorien\"\n",
    "removed_names = {el for el in table_names if len(el) > 6}\n",
    "\n",
    "# Two publications were excluded in the latter process\n",
    "# The worksheets were not removed but hided, hence, have to be removed here\n",
    "removed_names.add(\"Stoe12\")\n",
    "removed_names.add(\"Bel15\")\n",
    "table_names = [el for el in table_names if el not in removed_names]\n",
    "\n",
    "# The worksheets dropdown (containing all feasible dropdown options), categories (containing processes) \n",
    "# and colors (containing a color mapping for processes) shall be evaluated, too\n",
    "table_names.append(\"Dropdown\")\n",
    "table_names.append(\"Kategorien\")\n",
    "table_names.append(\"Farben\")\n",
    "print(table_names)"
   ]
  },
  {
   "cell_type": "code",
   "execution_count": null,
   "metadata": {},
   "outputs": [],
   "source": [
    "# Read in data using pandas and parse it to individual DataFrames for each publication\n",
    "xls = pd.ExcelFile(path_folder_in+filename)\n",
    "\n",
    "ape12 = xls.parse(\"Ape12\")\n",
    "ary17 = xls.parse(\"Ary17\")\n",
    "blu13 = xls.parse(\"Blu13\")\n",
    "foc11 = xls.parse(\"Foc11\")\n",
    "gil15 = xls.parse(\"Gil15\")\n",
    "gob12 = xls.parse(\"Gob12\")\n",
    "gro13 = xls.parse(\"Gro13\")\n",
    "gru17 = xls.parse(\"Gru17\")\n",
    "haa17 = xls.parse(\"Haa17\")\n",
    "hen15 = xls.parse(\"Hen15\")\n",
    "klo09 = xls.parse(\"Klo09\")\n",
    "klo13 = xls.parse(\"Klo13\")\n",
    "krz13 = xls.parse(\"Krz13\")\n",
    "lad18 = xls.parse(\"Lad18\")\n",
    "lan15 = xls.parse(\"Lan15\")\n",
    "lie15 = xls.parse(\"Lie15\")\n",
    "mol10 = xls.parse(\"Mol10\")\n",
    "pau11 = xls.parse(\"Pau11\")\n",
    "pel16 = xls.parse(\"Pel16\")\n",
    "r2b14 = xls.parse(\"r2b14\")\n",
    "roo10 = xls.parse(\"Roo10\")\n",
    "sta06 = xls.parse(\"Sta06\")\n",
    "ste17 = xls.parse(\"Ste17\")\n",
    "sty15 = xls.parse(\"Sty15\")\n",
    "\n",
    "# Read in dropdown options, categories as well as colors used, as well\n",
    "dropdown = xls.parse(\"Dropdown\")\n",
    "if aggregation_mode == \"granular\":\n",
    "    categories = xls.parse(\"Kategorien\")\n",
    "elif aggregation_mode == \"broad\":\n",
    "    categories = xls.parse(\"Kategorien_grob\")\n",
    "colors = xls.parse(\"Farben\", index_col=0, header=0)"
   ]
  },
  {
   "cell_type": "markdown",
   "metadata": {},
   "source": [
    "# Prepare data for further analysis\n",
    "In the following, some data preparation steps are carried out in order to harmonize the data basis and ensure further usability."
   ]
  },
  {
   "cell_type": "markdown",
   "metadata": {},
   "source": [
    "## General routines\n",
    "The following general routines introduce dicts to easily adress all sheets / DataFrames using for loops. Furthermore, the years considered are grouped in order to distinct status quo considerations from projections for the future. Furthermore, the data basis is split up by sectors and years since this is often needed in the following."
   ]
  },
  {
   "cell_type": "markdown",
   "metadata": {},
   "source": [
    "### Publications dict (shortcut)\n",
    "Introduce a dict matching the DataFrames to a string name for quicker handling"
   ]
  },
  {
   "cell_type": "code",
   "execution_count": null,
   "metadata": {},
   "outputs": [],
   "source": [
    "publications_dict = {\"Ape12\": ape12,\n",
    "                     \"Ary17\": ary17,\n",
    "                     \"Blu13\": blu13,\n",
    "                     \"Foc11\": foc11,\n",
    "                     \"Gil15\": gil15,\n",
    "                     \"Gob12\": gob12,\n",
    "                     \"Gro13\": gro13,\n",
    "                     \"Gru17\": gru17,\n",
    "                     \"Haa17\": haa17,\n",
    "                     \"Hen15\": hen15,\n",
    "                     \"Klo09\": klo09,\n",
    "                     \"Klo13\": klo13,\n",
    "                     \"Krz13\": krz13,\n",
    "                     \"Lad18\": lad18,\n",
    "                     \"Lan15\": lan15,\n",
    "                     \"Lie15\": lie15,\n",
    "                     \"Mol10\": mol10,\n",
    "                     \"Pau11\": pau11,\n",
    "                     \"Pel16\": pel16,\n",
    "                     \"r2b14\": r2b14,\n",
    "                     \"Roo10\": roo10,\n",
    "                     \"Sta06\": sta06,\n",
    "                     \"Ste17\": ste17,\n",
    "                     \"Sty15\": sty15}"
   ]
  },
  {
   "cell_type": "code",
   "execution_count": null,
   "metadata": {},
   "outputs": [],
   "source": [
    "ape12"
   ]
  },
  {
   "cell_type": "markdown",
   "metadata": {},
   "source": [
    "### Years\n",
    "Evaluate the years for which potentials are given in order to group them into the following groups:\n",
    "* Status quo: prior to 2020\n",
    "* 2020\n",
    "* 2025 (including 2023)\n",
    "* 2030\n",
    "* 2035\n",
    "* 2040\n",
    "* 2045\n",
    "* 2050"
   ]
  },
  {
   "cell_type": "code",
   "execution_count": null,
   "metadata": {},
   "outputs": [],
   "source": [
    "# Get the years for which potentials are given\n",
    "set_years = set()\n",
    "\n",
    "for k, v in publications_dict.items():\n",
    "    for el in v[\"Jahr\"].unique():\n",
    "        set_years.add(el)\n",
    "\n",
    "# Define two groups of years (for potential evaluation)\n",
    "status_quo_years = {el for el in set_years if el < 2020}\n",
    "years_2025 = {2023, 2025}\n",
    "\n",
    "# Define year dict for checking the year (group)\n",
    "years_dict = {\"SQ\": status_quo_years,\n",
    "              \"2020\": [2020],\n",
    "              \"2025\": years_2025,\n",
    "              \"2030\": [2030],\n",
    "              \"2035\": [2035],\n",
    "              \"2040\": [2040],\n",
    "              \"2045\": [2045],\n",
    "              \"2050\": [2050]}"
   ]
  },
  {
   "cell_type": "markdown",
   "metadata": {},
   "source": [
    "### Processes\n",
    "Obtain sets of processes from Excel workbook:\n",
    "* processes_original: Original listing of processes\n",
    "* processes_categorized: Categorization of processes (same as in method comparison)"
   ]
  },
  {
   "cell_type": "code",
   "execution_count": null,
   "metadata": {},
   "outputs": [],
   "source": [
    "# Original set of processes\n",
    "processes_original = set(dropdown[\"Prozess\"].values)\n",
    "\n",
    "# Categorized set of processes\n",
    "cat1 = categories[\"Prozesskategorie 1\"].values\n",
    "cat2 = categories[\"Prozesskategorie 2\"].dropna().values\n",
    "cat3 = categories[\"Prozesskategorie 3\"].dropna().values\n",
    "processes_categorized = set(np.concatenate((cat1, cat2, cat3), axis = 0))\n",
    "\n",
    "# Compare the number of processes before and after adjusting the categorization\n",
    "print(len(processes_original), len(processes_categorized))"
   ]
  },
  {
   "cell_type": "code",
   "execution_count": null,
   "metadata": {},
   "outputs": [],
   "source": [
    "categories.head()"
   ]
  },
  {
   "cell_type": "markdown",
   "metadata": {},
   "source": [
    "### Publications per sector and year (dict as shortcut)\n",
    "* Create DataFrames (subsets of overall data tables) which focus on a certain sector and year and store them in a dict indexed by publications and years resp. year groups\n",
    "* Include the adjusted process categorization in order to be able to use this for evaluation as well\n",
    "    * This operation is more or less equivalent to assigning the process categorization in the original data set which could be achieved using the Excel function VLOOKUP (SVERWEIS in German).\n",
    "    * It is implemented by merging the two DataFrames to a combined one since the indices differ and thus cannot be used for comparison."
   ]
  },
  {
   "cell_type": "code",
   "execution_count": null,
   "metadata": {},
   "outputs": [],
   "source": [
    "publications_ind_years_dict = {}\n",
    "publications_tcs_years_dict = {}\n",
    "publications_hoho_years_dict = {}\n",
    "\n",
    "for year_key, years in years_dict.items():\n",
    "    for k, v in publications_dict.items():\n",
    "        # Extract data for the industry sector\n",
    "        publications_ind_years_dict[k+\"_\"+year_key] = v[(v[\"Sektorenzuordnung\"] == \"Industrie\") & (v[\"Jahr\"].isin(years))]\n",
    "        publications_ind_years_dict[k+\"_\"+year_key][\"year_key\"] = year_key\n",
    "        publications_ind_years_dict[k+\"_\"+year_key] = \\\n",
    "            pd.merge(publications_ind_years_dict[k+\"_\"+year_key], categories, left_on=\"Prozess\", right_on=\"Prozess (ursprüngliche Kategorien)\", how=\"inner\").drop(\"Prozess (ursprüngliche Kategorien)\", axis=1)\n",
    "        \n",
    "        # Extract data for the trade, commerce and services sector\n",
    "        publications_tcs_years_dict[k+\"_\"+year_key] = v[(v[\"Sektorenzuordnung\"] == \"GHD\") & (v[\"Jahr\"].isin(years))]\n",
    "        publications_tcs_years_dict[k+\"_\"+year_key][\"year_key\"] = year_key\n",
    "        publications_tcs_years_dict[k+\"_\"+year_key] = \\\n",
    "            pd.merge(publications_tcs_years_dict[k+\"_\"+year_key], categories, left_on=\"Prozess\", right_on=\"Prozess (ursprüngliche Kategorien)\", how=\"inner\").drop(\"Prozess (ursprüngliche Kategorien)\", axis=1)\n",
    "        \n",
    "        # Extract data for the household sector\n",
    "        publications_hoho_years_dict[k+\"_\"+year_key] = v[(v[\"Sektorenzuordnung\"] == \"Haushalte\") & (v[\"Jahr\"].isin(years))]\n",
    "        publications_hoho_years_dict[k+\"_\"+year_key][\"year_key\"] = year_key\n",
    "        publications_hoho_years_dict[k+\"_\"+year_key] = \\\n",
    "            pd.merge(publications_hoho_years_dict[k+\"_\"+year_key], categories, left_on=\"Prozess\", right_on=\"Prozess (ursprüngliche Kategorien)\", how=\"inner\").drop(\"Prozess (ursprüngliche Kategorien)\", axis=1)"
   ]
  },
  {
   "cell_type": "markdown",
   "metadata": {},
   "source": [
    "### Prepare demand response categories for further analysis\n",
    "Due to the heterogenous demand response categories used, a harmonization / an own categorization is needed.\n",
    "This is done by a mapping of original process resp. demand response category names to self-chosen ones (derived from the categories of the meta-analysis and mostly on a basis of processes / applications). \n",
    "\n",
    "Some original categories have to be grouped together. If this is the case, their availability profiles are assumed to be (more or less) identical. Then, aggregation rules are applied to the demand response parameters (sum resp. (weigthed) average).\n",
    "\n",
    "For the decision, whether to just replace the original demand response category name or whether to apply aggregation rules, a variable *replacement_mode* is introduced:\n",
    "* -1: Keep original column name since there is no equivalent alternative\n",
    "* 0: Take column name from \"Prozesskategorie 1\" -> no duplicates (simple renaming)\n",
    "* 1: Replace multiple columns with one value of \"Prozesskategorie 1\" -> duplicates (aggregation is carried out)\n",
    "\n",
    "The replacement_mode is set here based on a prior visual inspection of the used categories (uncomment lines at the bottom to see the output)."
   ]
  },
  {
   "cell_type": "code",
   "execution_count": null,
   "metadata": {},
   "outputs": [],
   "source": [
    "# Industry sector\n",
    "\n",
    "if aggregation_mode == \"granular\":\n",
    "    # dict holding the entries to be changed to 1\n",
    "    replacement_dict = {\"Blu13_SQ\": [5, 6],\n",
    "                        \"Gil15_SQ\": [2, 3],\n",
    "                        \"Klo09_SQ\": [3, 4],\n",
    "                        \"Lad18_SQ\": [2, 3],\n",
    "                        \"Gil15_2020\": [2, 3],\n",
    "                        \"Klo09_2020\": [2, 3],\n",
    "                        \"Gil15_2030\": [2, 3],\n",
    "                        \"Gil15_2050\": [2, 3]}\n",
    "\n",
    "    # dict holding the entries to be changed to -1\n",
    "    keep_dict = {\"Lan15_SQ\": [0, 4],\n",
    "                 \"r2b14_SQ\": [1]}\n",
    "\n",
    "elif aggregation_mode == \"broad\":\n",
    "    # dict holding the entries to be changed to 1\n",
    "    replacement_dict = {\"Ape12_SQ\": [2, 3],\n",
    "                        \"Blu13_SQ\": [5, 6],\n",
    "                        \"Foc11_SQ\": [2, 3, 4, 5],\n",
    "                        \"Gil15_SQ\": [2, 3, 4, 5, 6],\n",
    "                        \"Gru17_SQ\": [2, 3],\n",
    "                        \"Klo09_SQ\": [3, 4, 5, 6, 7, 8],\n",
    "                        \"Klo13_SQ\": [2, 3],\n",
    "                        \"Lad18_SQ\": [2, 3],\n",
    "                        \"Mol10_SQ\": [4, 8, 9],\n",
    "                        \"Pel16_SQ\": [2, 3, 6, 10],\n",
    "                        \"Ste17_SQ\": [9, 10, 11],\n",
    "                        \"Ape12_2020\": [2, 3],\n",
    "                        \"Gil15_2020\": [2, 3, 4, 5, 6],\n",
    "                        \"Gru17_2020\": [2, 3],\n",
    "                        \"Klo09_2020\": [2, 3, 4, 5, 6, 7],\n",
    "                        \"Pel16_2020\": [2, 3],\n",
    "                        \"Ste17_2020\": [9, 10, 11],\n",
    "                        \"Gru17_2025\": [2, 3],\n",
    "                        \"Pel16_2025\": [2, 3],\n",
    "                        \"Ste17_2025\": [9, 10, 11],\n",
    "                        \"Ape12_2030\": [2, 3],\n",
    "                        \"Gil15_2030\": [2, 3, 4, 5, 6],\n",
    "                        \"Gru17_2030\": [2, 3],\n",
    "                        \"Pel16_2030\": [2, 3],\n",
    "                        \"Ste17_2030\": [9, 10, 11],\n",
    "                        \"Ste17_2035\": [9, 10, 11],\n",
    "                        \"Ste17_2040\": [9, 10, 11],\n",
    "                        \"Ste17_2045\": [9, 10, 11],\n",
    "                        \"Gil15_2050\": [2, 3, 4, 5, 6],\n",
    "                        \"Ste17_2050\": [9, 10, 11]}\n",
    "\n",
    "    # dict holding the entries to be changed to -1\n",
    "    keep_dict = {\"Lan15_SQ\": [0, 4],\n",
    "                 \"r2b14_SQ\": [1]}\n",
    "\n",
    "# Change the replacement_mode for the above stated entries\n",
    "for k, v in publications_ind_years_dict.items():\n",
    "    v[\"replacement_mode\"] = 0\n",
    "    if k in replacement_dict.keys():\n",
    "        v.loc[replacement_dict[k], \"replacement_mode\"] = 1\n",
    "    if k in keep_dict.keys():\n",
    "        v.loc[keep_dict[k], \"replacement_mode\"] = -1\n",
    "    \n",
    "    #print(k)    \n",
    "    #display(v.loc[:,[\"Prozess\", \"Prozesskategorie 1\", \"replacement_mode\"]])"
   ]
  },
  {
   "cell_type": "code",
   "execution_count": null,
   "metadata": {},
   "outputs": [],
   "source": [
    "# TCS sector\n",
    "\n",
    "if aggregation_mode == \"granular\":\n",
    "    # dict holding the entries to be changed to 1\n",
    "    replacement_dict = {\"Foc11_SQ\": [0, 4],\n",
    "                        \"Gil15_SQ\": [0, 1, 2],\n",
    "                        \"Klo09_SQ\": [0, 1, 3, 4, 5, 6],\n",
    "                        \"Gil15_2020\": [0, 1, 2],\n",
    "                        \"Klo09_2020\": [0, 1, 3, 4, 5, 6],\n",
    "                        \"Gil15_2030\": [0, 1, 2],\n",
    "                        \"Gil15_2050\": [0, 1, 2]}\n",
    "\n",
    "    # dict holding the entries to be changed to -1\n",
    "    keep_dict = {}\n",
    "    \n",
    "elif aggregation_mode == \"broad\":\n",
    "    # dict holding the entries to be changed to 1\n",
    "    replacement_dict = {\"Foc11_SQ\": [0, 4],\n",
    "                        \"Gil15_SQ\": [0, 1, 2],\n",
    "                        \"Klo09_SQ\": [0, 1, 2, 3, 4, 5, 6],\n",
    "                        \"Gil15_2020\": [0, 1, 2],\n",
    "                        \"Klo09_2020\": [0, 1, 2, 3, 4, 5, 6],\n",
    "                        \"Gil15_2030\": [0, 1, 2],\n",
    "                        \"Gil15_2050\": [0, 1, 2]}\n",
    "\n",
    "    # dict holding the entries to be changed to -1\n",
    "    keep_dict = {}\n",
    "\n",
    "# Change the replacement_mode for the above stated entries\n",
    "for k, v in publications_tcs_years_dict.items():\n",
    "    v[\"replacement_mode\"] = 0\n",
    "    if k in replacement_dict.keys():\n",
    "        v.loc[replacement_dict[k], \"replacement_mode\"] = 1\n",
    "    if k in keep_dict.keys():\n",
    "        v.loc[keep_dict[k], \"replacement_mode\"] = -1   \n",
    "    \n",
    "    #print(k)    \n",
    "    #display(v.loc[:,[\"Prozess\", \"Prozesskategorie 1\", \"replacement_mode\"]])"
   ]
  },
  {
   "cell_type": "code",
   "execution_count": null,
   "metadata": {},
   "outputs": [],
   "source": [
    "# Household sector\n",
    "\n",
    "if aggregation_mode == \"granular\":\n",
    "    # dict holding the entries to be changed to 1\n",
    "    replacement_dict = {}\n",
    "\n",
    "    # dict holding the entries to be changed to -1\n",
    "    keep_dict = {\"Gro13_SQ\": [0],\n",
    "                \"Klo13_SQ\": [2],\n",
    "                \"Mol10_SQ\": [6],\n",
    "                \"Pel16_SQ\": [4],\n",
    "                \"Sta06_SQ\": [6],\n",
    "                \"Mol10_2020\": [6],\n",
    "                \"Pel16_2020\": [4],            \n",
    "                \"Pel16_2025\": [4],            \n",
    "                \"Pel16_2030\": [4]}\n",
    "\n",
    "elif aggregation_mode == \"broad\":\n",
    "    # dict holding the entries to be changed to 1\n",
    "    replacement_dict = {\"Ape12_SQ\": [0, 7, 9],\n",
    "                        \"Ary17_SQ\": [4, 5],\n",
    "                        \"Haa17_SQ\": [0, 1, 2],\n",
    "                        \"Klo09_SQ\": [3, 4],\n",
    "                        \"Mol10_SQ\": [4, 5],\n",
    "                        \"Sta06_SQ\": [1, 2],\n",
    "                        \"Ste17_SQ\": [1, 4],\n",
    "                        \"Sty15_SQ\": [0, 1],\n",
    "                        \"Ape12_2020\": [0, 7, 9],\n",
    "                        \"Klo09_2020\": [3, 4],\n",
    "                        \"Mol10_2020\": [4, 5],\n",
    "                        \"Ste17_2020\": [1, 4],\n",
    "                        \"Ste17_2025\": [1, 4],\n",
    "                        \"Sty15_2025\": [0, 1],\n",
    "                        \"Ape12_2030\": [0, 7, 9],\n",
    "                        \"Ste17_2030\": [1, 4],\n",
    "                        \"Ste17_2035\": [1, 4],\n",
    "                        \"Ste17_2040\": [1, 4],\n",
    "                        \"Ste17_2045\": [1, 4],\n",
    "                        \"Ste17_2050\": [1, 4],\n",
    "                        \"Sty15_2050\": [0, 1]}\n",
    "\n",
    "    # dict holding the entries to be changed to -1\n",
    "    keep_dict = {\"Gro13_SQ\": [0],\n",
    "                \"Klo13_SQ\": [2],\n",
    "                \"Mol10_SQ\": [6],\n",
    "                \"Pel16_SQ\": [4],\n",
    "                \"Sta06_SQ\": [6],\n",
    "                \"Mol10_2020\": [6],\n",
    "                \"Pel16_2020\": [4],            \n",
    "                \"Pel16_2025\": [4],            \n",
    "                \"Pel16_2030\": [4]}\n",
    "\n",
    "# Change the replacement_mode for the above stated entries\n",
    "for k, v in publications_hoho_years_dict.items():\n",
    "    v[\"replacement_mode\"] = 0\n",
    "    if k in replacement_dict.keys():\n",
    "        v.loc[replacement_dict[k], \"replacement_mode\"] = 1\n",
    "    if k in keep_dict.keys():\n",
    "        v.loc[keep_dict[k], \"replacement_mode\"] = -1  \n",
    "    \n",
    "    #print(k)    \n",
    "    #display(v.loc[:,[\"Prozess\", \"Prozesskategorie 1\", \"replacement_mode\"]])"
   ]
  },
  {
   "cell_type": "markdown",
   "metadata": {},
   "source": [
    "### Prepare colors\n",
    "Include the values for \"Prozesskategorie 1\" from the categories DataFrame (and exclude duplicates)."
   ]
  },
  {
   "cell_type": "code",
   "execution_count": null,
   "metadata": {},
   "outputs": [],
   "source": [
    "# Include values of \"Prozesskategorie 1\" from the categories DataFrame in the color mapping\n",
    "new_colors = colors.copy()\n",
    "new_colors[\"Prozesskategorie 1\"] = categories.set_index(\"Prozess (ursprüngliche Kategorien)\")[\"Prozesskategorie 1\"]\n",
    "\n",
    "new_colors = new_colors.set_index(\"Prozesskategorie 1\")\n",
    "new_colors = new_colors.loc[~new_colors.index.duplicated(keep=\"first\")]\n",
    "new_colors.index.name = \"Prozess\"\n",
    "\n",
    "# concat original colors DataFrame with the one containing values for \"Prozesskategorie 1\"\n",
    "# and remove duplicates\n",
    "colors = pd.concat([colors, new_colors])\n",
    "colors = colors.loc[~colors.index.duplicated(keep=\"first\")]\n",
    "\n",
    "# Show colors\n",
    "colors"
   ]
  },
  {
   "cell_type": "markdown",
   "metadata": {},
   "source": [
    "## Prepare column names\n",
    "Column names have to be carefully selected and harmonized in order to be able to compare potential information on a common basis. This holds especially for evaluating capacity-related parameters.\n",
    "* Get capacity-related columns:\n",
    "    * Evaluate all columns holding the word \"potential\" or fractions of it.\n",
    "    * Distinct between pos and negative potentials.\n",
    "    * Remove columns evaluating sociotechnical instead of technical potentials as well as those evaluating energy instead of capacity."
   ]
  },
  {
   "cell_type": "markdown",
   "metadata": {},
   "source": [
    "Inspect columns by evaluating all column names used accross the publications"
   ]
  },
  {
   "cell_type": "code",
   "execution_count": null,
   "metadata": {},
   "outputs": [],
   "source": [
    "# initialize an empty throwaway array\n",
    "help_array = np.empty(shape=(0,))\n",
    "\n",
    "# add all column values and convert to a set to remove duplicates\n",
    "for k, v in publications_dict.items():\n",
    "    help_array = np.concatenate((help_array, v.columns.values), axis = 0)\n",
    "    \n",
    "all_cols = set(help_array)"
   ]
  },
  {
   "cell_type": "code",
   "execution_count": null,
   "metadata": {},
   "outputs": [],
   "source": [
    "# print the number of different column names used accross the publications\n",
    "len(all_cols)"
   ]
  },
  {
   "cell_type": "markdown",
   "metadata": {},
   "source": [
    "Prepare columns for further usage:\n",
    "* The list of all columns used has been transferred to an Excel workbook using the following commented lines of code.\n",
    "* The columns have been matched to one parameter for evaluation by going through them and assigning a parameter (has been done manually using Excel).\n",
    "* The manipulated Excel workbook (\"Columns.xlsx\") is read in in the following again to be able to use the grouping applied."
   ]
  },
  {
   "cell_type": "code",
   "execution_count": null,
   "metadata": {},
   "outputs": [],
   "source": [
    "# Uncomment this cell and reassign groups if changes to the columns in the data collection occur.\n",
    "#all_cols_Series = pd.Series(data=sorted(list(all_cols)))\n",
    "#all_cols_Series.to_excel(\"Columns.xlsx\", encoding=\"utf-8-sig\", header=False)"
   ]
  },
  {
   "cell_type": "code",
   "execution_count": null,
   "metadata": {},
   "outputs": [],
   "source": [
    "all_cols_df = pd.read_excel(path_folder_in+filename_colnames, index_col=0)"
   ]
  },
  {
   "cell_type": "code",
   "execution_count": null,
   "metadata": {},
   "outputs": [],
   "source": [
    "# Assign the groups that have been defined to a variable to use it as key for a dict\n",
    "groups = all_cols_df[\"Gruppe\"].unique()\n",
    "groups"
   ]
  },
  {
   "cell_type": "code",
   "execution_count": null,
   "metadata": {},
   "outputs": [],
   "source": [
    "cols_dict = {}\n",
    "\n",
    "for key in groups:\n",
    "    cols_dict[key] = list(all_cols_df[all_cols_df[\"Gruppe\"] == key].index.values)\n",
    "    cols_dict[key].extend([\"Prozesskategorie\", \"Jahr\", \"Sektorenzuordnung\", \"study\"])"
   ]
  },
  {
   "cell_type": "code",
   "execution_count": null,
   "metadata": {},
   "outputs": [],
   "source": [
    "cols_dict"
   ]
  },
  {
   "cell_type": "markdown",
   "metadata": {},
   "source": [
    "# EXPERIMENTAL (IGNORE FOR NOW)\n",
    "Experimental section:\n",
    "* Use simple DataFrame filtering instead of creating extensive dict structures\n",
    "* TODO: Resume when time permits / Remove if not!"
   ]
  },
  {
   "cell_type": "markdown",
   "metadata": {},
   "source": [
    "**TODO: Fix data type error!**"
   ]
  },
  {
   "cell_type": "markdown",
   "metadata": {},
   "source": [
    "Logic:\n",
    "* Filter cols that don't need renaming\n",
    "* Append the string for the study to all other cols\n",
    "* concat to form one overall DataFrame\n",
    "* Add study string to Fundstelle'"
   ]
  },
  {
   "cell_type": "code",
   "execution_count": null,
   "metadata": {},
   "outputs": [],
   "source": [
    "cols_not_to_rename = [\n",
    "    \"Prozess\", \"Sektorenzuordnung\", \"Jahr\", \n",
    "    \"Lastverschiebung\", \"Lastverzicht\", \"Lasterhöhung\", \n",
    "    \"study\"\n",
    "]\n",
    "cols_not_to_rename.extend([col for col in all_cols if \"Fundstelle\" in col])"
   ]
  },
  {
   "cell_type": "code",
   "execution_count": null,
   "metadata": {},
   "outputs": [],
   "source": [
    "parameters = pd.DataFrame()\n",
    "for k, v in publications_dict.items():\n",
    "    v[\"study\"] = k\n",
    "    v.rename(columns={\n",
    "        col: col + \"_\" + k for col in v.columns if col not in cols_not_to_rename\n",
    "    }, inplace=True)\n",
    "    parameters = pd.concat([parameters, v])\n",
    "\n",
    "for el in parameters.columns:\n",
    "    if \"Fundstelle\" in el:\n",
    "        parameters[el] = parameters[\"study\"].values + \": \" + parameters[el].astype(str).values"
   ]
  },
  {
   "cell_type": "code",
   "execution_count": null,
   "metadata": {},
   "outputs": [],
   "source": [
    "cats_new = xls.parse(\"Kategorien_neu\")\n",
    "cats_new"
   ]
  },
  {
   "cell_type": "code",
   "execution_count": null,
   "metadata": {},
   "outputs": [],
   "source": [
    "parameters"
   ]
  },
  {
   "cell_type": "markdown",
   "metadata": {},
   "source": [
    "Logic:\n",
    "* Merge with new category mapping\n",
    "* Define aggregation rules to groupby \"Prozesskategorie\"\n",
    "* Define new aggregation dict taking into account the endings for the study values"
   ]
  },
  {
   "cell_type": "code",
   "execution_count": null,
   "metadata": {},
   "outputs": [],
   "source": [
    "parameters = pd.merge(\n",
    "    parameters, cats_new,\n",
    "    left_on=\"Prozess\", \n",
    "    right_on=\"Prozess (ursprüngliche Kategorien)\",\n",
    "    how=\"left\"\n",
    ")"
   ]
  },
  {
   "cell_type": "code",
   "execution_count": null,
   "metadata": {},
   "outputs": [],
   "source": [
    "# Define sector filter\n",
    "filter_sector = {\n",
    "    \"ind\": \"Industrie\",\n",
    "    \"tcs\": \"GHD\",\n",
    "    \"hoho\": \"Haushalte\"\n",
    "}"
   ]
  },
  {
   "cell_type": "code",
   "execution_count": null,
   "metadata": {},
   "outputs": [],
   "source": [
    "agg_dict = all_cols_df[\"Aggregationsregel\"].loc[\n",
    "    all_cols_df[\"Aggregationsregel\"] != \"drop\"\n",
    "].to_dict()\n",
    "agg_dict[\"study\"] = \"first\""
   ]
  },
  {
   "cell_type": "code",
   "execution_count": null,
   "metadata": {},
   "outputs": [],
   "source": [
    "new_agg_dict = {}\n",
    "for col in parameters.columns:\n",
    "    for k, v in agg_dict.items():\n",
    "        if k in col:\n",
    "            new_agg_dict[col] = v"
   ]
  },
  {
   "cell_type": "markdown",
   "metadata": {},
   "source": [
    "Logic:\n",
    "* Iterate over studies, sectors and years\n",
    "* Filter DataFrame accordingly and groupby \"Prozesskategorie\" to remove duplicates\n",
    "_NOTE: Does not yet work!_"
   ]
  },
  {
   "cell_type": "code",
   "execution_count": null,
   "metadata": {},
   "outputs": [],
   "source": [
    "counter = 0\n",
    "grouped = pd.DataFrame()\n",
    "for study in publications_dict.keys():\n",
    "    for sector, sector_filter in filter_sector.items():\n",
    "        for year_key, year_value in years_dict.items():\n",
    "            \n",
    "            filtered = parameters.loc[\n",
    "                (parameters[\"study\"] == study)\n",
    "                & (parameters[\"Sektorenzuordnung\"] == sector_filter)\n",
    "                & (parameters[\"Jahr\"].isin(year_value))\n",
    "            ].dropna(axis=1, how=\"all\")\n",
    "\n",
    "            filtered = filtered.groupby(\"Prozesskategorie\").agg({\n",
    "                k: v for k, v in new_agg_dict.items() if k in filtered.columns\n",
    "            })\n",
    "            grouped = pd.concat([grouped, filtered])\n",
    "            \n",
    "            print(counter)\n",
    "            counter += 1"
   ]
  },
  {
   "cell_type": "markdown",
   "metadata": {},
   "source": [
    "Define functions for:\n",
    "* Extracting data for a given parameter (group)\n",
    "* Adding the value counts (no of studies / parameter values)\n",
    "* Transposing to prepare for creating of boxplots\n",
    "\n",
    "_Missing: groupby \"Prozesskategorie\" with can only be performed once every piece of information is in distinct columns / rows since otherwise it would be lost within the grouping process ..._"
   ]
  },
  {
   "cell_type": "code",
   "execution_count": null,
   "metadata": {},
   "outputs": [],
   "source": [
    "def extract_info(df, cols_dict, parameter, sector, year):\n",
    "    \"\"\"Extract info for given parameter, sector and year from data\"\"\"\n",
    "    filtered_df = df.loc[\n",
    "        (df[\"Sektorenzuordnung\"] == filter_sector[sector]) \n",
    "        & (df[\"Jahr\"].isin(year))\n",
    "    ]\n",
    "    filtered_df = filtered_df[[\n",
    "        col for col in filtered_df.columns \n",
    "        if col in cols_dict[parameter]]]\n",
    "    \n",
    "    return filtered_df"
   ]
  },
  {
   "cell_type": "code",
   "execution_count": null,
   "metadata": {},
   "outputs": [],
   "source": [
    "def add_value_counts(filtered_df, cols_dict, parameter):\n",
    "    \"\"\"Add value counts to a filtered df\"\"\"\n",
    "    filtered_df[\"number_publications\"] = filtered_df.index.value_counts()\n",
    "    \n",
    "    sources_cols = [\n",
    "        col for col in filtered_df.columns if \"Fundstelle\" in col\n",
    "    ]\n",
    "    filtered_df[\"number_entries\"] = (\n",
    "        filtered_df.count(axis=1) \n",
    "        - (len(sources_cols) \n",
    "           + len([\"Jahr\", \"Sektorenzuordnung\", \"study\"]))\n",
    "    )\n",
    "    entries = filtered_df[\"number_entries\"].groupby(filtered_df.index).sum()\n",
    "    filtered_df[\"abs_number_entries\"] = entries\n",
    "    \n",
    "    for col in sources_cols:\n",
    "        entries = filtered_df[col].groupby(filtered_df.index).apply(lambda x: \";\".join(x))\n",
    "        filtered_df[\"all_sources_\" + col] = entries\n",
    "    \n",
    "    return filtered_df"
   ]
  },
  {
   "cell_type": "code",
   "execution_count": null,
   "metadata": {},
   "outputs": [],
   "source": [
    "def transpose_and_dropna(filtered_df, cols_dict, parameter):\n",
    "    \"\"\"Transpose filtered df and prepare for stats extraction & plotting\"\"\"\n",
    "    cols_to_drop = [\n",
    "        col for col in filtered_df.columns if \"Fundstelle\" in col\n",
    "    ]\n",
    "    cols_to_drop.extend([\n",
    "        \"Jahr\", \"Sektorenzuordnung\", \"study\",\n",
    "        \"number_publications\", \"number_entries\", \"abs_number_entries\"\n",
    "    ])\n",
    "    transposed_df = filtered_df.T.drop([\n",
    "        col for col in cols_to_drop if col in filtered_df.columns\n",
    "    ])\n",
    "    transposed_df.dropna(axis=1, how=\"all\", inplace=True)\n",
    "    \n",
    "    return transposed_df"
   ]
  },
  {
   "cell_type": "code",
   "execution_count": null,
   "metadata": {},
   "outputs": [],
   "source": [
    "testbert = extract_info(grouped, cols_dict, \"variable Kosten\", \"ind\", status_quo_years)"
   ]
  },
  {
   "cell_type": "code",
   "execution_count": null,
   "metadata": {},
   "outputs": [],
   "source": [
    "testbert = add_value_counts(testbert, cols_dict, \"variable Kosten\")"
   ]
  },
  {
   "cell_type": "code",
   "execution_count": null,
   "metadata": {},
   "outputs": [],
   "source": [
    "testbert.loc[testbert.index == \"Primäraluminiumelektrolyse\"]"
   ]
  },
  {
   "cell_type": "code",
   "execution_count": null,
   "metadata": {},
   "outputs": [],
   "source": [
    "testbert_T = transpose_and_dropna(testbert, cols_dict, \"variable_Kosten\")"
   ]
  },
  {
   "cell_type": "code",
   "execution_count": null,
   "metadata": {},
   "outputs": [],
   "source": [
    "testbert_T"
   ]
  },
  {
   "cell_type": "code",
   "execution_count": null,
   "metadata": {},
   "outputs": [],
   "source": [
    "testbert_T.plot(kind=\"box\")"
   ]
  },
  {
   "cell_type": "markdown",
   "metadata": {},
   "source": [
    "# Eligibility for load shifting / load shedding"
   ]
  },
  {
   "cell_type": "markdown",
   "metadata": {},
   "source": [
    "## Prepare data on eligibility\n",
    "At first, it is analyzed whether a certain process is eligible for load shifting, load shedding or both according to the publications evaluated.\n",
    "* Evaluate columns with information on eligibility per study and process\n",
    "* Analyze the results per process over all studies (sum up absolute frequency)\n",
    "* _NOTE_: There is no distinction made between sectors since it is assumed that studies equally treat a (cross-cutting) technology / process which is used across multiple sectors."
   ]
  },
  {
   "cell_type": "code",
   "execution_count": null,
   "metadata": {},
   "outputs": [],
   "source": [
    "eligibility_dict = {}\n",
    "cols = cols_dict[\"Eignung\"]\n",
    "\n",
    "if not add_sources:\n",
    "    cols = [el for el in cols if not \"Fundstelle\" in el]\n",
    "\n",
    "for k, v in publications_dict.items():\n",
    "    eligibility_dict[k] = v[[el for el in cols if el in v.columns]].drop_duplicates(subset=\"Prozess\", keep=\"first\")\n",
    "    if add_sources:\n",
    "        source_col = [el for el in eligibility_dict[k].columns if \"Fundstelle\" in el]\n",
    "        eligibility_dict[k][source_col] = k.split(\"_\")[0] + \", S. \" + eligibility_dict[k][source_col].astype(str) + \"; \""
   ]
  },
  {
   "cell_type": "code",
   "execution_count": null,
   "metadata": {},
   "outputs": [],
   "source": [
    "# Show a sample eligibility DataFrame (example: Apel (2012))\n",
    "eligibility_dict[\"Ape12\"].head()"
   ]
  },
  {
   "cell_type": "code",
   "execution_count": null,
   "metadata": {},
   "outputs": [],
   "source": [
    "shift_eligibility_df = pd.DataFrame(columns=[\"Prozess\"])\n",
    "shed_eligibility_df = pd.DataFrame(columns=[\"Prozess\"])\n",
    "inc_eligibility_df = pd.DataFrame(columns=[\"Prozess\"])\n",
    "\n",
    "# Iterate over all DataFrames and put them together\n",
    "for k, v in eligibility_dict.items():\n",
    "    shift_eligibility_df = pd.merge(shift_eligibility_df, v[[\"Prozess\", \"Lastverschiebung\"]], on = \"Prozess\", suffixes=[\"\", \"_\"+k], how=\"outer\")\n",
    "    shed_eligibility_df = pd.merge(shed_eligibility_df, v[[\"Prozess\", \"Lastverzicht\"]], on = \"Prozess\", suffixes=[\"\", \"_\"+k], how=\"outer\")\n",
    "    inc_eligibility_df = pd.merge(inc_eligibility_df, v[[\"Prozess\", \"Lasterhöhung\"]], on = \"Prozess\", suffixes=[\"\", \"_\"+k], how=\"outer\")\n",
    "    \n",
    "if add_sources:\n",
    "    source_cols = [el for el in shift_eligibility_df.columns if \"Fundstelle\" in el]\n",
    "    shift_eligibility_df[\"sources\"] = shift_eligibility_df[source_cols].fillna(\"\").sum(axis=1)\n",
    "    shift_eligibility_df = shift_eligibility_df.drop(source_cols, axis=1)\n",
    "\n",
    "    source_cols = [el for el in shed_eligibility_df.columns if \"Fundstelle\" in el]\n",
    "    shed_eligibility_df[\"sources\"] = shed_eligibility_df[source_cols].fillna(\"\").sum(axis=1)\n",
    "    shed_eligibility_df = shed_eligibility_df.drop(source_cols, axis=1)\n",
    "    \n",
    "    source_cols = [el for el in inc_eligibility_df.columns if \"Fundstelle\" in el]\n",
    "    inc_eligibility_df[\"sources\"] = inc_eligibility_df[source_cols].fillna(\"\").sum(axis=1)\n",
    "    inc_eligibility_df = inc_eligibility_df.drop(source_cols, axis=1)"
   ]
  },
  {
   "cell_type": "code",
   "execution_count": null,
   "metadata": {},
   "outputs": [],
   "source": [
    "shift_eligibility_df"
   ]
  },
  {
   "cell_type": "markdown",
   "metadata": {},
   "source": [
    "Prepare data for plotting:\n",
    "* Calculate the row sums, i.e. the number of publications that say, a certain process is eligible for load shifting / shedding / increase\n",
    "* Calculate the number of zeros in a row, i.e. the number of publications that say, a certain process is not eligible for load shifting / shedding / increase\n",
    "* Sort in descending order"
   ]
  },
  {
   "cell_type": "code",
   "execution_count": null,
   "metadata": {},
   "outputs": [],
   "source": [
    "# Calculate the sum over all DataFrames and determine number of zeros\n",
    "shift_eligibility_df = shift_eligibility_df.set_index(\"Prozess\")\n",
    "shed_eligibility_df = shed_eligibility_df.set_index(\"Prozess\")\n",
    "inc_eligibility_df = inc_eligibility_df.set_index(\"Prozess\")\n",
    "\n",
    "shift_eligibility_df[\"geeignet\"] = shift_eligibility_df.sum(axis = \"columns\")\n",
    "shift_eligibility_df[\"ungeeignet\"] = shift_eligibility_df.count(axis = \"columns\", numeric_only=True) - 1 - shift_eligibility_df[\"geeignet\"]\n",
    "shed_eligibility_df[\"geeignet\"] = shed_eligibility_df.sum(axis = \"columns\")\n",
    "shed_eligibility_df[\"ungeeignet\"] = shed_eligibility_df.count(axis = \"columns\", numeric_only=True) - 1 - shed_eligibility_df[\"geeignet\"]\n",
    "inc_eligibility_df[\"geeignet\"] = inc_eligibility_df.sum(axis = \"columns\")\n",
    "inc_eligibility_df[\"ungeeignet\"] = inc_eligibility_df.count(axis = \"columns\", numeric_only=True) - 1 - inc_eligibility_df[\"geeignet\"]"
   ]
  },
  {
   "cell_type": "code",
   "execution_count": null,
   "metadata": {},
   "outputs": [],
   "source": [
    "shift_df = shift_eligibility_df[[\"geeignet\", \"ungeeignet\"]]\n",
    "shift_df[\"Summe\"] = shift_df.sum(axis=1)\n",
    "shift_df = shift_df.sort_values(by=\"Summe\", ascending=False).drop(\"Summe\", axis=1)\n",
    "\n",
    "shed_df = shed_eligibility_df[[\"geeignet\", \"ungeeignet\"]].reindex(shift_df.index)\n",
    "inc_df = inc_eligibility_df[[\"geeignet\", \"ungeeignet\"]].reindex(shift_df.index)"
   ]
  },
  {
   "cell_type": "code",
   "execution_count": null,
   "metadata": {},
   "outputs": [],
   "source": [
    "shift_df"
   ]
  },
  {
   "cell_type": "code",
   "execution_count": null,
   "metadata": {},
   "outputs": [],
   "source": [
    "%matplotlib inline"
   ]
  },
  {
   "cell_type": "markdown",
   "metadata": {},
   "source": [
    "## Create plots for eligibility"
   ]
  },
  {
   "cell_type": "code",
   "execution_count": null,
   "metadata": {},
   "outputs": [],
   "source": [
    "fig, (ax1, ax2, ax3) = plt.subplots(3, 1, figsize=(20,15), sharex = True)\n",
    "\n",
    "_ = shift_df.plot(kind=\"bar\", color=[\"dimgrey\", \"lightgrey\"], stacked=True, ax=ax1)\n",
    "_ = ax1.set_ylabel(\"absolute Häufigkeit\")\n",
    "_ = ax1.set_title(\"Lastverschiebung\")\n",
    "_ = ax1.set_yticks(np.arange(0, 19, 1))\n",
    "\n",
    "_ = shed_df.plot(kind=\"bar\", color=[\"dimgrey\", \"lightgrey\"], stacked=True, ax=ax2)\n",
    "_ = ax2.set_ylabel(\"absolute Häufigkeit\")\n",
    "_ = ax2.set_title(\"Lastverzicht\")\n",
    "_ = ax2.set_yticks(np.arange(0, 19, 1))\n",
    "\n",
    "_ = inc_df.plot(kind=\"bar\", color=[\"dimgrey\", \"lightgrey\"], stacked=True, ax=ax3)\n",
    "_ = ax3.set_ylabel(\"absolute Häufigkeit\")\n",
    "_ = ax3.set_title(\"Lasterhöhung\")\n",
    "_ = ax3.set_yticks(np.arange(0, 19, 1))\n",
    "\n",
    "_ = plt.xlabel(\"Lastmanagementkategorie\")\n",
    "plt.savefig(path_folder_plots+\"eligibility_all.png\", dpi = 150, bbox_inches = \"tight\")\n",
    "\n",
    "plt.show()"
   ]
  },
  {
   "cell_type": "markdown",
   "metadata": {},
   "source": [
    "## Write the data"
   ]
  },
  {
   "cell_type": "code",
   "execution_count": null,
   "metadata": {},
   "outputs": [],
   "source": [
    "eligibility_df = pd.concat([shift_df, shed_df, inc_df], keys=[\"Lastverschiebung\", \"Lastverzicht\", \"Lasterhöhung\"], axis = \"columns\")"
   ]
  },
  {
   "cell_type": "code",
   "execution_count": null,
   "metadata": {},
   "outputs": [],
   "source": [
    "eligibility_df.to_excel(path_folder_stats+\"eligibility.xlsx\")\n",
    "\n",
    "if add_sources:\n",
    "    eligibility_sources_dict = {\"shift_eligibility\": shift_eligibility_df[\"sources\"].unique().sum(),\n",
    "                                \"shed_eligibility\": shed_eligibility_df[\"sources\"].unique().sum(),\n",
    "                                \"inc_eligibility\": inc_eligibility_df[\"sources\"].unique().sum()}\n",
    "    \n",
    "    if write_sources:\n",
    "        save_sources(eligibility_sources_dict, path_folder_sources, \"eligibility_sources.xlsx\")"
   ]
  },
  {
   "cell_type": "markdown",
   "metadata": {
    "toc-hr-collapsed": false
   },
   "source": [
    "# Capacity-related parameters\n",
    "In the following, all capacity-related demand response parameters are evaluated. These comprise\n",
    "* demand response potentials in positive or negative direction (in MW),\n",
    "* average, minimum and maximum load factors (in percent of installed capacity) as well as\n",
    "* installed capacities (in MW) and shiftable load share (in percent).\n",
    "\n",
    "The evaluation is carried out per process / appliance / branch (demand response category) for a given sector and year."
   ]
  },
  {
   "cell_type": "markdown",
   "metadata": {},
   "source": [
    "## Industry"
   ]
  },
  {
   "cell_type": "markdown",
   "metadata": {},
   "source": [
    "### Positive load shift potential"
   ]
  },
  {
   "cell_type": "markdown",
   "metadata": {},
   "source": [
    "Extract and process the information on the positive load shift potential:\n",
    "* Obtain information from overall industry dictionary containing all parameters for the publications\n",
    "* Transform data info into a dictionary of DataFrames with the processes as columns which is indexed by years\n",
    "* Save the statistical information on the DataFrames into Excel workbooks\n",
    "* Draw a boxplot (for the status quo)"
   ]
  },
  {
   "cell_type": "code",
   "execution_count": null,
   "metadata": {},
   "outputs": [],
   "source": [
    "# Extract all columns containing potential information (mixing min / max / ave values)\n",
    "pot_pos_cols = list(set(cols_dict[\"Potenzial positiv Mittel\"]).union(\n",
    "    set(cols_dict[\"Potenzial positiv min\"])).union(\n",
    "    set(cols_dict[\"Potenzial positiv max\"])))"
   ]
  },
  {
   "cell_type": "code",
   "execution_count": null,
   "metadata": {},
   "outputs": [],
   "source": [
    "# Extract info on positive demand reponse potentials and put the info from different publications together into one DataFrame\n",
    "potential_pos_ind_ave_dict, potential_pos_ind_ave_df = extract_info(publications_ind_years_dict, cols_dict[\"Potenzial positiv Mittel\"], \n",
    "                                                                    drop=drop, sample_stats=sample_stats, add_sources=add_sources,\n",
    "                                                                    drop_datalack=drop_datalack, modify_categories=modify_categories, agg_rule=\"sum\")\n",
    "potential_pos_ind_min_dict, potential_pos_ind_min_df = extract_info(publications_ind_years_dict, cols_dict[\"Potenzial positiv min\"],\n",
    "                                                                    drop=drop, sample_stats=sample_stats, add_sources=add_sources,\n",
    "                                                                    drop_datalack=drop_datalack, modify_categories=modify_categories, agg_rule=\"sum\")\n",
    "potential_pos_ind_max_dict, potential_pos_ind_max_df = extract_info(publications_ind_years_dict, cols_dict[\"Potenzial positiv max\"],\n",
    "                                                                    drop=drop, sample_stats=sample_stats, add_sources=add_sources,\n",
    "                                                                    drop_datalack=drop_datalack, modify_categories=modify_categories, agg_rule=\"sum\")\n",
    "potential_pos_ind_overall_dict, potential_pos_ind_overall_df = extract_info(publications_ind_years_dict, pot_pos_cols, \n",
    "                                                                    drop=drop, sample_stats=sample_stats, add_sources=add_sources,\n",
    "                                                                    drop_datalack=drop_datalack, modify_categories=modify_categories, agg_rule=\"sum\")"
   ]
  },
  {
   "cell_type": "code",
   "execution_count": null,
   "metadata": {},
   "outputs": [],
   "source": [
    "# Show original data shape (example: Apel et al. 2012, Status quo)\n",
    "publications_ind_years_dict[\"Ape12_SQ\"]"
   ]
  },
  {
   "cell_type": "code",
   "execution_count": null,
   "metadata": {},
   "outputs": [],
   "source": [
    "# Show some excerpt of data from one publication (example: Steurer 2017, Status quo)\n",
    "potential_pos_ind_ave_dict[\"Ste17_SQ\"].head(8)"
   ]
  },
  {
   "cell_type": "markdown",
   "metadata": {},
   "source": [
    "Create a DataFrames containing the potential information for the respective_years"
   ]
  },
  {
   "cell_type": "code",
   "execution_count": null,
   "metadata": {},
   "outputs": [],
   "source": [
    "(potential_pos_ind_ave_years_dict, potential_pos_ind_min_years_dict, potential_pos_ind_max_years_dict, potential_pos_ind_overall_years_dict), \\\n",
    "(sources_potential_pos_ind_ave_dict, sources_potential_pos_ind_min_dict, sources_potential_pos_ind_max_dict, sources_potential_pos_ind_overall_dict) \\\n",
    "    = create_info_dict_for_years([potential_pos_ind_ave_df, potential_pos_ind_min_df, potential_pos_ind_max_df, potential_pos_ind_overall_df], years_dict, \n",
    "                                 negate=False, sample_stats=sample_stats, add_sources=True)"
   ]
  },
  {
   "cell_type": "code",
   "execution_count": null,
   "metadata": {},
   "outputs": [],
   "source": [
    "# Save description of the DataFrames -> statistical information\n",
    "if write_outputs:\n",
    "    save_info_stats(potential_pos_ind_ave_years_dict, path_folder_stats, \"potential_pos_ave_ind_stats.xlsx\", sample_stats=sample_stats, add_sources=add_sources)\n",
    "    save_info_stats(potential_pos_ind_min_years_dict, path_folder_stats, \"potential_pos_min_ind_stats.xlsx\", sample_stats=sample_stats, add_sources=add_sources)\n",
    "    save_info_stats(potential_pos_ind_max_years_dict, path_folder_stats, \"potential_pos_max_ind_stats.xlsx\", sample_stats=sample_stats, add_sources=add_sources)\n",
    "    save_info_stats(potential_pos_ind_overall_years_dict, path_folder_stats, \"potential_pos_overall_ind_stats.xlsx\", sample_stats=sample_stats, add_sources=add_sources)"
   ]
  },
  {
   "cell_type": "code",
   "execution_count": null,
   "metadata": {},
   "outputs": [],
   "source": [
    "# Save sources\n",
    "if write_sources:\n",
    "    save_sources(sources_potential_pos_ind_ave_dict, path_folder_sources, \"potential_pos_ave_ind_sources.xlsx\")\n",
    "    save_sources(sources_potential_pos_ind_min_dict, path_folder_sources, \"potential_pos_min_ind_sources.xlsx\")\n",
    "    save_sources(sources_potential_pos_ind_max_dict, path_folder_sources, \"potential_pos_max_ind_sources.xlsx\")\n",
    "    save_sources(sources_potential_pos_ind_overall_dict, path_folder_sources, \"potential_pos_overall_ind_sources.xlsx\")"
   ]
  },
  {
   "cell_type": "markdown",
   "metadata": {},
   "source": [
    "_NOTE: The following can be used to create nicer visualizations, e.g. for presentations:_\n",
    "* _Swap order of appearance of columns (i.e. demand response categories)_\n",
    "* _Plot only an excerpt of all categories_"
   ]
  },
  {
   "cell_type": "code",
   "execution_count": null,
   "metadata": {},
   "outputs": [],
   "source": [
    "if presentation_stuff:\n",
    "    # show original columns order\n",
    "    cols_original = potential_pos_ind_ave_years_dict[\"SQ\"].columns.to_list()\n",
    "    for i, el in enumerate(cols_original):\n",
    "        print(i, el)\n",
    "    len(cols_original)"
   ]
  },
  {
   "cell_type": "code",
   "execution_count": null,
   "metadata": {},
   "outputs": [],
   "source": [
    "if presentation_stuff:\n",
    "    # create demanded columns order\n",
    "    cols_demanded = cols_original[:7] + cols_original[8:9] + cols_original[11:12] + cols_original[7:8] + cols_original[9:11] + cols_original[12:13] + cols_original[13:] \n",
    "    len(cols_demanded)"
   ]
  },
  {
   "cell_type": "code",
   "execution_count": null,
   "metadata": {},
   "outputs": [],
   "source": [
    "if presentation_stuff:\n",
    "    # reassign the manipulated DataFrame\n",
    "    potential_pos_ind_ave_years_dict[\"SQ\"] = potential_pos_ind_ave_years_dict[\"SQ\"][cols_demanded]"
   ]
  },
  {
   "cell_type": "code",
   "execution_count": null,
   "metadata": {},
   "outputs": [],
   "source": [
    "if presentation_stuff:\n",
    "    potential_pos_ind_ave_years_dict[\"SQ\"] = potential_pos_ind_ave_years_dict[\"SQ\"][cols_demanded[9:] + cols_demanded[:9]]"
   ]
  },
  {
   "cell_type": "code",
   "execution_count": null,
   "metadata": {},
   "outputs": [],
   "source": [
    "if presentation_stuff:\n",
    "    create_info_boxplot(potential_pos_ind_ave_years_dict, \n",
    "                        year=\"SQ\",\n",
    "                        title=\"Werte für das durchschnittliche positive Lastmanagementpotenzial (Lastreduktion)\",\n",
    "                        ylabel=\"durchschn. positives Potenzial in MW\",\n",
    "                        show_title=False,\n",
    "                        colors=colors,\n",
    "                        ylim=[0, 3000],\n",
    "                        use_colors=use_colors,\n",
    "                        use_limits=False,\n",
    "                        sample_stats=sample_stats, \n",
    "                        add_sources=add_sources, \n",
    "                        swarmplot=swarmplot, \n",
    "                        savefig=True, \n",
    "                        filename=\"potential_pos_ave_ind_SQ_slice\")"
   ]
  },
  {
   "cell_type": "markdown",
   "metadata": {},
   "source": [
    "Plot the positive potential information as a box plot"
   ]
  },
  {
   "cell_type": "code",
   "execution_count": null,
   "metadata": {},
   "outputs": [],
   "source": [
    "create_info_boxplot(potential_pos_ind_ave_years_dict, \n",
    "                    year=\"SQ\",\n",
    "                    title=\"Werte für das durchschnittliche positive Lastmanagementpotenzial (Lastreduktion)\",\n",
    "                    ylabel=\"durchschn. positives Potenzial in MW\",\n",
    "                    show_title=False,\n",
    "                    colors=colors,\n",
    "                    ylim=[0, 3000],\n",
    "                    use_colors=use_colors,\n",
    "                    use_limits=False,\n",
    "                    sample_stats=sample_stats, \n",
    "                    add_sources=add_sources, \n",
    "                    swarmplot=swarmplot, \n",
    "                    savefig=True, \n",
    "                    filename=\"potential_pos_ave_ind_SQ\")"
   ]
  },
  {
   "cell_type": "code",
   "execution_count": null,
   "metadata": {},
   "outputs": [],
   "source": [
    "create_info_boxplot(potential_pos_ind_min_years_dict, \n",
    "                    year=\"SQ\",\n",
    "                    title=\"Werte für das minimale positive Lastmanagementpotenzial (Lastreduktion)\",\n",
    "                    ylabel=\"min. positives Potenzial in MW\",\n",
    "                    show_title=False,\n",
    "                    colors=colors,\n",
    "                    ylim=[0, 3000],\n",
    "                    use_colors=use_colors,\n",
    "                    use_limits=use_limits,\n",
    "                    sample_stats=sample_stats, \n",
    "                    add_sources=add_sources, \n",
    "                    swarmplot=swarmplot, \n",
    "                    savefig=savefig, \n",
    "                    filename=\"potential_pos_min_ind_SQ\")"
   ]
  },
  {
   "cell_type": "code",
   "execution_count": null,
   "metadata": {},
   "outputs": [],
   "source": [
    "create_info_boxplot(potential_pos_ind_max_years_dict, \n",
    "                    year=\"SQ\",\n",
    "                    title=\"Werte für das maximale positive Lastmanagementpotenzial (Lastreduktion)\",\n",
    "                    ylabel=\"max. positives Potenzial in MW\",\n",
    "                    show_title=False,\n",
    "                    colors=colors,\n",
    "                    ylim=[0, 3000],\n",
    "                    use_colors=use_colors,\n",
    "                    use_limits=use_limits,\n",
    "                    sample_stats=sample_stats, \n",
    "                    add_sources=add_sources, \n",
    "                    swarmplot=swarmplot, \n",
    "                    savefig=savefig, \n",
    "                    filename=\"potential_pos_max_ind_SQ\")"
   ]
  },
  {
   "cell_type": "code",
   "execution_count": null,
   "metadata": {},
   "outputs": [],
   "source": [
    "create_info_boxplot(potential_pos_ind_overall_years_dict, \n",
    "                    year=\"SQ\",\n",
    "                    title=\"Werte für das positive Lastmanagementpotenzial (Lastreduktion)\",\n",
    "                    ylabel=\"Potenzial in MW\",\n",
    "                    show_title=False,\n",
    "                    colors=colors,\n",
    "                    ylim=[0, 3000],\n",
    "                    use_colors=use_colors,\n",
    "                    use_limits=False,\n",
    "                    sample_stats=sample_stats, \n",
    "                    add_sources=add_sources, \n",
    "                    swarmplot=swarmplot, \n",
    "                    savefig=savefig, \n",
    "                    filename=\"potential_pos_overall_ind_SQ\")"
   ]
  },
  {
   "cell_type": "markdown",
   "metadata": {},
   "source": [
    "### Positive load shedding potential"
   ]
  },
  {
   "cell_type": "markdown",
   "metadata": {},
   "source": [
    "Extract and process the information on the positive load shedding potential:\n",
    "* Obtain information from overall industry dictionary containing all parameters for the publications\n",
    "* Transform data info into a dictionary of DataFrames with the processes as columns which is indexed by years\n",
    "* Save the statistical information on the DataFrames into Excel workbooks\n",
    "* Draw a boxplot (for the status quo)"
   ]
  },
  {
   "cell_type": "code",
   "execution_count": null,
   "metadata": {},
   "outputs": [],
   "source": [
    "# Extract all columns containing potential information (mixing min / max / ave values)\n",
    "pot_pos_shed_cols = list(\n",
    "    set(cols_dict[\"Potenzial positiv Mittel Lastverzicht\"]).union(\n",
    "        set(cols_dict[\"Potenzial positiv min Lastverzicht\"])).union(\n",
    "        set(cols_dict[\"Potenzial positiv max Lastverzicht\"])))"
   ]
  },
  {
   "cell_type": "code",
   "execution_count": null,
   "metadata": {},
   "outputs": [],
   "source": [
    "# Extract info on positive demand reponse potentials and put the info from different publications together into one DataFrame\n",
    "potential_pos_ind_ave_shed_dict, potential_pos_ind_ave_shed_df = extract_info(\n",
    "    publications_ind_years_dict, cols_dict[\"Potenzial positiv Mittel Lastverzicht\"], \n",
    "    drop=drop, sample_stats=sample_stats, add_sources=add_sources,\n",
    "    drop_datalack=drop_datalack, modify_categories=modify_categories, agg_rule=\"sum\"\n",
    ")\n",
    "potential_pos_ind_min_shed_dict, potential_pos_ind_min_shed_df = extract_info(\n",
    "    publications_ind_years_dict, cols_dict[\"Potenzial positiv min Lastverzicht\"],\n",
    "    drop=drop, sample_stats=sample_stats, add_sources=add_sources,\n",
    "    drop_datalack=drop_datalack, modify_categories=modify_categories, agg_rule=\"sum\"\n",
    ")\n",
    "potential_pos_ind_max_shed_dict, potential_pos_ind_max_shed_df = extract_info(\n",
    "    publications_ind_years_dict, cols_dict[\"Potenzial positiv max Lastverzicht\"],\n",
    "    drop=drop, sample_stats=sample_stats, add_sources=add_sources,\n",
    "    drop_datalack=drop_datalack, modify_categories=modify_categories, agg_rule=\"sum\"\n",
    ")\n",
    "potential_pos_ind_overall_shed_dict, potential_pos_ind_overall_shed_df = extract_info(\n",
    "    publications_ind_years_dict, pot_pos_shed_cols, \n",
    "    drop=drop, sample_stats=sample_stats, add_sources=add_sources,\n",
    "    drop_datalack=drop_datalack, modify_categories=modify_categories, agg_rule=\"sum\"\n",
    ")"
   ]
  },
  {
   "cell_type": "markdown",
   "metadata": {},
   "source": [
    "Create a DataFrames containing the potential information for the respective_years"
   ]
  },
  {
   "cell_type": "code",
   "execution_count": null,
   "metadata": {},
   "outputs": [],
   "source": [
    "(potential_pos_ind_ave_shed_years_dict, \n",
    " potential_pos_ind_min_shed_years_dict, \n",
    " potential_pos_ind_max_shed_years_dict, \n",
    " potential_pos_ind_overall_shed_years_dict), \\\n",
    "(sources_potential_pos_ind_ave_shed_dict, \n",
    " sources_potential_pos_ind_min_shed_dict, \n",
    " sources_potential_pos_ind_max_shed_dict, \n",
    " sources_potential_pos_ind_overall_shed_dict) \\\n",
    "    = create_info_dict_for_years(\n",
    "    [potential_pos_ind_ave_shed_df, potential_pos_ind_min_shed_df, \n",
    "     potential_pos_ind_max_shed_df, potential_pos_ind_overall_shed_df], years_dict, \n",
    "                                 negate=False, sample_stats=sample_stats, add_sources=True)"
   ]
  },
  {
   "cell_type": "code",
   "execution_count": null,
   "metadata": {},
   "outputs": [],
   "source": [
    "# Save description of the DataFrames -> statistical information\n",
    "if write_outputs:\n",
    "    save_info_stats(potential_pos_ind_ave_shed_years_dict, path_folder_stats, \"potential_pos_ave_shed_ind_stats.xlsx\", sample_stats=sample_stats, add_sources=add_sources)\n",
    "    save_info_stats(potential_pos_ind_min_shed_years_dict, path_folder_stats, \"potential_pos_min_shed_ind_stats.xlsx\", sample_stats=sample_stats, add_sources=add_sources)\n",
    "    save_info_stats(potential_pos_ind_max_shed_years_dict, path_folder_stats, \"potential_pos_max_shed_ind_stats.xlsx\", sample_stats=sample_stats, add_sources=add_sources)\n",
    "    save_info_stats(potential_pos_ind_overall_shed_years_dict, path_folder_stats, \"potential_pos_overall_shed_ind_stats.xlsx\", sample_stats=sample_stats, add_sources=add_sources)"
   ]
  },
  {
   "cell_type": "code",
   "execution_count": null,
   "metadata": {},
   "outputs": [],
   "source": [
    "# Save sources\n",
    "if write_sources:\n",
    "    save_sources(sources_potential_pos_ind_ave_shed_dict, path_folder_sources, \"potential_pos_ave_shed_ind_sources.xlsx\")\n",
    "    save_sources(sources_potential_pos_ind_min_shed_dict, path_folder_sources, \"potential_pos_min_shed_ind_sources.xlsx\")\n",
    "    save_sources(sources_potential_pos_ind_max_shed_dict, path_folder_sources, \"potential_pos_max_shed_ind_sources.xlsx\")\n",
    "    save_sources(sources_potential_pos_ind_overall_shed_dict, path_folder_sources, \"potential_pos_overall_shed_ind_sources.xlsx\")"
   ]
  },
  {
   "cell_type": "markdown",
   "metadata": {},
   "source": [
    "Plot the positive potential information as a box plot"
   ]
  },
  {
   "cell_type": "code",
   "execution_count": null,
   "metadata": {},
   "outputs": [],
   "source": [
    "create_info_boxplot(potential_pos_ind_ave_shed_years_dict, \n",
    "                    year=\"SQ\",\n",
    "                    title=\"Werte für das durchschnittliche positive Abschaltpotenzial (Lastverzicht)\",\n",
    "                    ylabel=\"durchschn. positives Potenzial in MW\",\n",
    "                    show_title=False,\n",
    "                    colors=colors,\n",
    "                    ylim=[0, 3000],\n",
    "                    use_colors=use_colors,\n",
    "                    use_limits=False,\n",
    "                    sample_stats=sample_stats, \n",
    "                    add_sources=add_sources, \n",
    "                    swarmplot=swarmplot, \n",
    "                    savefig=True, \n",
    "                    filename=\"potential_pos_ave_shed_ind_SQ\")"
   ]
  },
  {
   "cell_type": "code",
   "execution_count": null,
   "metadata": {},
   "outputs": [],
   "source": [
    "create_info_boxplot(potential_pos_ind_min_shed_years_dict, \n",
    "                    year=\"SQ\",\n",
    "                    title=\"Werte für das minimale positive Abschaltpotenzial (Lastverzicht)\",\n",
    "                    ylabel=\"min. positives Potenzial in MW\",\n",
    "                    show_title=False,\n",
    "                    colors=colors,\n",
    "                    ylim=[0, 3000],\n",
    "                    use_colors=use_colors,\n",
    "                    use_limits=use_limits,\n",
    "                    sample_stats=sample_stats, \n",
    "                    add_sources=add_sources, \n",
    "                    swarmplot=swarmplot, \n",
    "                    savefig=savefig, \n",
    "                    filename=\"potential_pos_min_shed_ind_SQ\")"
   ]
  },
  {
   "cell_type": "code",
   "execution_count": null,
   "metadata": {},
   "outputs": [],
   "source": [
    "create_info_boxplot(potential_pos_ind_max_shed_years_dict, \n",
    "                    year=\"SQ\",\n",
    "                    title=\"Werte für das maximale positive Abschaltpotenzial (Lastverzicht)\",\n",
    "                    ylabel=\"max. positives Potenzial in MW\",\n",
    "                    show_title=False,\n",
    "                    colors=colors,\n",
    "                    ylim=[0, 3000],\n",
    "                    use_colors=use_colors,\n",
    "                    use_limits=use_limits,\n",
    "                    sample_stats=sample_stats, \n",
    "                    add_sources=add_sources, \n",
    "                    swarmplot=swarmplot, \n",
    "                    savefig=savefig, \n",
    "                    filename=\"potential_pos_max_shed_ind_SQ\")"
   ]
  },
  {
   "cell_type": "code",
   "execution_count": null,
   "metadata": {},
   "outputs": [],
   "source": [
    "create_info_boxplot(potential_pos_ind_overall_shed_years_dict, \n",
    "                    year=\"SQ\",\n",
    "                    title=\"Werte für das positive Abschaltpotenzial (Lastverzicht)\",\n",
    "                    ylabel=\"Potenzial in MW\",\n",
    "                    show_title=False,\n",
    "                    colors=colors,\n",
    "                    ylim=[0, 3000],\n",
    "                    use_colors=use_colors,\n",
    "                    use_limits=False,\n",
    "                    sample_stats=sample_stats, \n",
    "                    add_sources=add_sources, \n",
    "                    swarmplot=swarmplot, \n",
    "                    savefig=savefig, \n",
    "                    filename=\"potential_pos_overall_shed_ind_SQ\")"
   ]
  },
  {
   "cell_type": "markdown",
   "metadata": {},
   "source": [
    "### Negative load shift potential"
   ]
  },
  {
   "cell_type": "markdown",
   "metadata": {},
   "source": [
    "Extract the information on the negative load shift potential"
   ]
  },
  {
   "cell_type": "code",
   "execution_count": null,
   "metadata": {},
   "outputs": [],
   "source": [
    "# Extract all columns containing potential information (mixing min / max / ave values)\n",
    "pot_neg_cols = list(set(cols_dict[\"Potenzial negativ Mittel\"]).union(set(cols_dict[\"Potenzial negativ min\"])).union(set(cols_dict[\"Potenzial negativ max\"])))"
   ]
  },
  {
   "cell_type": "code",
   "execution_count": null,
   "metadata": {},
   "outputs": [],
   "source": [
    "potential_neg_ind_ave_dict, potential_neg_ind_ave_df = extract_info(publications_ind_years_dict, cols_dict[\"Potenzial negativ Mittel\"], \n",
    "                                                                    drop=drop, sample_stats=sample_stats, add_sources=add_sources,\n",
    "                                                                    drop_datalack=drop_datalack, modify_categories=modify_categories, agg_rule=\"sum\")\n",
    "potential_neg_ind_min_dict, potential_neg_ind_min_df = extract_info(publications_ind_years_dict, cols_dict[\"Potenzial negativ min\"], \n",
    "                                                                    drop=drop, sample_stats=sample_stats, add_sources=add_sources,\n",
    "                                                                    drop_datalack=drop_datalack, modify_categories=modify_categories, agg_rule=\"sum\")\n",
    "potential_neg_ind_max_dict, potential_neg_ind_max_df = extract_info(publications_ind_years_dict, cols_dict[\"Potenzial negativ max\"], \n",
    "                                                                    drop=drop, sample_stats=sample_stats, add_sources=add_sources,\n",
    "                                                                    drop_datalack=drop_datalack, modify_categories=modify_categories, agg_rule=\"sum\")\n",
    "potential_neg_ind_overall_dict, potential_neg_ind_overall_df = extract_info(publications_ind_years_dict, pot_neg_cols, \n",
    "                                                                    drop=drop, sample_stats=sample_stats, add_sources=add_sources,\n",
    "                                                                    drop_datalack=drop_datalack, modify_categories=modify_categories, agg_rule=\"sum\")"
   ]
  },
  {
   "cell_type": "markdown",
   "metadata": {},
   "source": [
    "Create a DataFrames containing the potential information for the respective_years"
   ]
  },
  {
   "cell_type": "code",
   "execution_count": null,
   "metadata": {},
   "outputs": [],
   "source": [
    "(potential_neg_ind_ave_years_dict, potential_neg_ind_min_years_dict, potential_neg_ind_max_years_dict, potential_neg_ind_overall_years_dict), \\\n",
    "(sources_potential_neg_ind_ave_dict, sources_potential_neg_ind_min_dict, sources_potential_neg_ind_max_dict, sources_potential_neg_ind_overall_dict) \\\n",
    "    = create_info_dict_for_years([potential_neg_ind_ave_df, potential_neg_ind_min_df, potential_neg_ind_max_df, potential_neg_ind_overall_df], years_dict, \n",
    "                                 negate=True, sample_stats=sample_stats, add_sources=add_sources)"
   ]
  },
  {
   "cell_type": "code",
   "execution_count": null,
   "metadata": {},
   "outputs": [],
   "source": [
    "# Save description of the DataFrames -> statistical information\n",
    "if write_outputs:\n",
    "    save_info_stats(potential_neg_ind_ave_years_dict, path_folder_stats, \"potential_neg_ave_ind_stats.xlsx\", sample_stats=sample_stats, add_sources=add_sources)\n",
    "    save_info_stats(potential_neg_ind_min_years_dict, path_folder_stats, \"potential_neg_min_ind_stats.xlsx\", sample_stats=sample_stats, add_sources=add_sources)\n",
    "    save_info_stats(potential_neg_ind_max_years_dict, path_folder_stats, \"potential_neg_max_ind_stats.xlsx\", sample_stats=sample_stats, add_sources=add_sources)\n",
    "    save_info_stats(potential_neg_ind_overall_years_dict, path_folder_stats, \"potential_neg_overall_ind_stats.xlsx\", sample_stats=sample_stats, add_sources=add_sources)"
   ]
  },
  {
   "cell_type": "code",
   "execution_count": null,
   "metadata": {},
   "outputs": [],
   "source": [
    "# Save sources\n",
    "if write_sources:\n",
    "    save_sources(sources_potential_neg_ind_ave_dict, path_folder_sources, \"potential_neg_ave_ind_sources.xlsx\")\n",
    "    save_sources(sources_potential_neg_ind_min_dict, path_folder_sources, \"potential_neg_min_ind_sources.xlsx\")\n",
    "    save_sources(sources_potential_neg_ind_max_dict, path_folder_sources, \"potential_neg_max_ind_sources.xlsx\")\n",
    "    save_sources(sources_potential_neg_ind_overall_dict, path_folder_sources, \"potential_neg_overall_ind_sources.xlsx\")"
   ]
  },
  {
   "cell_type": "code",
   "execution_count": null,
   "metadata": {},
   "outputs": [],
   "source": [
    "create_info_boxplot(potential_neg_ind_ave_years_dict, \n",
    "                    year=\"SQ\",\n",
    "                    title=\"Werte für das durchschnittliche negative Lastmanagementpotenzial (Lasterhöhung)\",\n",
    "                    ylabel=\"durchschn. negatives Potenzial in MW\",\n",
    "                    show_title=False,\n",
    "                    colors=colors,\n",
    "                    ylim=[-3000, 0],\n",
    "                    use_colors=use_colors,\n",
    "                    use_limits=False,\n",
    "                    sample_stats=sample_stats, \n",
    "                    add_sources=add_sources, \n",
    "                    swarmplot=swarmplot, \n",
    "                    savefig=savefig, \n",
    "                    filename=\"potential_neg_ave_ind_SQ\")"
   ]
  },
  {
   "cell_type": "code",
   "execution_count": null,
   "metadata": {},
   "outputs": [],
   "source": [
    "create_info_boxplot(potential_neg_ind_min_years_dict, \n",
    "                    year=\"SQ\",\n",
    "                    title=\"Werte für das minimale negative Lastmanagementpotenzial (Lasterhöhung)\",\n",
    "                    ylabel=\"min. negatives Potenzial in MW\",\n",
    "                    show_title=False,\n",
    "                    colors=colors,\n",
    "                    ylim=[-3000, 0],\n",
    "                    use_colors=use_colors,\n",
    "                    use_limits=use_limits,\n",
    "                    sample_stats=sample_stats, \n",
    "                    add_sources=add_sources, \n",
    "                    swarmplot=swarmplot, \n",
    "                    savefig=savefig, \n",
    "                    filename=\"potential_neg_min_ind_SQ\")"
   ]
  },
  {
   "cell_type": "code",
   "execution_count": null,
   "metadata": {},
   "outputs": [],
   "source": [
    "create_info_boxplot(potential_neg_ind_max_years_dict, \n",
    "                    year=\"SQ\",\n",
    "                    title=\"Werte für das maximale negative Lastmanagementpotenzial (Lasterhöhung)\",\n",
    "                    ylabel=\"max. negatives Potenzial in MW\",\n",
    "                    show_title=False,\n",
    "                    colors=colors,\n",
    "                    ylim=[-3000, 0],\n",
    "                    use_colors=use_colors,\n",
    "                    use_limits=use_limits,\n",
    "                    sample_stats=sample_stats, \n",
    "                    add_sources=add_sources, \n",
    "                    swarmplot=swarmplot, \n",
    "                    savefig=savefig, \n",
    "                    filename=\"potential_neg_max_ind_SQ\")"
   ]
  },
  {
   "cell_type": "code",
   "execution_count": null,
   "metadata": {},
   "outputs": [],
   "source": [
    "create_info_boxplot(potential_neg_ind_overall_years_dict, \n",
    "                    year=\"SQ\",\n",
    "                    title=\"Werte für das negative Lastmanagementpotenzial (Lasterhöhung)\",\n",
    "                    ylabel=\"negatives Potenzial in MW\", \n",
    "                    show_title=False,\n",
    "                    colors=colors,\n",
    "                    ylim=[-3000, 0],\n",
    "                    use_colors=use_colors,\n",
    "                    use_limits=False,\n",
    "                    sample_stats=sample_stats, \n",
    "                    add_sources=add_sources, \n",
    "                    swarmplot=swarmplot, \n",
    "                    savefig=savefig, \n",
    "                    filename=\"potential_neg_overall_ind_SQ\")"
   ]
  },
  {
   "cell_type": "markdown",
   "metadata": {},
   "source": [
    "### Average load values"
   ]
  },
  {
   "cell_type": "code",
   "execution_count": null,
   "metadata": {},
   "outputs": [],
   "source": [
    "ave_load_ind_dict, ave_load_ind_df = extract_info(publications_ind_years_dict, cols_dict[\"Durchschnittsauslastung\"], \n",
    "                                                  drop=drop, sample_stats=sample_stats, add_sources=add_sources,\n",
    "                                                  drop_datalack=drop_datalack, modify_categories=modify_categories, agg_rule=\"weighted_average\", weights=pot_pos_cols)"
   ]
  },
  {
   "cell_type": "code",
   "execution_count": null,
   "metadata": {},
   "outputs": [],
   "source": [
    "ave_load_ind_years_dict, sources_ave_load_ind_dict = create_info_dict_for_years(ave_load_ind_df, years_dict, \n",
    "                                                     negate=False, sample_stats=sample_stats, add_sources=add_sources)"
   ]
  },
  {
   "cell_type": "code",
   "execution_count": null,
   "metadata": {},
   "outputs": [],
   "source": [
    "if write_outputs:\n",
    "    save_info_stats(ave_load_ind_years_dict, path_folder_stats, \"ave_load_ind_stats.xlsx\", sample_stats=sample_stats, add_sources=add_sources)"
   ]
  },
  {
   "cell_type": "code",
   "execution_count": null,
   "metadata": {},
   "outputs": [],
   "source": [
    "# Save sources\n",
    "if write_sources:\n",
    "    save_sources(sources_ave_load_ind_dict, path_folder_sources, \"ave_load_ind_sources.xlsx\")"
   ]
  },
  {
   "cell_type": "code",
   "execution_count": null,
   "metadata": {},
   "outputs": [],
   "source": [
    "create_info_boxplot(ave_load_ind_years_dict, \n",
    "                    year=\"SQ\",\n",
    "                    title=\"Durchschnittlicher Lastfaktor\",\n",
    "                    ylabel=\"durchschnittlicher Lastfaktor in p.u.\",\n",
    "                    show_title=False,\n",
    "                    colors=colors,\n",
    "                    ylim=[0, 1],\n",
    "                    use_colors=use_colors,\n",
    "                    use_limits=use_limits,\n",
    "                    sample_stats=sample_stats, \n",
    "                    add_sources=add_sources, \n",
    "                    swarmplot=swarmplot, \n",
    "                    savefig=savefig, \n",
    "                    filename=\"ave_load_ind_SQ\")"
   ]
  },
  {
   "cell_type": "markdown",
   "metadata": {},
   "source": [
    "### Minimum load values"
   ]
  },
  {
   "cell_type": "code",
   "execution_count": null,
   "metadata": {},
   "outputs": [],
   "source": [
    "min_load_ind_dict, min_load_ind_df = extract_info(publications_ind_years_dict, cols_dict[\"Minimalauslastung\"],\n",
    "                                                  drop=drop, sample_stats=sample_stats, add_sources=add_sources,\n",
    "                                                  drop_datalack=drop_datalack, modify_categories=modify_categories, agg_rule=\"weighted_average\", weights=pot_pos_cols)"
   ]
  },
  {
   "cell_type": "code",
   "execution_count": null,
   "metadata": {},
   "outputs": [],
   "source": [
    "min_load_ind_years_dict, sources_min_load_ind_dict = create_info_dict_for_years(min_load_ind_df, years_dict, \n",
    "                                                     negate=False, sample_stats=sample_stats, add_sources=add_sources)"
   ]
  },
  {
   "cell_type": "code",
   "execution_count": null,
   "metadata": {},
   "outputs": [],
   "source": [
    "if write_outputs:\n",
    "    save_info_stats(min_load_ind_years_dict, path_folder_stats, \"min_load_ind_stats.xlsx\", sample_stats=sample_stats, add_sources=add_sources)"
   ]
  },
  {
   "cell_type": "code",
   "execution_count": null,
   "metadata": {},
   "outputs": [],
   "source": [
    "# Save sources\n",
    "if write_sources:\n",
    "    save_sources(sources_min_load_ind_dict, path_folder_sources, \"min_load_ind_sources.xlsx\")"
   ]
  },
  {
   "cell_type": "code",
   "execution_count": null,
   "metadata": {},
   "outputs": [],
   "source": [
    "create_info_boxplot(min_load_ind_years_dict, \n",
    "                    year=\"SQ\",\n",
    "                    title=\"Minimaler Lastfaktor\",\n",
    "                    ylabel=\"minimaler Lastfaktor in p.u.\",\n",
    "                    show_title=False,\n",
    "                    colors=colors,\n",
    "                    ylim=[0, 1],\n",
    "                    use_colors=use_colors,\n",
    "                    use_limits=use_limits,\n",
    "                    sample_stats=sample_stats, \n",
    "                    add_sources=add_sources, \n",
    "                    swarmplot=swarmplot, \n",
    "                    savefig=savefig, \n",
    "                    filename=\"min_load_ind_SQ\")"
   ]
  },
  {
   "cell_type": "markdown",
   "metadata": {},
   "source": [
    "### Maximum load values"
   ]
  },
  {
   "cell_type": "code",
   "execution_count": null,
   "metadata": {},
   "outputs": [],
   "source": [
    "max_load_ind_dict, max_load_ind_df = extract_info(publications_ind_years_dict, cols_dict[\"Maximalauslastung\"],\n",
    "                                                  drop=drop, sample_stats=sample_stats, add_sources=add_sources,\n",
    "                                                  drop_datalack=drop_datalack, modify_categories=modify_categories, agg_rule=\"weighted_average\", weights=pot_pos_cols)"
   ]
  },
  {
   "cell_type": "code",
   "execution_count": null,
   "metadata": {},
   "outputs": [],
   "source": [
    "max_load_ind_years_dict, sources_max_load_ind_dict = create_info_dict_for_years(max_load_ind_df, years_dict, \n",
    "                                                     negate=False, sample_stats=sample_stats, add_sources=add_sources)"
   ]
  },
  {
   "cell_type": "code",
   "execution_count": null,
   "metadata": {},
   "outputs": [],
   "source": [
    "if write_outputs:\n",
    "    save_info_stats(max_load_ind_years_dict, path_folder_stats, \"max_load_ind_stats.xlsx\", sample_stats=sample_stats, add_sources=add_sources)"
   ]
  },
  {
   "cell_type": "code",
   "execution_count": null,
   "metadata": {},
   "outputs": [],
   "source": [
    "# Save sources\n",
    "if write_sources:\n",
    "    save_sources(sources_max_load_ind_dict, path_folder_sources, \"max_load_ind_sources.xlsx\")"
   ]
  },
  {
   "cell_type": "code",
   "execution_count": null,
   "metadata": {},
   "outputs": [],
   "source": [
    "create_info_boxplot(max_load_ind_years_dict, \n",
    "                    year=\"SQ\",\n",
    "                    title=\"Maximaler Lastfaktor\",\n",
    "                    ylabel=\"maximaler Lastfaktor in p.u.\", \n",
    "                    show_title=False,\n",
    "                    colors=colors,\n",
    "                    ylim=[0, 1],\n",
    "                    use_colors=use_colors,\n",
    "                    use_limits=use_limits,\n",
    "                    sample_stats=sample_stats, \n",
    "                    add_sources=add_sources, \n",
    "                    swarmplot=swarmplot, \n",
    "                    savefig=savefig, \n",
    "                    filename=\"max_load_ind_SQ\")"
   ]
  },
  {
   "cell_type": "markdown",
   "metadata": {},
   "source": [
    "### Installed capacity"
   ]
  },
  {
   "cell_type": "code",
   "execution_count": null,
   "metadata": {},
   "outputs": [],
   "source": [
    "installed_cap_ind_dict, installed_cap_ind_df = extract_info(publications_ind_years_dict, cols_dict[\"installierte Leistung\"],\n",
    "                                                            drop=drop, sample_stats=sample_stats, add_sources=add_sources,\n",
    "                                                            drop_datalack=drop_datalack, modify_categories=modify_categories, agg_rule=\"sum\")"
   ]
  },
  {
   "cell_type": "code",
   "execution_count": null,
   "metadata": {},
   "outputs": [],
   "source": [
    "installed_cap_ind_years_dict, sources_installed_cap_ind_dict = create_info_dict_for_years(installed_cap_ind_df, years_dict, \n",
    "                                                          negate=False, sample_stats=sample_stats, add_sources=add_sources)"
   ]
  },
  {
   "cell_type": "code",
   "execution_count": null,
   "metadata": {},
   "outputs": [],
   "source": [
    "if write_outputs:\n",
    "    save_info_stats(installed_cap_ind_years_dict, path_folder_stats, \"installed_cap_ind_stats.xlsx\", sample_stats=sample_stats, add_sources=add_sources)"
   ]
  },
  {
   "cell_type": "code",
   "execution_count": null,
   "metadata": {},
   "outputs": [],
   "source": [
    "# Save sources\n",
    "if write_sources:\n",
    "    save_sources(sources_installed_cap_ind_dict, path_folder_sources, \"installed_cap_ind_sources.xlsx\")"
   ]
  },
  {
   "cell_type": "code",
   "execution_count": null,
   "metadata": {},
   "outputs": [],
   "source": [
    "create_info_boxplot(installed_cap_ind_years_dict, \n",
    "                    year=\"SQ\",\n",
    "                    title=\"installierte Leistung\",\n",
    "                    ylabel=\"installierte Leistung in MW\",\n",
    "                    show_title=False,\n",
    "                    colors=colors,\n",
    "                    ylim=[0, 3000],\n",
    "                    use_colors=use_colors,\n",
    "                    use_limits=use_limits,\n",
    "                    sample_stats=sample_stats, \n",
    "                    add_sources=add_sources, \n",
    "                    swarmplot=swarmplot, \n",
    "                    savefig=savefig, \n",
    "                    filename=\"installed_cap_ind_SQ\")"
   ]
  },
  {
   "cell_type": "markdown",
   "metadata": {},
   "source": [
    "### Shiftable share"
   ]
  },
  {
   "cell_type": "code",
   "execution_count": null,
   "metadata": {},
   "outputs": [],
   "source": [
    "shiftable_share_ind_dict, shiftable_share_ind_df = extract_info(publications_ind_years_dict, cols_dict[\"flexibilisierbarer Leistungsanteil\"],\n",
    "                                                                drop=drop, sample_stats=sample_stats, add_sources=add_sources,\n",
    "                                                                drop_datalack=drop_datalack, modify_categories=modify_categories, agg_rule=\"weighted_average\", weights=pot_pos_cols)"
   ]
  },
  {
   "cell_type": "code",
   "execution_count": null,
   "metadata": {},
   "outputs": [],
   "source": [
    "shiftable_share_ind_dict[\"Ape12_SQ\"]"
   ]
  },
  {
   "cell_type": "code",
   "execution_count": null,
   "metadata": {},
   "outputs": [],
   "source": [
    "shiftable_share_ind_years_dict, sources_shiftable_share_ind_dict = create_info_dict_for_years(shiftable_share_ind_df, years_dict, \n",
    "                                                            negate=False, sample_stats=sample_stats, add_sources=add_sources)"
   ]
  },
  {
   "cell_type": "code",
   "execution_count": null,
   "metadata": {},
   "outputs": [],
   "source": [
    "if write_outputs:\n",
    "    save_info_stats(shiftable_share_ind_years_dict, path_folder_stats, \"shiftable_share_ind_stats.xlsx\", sample_stats=sample_stats, add_sources=add_sources)"
   ]
  },
  {
   "cell_type": "code",
   "execution_count": null,
   "metadata": {},
   "outputs": [],
   "source": [
    "# Save sources\n",
    "if write_sources:\n",
    "    save_sources(sources_shiftable_share_ind_dict, path_folder_sources, \"shiftable_share_ind_sources.xlsx\")"
   ]
  },
  {
   "cell_type": "code",
   "execution_count": null,
   "metadata": {},
   "outputs": [],
   "source": [
    "create_info_boxplot(shiftable_share_ind_years_dict, \n",
    "                    year=\"SQ\",\n",
    "                    title=\"flexibilisierbarer Leistungsanteil\",\n",
    "                    ylabel=\"flexibilisierbarer Leistungsanteil in p.u.\",\n",
    "                    show_title=False,\n",
    "                    colors=colors,\n",
    "                    ylim=[0, 1.5],\n",
    "                    use_colors=use_colors,\n",
    "                    use_limits=use_limits,\n",
    "                    sample_stats=sample_stats, \n",
    "                    add_sources=add_sources, \n",
    "                    swarmplot=swarmplot, \n",
    "                    savefig=savefig, \n",
    "                    filename=\"shiftable_share_ind_SQ\")"
   ]
  },
  {
   "cell_type": "markdown",
   "metadata": {},
   "source": [
    "## Trade, commerce and services"
   ]
  },
  {
   "cell_type": "markdown",
   "metadata": {},
   "source": [
    "### Positive load shift potential"
   ]
  },
  {
   "cell_type": "markdown",
   "metadata": {},
   "source": [
    "Extract the information on the positive load shift potential"
   ]
  },
  {
   "cell_type": "code",
   "execution_count": null,
   "metadata": {},
   "outputs": [],
   "source": [
    "# Extract info on positive demand reponse potentials and put the info from different publications together into one DataFrame\n",
    "potential_pos_tcs_ave_dict, potential_pos_tcs_ave_df = extract_info(publications_tcs_years_dict, cols_dict[\"Potenzial positiv Mittel\"],\n",
    "                                                                    drop=drop, sample_stats=sample_stats, add_sources=add_sources,\n",
    "                                                                    drop_datalack=drop_datalack, modify_categories=modify_categories, agg_rule=\"sum\")\n",
    "potential_pos_tcs_min_dict, potential_pos_tcs_min_df = extract_info(publications_tcs_years_dict, cols_dict[\"Potenzial positiv min\"],\n",
    "                                                                    drop=drop, sample_stats=sample_stats, add_sources=add_sources,\n",
    "                                                                    drop_datalack=drop_datalack, modify_categories=modify_categories, agg_rule=\"sum\")\n",
    "potential_pos_tcs_max_dict, potential_pos_tcs_max_df = extract_info(publications_tcs_years_dict, cols_dict[\"Potenzial positiv max\"],\n",
    "                                                                    drop=drop, sample_stats=sample_stats, add_sources=add_sources,\n",
    "                                                                    drop_datalack=drop_datalack, modify_categories=modify_categories, agg_rule=\"sum\")\n",
    "potential_pos_tcs_overall_dict, potential_pos_tcs_overall_df = extract_info(publications_tcs_years_dict, pot_pos_cols, \n",
    "                                                                    drop=drop, sample_stats=sample_stats, add_sources=add_sources,\n",
    "                                                                    drop_datalack=drop_datalack, modify_categories=modify_categories, agg_rule=\"sum\")"
   ]
  },
  {
   "cell_type": "markdown",
   "metadata": {},
   "source": [
    "Create a DataFrames containing the potential information for the respective_years"
   ]
  },
  {
   "cell_type": "code",
   "execution_count": null,
   "metadata": {},
   "outputs": [],
   "source": [
    "(potential_pos_tcs_ave_years_dict, potential_pos_tcs_min_years_dict, potential_pos_tcs_max_years_dict, potential_pos_tcs_overall_years_dict), \\\n",
    "(sources_potential_pos_tcs_ave_dict, sources_potential_pos_tcs_min_dict, sources_potential_pos_tcs_max_dict, sources_potential_pos_tcs_overall_dict) \\\n",
    "    = create_info_dict_for_years([potential_pos_tcs_ave_df, potential_pos_tcs_min_df, potential_pos_tcs_max_df, potential_pos_tcs_overall_df], years_dict, \n",
    "                                 negate=False, sample_stats=sample_stats, add_sources=add_sources)"
   ]
  },
  {
   "cell_type": "code",
   "execution_count": null,
   "metadata": {},
   "outputs": [],
   "source": [
    "# Describe the DataFrame -> statistical information\n",
    "if write_outputs:\n",
    "    save_info_stats(potential_pos_tcs_ave_years_dict, path_folder_stats, \"potential_pos_ave_tcs_stats.xlsx\", sample_stats=sample_stats, add_sources=add_sources)\n",
    "    save_info_stats(potential_pos_tcs_min_years_dict, path_folder_stats, \"potential_pos_min_tcs_stats.xlsx\", sample_stats=sample_stats, add_sources=add_sources)\n",
    "    save_info_stats(potential_pos_tcs_max_years_dict, path_folder_stats, \"potential_pos_max_tcs_stats.xlsx\", sample_stats=sample_stats, add_sources=add_sources)\n",
    "    save_info_stats(potential_pos_tcs_overall_years_dict, path_folder_stats, \"potential_pos_overall_tcs_stats.xlsx\", sample_stats=sample_stats, add_sources=add_sources)"
   ]
  },
  {
   "cell_type": "code",
   "execution_count": null,
   "metadata": {},
   "outputs": [],
   "source": [
    "# Save sources\n",
    "if write_sources:\n",
    "    save_sources(sources_potential_pos_tcs_ave_dict, path_folder_sources, \"potential_pos_ave_tcs_sources.xlsx\")\n",
    "    save_sources(sources_potential_pos_tcs_min_dict, path_folder_sources, \"potential_pos_min_tcs_sources.xlsx\")\n",
    "    save_sources(sources_potential_pos_tcs_max_dict, path_folder_sources, \"potential_pos_max_tcs_sources.xlsx\")\n",
    "    save_sources(sources_potential_pos_tcs_overall_dict, path_folder_sources, \"potential_pos_overall_tcs_sources.xlsx\")"
   ]
  },
  {
   "cell_type": "code",
   "execution_count": null,
   "metadata": {},
   "outputs": [],
   "source": [
    "create_info_boxplot(potential_pos_tcs_ave_years_dict, \n",
    "                    year=\"SQ\",\n",
    "                    title=\"Werte für das durchschnittliche positive Lastmanagementpotenzial (Lastreduktion)\",\n",
    "                    ylabel=\"durchschn. positives Potenzial in MW\",\n",
    "                    show_title=False,\n",
    "                    colors=colors,\n",
    "                    ylim=[0, 3000],\n",
    "                    use_colors=use_colors,\n",
    "                    use_limits=False,\n",
    "                    sample_stats=sample_stats, \n",
    "                    add_sources=add_sources, \n",
    "                    swarmplot=swarmplot, \n",
    "                    savefig=savefig, \n",
    "                    filename=\"potential_pos_ave_tcs_SQ\")"
   ]
  },
  {
   "cell_type": "code",
   "execution_count": null,
   "metadata": {},
   "outputs": [],
   "source": [
    "create_info_boxplot(potential_pos_tcs_min_years_dict, \n",
    "                    year=\"SQ\",\n",
    "                    title=\"Werte für das minimale positive Lastmanagementpotenzial (Lastreduktion)\",\n",
    "                    ylabel=\"min. positives Potenzial in MW\",\n",
    "                    show_title=False,\n",
    "                    colors=colors,\n",
    "                    ylim=[0, 3000],\n",
    "                    use_colors=use_colors,\n",
    "                    use_limits=use_limits,\n",
    "                    sample_stats=sample_stats, \n",
    "                    add_sources=add_sources, \n",
    "                    swarmplot=swarmplot, \n",
    "                    savefig=savefig, \n",
    "                    filename=\"potential_pos_min_tcs_SQ\")"
   ]
  },
  {
   "cell_type": "code",
   "execution_count": null,
   "metadata": {},
   "outputs": [],
   "source": [
    "create_info_boxplot(potential_pos_tcs_max_years_dict, \n",
    "                    year=\"SQ\",\n",
    "                    title=\"Werte für das maximale positive Lastmanagementpotenzial (Lastreduktion)\",\n",
    "                    ylabel=\"max. positives Potenzial in MW\",\n",
    "                    show_title=False,\n",
    "                    colors=colors,\n",
    "                    ylim=[0, 3000],\n",
    "                    use_colors=use_colors,\n",
    "                    use_limits=False,\n",
    "                    sample_stats=sample_stats, \n",
    "                    add_sources=add_sources, \n",
    "                    swarmplot=swarmplot, \n",
    "                    savefig=savefig, \n",
    "                    filename=\"potential_pos_max_tcs_SQ\")"
   ]
  },
  {
   "cell_type": "code",
   "execution_count": null,
   "metadata": {},
   "outputs": [],
   "source": [
    "create_info_boxplot(potential_pos_tcs_overall_years_dict, \n",
    "                    year=\"SQ\",\n",
    "                    title=\"Werte für das positive Lastmanagementpotenzial (Lastreduktion)\",\n",
    "                    ylabel=\"positives Potenzial in MW\",\n",
    "                    show_title=False,\n",
    "                    colors=colors,\n",
    "                    ylim=[0, 3000],\n",
    "                    use_colors=use_colors,\n",
    "                    use_limits=False,\n",
    "                    sample_stats=sample_stats, \n",
    "                    add_sources=add_sources, \n",
    "                    swarmplot=swarmplot, \n",
    "                    savefig=savefig, \n",
    "                    filename=\"potential_pos_overall_tcs_SQ\")"
   ]
  },
  {
   "cell_type": "markdown",
   "metadata": {},
   "source": [
    "### Positive load shedding potential"
   ]
  },
  {
   "cell_type": "markdown",
   "metadata": {},
   "source": [
    "Extract the information on the positive load shedding potential"
   ]
  },
  {
   "cell_type": "code",
   "execution_count": null,
   "metadata": {},
   "outputs": [],
   "source": [
    "# Extract info on positive demand reponse potentials and put the info from different publications together into one DataFrame\n",
    "potential_pos_tcs_ave_shed_dict, potential_pos_tcs_ave_shed_df = extract_info(\n",
    "    publications_tcs_years_dict, cols_dict[\"Potenzial positiv Mittel Lastverzicht\"],\n",
    "    drop=drop, sample_stats=sample_stats, add_sources=add_sources,\n",
    "    drop_datalack=drop_datalack, modify_categories=modify_categories, agg_rule=\"sum\"\n",
    ")\n",
    "potential_pos_tcs_min_shed_dict, potential_pos_tcs_min_shed_df = extract_info(\n",
    "    publications_tcs_years_dict, cols_dict[\"Potenzial positiv min Lastverzicht\"],\n",
    "    drop=drop, sample_stats=sample_stats, add_sources=add_sources,\n",
    "    drop_datalack=drop_datalack, modify_categories=modify_categories, agg_rule=\"sum\"\n",
    ")\n",
    "potential_pos_tcs_max_shed_dict, potential_pos_tcs_max_shed_df = extract_info(\n",
    "    publications_tcs_years_dict, cols_dict[\"Potenzial positiv max Lastverzicht\"],\n",
    "    drop=drop, sample_stats=sample_stats, add_sources=add_sources,\n",
    "    drop_datalack=drop_datalack, modify_categories=modify_categories, agg_rule=\"sum\"\n",
    ")\n",
    "potential_pos_tcs_overall_shed_dict, potential_pos_tcs_overall_shed_df = extract_info(\n",
    "    publications_tcs_years_dict, pot_pos_shed_cols, \n",
    "    drop=drop, sample_stats=sample_stats, add_sources=add_sources,\n",
    "    drop_datalack=drop_datalack, modify_categories=modify_categories, agg_rule=\"sum\"\n",
    ")"
   ]
  },
  {
   "cell_type": "markdown",
   "metadata": {},
   "source": [
    "Create a DataFrames containing the potential information for the respective_years"
   ]
  },
  {
   "cell_type": "code",
   "execution_count": null,
   "metadata": {},
   "outputs": [],
   "source": [
    "(potential_pos_tcs_ave_shed_years_dict, \n",
    " potential_pos_tcs_min_shed_years_dict, \n",
    " potential_pos_tcs_max_shed_years_dict, \n",
    " potential_pos_tcs_overall_shed_years_dict), \\\n",
    "(sources_potential_pos_tcs_ave_shed_dict, \n",
    " sources_potential_pos_tcs_min_shed_dict, \n",
    " sources_potential_pos_tcs_max_shed_dict, \n",
    " sources_potential_pos_tcs_overall_shed_dict) \\\n",
    "    = create_info_dict_for_years(\n",
    "    [potential_pos_tcs_ave_shed_df, \n",
    "     potential_pos_tcs_min_shed_df, \n",
    "     potential_pos_tcs_max_shed_df, \n",
    "     potential_pos_tcs_overall_shed_df], years_dict, \n",
    "                                 negate=False, sample_stats=sample_stats, add_sources=add_sources)"
   ]
  },
  {
   "cell_type": "code",
   "execution_count": null,
   "metadata": {},
   "outputs": [],
   "source": [
    "# Describe the DataFrame -> statistical information\n",
    "if write_outputs:\n",
    "    save_info_stats(potential_pos_tcs_ave_shed_years_dict, path_folder_stats, \"potential_pos_ave_shed_tcs_stats.xlsx\", sample_stats=sample_stats, add_sources=add_sources)\n",
    "    save_info_stats(potential_pos_tcs_min_shed_years_dict, path_folder_stats, \"potential_pos_min_shed_tcs_stats.xlsx\", sample_stats=sample_stats, add_sources=add_sources)\n",
    "    save_info_stats(potential_pos_tcs_max_shed_years_dict, path_folder_stats, \"potential_pos_max_shed_tcs_stats.xlsx\", sample_stats=sample_stats, add_sources=add_sources)\n",
    "    save_info_stats(potential_pos_tcs_overall_shed_years_dict, path_folder_stats, \"potential_pos_overall_shed_tcs_stats.xlsx\", sample_stats=sample_stats, add_sources=add_sources)"
   ]
  },
  {
   "cell_type": "code",
   "execution_count": null,
   "metadata": {},
   "outputs": [],
   "source": [
    "# Save sources\n",
    "if write_sources:\n",
    "    save_sources(sources_potential_pos_tcs_ave_shed_dict, path_folder_sources, \"potential_pos_ave_shed_tcs_sources.xlsx\")\n",
    "    save_sources(sources_potential_pos_tcs_min_shed_dict, path_folder_sources, \"potential_pos_min_shed_tcs_sources.xlsx\")\n",
    "    save_sources(sources_potential_pos_tcs_max_shed_dict, path_folder_sources, \"potential_pos_max_shed_tcs_sources.xlsx\")\n",
    "    save_sources(sources_potential_pos_tcs_overall_shed_dict, path_folder_sources, \"potential_pos_overall_shed_tcs_sources.xlsx\")"
   ]
  },
  {
   "cell_type": "code",
   "execution_count": null,
   "metadata": {},
   "outputs": [],
   "source": [
    "create_info_boxplot(potential_pos_tcs_ave_shed_years_dict, \n",
    "                    year=\"SQ\",\n",
    "                    title=\"Werte für das durchschnittliche positive Abschaltpotenzial (Lastverzicht)\",\n",
    "                    ylabel=\"durchschn. positives Potenzial in MW\",\n",
    "                    show_title=False,\n",
    "                    colors=colors,\n",
    "                    ylim=[0, 3000],\n",
    "                    use_colors=use_colors,\n",
    "                    use_limits=False,\n",
    "                    sample_stats=sample_stats, \n",
    "                    add_sources=add_sources, \n",
    "                    swarmplot=swarmplot, \n",
    "                    savefig=savefig, \n",
    "                    filename=\"potential_pos_ave_shed_tcs_SQ\")"
   ]
  },
  {
   "cell_type": "code",
   "execution_count": null,
   "metadata": {},
   "outputs": [],
   "source": [
    "create_info_boxplot(potential_pos_tcs_min_shed_years_dict, \n",
    "                    year=\"SQ\",\n",
    "                    title=\"Werte für das minimale positive Abschaltpotenzial (Lastverzicht)\",\n",
    "                    ylabel=\"min. positives Potenzial in MW\",\n",
    "                    show_title=False,\n",
    "                    colors=colors,\n",
    "                    ylim=[0, 3000],\n",
    "                    use_colors=use_colors,\n",
    "                    use_limits=use_limits,\n",
    "                    sample_stats=sample_stats, \n",
    "                    add_sources=add_sources, \n",
    "                    swarmplot=swarmplot, \n",
    "                    savefig=savefig, \n",
    "                    filename=\"potential_pos_min_shed_tcs_SQ\")"
   ]
  },
  {
   "cell_type": "code",
   "execution_count": null,
   "metadata": {},
   "outputs": [],
   "source": [
    "create_info_boxplot(potential_pos_tcs_max_shed_years_dict, \n",
    "                    year=\"SQ\",\n",
    "                    title=\"Werte für das maximale positive Abschaltpotenzial (Lastverzicht)\",\n",
    "                    ylabel=\"max. positives Potenzial in MW\",\n",
    "                    show_title=False,\n",
    "                    colors=colors,\n",
    "                    ylim=[0, 3000],\n",
    "                    use_colors=use_colors,\n",
    "                    use_limits=False,\n",
    "                    sample_stats=sample_stats, \n",
    "                    add_sources=add_sources, \n",
    "                    swarmplot=swarmplot, \n",
    "                    savefig=savefig, \n",
    "                    filename=\"potential_pos_max_shed_tcs_SQ\")"
   ]
  },
  {
   "cell_type": "code",
   "execution_count": null,
   "metadata": {},
   "outputs": [],
   "source": [
    "create_info_boxplot(potential_pos_tcs_overall_shed_years_dict, \n",
    "                    year=\"SQ\",\n",
    "                    title=\"Werte für das positive Abschaltpotenzial (Lastverzicht)\",\n",
    "                    ylabel=\"positives Potenzial in MW\",\n",
    "                    show_title=False,\n",
    "                    colors=colors,\n",
    "                    ylim=[0, 3000],\n",
    "                    use_colors=use_colors,\n",
    "                    use_limits=False,\n",
    "                    sample_stats=sample_stats, \n",
    "                    add_sources=add_sources, \n",
    "                    swarmplot=swarmplot, \n",
    "                    savefig=savefig, \n",
    "                    filename=\"potential_pos_overall_shed_tcs_SQ\")"
   ]
  },
  {
   "cell_type": "markdown",
   "metadata": {},
   "source": [
    "### Negative load shift potential"
   ]
  },
  {
   "cell_type": "markdown",
   "metadata": {},
   "source": [
    "Extract the information on the negative load shift potential"
   ]
  },
  {
   "cell_type": "code",
   "execution_count": null,
   "metadata": {},
   "outputs": [],
   "source": [
    "# Extract info on negative demand reponse potentials and put the info from different publications together into one DataFrame\n",
    "potential_neg_tcs_ave_dict, potential_neg_tcs_ave_df = extract_info(publications_tcs_years_dict, cols_dict[\"Potenzial negativ Mittel\"],\n",
    "                                                                    drop=drop, sample_stats=sample_stats, add_sources=add_sources,\n",
    "                                                                    drop_datalack=drop_datalack, modify_categories=modify_categories, agg_rule=\"sum\")\n",
    "potential_neg_tcs_min_dict, potential_neg_tcs_min_df = extract_info(publications_tcs_years_dict, cols_dict[\"Potenzial negativ min\"],\n",
    "                                                                    drop=drop, sample_stats=sample_stats, add_sources=add_sources,\n",
    "                                                                    drop_datalack=drop_datalack, modify_categories=modify_categories, agg_rule=\"sum\")\n",
    "potential_neg_tcs_max_dict, potential_neg_tcs_max_df = extract_info(publications_tcs_years_dict, cols_dict[\"Potenzial negativ max\"],\n",
    "                                                                    drop=drop, sample_stats=sample_stats, add_sources=add_sources,\n",
    "                                                                    drop_datalack=drop_datalack, modify_categories=modify_categories, agg_rule=\"sum\")\n",
    "potential_neg_tcs_overall_dict, potential_neg_tcs_overall_df = extract_info(publications_tcs_years_dict, pot_neg_cols, \n",
    "                                                                    drop=drop, sample_stats=sample_stats, add_sources=add_sources,\n",
    "                                                                    drop_datalack=drop_datalack, modify_categories=modify_categories, agg_rule=\"sum\")"
   ]
  },
  {
   "cell_type": "markdown",
   "metadata": {},
   "source": [
    "Create a DataFrames containing the potential information for the respective_years"
   ]
  },
  {
   "cell_type": "code",
   "execution_count": null,
   "metadata": {},
   "outputs": [],
   "source": [
    "(potential_neg_tcs_ave_years_dict, potential_neg_tcs_min_years_dict, potential_neg_tcs_max_years_dict, potential_neg_tcs_overall_years_dict), \\\n",
    "(sources_potential_neg_tcs_ave_dict, sources_potential_neg_tcs_min_dict, sources_potential_neg_tcs_max_dict, sources_potential_neg_tcs_overall_dict) \\\n",
    "    = create_info_dict_for_years([potential_neg_tcs_ave_df, potential_neg_tcs_min_df, potential_neg_tcs_max_df, potential_neg_tcs_overall_df], years_dict, \n",
    "                                 negate=True, sample_stats=sample_stats, add_sources=add_sources)"
   ]
  },
  {
   "cell_type": "code",
   "execution_count": null,
   "metadata": {},
   "outputs": [],
   "source": [
    "# Describe the DataFrame -> statistical information\n",
    "if write_outputs:\n",
    "    save_info_stats(potential_neg_tcs_ave_years_dict, path_folder_stats, \"potential_neg_ave_tcs_stats.xlsx\", sample_stats=sample_stats, add_sources=add_sources)\n",
    "    save_info_stats(potential_neg_tcs_min_years_dict, path_folder_stats, \"potential_neg_min_tcs_stats.xlsx\", sample_stats=sample_stats, add_sources=add_sources)\n",
    "    save_info_stats(potential_neg_tcs_max_years_dict, path_folder_stats, \"potential_neg_max_tcs_stats.xlsx\", sample_stats=sample_stats, add_sources=add_sources)\n",
    "    save_info_stats(potential_neg_tcs_overall_years_dict, path_folder_stats, \"potential_neg_overall_tcs_stats.xlsx\", sample_stats=sample_stats, add_sources=add_sources)"
   ]
  },
  {
   "cell_type": "code",
   "execution_count": null,
   "metadata": {},
   "outputs": [],
   "source": [
    "# Save sources\n",
    "if write_sources:\n",
    "    save_sources(sources_potential_neg_tcs_ave_dict, path_folder_sources, \"potential_neg_ave_tcs_sources.xlsx\")\n",
    "    save_sources(sources_potential_neg_tcs_min_dict, path_folder_sources, \"potential_neg_min_tcs_sources.xlsx\")\n",
    "    save_sources(sources_potential_neg_tcs_max_dict, path_folder_sources, \"potential_neg_max_tcs_sources.xlsx\")\n",
    "    save_sources(sources_potential_neg_tcs_overall_dict, path_folder_sources, \"potential_neg_overall_tcs_sources.xlsx\")"
   ]
  },
  {
   "cell_type": "code",
   "execution_count": null,
   "metadata": {},
   "outputs": [],
   "source": [
    "create_info_boxplot(potential_neg_tcs_ave_years_dict, \n",
    "                    year=\"SQ\",\n",
    "                    title=\"Werte für das durchschnittliche negative Lastmanagementpotenzial (Lasterhöhung)\",\n",
    "                    ylabel=\"durchschn. negatives Potenzial in MW\",\n",
    "                    show_title=False,\n",
    "                    colors=colors,\n",
    "                    ylim=[-3000, 0],\n",
    "                    use_colors=use_colors,\n",
    "                    use_limits=False,\n",
    "                    sample_stats=sample_stats, \n",
    "                    add_sources=add_sources, \n",
    "                    swarmplot=swarmplot, \n",
    "                    savefig=savefig, \n",
    "                    filename=\"potential_neg_ave_tcs_SQ\")"
   ]
  },
  {
   "cell_type": "code",
   "execution_count": null,
   "metadata": {},
   "outputs": [],
   "source": [
    "create_info_boxplot(potential_neg_tcs_min_years_dict, \n",
    "                    year=\"SQ\",\n",
    "                    title=\"Werte für das minimale negative Lastmanagementpotenzial (Lasterhöhung)\",\n",
    "                    ylabel=\"min. negatives Potenzial in MW\",\n",
    "                    show_title=False,\n",
    "                    colors=colors,\n",
    "                    ylim=[-3000, 0],\n",
    "                    use_colors=use_colors,\n",
    "                    use_limits=use_limits,\n",
    "                    sample_stats=sample_stats, \n",
    "                    add_sources=add_sources, \n",
    "                    swarmplot=swarmplot, \n",
    "                    savefig=savefig, \n",
    "                    filename=\"potential_neg_min_tcs_SQ\")"
   ]
  },
  {
   "cell_type": "code",
   "execution_count": null,
   "metadata": {},
   "outputs": [],
   "source": [
    "create_info_boxplot(potential_neg_tcs_max_years_dict, \n",
    "                    year=\"SQ\",\n",
    "                    title=\"Werte für das maximale negative Lastmanagementpotenzial (Lasterhöhung)\",\n",
    "                    ylabel=\"max. negatives Potenzial in MW\",\n",
    "                    show_title=False,\n",
    "                    colors=colors,\n",
    "                    ylim=[-10000, 0],\n",
    "                    use_colors=use_colors,\n",
    "                    use_limits=use_limits,\n",
    "                    sample_stats=sample_stats, \n",
    "                    add_sources=add_sources, \n",
    "                    swarmplot=swarmplot, \n",
    "                    savefig=savefig, \n",
    "                    filename=\"potential_neg_max_tcs_SQ\")"
   ]
  },
  {
   "cell_type": "code",
   "execution_count": null,
   "metadata": {},
   "outputs": [],
   "source": [
    "create_info_boxplot(potential_neg_tcs_overall_years_dict, \n",
    "                    year=\"SQ\",\n",
    "                    title=\"Werte für das negative Lastmanagementpotenzial (Lasterhöhung)\",\n",
    "                    ylabel=\"negatives Potenzial in MW\",\n",
    "                    show_title=False,\n",
    "                    colors=colors,\n",
    "                    ylim=[-10000, 0],\n",
    "                    use_colors=use_colors,\n",
    "                    use_limits=False,\n",
    "                    sample_stats=sample_stats, \n",
    "                    add_sources=add_sources, \n",
    "                    swarmplot=swarmplot, \n",
    "                    savefig=savefig, \n",
    "                    filename=\"potential_neg_overall_tcs_SQ\")"
   ]
  },
  {
   "cell_type": "markdown",
   "metadata": {},
   "source": [
    "### Average load values"
   ]
  },
  {
   "cell_type": "code",
   "execution_count": null,
   "metadata": {},
   "outputs": [],
   "source": [
    "ave_load_tcs_dict, ave_load_tcs_df = extract_info(publications_tcs_years_dict, cols_dict[\"Durchschnittsauslastung\"],\n",
    "                                                  drop=drop, sample_stats=sample_stats, add_sources=add_sources,\n",
    "                                                  drop_datalack=drop_datalack, modify_categories=modify_categories, agg_rule=\"weighted_average\", weights=pot_pos_cols)"
   ]
  },
  {
   "cell_type": "code",
   "execution_count": null,
   "metadata": {},
   "outputs": [],
   "source": [
    "ave_load_tcs_years_dict, sources_ave_load_tcs_dict = create_info_dict_for_years(ave_load_tcs_df, years_dict, \n",
    "                                                     negate=False, sample_stats=sample_stats, add_sources=add_sources)"
   ]
  },
  {
   "cell_type": "code",
   "execution_count": null,
   "metadata": {},
   "outputs": [],
   "source": [
    "if write_outputs:\n",
    "    save_info_stats(ave_load_tcs_years_dict, path_folder_stats, \"ave_load_tcs_stats.xlsx\", sample_stats=sample_stats, add_sources=add_sources)"
   ]
  },
  {
   "cell_type": "code",
   "execution_count": null,
   "metadata": {},
   "outputs": [],
   "source": [
    "# Save sources\n",
    "if write_sources:\n",
    "    save_sources(sources_ave_load_tcs_dict, path_folder_sources, \"ave_load_tcs_sources.xlsx\")"
   ]
  },
  {
   "cell_type": "code",
   "execution_count": null,
   "metadata": {},
   "outputs": [],
   "source": [
    "create_info_boxplot(ave_load_tcs_years_dict, \n",
    "                    year=\"SQ\",\n",
    "                    title=\"Durchschnittlicher Lastfaktor\",\n",
    "                    ylabel=\"durchschnittlicher Lastfaktor in p.u.\",\n",
    "                    show_title=False,\n",
    "                    colors=colors,\n",
    "                    ylim=[0, 1],\n",
    "                    use_colors=use_colors,\n",
    "                    use_limits=use_limits,\n",
    "                    sample_stats=sample_stats, \n",
    "                    add_sources=add_sources, \n",
    "                    swarmplot=swarmplot, \n",
    "                    savefig=savefig, \n",
    "                    filename=\"ave_load_tcs_SQ\")"
   ]
  },
  {
   "cell_type": "markdown",
   "metadata": {},
   "source": [
    "### Minimum load values"
   ]
  },
  {
   "cell_type": "code",
   "execution_count": null,
   "metadata": {},
   "outputs": [],
   "source": [
    "min_load_tcs_dict, min_load_tcs_df = extract_info(publications_tcs_years_dict, cols_dict[\"Minimalauslastung\"],\n",
    "                                                  drop=drop, sample_stats=sample_stats, add_sources=add_sources,\n",
    "                                                  drop_datalack=drop_datalack, modify_categories=modify_categories, agg_rule=\"weighted_average\", weights=pot_pos_cols)"
   ]
  },
  {
   "cell_type": "code",
   "execution_count": null,
   "metadata": {},
   "outputs": [],
   "source": [
    "min_load_tcs_years_dict, sources_min_load_tcs_dict = create_info_dict_for_years(min_load_tcs_df, years_dict, \n",
    "                                                     negate=False, sample_stats=sample_stats, add_sources=add_sources)"
   ]
  },
  {
   "cell_type": "code",
   "execution_count": null,
   "metadata": {},
   "outputs": [],
   "source": [
    "if write_outputs:\n",
    "    save_info_stats(min_load_tcs_years_dict, path_folder_stats, \"min_load_tcs_stats.xlsx\", sample_stats=sample_stats, add_sources=add_sources)"
   ]
  },
  {
   "cell_type": "code",
   "execution_count": null,
   "metadata": {},
   "outputs": [],
   "source": [
    "# Save sources\n",
    "if write_sources:\n",
    "    save_sources(sources_min_load_tcs_dict, path_folder_sources, \"min_load_tcs_sources.xlsx\")"
   ]
  },
  {
   "cell_type": "code",
   "execution_count": null,
   "metadata": {},
   "outputs": [],
   "source": [
    "create_info_boxplot(min_load_tcs_years_dict, \n",
    "                    year=\"SQ\",\n",
    "                    title=\"Minimaler Lastfaktor\",\n",
    "                    ylabel=\"minimaler Lastfaktor in p.u.\",\n",
    "                    show_title=False,\n",
    "                    colors=colors,\n",
    "                    ylim=[0, 1],\n",
    "                    use_colors=use_colors,\n",
    "                    use_limits=use_limits,\n",
    "                    sample_stats=sample_stats, \n",
    "                    add_sources=add_sources, \n",
    "                    swarmplot=swarmplot, \n",
    "                    savefig=savefig, \n",
    "                    filename=\"min_load_tcs_SQ\")"
   ]
  },
  {
   "cell_type": "markdown",
   "metadata": {},
   "source": [
    "### Maximum load values"
   ]
  },
  {
   "cell_type": "code",
   "execution_count": null,
   "metadata": {},
   "outputs": [],
   "source": [
    "max_load_tcs_dict, max_load_tcs_df = extract_info(publications_tcs_years_dict, cols_dict[\"Maximalauslastung\"],\n",
    "                                                  drop=drop, sample_stats=sample_stats, add_sources=add_sources,\n",
    "                                                  drop_datalack=drop_datalack, modify_categories=modify_categories, agg_rule=\"weighted_average\", weights=pot_pos_cols)"
   ]
  },
  {
   "cell_type": "code",
   "execution_count": null,
   "metadata": {},
   "outputs": [],
   "source": [
    "max_load_tcs_years_dict, sources_max_load_tcs_dict = create_info_dict_for_years(max_load_tcs_df, years_dict, \n",
    "                                                     negate=False, sample_stats=sample_stats, add_sources=add_sources)"
   ]
  },
  {
   "cell_type": "code",
   "execution_count": null,
   "metadata": {},
   "outputs": [],
   "source": [
    "if write_outputs:\n",
    "    save_info_stats(max_load_tcs_years_dict, path_folder_stats, \"max_load_tcs_stats.xlsx\", sample_stats=sample_stats, add_sources=add_sources)"
   ]
  },
  {
   "cell_type": "code",
   "execution_count": null,
   "metadata": {},
   "outputs": [],
   "source": [
    "# Save sources\n",
    "if write_sources:\n",
    "    save_sources(sources_max_load_tcs_dict, path_folder_sources, \"max_load_tcs_sources.xlsx\")"
   ]
  },
  {
   "cell_type": "code",
   "execution_count": null,
   "metadata": {},
   "outputs": [],
   "source": [
    "create_info_boxplot(max_load_tcs_years_dict, \n",
    "                    year=\"SQ\",\n",
    "                    title=\"Maximaler Lastfaktor\",\n",
    "                    ylabel=\"maximaler Lastfaktor in p.u.\",\n",
    "                    show_title=False,\n",
    "                    colors=colors,\n",
    "                    ylim=[0, 1],\n",
    "                    use_colors=use_colors,\n",
    "                    use_limits=use_limits,\n",
    "                    sample_stats=sample_stats, \n",
    "                    add_sources=add_sources, \n",
    "                    swarmplot=swarmplot, \n",
    "                    savefig=savefig, \n",
    "                    filename=\"max_load_tcs_SQ\")"
   ]
  },
  {
   "cell_type": "markdown",
   "metadata": {},
   "source": [
    "### Installed capacity"
   ]
  },
  {
   "cell_type": "code",
   "execution_count": null,
   "metadata": {},
   "outputs": [],
   "source": [
    "installed_cap_tcs_dict, installed_cap_tcs_df = extract_info(publications_tcs_years_dict, cols_dict[\"installierte Leistung\"],\n",
    "                                                            drop=drop, sample_stats=sample_stats, add_sources=add_sources,\n",
    "                                                            drop_datalack=drop_datalack, modify_categories=modify_categories, agg_rule=\"sum\")"
   ]
  },
  {
   "cell_type": "code",
   "execution_count": null,
   "metadata": {},
   "outputs": [],
   "source": [
    "installed_cap_tcs_years_dict, sources_installed_cap_tcs_dict = create_info_dict_for_years(installed_cap_tcs_df, years_dict, \n",
    "                                                          negate=False, sample_stats=sample_stats, add_sources=add_sources)"
   ]
  },
  {
   "cell_type": "code",
   "execution_count": null,
   "metadata": {},
   "outputs": [],
   "source": [
    "if write_outputs:\n",
    "    save_info_stats(installed_cap_tcs_years_dict, path_folder_stats, \"installed_cap_tcs_stats.xlsx\", sample_stats=sample_stats, add_sources=add_sources)"
   ]
  },
  {
   "cell_type": "code",
   "execution_count": null,
   "metadata": {},
   "outputs": [],
   "source": [
    "# Save sources\n",
    "if write_sources:\n",
    "    save_sources(sources_installed_cap_tcs_dict, path_folder_sources, \"installed_cap_tcs_sources.xlsx\")"
   ]
  },
  {
   "cell_type": "code",
   "execution_count": null,
   "metadata": {},
   "outputs": [],
   "source": [
    "create_info_boxplot(installed_cap_tcs_years_dict, \n",
    "                    year=\"SQ\",\n",
    "                    title=\"installierte Leistung\",\n",
    "                    ylabel=\"installierte Leistung in MW\",\n",
    "                    show_title=False,\n",
    "                    colors=colors,\n",
    "                    ylim=[0, 3000],\n",
    "                    use_colors=use_colors,\n",
    "                    use_limits=use_limits,\n",
    "                    sample_stats=sample_stats, \n",
    "                    add_sources=add_sources, \n",
    "                    swarmplot=swarmplot, \n",
    "                    savefig=savefig, \n",
    "                    filename=\"installed_cap_tcs_SQ\")"
   ]
  },
  {
   "cell_type": "markdown",
   "metadata": {},
   "source": [
    "### Shiftable share"
   ]
  },
  {
   "cell_type": "code",
   "execution_count": null,
   "metadata": {},
   "outputs": [],
   "source": [
    "shiftable_share_tcs_dict, shiftable_share_tcs_df = extract_info(publications_tcs_years_dict, cols_dict[\"flexibilisierbarer Leistungsanteil\"],\n",
    "                                                                drop=drop, sample_stats=sample_stats, add_sources=add_sources,\n",
    "                                                                drop_datalack=drop_datalack, modify_categories=modify_categories, agg_rule=\"weighted_average\", weights=pot_pos_cols)"
   ]
  },
  {
   "cell_type": "code",
   "execution_count": null,
   "metadata": {},
   "outputs": [],
   "source": [
    "shiftable_share_tcs_years_dict, sources_shiftable_share_tcs_dict = create_info_dict_for_years(shiftable_share_tcs_df, years_dict, \n",
    "                                                            negate=False, sample_stats=sample_stats, add_sources=add_sources)"
   ]
  },
  {
   "cell_type": "code",
   "execution_count": null,
   "metadata": {},
   "outputs": [],
   "source": [
    "if write_outputs:\n",
    "    save_info_stats(shiftable_share_tcs_years_dict, path_folder_stats, \"shiftable_share_tcs_stats.xlsx\", sample_stats=sample_stats, add_sources=add_sources)"
   ]
  },
  {
   "cell_type": "code",
   "execution_count": null,
   "metadata": {},
   "outputs": [],
   "source": [
    "# Save sources\n",
    "if write_sources:\n",
    "    save_sources(sources_shiftable_share_tcs_dict, path_folder_sources, \"shiftable_share_tcs_sources.xlsx\")"
   ]
  },
  {
   "cell_type": "code",
   "execution_count": null,
   "metadata": {},
   "outputs": [],
   "source": [
    "create_info_boxplot(shiftable_share_tcs_years_dict, \n",
    "                    year=\"SQ\",\n",
    "                    title=\"flexibilisierbarer Leistungsanteil\",\n",
    "                    ylabel=\"flexibilisierbarer Leistungsanteil in p.u.\",\n",
    "                    show_title=False,\n",
    "                    colors=colors,\n",
    "                    ylim=[0, 1.5],\n",
    "                    use_colors=use_colors,\n",
    "                    use_limits=use_limits,\n",
    "                    sample_stats=sample_stats, \n",
    "                    add_sources=add_sources, \n",
    "                    swarmplot=swarmplot, \n",
    "                    savefig=savefig, \n",
    "                    filename=\"shiftable_share_tcs_SQ\")"
   ]
  },
  {
   "cell_type": "markdown",
   "metadata": {},
   "source": [
    "## Households"
   ]
  },
  {
   "cell_type": "markdown",
   "metadata": {},
   "source": [
    "### Positive load shift potential"
   ]
  },
  {
   "cell_type": "markdown",
   "metadata": {},
   "source": [
    "Extract the information on the positive load shift potential"
   ]
  },
  {
   "cell_type": "code",
   "execution_count": null,
   "metadata": {},
   "outputs": [],
   "source": [
    "# Extract info on positive demand reponse potentials and put the info from different publications together into one DataFrame\n",
    "potential_pos_hoho_ave_dict, potential_pos_hoho_ave_df = extract_info(publications_hoho_years_dict, cols_dict[\"Potenzial positiv Mittel\"],\n",
    "                                                                      drop=drop, sample_stats=sample_stats, add_sources=add_sources,\n",
    "                                                                      drop_datalack=drop_datalack, modify_categories=modify_categories, agg_rule=\"sum\")\n",
    "potential_pos_hoho_min_dict, potential_pos_hoho_min_df = extract_info(publications_hoho_years_dict, cols_dict[\"Potenzial positiv min\"],\n",
    "                                                                      drop=drop, sample_stats=sample_stats, add_sources=add_sources,\n",
    "                                                                      drop_datalack=drop_datalack, modify_categories=modify_categories, agg_rule=\"sum\")\n",
    "potential_pos_hoho_max_dict, potential_pos_hoho_max_df = extract_info(publications_hoho_years_dict, cols_dict[\"Potenzial positiv max\"],\n",
    "                                                                      drop=drop, sample_stats=sample_stats, add_sources=add_sources,\n",
    "                                                                      drop_datalack=drop_datalack, modify_categories=modify_categories, agg_rule=\"sum\")\n",
    "potential_pos_hoho_overall_dict, potential_pos_hoho_overall_df = extract_info(publications_hoho_years_dict, pot_pos_cols, \n",
    "                                                                      drop=drop, sample_stats=sample_stats, add_sources=add_sources,\n",
    "                                                                      drop_datalack=drop_datalack, modify_categories=modify_categories, agg_rule=\"sum\")"
   ]
  },
  {
   "cell_type": "markdown",
   "metadata": {},
   "source": [
    "Create a DataFrames containing the potential information for the respective_years"
   ]
  },
  {
   "cell_type": "code",
   "execution_count": null,
   "metadata": {},
   "outputs": [],
   "source": [
    "(potential_pos_hoho_ave_years_dict, potential_pos_hoho_min_years_dict, potential_pos_hoho_max_years_dict, potential_pos_hoho_overall_years_dict), \\\n",
    "(sources_potential_pos_hoho_ave_dict, sources_potential_pos_hoho_min_dict, sources_potential_pos_hoho_max_dict, sources_potential_pos_hoho_overall_dict) \\\n",
    "    = create_info_dict_for_years([potential_pos_hoho_ave_df, potential_pos_hoho_min_df, potential_pos_hoho_max_df, potential_pos_hoho_overall_df], years_dict, \n",
    "                                 negate=False, sample_stats=sample_stats, add_sources=add_sources)"
   ]
  },
  {
   "cell_type": "code",
   "execution_count": null,
   "metadata": {},
   "outputs": [],
   "source": [
    "# Describe the DataFrame -> statistical information\n",
    "if write_outputs:\n",
    "    save_info_stats(potential_pos_hoho_ave_years_dict, path_folder_stats, \"potential_pos_ave_hoho_stats.xlsx\", sample_stats=sample_stats, add_sources=add_sources)\n",
    "    save_info_stats(potential_pos_hoho_min_years_dict, path_folder_stats, \"potential_pos_min_hoho_stats.xlsx\", sample_stats=sample_stats, add_sources=add_sources)\n",
    "    save_info_stats(potential_pos_hoho_max_years_dict, path_folder_stats, \"potential_pos_max_hoho_stats.xlsx\", sample_stats=sample_stats, add_sources=add_sources)\n",
    "    save_info_stats(potential_pos_hoho_overall_years_dict, path_folder_stats, \"potential_pos_overall_hoho_stats.xlsx\", sample_stats=sample_stats, add_sources=add_sources)"
   ]
  },
  {
   "cell_type": "code",
   "execution_count": null,
   "metadata": {},
   "outputs": [],
   "source": [
    "# Save sources\n",
    "if write_sources:\n",
    "    save_sources(sources_potential_pos_hoho_ave_dict, path_folder_sources, \"potential_pos_ave_hoho_sources.xlsx\")\n",
    "    save_sources(sources_potential_pos_hoho_min_dict, path_folder_sources, \"potential_pos_min_hoho_sources.xlsx\")\n",
    "    save_sources(sources_potential_pos_hoho_max_dict, path_folder_sources, \"potential_pos_max_hoho_sources.xlsx\")\n",
    "    save_sources(sources_potential_pos_hoho_overall_dict, path_folder_sources, \"potential_pos_overall_hoho_sources.xlsx\")"
   ]
  },
  {
   "cell_type": "code",
   "execution_count": null,
   "metadata": {},
   "outputs": [],
   "source": [
    "create_info_boxplot(potential_pos_hoho_ave_years_dict, \n",
    "                    year=\"SQ\",\n",
    "                    title=\"Werte für das durchschnittliche positive Lastmanagementpotenzial (Lastreduktion)\",\n",
    "                    ylabel=\"durchschn. positives Potenzial in MW\",\n",
    "                    show_title=False,\n",
    "                    colors=colors,\n",
    "                    ylim=[0, 10000],\n",
    "                    use_colors=use_colors,\n",
    "                    use_limits=False,\n",
    "                    sample_stats=sample_stats, \n",
    "                    add_sources=add_sources, \n",
    "                    swarmplot=swarmplot, \n",
    "                    savefig=savefig, \n",
    "                    filename=\"potential_pos_ave_hoho_SQ\")"
   ]
  },
  {
   "cell_type": "code",
   "execution_count": null,
   "metadata": {},
   "outputs": [],
   "source": [
    "create_info_boxplot(potential_pos_hoho_min_years_dict, \n",
    "                    year=\"SQ\",\n",
    "                    title=\"Werte für das minimale positive Lastmanagementpotenzial (Lastreduktion)\",\n",
    "                    ylabel=\"min. positives Potenzial in MW\",\n",
    "                    show_title=False,\n",
    "                    colors=colors,\n",
    "                    ylim=[0, 3000],\n",
    "                    use_colors=use_colors,\n",
    "                    use_limits=use_limits,\n",
    "                    sample_stats=sample_stats, \n",
    "                    add_sources=add_sources, \n",
    "                    swarmplot=swarmplot, \n",
    "                    savefig=savefig, \n",
    "                    filename=\"potential_pos_min_hoho_SQ\")"
   ]
  },
  {
   "cell_type": "code",
   "execution_count": null,
   "metadata": {},
   "outputs": [],
   "source": [
    "create_info_boxplot(potential_pos_hoho_max_years_dict, \n",
    "                    year=\"SQ\",\n",
    "                    title=\"Werte für das maximale positive Lastmanagementpotenzial (Lastreduktion)\",\n",
    "                    ylabel=\"max. positives Potenzial in MW\",\n",
    "                    show_title=False,\n",
    "                    colors=colors,\n",
    "                    ylim=[0, 3000],\n",
    "                    use_colors=use_colors,\n",
    "                    use_limits=use_limits,\n",
    "                    sample_stats=sample_stats, \n",
    "                    add_sources=add_sources, \n",
    "                    swarmplot=swarmplot, \n",
    "                    savefig=savefig, \n",
    "                    filename=\"potential_pos_max_hoho_SQ\")"
   ]
  },
  {
   "cell_type": "code",
   "execution_count": null,
   "metadata": {},
   "outputs": [],
   "source": [
    "create_info_boxplot(potential_pos_hoho_overall_years_dict, \n",
    "                    year=\"SQ\",\n",
    "                    title=\"Werte für das positive Lastmanagementpotenzial (Lastreduktion)\",\n",
    "                    ylabel=\"positives Potenzial in MW\",\n",
    "                    show_title=False,\n",
    "                    colors=colors,\n",
    "                    ylim=[0, 10000],\n",
    "                    use_colors=use_colors,\n",
    "                    use_limits=use_limits,\n",
    "                    sample_stats=sample_stats, \n",
    "                    add_sources=add_sources, \n",
    "                    swarmplot=swarmplot, \n",
    "                    savefig=savefig, \n",
    "                    filename=\"potential_pos_overall_hoho_SQ\")"
   ]
  },
  {
   "cell_type": "markdown",
   "metadata": {},
   "source": [
    "### Positive load shedding potential"
   ]
  },
  {
   "cell_type": "markdown",
   "metadata": {},
   "source": [
    "Extract the information on the positive load shedding potential"
   ]
  },
  {
   "cell_type": "code",
   "execution_count": null,
   "metadata": {},
   "outputs": [],
   "source": [
    "# Extract info on positive demand reponse potentials and put the info from different publications together into one DataFrame\n",
    "potential_pos_hoho_ave_shed_dict, potential_pos_hoho_ave_shed_df = extract_info(\n",
    "    publications_hoho_years_dict, cols_dict[\"Potenzial positiv Mittel Lastverzicht\"],\n",
    "    drop=drop, sample_stats=sample_stats, add_sources=add_sources,\n",
    "    drop_datalack=drop_datalack, modify_categories=modify_categories, agg_rule=\"sum\"\n",
    ")\n",
    "potential_pos_hoho_min_shed_dict, potential_pos_hoho_min_shed_df = extract_info(\n",
    "    publications_hoho_years_dict, cols_dict[\"Potenzial positiv min Lastverzicht\"],\n",
    "    drop=drop, sample_stats=sample_stats, add_sources=add_sources,\n",
    "    drop_datalack=drop_datalack, modify_categories=modify_categories, agg_rule=\"sum\"\n",
    ")\n",
    "potential_pos_hoho_max_shed_dict, potential_pos_hoho_max_shed_df = extract_info(\n",
    "    publications_hoho_years_dict, cols_dict[\"Potenzial positiv max Lastverzicht\"],\n",
    "    drop=drop, sample_stats=sample_stats, add_sources=add_sources,\n",
    "    drop_datalack=drop_datalack, modify_categories=modify_categories, agg_rule=\"sum\"\n",
    ")\n",
    "potential_pos_hoho_overall_shed_dict, potential_pos_hoho_overall_shed_df = extract_info(\n",
    "    publications_hoho_years_dict, pot_pos_shed_cols, \n",
    "    drop=drop, sample_stats=sample_stats, add_sources=add_sources,\n",
    "    drop_datalack=drop_datalack, modify_categories=modify_categories, agg_rule=\"sum\"\n",
    ")"
   ]
  },
  {
   "cell_type": "markdown",
   "metadata": {},
   "source": [
    "Create a DataFrames containing the potential information for the respective_years"
   ]
  },
  {
   "cell_type": "code",
   "execution_count": null,
   "metadata": {},
   "outputs": [],
   "source": [
    "(potential_pos_hoho_ave_shed_years_dict, \n",
    " potential_pos_hoho_min_shed_years_dict, \n",
    " potential_pos_hoho_max_shed_years_dict, \n",
    " potential_pos_hoho_overall_shed_years_dict), \\\n",
    "(sources_potential_pos_hoho_ave_shed_dict, \n",
    " sources_potential_pos_hoho_min_shed_dict, \n",
    " sources_potential_pos_hoho_max_shed_dict, \n",
    " sources_potential_pos_hoho_overall_shed_dict) \\\n",
    "    = create_info_dict_for_years([\n",
    "    potential_pos_hoho_ave_shed_df, \n",
    "    potential_pos_hoho_min_shed_df, \n",
    "    potential_pos_hoho_max_shed_df, \n",
    "    potential_pos_hoho_overall_shed_df], years_dict, \n",
    "                                 negate=False, sample_stats=sample_stats, add_sources=add_sources)"
   ]
  },
  {
   "cell_type": "code",
   "execution_count": null,
   "metadata": {},
   "outputs": [],
   "source": [
    "# Describe the DataFrame -> statistical information\n",
    "if write_outputs:\n",
    "    save_info_stats(potential_pos_hoho_ave_shed_years_dict, path_folder_stats, \"potential_pos_ave_shed_hoho_stats.xlsx\", sample_stats=sample_stats, add_sources=add_sources)\n",
    "    save_info_stats(potential_pos_hoho_min_shed_years_dict, path_folder_stats, \"potential_pos_min_shed_hoho_stats.xlsx\", sample_stats=sample_stats, add_sources=add_sources)\n",
    "    save_info_stats(potential_pos_hoho_max_shed_years_dict, path_folder_stats, \"potential_pos_max_shed_hoho_stats.xlsx\", sample_stats=sample_stats, add_sources=add_sources)\n",
    "    save_info_stats(potential_pos_hoho_overall_shed_years_dict, path_folder_stats, \"potential_pos_overall_shed_hoho_stats.xlsx\", sample_stats=sample_stats, add_sources=add_sources)"
   ]
  },
  {
   "cell_type": "code",
   "execution_count": null,
   "metadata": {},
   "outputs": [],
   "source": [
    "# Save sources\n",
    "if write_sources:\n",
    "    save_sources(sources_potential_pos_hoho_ave_shed_dict, path_folder_sources, \"potential_pos_ave_shed_hoho_sources.xlsx\")\n",
    "    save_sources(sources_potential_pos_hoho_min_shed_dict, path_folder_sources, \"potential_pos_min_shed_hoho_sources.xlsx\")\n",
    "    save_sources(sources_potential_pos_hoho_max_shed_dict, path_folder_sources, \"potential_pos_max_shed_hoho_sources.xlsx\")\n",
    "    save_sources(sources_potential_pos_hoho_overall_shed_dict, path_folder_sources, \"potential_pos_overall_shed_hoho_sources.xlsx\")"
   ]
  },
  {
   "cell_type": "code",
   "execution_count": null,
   "metadata": {},
   "outputs": [],
   "source": [
    "create_info_boxplot(potential_pos_hoho_ave_shed_years_dict, \n",
    "                    year=\"SQ\",\n",
    "                    title=\"Werte für das durchschnittliche positive Abschaltpotenzial (Lastverzicht)\",\n",
    "                    ylabel=\"durchschn. positives Potenzial in MW\",\n",
    "                    show_title=False,\n",
    "                    colors=colors,\n",
    "                    ylim=[0, 10000],\n",
    "                    use_colors=use_colors,\n",
    "                    use_limits=False,\n",
    "                    sample_stats=sample_stats, \n",
    "                    add_sources=add_sources, \n",
    "                    swarmplot=swarmplot, \n",
    "                    savefig=savefig, \n",
    "                    filename=\"potential_pos_ave_shed_hoho_SQ\")"
   ]
  },
  {
   "cell_type": "code",
   "execution_count": null,
   "metadata": {},
   "outputs": [],
   "source": [
    "create_info_boxplot(potential_pos_hoho_min_shed_years_dict, \n",
    "                    year=\"SQ\",\n",
    "                    title=\"Werte für das minimale positive Abschaltpotenzial (Lastverzicht)\",\n",
    "                    ylabel=\"min. positives Potenzial in MW\",\n",
    "                    show_title=False,\n",
    "                    colors=colors,\n",
    "                    ylim=[0, 3000],\n",
    "                    use_colors=use_colors,\n",
    "                    use_limits=use_limits,\n",
    "                    sample_stats=sample_stats, \n",
    "                    add_sources=add_sources, \n",
    "                    swarmplot=swarmplot, \n",
    "                    savefig=savefig, \n",
    "                    filename=\"potential_pos_min_shed_hoho_SQ\")"
   ]
  },
  {
   "cell_type": "code",
   "execution_count": null,
   "metadata": {},
   "outputs": [],
   "source": [
    "create_info_boxplot(potential_pos_hoho_max_shed_years_dict, \n",
    "                    year=\"SQ\",\n",
    "                    title=\"Werte für das maximale positive Abschaltpotenzial (Lastverzicht)\",\n",
    "                    ylabel=\"max. positives Potenzial in MW\",\n",
    "                    show_title=False,\n",
    "                    colors=colors,\n",
    "                    ylim=[0, 3000],\n",
    "                    use_colors=use_colors,\n",
    "                    use_limits=use_limits,\n",
    "                    sample_stats=sample_stats, \n",
    "                    add_sources=add_sources, \n",
    "                    swarmplot=swarmplot, \n",
    "                    savefig=savefig, \n",
    "                    filename=\"potential_pos_max_shed_hoho_SQ\")"
   ]
  },
  {
   "cell_type": "code",
   "execution_count": null,
   "metadata": {},
   "outputs": [],
   "source": [
    "create_info_boxplot(potential_pos_hoho_overall_shed_years_dict, \n",
    "                    year=\"SQ\",\n",
    "                    title=\"Werte für das positive Abschaltpotenzial (Lastverzicht)\",\n",
    "                    ylabel=\"positives Potenzial in MW\",\n",
    "                    show_title=False,\n",
    "                    colors=colors,\n",
    "                    ylim=[0, 10000],\n",
    "                    use_colors=use_colors,\n",
    "                    use_limits=use_limits,\n",
    "                    sample_stats=sample_stats, \n",
    "                    add_sources=add_sources, \n",
    "                    swarmplot=swarmplot, \n",
    "                    savefig=savefig, \n",
    "                    filename=\"potential_pos_overall_shed_hoho_SQ\")"
   ]
  },
  {
   "cell_type": "markdown",
   "metadata": {},
   "source": [
    "### Negative load shift potential"
   ]
  },
  {
   "cell_type": "markdown",
   "metadata": {},
   "source": [
    "Extract the information on the negative load shift potential"
   ]
  },
  {
   "cell_type": "code",
   "execution_count": null,
   "metadata": {},
   "outputs": [],
   "source": [
    "# Extract info on negative demand reponse potentials and put the info from different publications together into one DataFrame\n",
    "potential_neg_hoho_ave_dict, potential_neg_hoho_ave_df = extract_info(publications_hoho_years_dict, cols_dict[\"Potenzial negativ Mittel\"],\n",
    "                                                                      drop=drop, sample_stats=sample_stats, add_sources=add_sources,\n",
    "                                                                      drop_datalack=drop_datalack, modify_categories=modify_categories, agg_rule=\"sum\")\n",
    "potential_neg_hoho_min_dict, potential_neg_hoho_min_df = extract_info(publications_hoho_years_dict, cols_dict[\"Potenzial negativ min\"],\n",
    "                                                                      drop=drop, sample_stats=sample_stats, add_sources=add_sources,\n",
    "                                                                      drop_datalack=drop_datalack, modify_categories=modify_categories, agg_rule=\"sum\")\n",
    "potential_neg_hoho_max_dict, potential_neg_hoho_max_df = extract_info(publications_hoho_years_dict, cols_dict[\"Potenzial negativ max\"],\n",
    "                                                                      drop=drop, sample_stats=sample_stats, add_sources=add_sources,\n",
    "                                                                      drop_datalack=drop_datalack, modify_categories=modify_categories, agg_rule=\"sum\")\n",
    "potential_neg_hoho_overall_dict, potential_neg_hoho_overall_df = extract_info(publications_hoho_years_dict, pot_neg_cols, \n",
    "                                                                      drop=drop, sample_stats=sample_stats, add_sources=add_sources,\n",
    "                                                                      drop_datalack=drop_datalack, modify_categories=modify_categories, agg_rule=\"sum\")"
   ]
  },
  {
   "cell_type": "markdown",
   "metadata": {},
   "source": [
    "Create a DataFrames containing the potential information for the respective_years"
   ]
  },
  {
   "cell_type": "code",
   "execution_count": null,
   "metadata": {},
   "outputs": [],
   "source": [
    "(potential_neg_hoho_ave_years_dict, potential_neg_hoho_min_years_dict, potential_neg_hoho_max_years_dict, potential_neg_hoho_overall_years_dict), \\\n",
    "(sources_potential_neg_hoho_ave_dict, sources_potential_neg_hoho_min_dict, sources_potential_neg_hoho_max_dict, sources_potential_neg_hoho_overall_dict) \\\n",
    "    = create_info_dict_for_years([potential_neg_hoho_ave_df, potential_neg_hoho_min_df, potential_neg_hoho_max_df, potential_neg_hoho_overall_df], years_dict, \n",
    "                                 negate=True, sample_stats=sample_stats, add_sources=add_sources)"
   ]
  },
  {
   "cell_type": "code",
   "execution_count": null,
   "metadata": {},
   "outputs": [],
   "source": [
    "# Save description of the DataFrames -> statistical information\n",
    "if write_outputs:\n",
    "    save_info_stats(potential_neg_hoho_ave_years_dict, path_folder_stats, \"potential_neg_ave_hoho_stats.xlsx\", sample_stats=sample_stats, add_sources=add_sources)\n",
    "    save_info_stats(potential_neg_hoho_min_years_dict, path_folder_stats, \"potential_neg_min_hoho_stats.xlsx\", sample_stats=sample_stats, add_sources=add_sources)\n",
    "    save_info_stats(potential_neg_hoho_max_years_dict, path_folder_stats, \"potential_neg_max_hoho_stats.xlsx\", sample_stats=sample_stats, add_sources=add_sources)\n",
    "    save_info_stats(potential_neg_hoho_overall_years_dict, path_folder_stats, \"potential_neg_overall_hoho_stats.xlsx\", sample_stats=sample_stats, add_sources=add_sources)"
   ]
  },
  {
   "cell_type": "code",
   "execution_count": null,
   "metadata": {},
   "outputs": [],
   "source": [
    "# Save sources\n",
    "if write_sources:\n",
    "    save_sources(sources_potential_neg_hoho_ave_dict, path_folder_sources, \"potential_neg_ave_hoho_sources.xlsx\")\n",
    "    save_sources(sources_potential_neg_hoho_min_dict, path_folder_sources, \"potential_neg_min_hoho_sources.xlsx\")\n",
    "    save_sources(sources_potential_neg_hoho_max_dict, path_folder_sources, \"potential_neg_max_hoho_sources.xlsx\")\n",
    "    save_sources(sources_potential_neg_hoho_overall_dict, path_folder_sources, \"potential_neg_overall_hoho_sources.xlsx\")"
   ]
  },
  {
   "cell_type": "markdown",
   "metadata": {},
   "source": [
    "_NOTE: The following can be used to create nicer visualizations, e.g. for presentations:_\n",
    "* _Swap order of appearance of columns (i.e. demand response categories)_\n",
    "* _Plot only an excerpt of all categories_"
   ]
  },
  {
   "cell_type": "code",
   "execution_count": null,
   "metadata": {},
   "outputs": [],
   "source": [
    "if presentation_stuff:\n",
    "    # show original columns order\n",
    "    cols_original = potential_neg_hoho_ave_years_dict[\"SQ\"].columns.to_list()\n",
    "    for i, el in enumerate(cols_original):\n",
    "        print(i, el)\n",
    "    len(cols_original)"
   ]
  },
  {
   "cell_type": "code",
   "execution_count": null,
   "metadata": {},
   "outputs": [],
   "source": [
    "if presentation_stuff:\n",
    "    # create demanded columns order\n",
    "    cols_demanded = cols_original[4:10] + cols_original[:4] + cols_original[10:]\n",
    "    len(cols_demanded)"
   ]
  },
  {
   "cell_type": "code",
   "execution_count": null,
   "metadata": {},
   "outputs": [],
   "source": [
    "if presentation_stuff:\n",
    "    # reassign the manipulated DataFrame\n",
    "    potential_neg_hoho_ave_years_dict[\"SQ\"] = potential_neg_hoho_ave_years_dict[\"SQ\"][cols_demanded]"
   ]
  },
  {
   "cell_type": "code",
   "execution_count": null,
   "metadata": {},
   "outputs": [],
   "source": [
    "create_info_boxplot(potential_neg_hoho_ave_years_dict, \n",
    "                    year=\"SQ\",\n",
    "                    title=\"Werte für das durchschnittliche negative Lastmanagementpotenzial (Lasterhöhung)\",\n",
    "                    ylabel=\"durchschn. negatives Potenzial in MW\",\n",
    "                    show_title=False,\n",
    "                    colors=colors,\n",
    "                    ylim=[-10000, 0],\n",
    "                    use_colors=use_colors,\n",
    "                    use_limits=False,\n",
    "                    sample_stats=sample_stats, \n",
    "                    add_sources=add_sources, \n",
    "                    swarmplot=swarmplot, \n",
    "                    savefig=savefig, \n",
    "                    filename=\"potential_neg_ave_hoho_SQ\")"
   ]
  },
  {
   "cell_type": "code",
   "execution_count": null,
   "metadata": {},
   "outputs": [],
   "source": [
    "create_info_boxplot(potential_neg_hoho_min_years_dict, \n",
    "                    year=\"SQ\",\n",
    "                    title=\"Werte für das minimale negative Lastmanagementpotenzial (Lasterhöhung)\",\n",
    "                    ylabel=\"min. negatives Potenzial in MW\",\n",
    "                    show_title=False,\n",
    "                    colors=colors,\n",
    "                    ylim=[-3000, 0],\n",
    "                    use_colors=use_colors,\n",
    "                    use_limits=use_limits,\n",
    "                    sample_stats=sample_stats, \n",
    "                    add_sources=add_sources, \n",
    "                    swarmplot=swarmplot, \n",
    "                    savefig=savefig, \n",
    "                    filename=\"potential_neg_min_hoho_SQ\")"
   ]
  },
  {
   "cell_type": "code",
   "execution_count": null,
   "metadata": {},
   "outputs": [],
   "source": [
    "create_info_boxplot(potential_neg_hoho_max_years_dict, \n",
    "                    year=\"SQ\",\n",
    "                    title=\"Werte für das maximale negative Lastmanagementpotenzial (Lasterhöhung)\",\n",
    "                    ylabel=\"max. negatives Potenzial in MW\",\n",
    "                    show_title=False,\n",
    "                    colors=colors,\n",
    "                    ylim=[-3000, 0],\n",
    "                    use_colors=use_colors,\n",
    "                    use_limits=use_limits,\n",
    "                    sample_stats=sample_stats, \n",
    "                    add_sources=add_sources, \n",
    "                    swarmplot=swarmplot, \n",
    "                    savefig=savefig, \n",
    "                    filename=\"potential_neg_max_hoho_SQ\")"
   ]
  },
  {
   "cell_type": "code",
   "execution_count": null,
   "metadata": {},
   "outputs": [],
   "source": [
    "create_info_boxplot(potential_neg_hoho_overall_years_dict, \n",
    "                    year=\"SQ\",\n",
    "                    title=\"Werte für das negative Lastmanagementpotenzial (Lasterhöhung)\",\n",
    "                    ylabel=\"negatives Potenzial in MW\",\n",
    "                    show_title=False,\n",
    "                    colors=colors,\n",
    "                    ylim=[-30000, 0],\n",
    "                    use_colors=use_colors,\n",
    "                    use_limits=False,\n",
    "                    sample_stats=sample_stats, \n",
    "                    add_sources=add_sources, \n",
    "                    swarmplot=swarmplot, \n",
    "                    savefig=savefig, \n",
    "                    filename=\"potential_neg_overall_hoho_SQ\")"
   ]
  },
  {
   "cell_type": "markdown",
   "metadata": {},
   "source": [
    "### Average load values"
   ]
  },
  {
   "cell_type": "code",
   "execution_count": null,
   "metadata": {},
   "outputs": [],
   "source": [
    "ave_load_hoho_dict, ave_load_hoho_df = extract_info(publications_hoho_years_dict, cols_dict[\"Durchschnittsauslastung\"],\n",
    "                                                    drop=drop, sample_stats=sample_stats, add_sources=add_sources,\n",
    "                                                    drop_datalack=drop_datalack, modify_categories=modify_categories, agg_rule=\"weighted_average\", weights=pot_pos_cols)"
   ]
  },
  {
   "cell_type": "code",
   "execution_count": null,
   "metadata": {},
   "outputs": [],
   "source": [
    "ave_load_hoho_years_dict, sources_ave_load_hoho_dict = create_info_dict_for_years(ave_load_hoho_df, years_dict, \n",
    "                                                      negate=False, sample_stats=sample_stats, add_sources=add_sources)"
   ]
  },
  {
   "cell_type": "code",
   "execution_count": null,
   "metadata": {},
   "outputs": [],
   "source": [
    "if write_outputs:\n",
    "    save_info_stats(ave_load_hoho_years_dict, path_folder_stats, \"ave_load_hoho_stats.xlsx\", sample_stats=sample_stats, add_sources=add_sources)"
   ]
  },
  {
   "cell_type": "code",
   "execution_count": null,
   "metadata": {},
   "outputs": [],
   "source": [
    "# Save sources\n",
    "if write_sources:\n",
    "    save_sources(sources_ave_load_hoho_dict, path_folder_sources, \"ave_load_hoho_sources.xlsx\")"
   ]
  },
  {
   "cell_type": "code",
   "execution_count": null,
   "metadata": {},
   "outputs": [],
   "source": [
    "create_info_boxplot(ave_load_hoho_years_dict, \n",
    "                    year=\"SQ\",\n",
    "                    title=\"Durchschnittlicher Lastfaktor\",\n",
    "                    ylabel=\"durchschnittlicher Lastfaktor in p.u.\",\n",
    "                    show_title=False,\n",
    "                    colors=colors,\n",
    "                    ylim=[0, 1],\n",
    "                    use_colors=use_colors,\n",
    "                    use_limits=use_limits,\n",
    "                    sample_stats=sample_stats, \n",
    "                    add_sources=add_sources, \n",
    "                    swarmplot=swarmplot, \n",
    "                    savefig=savefig, \n",
    "                    filename=\"ave_load_hoho_SQ\")"
   ]
  },
  {
   "cell_type": "markdown",
   "metadata": {},
   "source": [
    "### Minimum load values"
   ]
  },
  {
   "cell_type": "code",
   "execution_count": null,
   "metadata": {},
   "outputs": [],
   "source": [
    "min_load_hoho_dict, min_load_hoho_df = extract_info(publications_hoho_years_dict, cols_dict[\"Minimalauslastung\"],\n",
    "                                                    drop=drop, sample_stats=sample_stats, add_sources=add_sources,\n",
    "                                                    drop_datalack=drop_datalack, modify_categories=modify_categories, agg_rule=\"weighted_average\", weights=pot_pos_cols)"
   ]
  },
  {
   "cell_type": "code",
   "execution_count": null,
   "metadata": {},
   "outputs": [],
   "source": [
    "min_load_hoho_years_dict, sources_min_load_hoho_dict = create_info_dict_for_years(min_load_hoho_df, years_dict, \n",
    "                                                      negate=False, sample_stats=sample_stats, add_sources=add_sources)"
   ]
  },
  {
   "cell_type": "code",
   "execution_count": null,
   "metadata": {},
   "outputs": [],
   "source": [
    "if write_outputs:\n",
    "    save_info_stats(min_load_hoho_years_dict, path_folder_stats, \"min_load_hoho_stats.xlsx\", sample_stats=sample_stats, add_sources=add_sources)"
   ]
  },
  {
   "cell_type": "code",
   "execution_count": null,
   "metadata": {},
   "outputs": [],
   "source": [
    "# Save sources\n",
    "if write_sources:\n",
    "    save_sources(sources_min_load_hoho_dict, path_folder_sources, \"min_load_hoho_sources.xlsx\")"
   ]
  },
  {
   "cell_type": "code",
   "execution_count": null,
   "metadata": {},
   "outputs": [],
   "source": [
    "create_info_boxplot(min_load_hoho_years_dict, \n",
    "                    year=\"SQ\",\n",
    "                    title=\"Minimaler Lastfaktor\",\n",
    "                    ylabel=\"minimaler Lastfaktor in p.u.\",\n",
    "                    show_title=False,\n",
    "                    colors=colors,\n",
    "                    ylim=[0, 1],\n",
    "                    use_colors=use_colors,\n",
    "                    use_limits=use_limits,\n",
    "                    sample_stats=sample_stats, \n",
    "                    add_sources=add_sources, \n",
    "                    swarmplot=swarmplot, \n",
    "                    savefig=savefig, \n",
    "                    filename=\"min_load_hoho_SQ\")"
   ]
  },
  {
   "cell_type": "markdown",
   "metadata": {},
   "source": [
    "### Maximum load values"
   ]
  },
  {
   "cell_type": "code",
   "execution_count": null,
   "metadata": {},
   "outputs": [],
   "source": [
    "max_load_hoho_dict, max_load_hoho_df = extract_info(publications_hoho_years_dict, cols_dict[\"Maximalauslastung\"],\n",
    "                                                    drop=drop, sample_stats=sample_stats, add_sources=add_sources,\n",
    "                                                    drop_datalack=drop_datalack, modify_categories=modify_categories, agg_rule=\"weighted_average\", weights=pot_pos_cols)"
   ]
  },
  {
   "cell_type": "code",
   "execution_count": null,
   "metadata": {},
   "outputs": [],
   "source": [
    "max_load_hoho_years_dict, sources_max_load_hoho_dict = create_info_dict_for_years(max_load_hoho_df, years_dict, \n",
    "                                                      negate=False, sample_stats=sample_stats, add_sources=add_sources)"
   ]
  },
  {
   "cell_type": "code",
   "execution_count": null,
   "metadata": {},
   "outputs": [],
   "source": [
    "if write_outputs:\n",
    "    save_info_stats(max_load_hoho_years_dict, path_folder_stats, \"max_load_hoho_stats.xlsx\", sample_stats=sample_stats, add_sources=add_sources)"
   ]
  },
  {
   "cell_type": "code",
   "execution_count": null,
   "metadata": {},
   "outputs": [],
   "source": [
    "# Save sources\n",
    "if write_sources:\n",
    "    save_sources(sources_max_load_hoho_dict, path_folder_sources, \"max_load_hoho_sources.xlsx\")"
   ]
  },
  {
   "cell_type": "code",
   "execution_count": null,
   "metadata": {},
   "outputs": [],
   "source": [
    "create_info_boxplot(max_load_hoho_years_dict, \n",
    "                    year=\"SQ\",\n",
    "                    title=\"Maximaler Lastfaktor\",\n",
    "                    ylabel=\"maximaler Lastfaktor in p.u.\",\n",
    "                    show_title=False,\n",
    "                    colors=colors,\n",
    "                    ylim=[0, 1],\n",
    "                    use_colors=use_colors,\n",
    "                    use_limits=use_limits,\n",
    "                    sample_stats=sample_stats, \n",
    "                    add_sources=add_sources, \n",
    "                    swarmplot=swarmplot, \n",
    "                    savefig=savefig, \n",
    "                    filename=\"max_load_hoho_SQ\")"
   ]
  },
  {
   "cell_type": "markdown",
   "metadata": {},
   "source": [
    "### Installed capacity"
   ]
  },
  {
   "cell_type": "code",
   "execution_count": null,
   "metadata": {},
   "outputs": [],
   "source": [
    "installed_cap_hoho_dict, installed_cap_hoho_df = extract_info(publications_hoho_years_dict, cols_dict[\"installierte Leistung\"],\n",
    "                                                              drop=drop, sample_stats=sample_stats, add_sources=add_sources,\n",
    "                                                              drop_datalack=drop_datalack, modify_categories=modify_categories, agg_rule=\"sum\")"
   ]
  },
  {
   "cell_type": "code",
   "execution_count": null,
   "metadata": {},
   "outputs": [],
   "source": [
    "installed_cap_hoho_years_dict, sources_installed_cap_hoho_dict = create_info_dict_for_years(installed_cap_hoho_df, years_dict, \n",
    "                                                           negate=False, sample_stats=sample_stats, add_sources=add_sources)"
   ]
  },
  {
   "cell_type": "code",
   "execution_count": null,
   "metadata": {},
   "outputs": [],
   "source": [
    "if write_outputs:\n",
    "    save_info_stats(installed_cap_hoho_years_dict, path_folder_stats, \"installed_cap_hoho_stats.xlsx\", sample_stats=sample_stats, add_sources=add_sources)"
   ]
  },
  {
   "cell_type": "code",
   "execution_count": null,
   "metadata": {},
   "outputs": [],
   "source": [
    "# Save sources\n",
    "if write_sources:\n",
    "    save_sources(sources_installed_cap_hoho_dict, path_folder_sources, \"installed_cap_hoho_sources.xlsx\")"
   ]
  },
  {
   "cell_type": "code",
   "execution_count": null,
   "metadata": {},
   "outputs": [],
   "source": [
    "create_info_boxplot(installed_cap_hoho_years_dict, \n",
    "                    year=\"SQ\",\n",
    "                    title=\"installierte Leistung\",\n",
    "                    ylabel=\"installierte Leistung in MW\",\n",
    "                    show_title=False,\n",
    "                    colors=colors,\n",
    "                    ylim=[0, 3000],\n",
    "                    use_colors=use_colors,\n",
    "                    use_limits=use_limits,\n",
    "                    sample_stats=sample_stats, \n",
    "                    add_sources=add_sources, \n",
    "                    swarmplot=swarmplot, \n",
    "                    savefig=savefig, \n",
    "                    filename=\"installed_cap_hoho_SQ\")"
   ]
  },
  {
   "cell_type": "markdown",
   "metadata": {},
   "source": [
    "### Shiftable share"
   ]
  },
  {
   "cell_type": "code",
   "execution_count": null,
   "metadata": {},
   "outputs": [],
   "source": [
    "shiftable_share_hoho_dict, shiftable_share_hoho_df = extract_info(publications_hoho_years_dict, cols_dict[\"flexibilisierbarer Leistungsanteil\"],\n",
    "                                                                  drop=drop, sample_stats=sample_stats, add_sources=add_sources,\n",
    "                                                                  drop_datalack=drop_datalack, modify_categories=modify_categories, agg_rule=\"weighted_average\", weights=pot_pos_cols)"
   ]
  },
  {
   "cell_type": "code",
   "execution_count": null,
   "metadata": {},
   "outputs": [],
   "source": [
    "shiftable_share_hoho_years_dict, sources_shiftable_share_hoho_dict = create_info_dict_for_years(shiftable_share_hoho_df, years_dict, \n",
    "                                                             negate=False, sample_stats=sample_stats, add_sources=add_sources)"
   ]
  },
  {
   "cell_type": "code",
   "execution_count": null,
   "metadata": {},
   "outputs": [],
   "source": [
    "if write_outputs:\n",
    "    save_info_stats(shiftable_share_hoho_years_dict, path_folder_stats, \"shiftable_share_hoho_stats.xlsx\", sample_stats=sample_stats, add_sources=add_sources)"
   ]
  },
  {
   "cell_type": "code",
   "execution_count": null,
   "metadata": {},
   "outputs": [],
   "source": [
    "# Save sources\n",
    "if write_sources:\n",
    "    save_sources(sources_shiftable_share_hoho_dict, path_folder_sources, \"shiftable_share_hoho_sources.xlsx\")"
   ]
  },
  {
   "cell_type": "code",
   "execution_count": null,
   "metadata": {},
   "outputs": [],
   "source": [
    "create_info_boxplot(shiftable_share_hoho_years_dict, \n",
    "                    year=\"SQ\",\n",
    "                    title=\"flexibilisierbarer Leistungsanteil\",\n",
    "                    ylabel=\"flexibilisierbarer Leistungsanteil in p.u.\",\n",
    "                    show_title=False,\n",
    "                    colors=colors,\n",
    "                    ylim=[0, 1.5],\n",
    "                    use_colors=use_colors,\n",
    "                    use_limits=use_limits,\n",
    "                    sample_stats=sample_stats, \n",
    "                    add_sources=add_sources, \n",
    "                    swarmplot=swarmplot, \n",
    "                    savefig=savefig, \n",
    "                    filename=\"shiftable_share_hoho_SQ\")"
   ]
  },
  {
   "cell_type": "markdown",
   "metadata": {},
   "source": [
    "# Time-related parameters\n",
    "In the following, all time-related demand response parameters are evaluated. These comprise\n",
    "* activation duration (in h),\n",
    "* interference duration in postive and negative direction (in h),\n",
    "* shifting duration (in h),\n",
    "* regeneration duration (in h) as well as\n",
    "* maximum activations per year resp. week (in 1).\n",
    "\n",
    "The evaluation is carried out per process / appliance for a given sector and year."
   ]
  },
  {
   "cell_type": "markdown",
   "metadata": {},
   "source": [
    "## Industry"
   ]
  },
  {
   "cell_type": "markdown",
   "metadata": {},
   "source": [
    "### Activation duration"
   ]
  },
  {
   "cell_type": "code",
   "execution_count": null,
   "metadata": {},
   "outputs": [],
   "source": [
    "activation_duration_ind_dict, activation_duration_ind_df = extract_info(publications_ind_years_dict, cols_dict[\"Aktivierungsdauer\"],\n",
    "                                                                        drop=drop, sample_stats=sample_stats, add_sources=add_sources,\n",
    "                                                                        drop_datalack=drop_datalack, modify_categories=modify_categories, agg_rule=\"weighted_average\", weights=pot_pos_cols)"
   ]
  },
  {
   "cell_type": "code",
   "execution_count": null,
   "metadata": {},
   "outputs": [],
   "source": [
    "activation_duration_ind_years_dict, sources_activation_duration_ind_dict = create_info_dict_for_years(activation_duration_ind_df, years_dict, \n",
    "                                                                negate=False, sample_stats=sample_stats, add_sources=add_sources)"
   ]
  },
  {
   "cell_type": "code",
   "execution_count": null,
   "metadata": {},
   "outputs": [],
   "source": [
    "if write_outputs:\n",
    "    save_info_stats(activation_duration_ind_years_dict, path_folder_stats, \"activation_duration_ind_stats.xlsx\", sample_stats=sample_stats, add_sources=add_sources)"
   ]
  },
  {
   "cell_type": "code",
   "execution_count": null,
   "metadata": {},
   "outputs": [],
   "source": [
    "# Save sources\n",
    "if write_sources:\n",
    "    save_sources(sources_activation_duration_ind_dict, path_folder_sources, \"activation_duration_ind_sources.xlsx\")"
   ]
  },
  {
   "cell_type": "code",
   "execution_count": null,
   "metadata": {},
   "outputs": [],
   "source": [
    "create_info_boxplot(activation_duration_ind_years_dict, \n",
    "                    year=\"SQ\",\n",
    "                    title=\"Aktivierungsdauer\",\n",
    "                    ylabel=\"Aktivierungsdauer in h\",\n",
    "                    show_title=False,\n",
    "                    colors=colors,\n",
    "                    ylim=[0, 24],\n",
    "                    use_colors=use_colors,\n",
    "                    use_limits=use_limits,\n",
    "                    sample_stats=sample_stats, \n",
    "                    add_sources=add_sources, \n",
    "                    swarmplot=swarmplot, \n",
    "                    savefig=savefig, \n",
    "                    filename=\"activation_duration_ind_SQ\")"
   ]
  },
  {
   "cell_type": "markdown",
   "metadata": {},
   "source": [
    "### interference duration positive load shifting"
   ]
  },
  {
   "cell_type": "code",
   "execution_count": null,
   "metadata": {},
   "outputs": [],
   "source": [
    "interference_duration_pos_ind_dict, interference_duration_pos_ind_df = extract_info(publications_ind_years_dict, cols_dict[\"Schaltdauer positiv\"],\n",
    "                                                                                    drop=drop, sample_stats=sample_stats, add_sources=add_sources,\n",
    "                                                                                    drop_datalack=drop_datalack, modify_categories=modify_categories, \n",
    "                                                                                    agg_rule=\"weighted_average\", weights=pot_pos_cols)"
   ]
  },
  {
   "cell_type": "code",
   "execution_count": null,
   "metadata": {},
   "outputs": [],
   "source": [
    "interference_duration_pos_ind_years_dict, sources_interference_duration_pos_ind_dict = create_info_dict_for_years(interference_duration_pos_ind_df, years_dict, \n",
    "                                                                      negate=False, sample_stats=sample_stats, add_sources=add_sources)"
   ]
  },
  {
   "cell_type": "code",
   "execution_count": null,
   "metadata": {},
   "outputs": [],
   "source": [
    "if write_outputs:\n",
    "    save_info_stats(interference_duration_pos_ind_years_dict, path_folder_stats, \"interference_duration_pos_ind_stats.xlsx\", sample_stats=sample_stats, add_sources=add_sources)"
   ]
  },
  {
   "cell_type": "code",
   "execution_count": null,
   "metadata": {},
   "outputs": [],
   "source": [
    "# Save sources\n",
    "if write_sources:\n",
    "    save_sources(sources_interference_duration_pos_ind_dict, path_folder_sources, \"interference_duration_pos_ind_sources.xlsx\")"
   ]
  },
  {
   "cell_type": "code",
   "execution_count": null,
   "metadata": {},
   "outputs": [],
   "source": [
    "create_info_boxplot(interference_duration_pos_ind_years_dict, \n",
    "                    year=\"SQ\",\n",
    "                    title=\"positive Schaltdauer (Lastreduktion)\",\n",
    "                    ylabel=\"positive Schaltdauer in h\",\n",
    "                    show_title=False,\n",
    "                    colors=colors,\n",
    "                    ylim=[0, 24],\n",
    "                    use_colors=use_colors,\n",
    "                    use_limits=False,\n",
    "                    sample_stats=sample_stats, \n",
    "                    add_sources=add_sources, \n",
    "                    swarmplot=swarmplot, \n",
    "                    savefig=savefig, \n",
    "                    filename=\"interference_duration_pos_ind_SQ\")"
   ]
  },
  {
   "cell_type": "markdown",
   "metadata": {},
   "source": [
    "### interference duration positive load shedding"
   ]
  },
  {
   "cell_type": "code",
   "execution_count": null,
   "metadata": {},
   "outputs": [],
   "source": [
    "interference_duration_pos_shed_ind_dict, interference_duration_pos_shed_ind_df = extract_info(\n",
    "    publications_ind_years_dict, cols_dict[\"Schaltdauer positiv Lastverzicht\"],\n",
    "    drop=drop, sample_stats=sample_stats, add_sources=add_sources,\n",
    "    drop_datalack=drop_datalack, modify_categories=modify_categories, \n",
    "    agg_rule=\"weighted_average\", weights=pot_pos_cols)"
   ]
  },
  {
   "cell_type": "code",
   "execution_count": null,
   "metadata": {},
   "outputs": [],
   "source": [
    "interference_duration_pos_shed_ind_years_dict, sources_interference_duration_pos_shed_ind_dict = create_info_dict_for_years(interference_duration_pos_shed_ind_df, years_dict, \n",
    "                                                                      negate=False, sample_stats=sample_stats, add_sources=add_sources)"
   ]
  },
  {
   "cell_type": "code",
   "execution_count": null,
   "metadata": {},
   "outputs": [],
   "source": [
    "if write_outputs:\n",
    "    save_info_stats(interference_duration_pos_shed_ind_years_dict, path_folder_stats, \"interference_duration_pos_shed_ind_stats.xlsx\", sample_stats=sample_stats, add_sources=add_sources)"
   ]
  },
  {
   "cell_type": "code",
   "execution_count": null,
   "metadata": {},
   "outputs": [],
   "source": [
    "# Save sources\n",
    "if write_sources:\n",
    "    save_sources(sources_interference_duration_pos_shed_ind_dict, path_folder_sources, \"interference_duration_pos_shed_ind_sources.xlsx\")"
   ]
  },
  {
   "cell_type": "code",
   "execution_count": null,
   "metadata": {},
   "outputs": [],
   "source": [
    "create_info_boxplot(interference_duration_pos_shed_ind_years_dict, \n",
    "                    year=\"SQ\",\n",
    "                    title=\"positive Schaltdauer (Lastverzicht)\",\n",
    "                    ylabel=\"positive Schaltdauer in h\",\n",
    "                    show_title=False,\n",
    "                    colors=colors,\n",
    "                    ylim=[0, 24],\n",
    "                    use_colors=use_colors,\n",
    "                    use_limits=False,\n",
    "                    sample_stats=sample_stats, \n",
    "                    add_sources=add_sources, \n",
    "                    swarmplot=swarmplot, \n",
    "                    savefig=savefig, \n",
    "                    filename=\"interference_duration_pos_shed_ind_SQ\")"
   ]
  },
  {
   "cell_type": "markdown",
   "metadata": {},
   "source": [
    "### interference duration negative"
   ]
  },
  {
   "cell_type": "code",
   "execution_count": null,
   "metadata": {},
   "outputs": [],
   "source": [
    "interference_duration_neg_ind_dict, interference_duration_neg_ind_df = extract_info(publications_ind_years_dict, cols_dict[\"Schaltdauer negativ\"],\n",
    "                                                                                    drop=drop, sample_stats=sample_stats, add_sources=add_sources,\n",
    "                                                                                    drop_datalack=drop_datalack, modify_categories=modify_categories, \n",
    "                                                                                    agg_rule=\"weighted_average\", weights=pot_neg_cols)"
   ]
  },
  {
   "cell_type": "code",
   "execution_count": null,
   "metadata": {},
   "outputs": [],
   "source": [
    "interference_duration_neg_ind_years_dict, sources_interference_duration_neg_ind_dict = create_info_dict_for_years(interference_duration_neg_ind_df, years_dict, \n",
    "                                                                      negate=False, sample_stats=sample_stats, add_sources=add_sources)"
   ]
  },
  {
   "cell_type": "code",
   "execution_count": null,
   "metadata": {},
   "outputs": [],
   "source": [
    "if write_outputs:\n",
    "    save_info_stats(interference_duration_neg_ind_years_dict, path_folder_stats, \"interference_duration_neg_ind_stats.xlsx\", sample_stats=sample_stats, add_sources=add_sources)"
   ]
  },
  {
   "cell_type": "code",
   "execution_count": null,
   "metadata": {},
   "outputs": [],
   "source": [
    "# Save sources\n",
    "if write_sources:\n",
    "    save_sources(sources_interference_duration_neg_ind_dict, path_folder_sources, \"interference_duration_neg_ind_sources.xlsx\")"
   ]
  },
  {
   "cell_type": "code",
   "execution_count": null,
   "metadata": {},
   "outputs": [],
   "source": [
    "create_info_boxplot(interference_duration_neg_ind_years_dict, \n",
    "                    year=\"SQ\",\n",
    "                    title=\"negative Schaltdauer (Lasterhöhung)\",\n",
    "                    ylabel=\"negative Schaltdauer in h\",\n",
    "                    show_title=False,\n",
    "                    colors=colors,\n",
    "                    ylim=[0, 24],\n",
    "                    use_colors=use_colors,\n",
    "                    use_limits=False,\n",
    "                    sample_stats=sample_stats, \n",
    "                    add_sources=add_sources, \n",
    "                    swarmplot=swarmplot, \n",
    "                    savefig=savefig, \n",
    "                    filename=\"interference_duration_neg_ind_SQ\")"
   ]
  },
  {
   "cell_type": "markdown",
   "metadata": {},
   "source": [
    "### shifting duration"
   ]
  },
  {
   "cell_type": "code",
   "execution_count": null,
   "metadata": {},
   "outputs": [],
   "source": [
    "shifting_duration_ind_dict, shifting_duration_ind_df = extract_info(publications_ind_years_dict, cols_dict[\"Verschiebedauer\"],\n",
    "                                                                    drop=drop, sample_stats=sample_stats, add_sources=add_sources,\n",
    "                                                                    drop_datalack=drop_datalack, modify_categories=modify_categories, \n",
    "                                                                    agg_rule=\"weighted_average\", weights=pot_neg_cols)"
   ]
  },
  {
   "cell_type": "code",
   "execution_count": null,
   "metadata": {},
   "outputs": [],
   "source": [
    "shifting_duration_ind_years_dict, sources_shifting_duration_ind_dict = create_info_dict_for_years(shifting_duration_ind_df, years_dict, \n",
    "                                                              negate=False, sample_stats=sample_stats, add_sources=add_sources)"
   ]
  },
  {
   "cell_type": "code",
   "execution_count": null,
   "metadata": {},
   "outputs": [],
   "source": [
    "if write_outputs:\n",
    "    save_info_stats(shifting_duration_ind_years_dict, path_folder_stats, \"shifting_duration_ind_stats.xlsx\", sample_stats=sample_stats, add_sources=add_sources)"
   ]
  },
  {
   "cell_type": "code",
   "execution_count": null,
   "metadata": {},
   "outputs": [],
   "source": [
    "# Save sources\n",
    "if write_sources:\n",
    "    save_sources(sources_shifting_duration_ind_dict, path_folder_sources, \"shifting_duration_ind_sources.xlsx\")"
   ]
  },
  {
   "cell_type": "code",
   "execution_count": null,
   "metadata": {},
   "outputs": [],
   "source": [
    "create_info_boxplot(shifting_duration_ind_years_dict, \n",
    "                    year=\"SQ\",\n",
    "                    title=\"Verschiebedauer\",\n",
    "                    ylabel=\"Verschiebedauer in h\",\n",
    "                    show_title=False,\n",
    "                    colors=colors,\n",
    "                    ylim=[0, 75],\n",
    "                    use_colors=use_colors,\n",
    "                    use_limits=False,\n",
    "                    sample_stats=sample_stats, \n",
    "                    add_sources=add_sources, \n",
    "                    swarmplot=swarmplot, \n",
    "                    savefig=savefig, \n",
    "                    filename=\"shifting_duration_ind_SQ\")"
   ]
  },
  {
   "cell_type": "markdown",
   "metadata": {},
   "source": [
    "### regeneration duration"
   ]
  },
  {
   "cell_type": "code",
   "execution_count": null,
   "metadata": {},
   "outputs": [],
   "source": [
    "regeneration_duration_ind_dict, regeneration_duration_ind_df = extract_info(publications_ind_years_dict, cols_dict[\"Regenerationsdauer\"],\n",
    "                                                                            drop=drop, sample_stats=sample_stats, add_sources=add_sources,\n",
    "                                                                            drop_datalack=drop_datalack, modify_categories=modify_categories, \n",
    "                                                                            agg_rule=\"weighted_average\", weights=pot_pos_cols)"
   ]
  },
  {
   "cell_type": "code",
   "execution_count": null,
   "metadata": {},
   "outputs": [],
   "source": [
    "regeneration_duration_ind_years_dict, sources_regeneration_duration_ind_dict = create_info_dict_for_years(regeneration_duration_ind_df, years_dict, \n",
    "                                                                  negate=False, sample_stats=sample_stats, add_sources=add_sources)"
   ]
  },
  {
   "cell_type": "code",
   "execution_count": null,
   "metadata": {},
   "outputs": [],
   "source": [
    "if write_outputs:\n",
    "    save_info_stats(regeneration_duration_ind_years_dict, path_folder_stats, \"regeneration_duration_ind_stats.xlsx\", sample_stats=sample_stats, add_sources=add_sources)"
   ]
  },
  {
   "cell_type": "code",
   "execution_count": null,
   "metadata": {},
   "outputs": [],
   "source": [
    "# Save sources\n",
    "if write_sources:\n",
    "    save_sources(sources_regeneration_duration_ind_dict, path_folder_sources, \"regeneration_duration_ind_sources.xlsx\")"
   ]
  },
  {
   "cell_type": "code",
   "execution_count": null,
   "metadata": {},
   "outputs": [],
   "source": [
    "create_info_boxplot(regeneration_duration_ind_years_dict, \n",
    "                    year=\"SQ\",\n",
    "                    title=\"Regenerierungsdauer (Dauer zwischen zwei Aktivierungen)\",\n",
    "                    ylabel=\"Regenerierungsdauer in h\",\n",
    "                    show_title=False,\n",
    "                    colors=colors,\n",
    "                    ylim=[0, 24],\n",
    "                    use_colors=use_colors,\n",
    "                    use_limits=use_limits,\n",
    "                    sample_stats=sample_stats, \n",
    "                    add_sources=add_sources, \n",
    "                    swarmplot=swarmplot, \n",
    "                    savefig=savefig, \n",
    "                    filename=\"regeneration_duration_ind_SQ\")"
   ]
  },
  {
   "cell_type": "markdown",
   "metadata": {},
   "source": [
    "### maximum activations per year load shifting"
   ]
  },
  {
   "cell_type": "code",
   "execution_count": null,
   "metadata": {},
   "outputs": [],
   "source": [
    "maximum_activations_year_ind_dict, maximum_activations_year_ind_df = extract_info(publications_ind_years_dict, cols_dict[\"maximale Abrufhäufigkeit pro Jahr\"],\n",
    "                                                                                  drop=drop, sample_stats=sample_stats, add_sources=add_sources,\n",
    "                                                                                  drop_datalack=drop_datalack, modify_categories=modify_categories, \n",
    "                                                                                  agg_rule=\"weighted_average\", weights=pot_pos_cols)"
   ]
  },
  {
   "cell_type": "code",
   "execution_count": null,
   "metadata": {},
   "outputs": [],
   "source": [
    "maximum_activations_year_ind_years_dict, sources_maximum_activations_year_ind_dict = create_info_dict_for_years(maximum_activations_year_ind_df, years_dict, \n",
    "                                                                     negate=False, sample_stats=sample_stats, add_sources=add_sources)"
   ]
  },
  {
   "cell_type": "code",
   "execution_count": null,
   "metadata": {},
   "outputs": [],
   "source": [
    "if write_outputs:\n",
    "    save_info_stats(maximum_activations_year_ind_years_dict, path_folder_stats, \"maximum_activations_year_ind_stats.xlsx\", sample_stats=sample_stats, add_sources=add_sources)"
   ]
  },
  {
   "cell_type": "code",
   "execution_count": null,
   "metadata": {},
   "outputs": [],
   "source": [
    "# Save sources\n",
    "if write_sources:\n",
    "    save_sources(sources_maximum_activations_year_ind_dict, path_folder_sources, \"maximum_activations_year_ind_sources.xlsx\")"
   ]
  },
  {
   "cell_type": "code",
   "execution_count": null,
   "metadata": {},
   "outputs": [],
   "source": [
    "create_info_boxplot(maximum_activations_year_ind_years_dict, \n",
    "                    year=\"SQ\",\n",
    "                    title=\"Maximale Aktivierungshäufigkeit pro Jahr\",\n",
    "                    ylabel=\"Anzahl an Aktivierungen in 1/a\",\n",
    "                    show_title=False,\n",
    "                    colors=colors,\n",
    "                    ylim=[0, 10000],\n",
    "                    use_colors=use_colors,\n",
    "                    use_limits=use_limits,\n",
    "                    sample_stats=sample_stats, \n",
    "                    add_sources=add_sources, \n",
    "                    swarmplot=swarmplot, \n",
    "                    savefig=savefig, \n",
    "                    filename=\"maximum_activations_year_ind_SQ\")"
   ]
  },
  {
   "cell_type": "markdown",
   "metadata": {},
   "source": [
    "### maximum activations per year load shedding"
   ]
  },
  {
   "cell_type": "code",
   "execution_count": null,
   "metadata": {},
   "outputs": [],
   "source": [
    "maximum_activations_year_shed_ind_dict, maximum_activations_year_shed_ind_df = extract_info(publications_ind_years_dict, cols_dict[\"maximale Abrufhäufigkeit pro Jahr Lastverzicht\"],\n",
    "                                                                                  drop=drop, sample_stats=sample_stats, add_sources=add_sources,\n",
    "                                                                                  drop_datalack=drop_datalack, modify_categories=modify_categories, \n",
    "                                                                                  agg_rule=\"weighted_average\", weights=pot_pos_cols)"
   ]
  },
  {
   "cell_type": "code",
   "execution_count": null,
   "metadata": {},
   "outputs": [],
   "source": [
    "maximum_activations_year_shed_ind_years_dict, sources_maximum_activations_year_shed_ind_dict = create_info_dict_for_years(maximum_activations_year_shed_ind_df, years_dict, \n",
    "                                                                     negate=False, sample_stats=sample_stats, add_sources=add_sources)"
   ]
  },
  {
   "cell_type": "code",
   "execution_count": null,
   "metadata": {},
   "outputs": [],
   "source": [
    "if write_outputs:\n",
    "    save_info_stats(maximum_activations_year_shed_ind_years_dict, path_folder_stats, \"maximum_activations_year_shed_ind_stats.xlsx\", sample_stats=sample_stats, add_sources=add_sources)"
   ]
  },
  {
   "cell_type": "code",
   "execution_count": null,
   "metadata": {},
   "outputs": [],
   "source": [
    "# Save sources\n",
    "if write_sources:\n",
    "    save_sources(sources_maximum_activations_year_shed_ind_dict, path_folder_sources, \"maximum_activations_year_shed_ind_sources.xlsx\")"
   ]
  },
  {
   "cell_type": "code",
   "execution_count": null,
   "metadata": {},
   "outputs": [],
   "source": [
    "create_info_boxplot(maximum_activations_year_shed_ind_years_dict, \n",
    "                    year=\"SQ\",\n",
    "                    title=\"Maximale Aktivierungshäufigkeit pro Jahr (Lastverzicht)\",\n",
    "                    ylabel=\"Anzahl an Aktivierungen in 1/a\",\n",
    "                    show_title=False,\n",
    "                    colors=colors,\n",
    "                    ylim=[0, 10000],\n",
    "                    use_colors=use_colors,\n",
    "                    use_limits=use_limits,\n",
    "                    sample_stats=sample_stats, \n",
    "                    add_sources=add_sources, \n",
    "                    swarmplot=swarmplot, \n",
    "                    savefig=savefig, \n",
    "                    filename=\"maximum_activations_year_shed_ind_SQ\")"
   ]
  },
  {
   "cell_type": "markdown",
   "metadata": {},
   "source": [
    "## Trade, commerce and services"
   ]
  },
  {
   "cell_type": "markdown",
   "metadata": {},
   "source": [
    "### Activation duration"
   ]
  },
  {
   "cell_type": "code",
   "execution_count": null,
   "metadata": {},
   "outputs": [],
   "source": [
    "activation_duration_tcs_dict, activation_duration_tcs_df = extract_info(publications_tcs_years_dict, cols_dict[\"Aktivierungsdauer\"],\n",
    "                                                                        drop=drop, sample_stats=sample_stats, add_sources=add_sources,\n",
    "                                                                        drop_datalack=drop_datalack, modify_categories=modify_categories, \n",
    "                                                                        agg_rule=\"weighted_average\", weights=pot_pos_cols)"
   ]
  },
  {
   "cell_type": "code",
   "execution_count": null,
   "metadata": {},
   "outputs": [],
   "source": [
    "activation_duration_tcs_years_dict, sources_activation_duration_tcs_dict = create_info_dict_for_years(activation_duration_tcs_df, years_dict, \n",
    "                                                                negate=False, sample_stats=sample_stats, add_sources=add_sources)"
   ]
  },
  {
   "cell_type": "code",
   "execution_count": null,
   "metadata": {},
   "outputs": [],
   "source": [
    "if write_outputs:\n",
    "    save_info_stats(activation_duration_tcs_years_dict, path_folder_stats, \"activation_duration_tcs_stats.xlsx\", sample_stats=sample_stats, add_sources=add_sources)"
   ]
  },
  {
   "cell_type": "code",
   "execution_count": null,
   "metadata": {},
   "outputs": [],
   "source": [
    "# Save sources\n",
    "if write_sources:\n",
    "    save_sources(sources_activation_duration_tcs_dict, path_folder_sources, \"activation_duration_tcs_sources.xlsx\")"
   ]
  },
  {
   "cell_type": "code",
   "execution_count": null,
   "metadata": {},
   "outputs": [],
   "source": [
    "create_info_boxplot(activation_duration_tcs_years_dict, \n",
    "                    year=\"SQ\",\n",
    "                    title=\"Aktivierungsdauer\",\n",
    "                    ylabel=\"Aktivierungsdauer in h\",\n",
    "                    show_title=False,\n",
    "                    colors=colors,\n",
    "                    ylim=[0, 24],\n",
    "                    use_colors=use_colors,\n",
    "                    use_limits=use_limits,\n",
    "                    sample_stats=sample_stats, \n",
    "                    add_sources=add_sources, \n",
    "                    swarmplot=swarmplot, \n",
    "                    savefig=savefig, \n",
    "                    filename=\"activation_duration_tcs_SQ\")"
   ]
  },
  {
   "cell_type": "markdown",
   "metadata": {},
   "source": [
    "### interference duration positive load shifting"
   ]
  },
  {
   "cell_type": "code",
   "execution_count": null,
   "metadata": {},
   "outputs": [],
   "source": [
    "interference_duration_pos_tcs_dict, interference_duration_pos_tcs_df = extract_info(publications_tcs_years_dict, cols_dict[\"Schaltdauer positiv\"],\n",
    "                                                                                    drop=drop, sample_stats=sample_stats, add_sources=add_sources,\n",
    "                                                                                    drop_datalack=drop_datalack, modify_categories=modify_categories, \n",
    "                                                                                    agg_rule=\"weighted_average\", weights=pot_pos_cols)"
   ]
  },
  {
   "cell_type": "code",
   "execution_count": null,
   "metadata": {},
   "outputs": [],
   "source": [
    "interference_duration_pos_tcs_years_dict, sources_interference_duration_pos_tcs_dict = create_info_dict_for_years(interference_duration_pos_tcs_df, years_dict, \n",
    "                                                                      negate=False, sample_stats=sample_stats, add_sources=add_sources)"
   ]
  },
  {
   "cell_type": "code",
   "execution_count": null,
   "metadata": {},
   "outputs": [],
   "source": [
    "if write_outputs:\n",
    "    save_info_stats(interference_duration_pos_tcs_years_dict, path_folder_stats, \"interference_duration_pos_tcs_stats.xlsx\", sample_stats=sample_stats, add_sources=add_sources)"
   ]
  },
  {
   "cell_type": "code",
   "execution_count": null,
   "metadata": {},
   "outputs": [],
   "source": [
    "# Save sources\n",
    "if write_sources:\n",
    "    save_sources(sources_interference_duration_pos_tcs_dict, path_folder_sources, \"interference_duration_pos_tcs_sources.xlsx\")"
   ]
  },
  {
   "cell_type": "code",
   "execution_count": null,
   "metadata": {},
   "outputs": [],
   "source": [
    "create_info_boxplot(interference_duration_pos_tcs_years_dict, \n",
    "                    year=\"SQ\",\n",
    "                    title=\"positive Schaltdauer (Lastreduktion)\",\n",
    "                    ylabel=\"positive Schaltdauer in h\",\n",
    "                    show_title=False,\n",
    "                    colors=colors,\n",
    "                    ylim=[0, 24],\n",
    "                    use_colors=use_colors,\n",
    "                    use_limits=False,\n",
    "                    sample_stats=sample_stats, \n",
    "                    add_sources=add_sources, \n",
    "                    swarmplot=swarmplot, \n",
    "                    savefig=savefig, \n",
    "                    filename=\"interference_duration_pos_tcs_SQ\")"
   ]
  },
  {
   "cell_type": "markdown",
   "metadata": {},
   "source": [
    "### interference duration positive load shedding"
   ]
  },
  {
   "cell_type": "code",
   "execution_count": null,
   "metadata": {},
   "outputs": [],
   "source": [
    "interference_duration_pos_shed_tcs_dict, interference_duration_pos_shed_tcs_df = extract_info(publications_tcs_years_dict, cols_dict[\"Schaltdauer positiv Lastverzicht\"],\n",
    "                                                                                    drop=drop, sample_stats=sample_stats, add_sources=add_sources,\n",
    "                                                                                    drop_datalack=drop_datalack, modify_categories=modify_categories, \n",
    "                                                                                    agg_rule=\"weighted_average\", weights=pot_pos_cols)"
   ]
  },
  {
   "cell_type": "code",
   "execution_count": null,
   "metadata": {},
   "outputs": [],
   "source": [
    "interference_duration_pos_shed_tcs_years_dict, sources_interference_duration_pos_shed_tcs_dict = create_info_dict_for_years(interference_duration_pos_shed_tcs_df, years_dict, \n",
    "                                                                      negate=False, sample_stats=sample_stats, add_sources=add_sources)"
   ]
  },
  {
   "cell_type": "code",
   "execution_count": null,
   "metadata": {},
   "outputs": [],
   "source": [
    "if write_outputs:\n",
    "    save_info_stats(interference_duration_pos_shed_tcs_years_dict, path_folder_stats, \"interference_duration_pos_shed_tcs_stats.xlsx\", sample_stats=sample_stats, add_sources=add_sources)"
   ]
  },
  {
   "cell_type": "code",
   "execution_count": null,
   "metadata": {},
   "outputs": [],
   "source": [
    "# Save sources\n",
    "if write_sources:\n",
    "    save_sources(sources_interference_duration_pos_shed_tcs_dict, path_folder_sources, \"interference_duration_pos_shed_tcs_sources.xlsx\")"
   ]
  },
  {
   "cell_type": "code",
   "execution_count": null,
   "metadata": {},
   "outputs": [],
   "source": [
    "create_info_boxplot(interference_duration_pos_shed_tcs_years_dict, \n",
    "                    year=\"SQ\",\n",
    "                    title=\"positive Schaltdauer (Lastverzicht)\",\n",
    "                    ylabel=\"positive Schaltdauer in h\",\n",
    "                    show_title=False,\n",
    "                    colors=colors,\n",
    "                    ylim=[0, 24],\n",
    "                    use_colors=use_colors,\n",
    "                    use_limits=False,\n",
    "                    sample_stats=sample_stats, \n",
    "                    add_sources=add_sources, \n",
    "                    swarmplot=swarmplot, \n",
    "                    savefig=savefig, \n",
    "                    filename=\"interference_duration_pos_shed_tcs_SQ\")"
   ]
  },
  {
   "cell_type": "markdown",
   "metadata": {},
   "source": [
    "### interference duration negative"
   ]
  },
  {
   "cell_type": "code",
   "execution_count": null,
   "metadata": {},
   "outputs": [],
   "source": [
    "interference_duration_neg_tcs_dict, interference_duration_neg_tcs_df = extract_info(publications_tcs_years_dict, cols_dict[\"Schaltdauer negativ\"],\n",
    "                                                                                    drop=drop, sample_stats=sample_stats, add_sources=add_sources,\n",
    "                                                                                    drop_datalack=drop_datalack, modify_categories=modify_categories, \n",
    "                                                                                    agg_rule=\"weighted_average\", weights=pot_neg_cols)"
   ]
  },
  {
   "cell_type": "code",
   "execution_count": null,
   "metadata": {},
   "outputs": [],
   "source": [
    "interference_duration_neg_tcs_years_dict, sources_interference_duration_neg_tcs_dict = create_info_dict_for_years(interference_duration_neg_tcs_df, years_dict, \n",
    "                                                                      negate=False, sample_stats=sample_stats, add_sources=add_sources)"
   ]
  },
  {
   "cell_type": "code",
   "execution_count": null,
   "metadata": {},
   "outputs": [],
   "source": [
    "if write_outputs:\n",
    "    save_info_stats(interference_duration_neg_tcs_years_dict, path_folder_stats, \"interference_duration_neg_tcs_stats.xlsx\", sample_stats=sample_stats, add_sources=add_sources)"
   ]
  },
  {
   "cell_type": "code",
   "execution_count": null,
   "metadata": {},
   "outputs": [],
   "source": [
    "# Save sources\n",
    "if write_sources:\n",
    "    save_sources(sources_interference_duration_neg_tcs_dict, path_folder_sources, \"interference_duration_neg_tcs_sources.xlsx\")"
   ]
  },
  {
   "cell_type": "code",
   "execution_count": null,
   "metadata": {},
   "outputs": [],
   "source": [
    "create_info_boxplot(interference_duration_neg_tcs_years_dict, \n",
    "                    year=\"SQ\",\n",
    "                    title=\"negative Schaltdauer (Lasterhöhung)\",\n",
    "                    ylabel=\"negative Schaltdauer in h\",\n",
    "                    show_title=False,\n",
    "                    colors=colors,\n",
    "                    ylim=[0, 24],\n",
    "                    use_colors=use_colors,\n",
    "                    use_limits=use_limits,\n",
    "                    sample_stats=sample_stats, \n",
    "                    add_sources=add_sources, \n",
    "                    swarmplot=swarmplot, \n",
    "                    savefig=savefig, \n",
    "                    filename=\"interference_duration_neg_tcs_SQ\")"
   ]
  },
  {
   "cell_type": "markdown",
   "metadata": {},
   "source": [
    "### shifting duration"
   ]
  },
  {
   "cell_type": "code",
   "execution_count": null,
   "metadata": {},
   "outputs": [],
   "source": [
    "shifting_duration_tcs_dict, shifting_duration_tcs_df = extract_info(publications_tcs_years_dict, cols_dict[\"Verschiebedauer\"],\n",
    "                                                                    drop=drop, sample_stats=sample_stats, add_sources=add_sources,\n",
    "                                                                    drop_datalack=drop_datalack, modify_categories=modify_categories, \n",
    "                                                                    agg_rule=\"weighted_average\", weights=pot_neg_cols)"
   ]
  },
  {
   "cell_type": "code",
   "execution_count": null,
   "metadata": {},
   "outputs": [],
   "source": [
    "shifting_duration_tcs_years_dict, sources_shifting_duration_tcs_dict = create_info_dict_for_years(shifting_duration_tcs_df, years_dict, \n",
    "                                                              negate=False, sample_stats=sample_stats, add_sources=add_sources)"
   ]
  },
  {
   "cell_type": "code",
   "execution_count": null,
   "metadata": {},
   "outputs": [],
   "source": [
    "if write_outputs:\n",
    "    save_info_stats(shifting_duration_tcs_years_dict, path_folder_stats, \"shifting_duration_tcs_stats.xlsx\", sample_stats=sample_stats, add_sources=add_sources)"
   ]
  },
  {
   "cell_type": "code",
   "execution_count": null,
   "metadata": {},
   "outputs": [],
   "source": [
    "# Save sources\n",
    "if write_sources:\n",
    "    save_sources(sources_shifting_duration_tcs_dict, path_folder_sources, \"shifting_duration_tcs_sources.xlsx\")"
   ]
  },
  {
   "cell_type": "code",
   "execution_count": null,
   "metadata": {},
   "outputs": [],
   "source": [
    "create_info_boxplot(shifting_duration_tcs_years_dict, \n",
    "                    year=\"SQ\",\n",
    "                    title=\"Verschiebedauer\",\n",
    "                    ylabel=\"Verschiebedauer in h\",\n",
    "                    show_title=False,\n",
    "                    colors=colors,\n",
    "                    ylim=[0, 75],\n",
    "                    use_colors=use_colors,\n",
    "                    use_limits=False,\n",
    "                    sample_stats=sample_stats, \n",
    "                    add_sources=add_sources, \n",
    "                    swarmplot=swarmplot, \n",
    "                    savefig=savefig, \n",
    "                    filename=\"shifting_duration_tcs_SQ\")"
   ]
  },
  {
   "cell_type": "markdown",
   "metadata": {},
   "source": [
    "### regeneration duration"
   ]
  },
  {
   "cell_type": "code",
   "execution_count": null,
   "metadata": {},
   "outputs": [],
   "source": [
    "regeneration_duration_tcs_dict, regeneration_duration_tcs_df = extract_info(publications_tcs_years_dict, cols_dict[\"Regenerationsdauer\"],\n",
    "                                                                            drop=drop, sample_stats=sample_stats, add_sources=add_sources,\n",
    "                                                                            drop_datalack=drop_datalack, modify_categories=modify_categories, \n",
    "                                                                            agg_rule=\"weighted_average\", weights=pot_pos_cols)"
   ]
  },
  {
   "cell_type": "code",
   "execution_count": null,
   "metadata": {},
   "outputs": [],
   "source": [
    "regeneration_duration_tcs_years_dict, sources_regeneration_duration_tcs_dict = create_info_dict_for_years(regeneration_duration_tcs_df, years_dict, \n",
    "                                                                  negate=False, sample_stats=sample_stats, add_sources=add_sources)"
   ]
  },
  {
   "cell_type": "code",
   "execution_count": null,
   "metadata": {},
   "outputs": [],
   "source": [
    "if write_outputs:\n",
    "    save_info_stats(regeneration_duration_tcs_years_dict, path_folder_stats, \"regeneration_duration_tcs_stats.xlsx\", sample_stats=sample_stats, add_sources=add_sources)"
   ]
  },
  {
   "cell_type": "code",
   "execution_count": null,
   "metadata": {},
   "outputs": [],
   "source": [
    "# Save sources\n",
    "if write_sources:\n",
    "    save_sources(sources_regeneration_duration_tcs_dict, path_folder_sources, \"regeneration_duration_tcs_sources.xlsx\")"
   ]
  },
  {
   "cell_type": "code",
   "execution_count": null,
   "metadata": {},
   "outputs": [],
   "source": [
    "create_info_boxplot(regeneration_duration_tcs_years_dict, \n",
    "                    year=\"SQ\",\n",
    "                    title=\"Regenerierungsdauer (Dauer zwischen zwei Aktivierungen)\",\n",
    "                    ylabel=\"Regenerierungsdauer in h\",\n",
    "                    show_title=False,\n",
    "                    colors=colors,\n",
    "                    ylim=[0, 24],\n",
    "                    use_colors=use_colors,\n",
    "                    use_limits=use_limits,\n",
    "                    sample_stats=sample_stats, \n",
    "                    add_sources=add_sources, \n",
    "                    swarmplot=swarmplot, \n",
    "                    savefig=savefig, \n",
    "                    filename=\"regeneration_duration_tcs_SQ\")"
   ]
  },
  {
   "cell_type": "markdown",
   "metadata": {},
   "source": [
    "### maximum activations per year load shifting"
   ]
  },
  {
   "cell_type": "code",
   "execution_count": null,
   "metadata": {},
   "outputs": [],
   "source": [
    "maximum_activations_year_tcs_dict, maximum_activations_year_tcs_df = extract_info(publications_tcs_years_dict, cols_dict[\"maximale Abrufhäufigkeit pro Jahr\"],\n",
    "                                                                                  drop=drop, sample_stats=sample_stats, add_sources=add_sources,\n",
    "                                                                                  drop_datalack=drop_datalack, modify_categories=modify_categories, \n",
    "                                                                                  agg_rule=\"weighted_average\", weights=pot_pos_cols)"
   ]
  },
  {
   "cell_type": "code",
   "execution_count": null,
   "metadata": {},
   "outputs": [],
   "source": [
    "maximum_activations_year_tcs_years_dict, sources_maximum_activations_year_tcs_dict = create_info_dict_for_years(maximum_activations_year_tcs_df, years_dict, \n",
    "                                                                     negate=False, sample_stats=sample_stats, add_sources=add_sources)"
   ]
  },
  {
   "cell_type": "code",
   "execution_count": null,
   "metadata": {},
   "outputs": [],
   "source": [
    "if write_outputs:\n",
    "    save_info_stats(maximum_activations_year_tcs_years_dict, path_folder_stats, \"maximum_activations_year_tcs_stats.xlsx\", sample_stats=sample_stats, add_sources=add_sources)"
   ]
  },
  {
   "cell_type": "code",
   "execution_count": null,
   "metadata": {},
   "outputs": [],
   "source": [
    "# Save sources\n",
    "if write_sources:\n",
    "    save_sources(sources_maximum_activations_year_tcs_dict, path_folder_sources, \"maximum_activations_year_tcs_sources.xlsx\")"
   ]
  },
  {
   "cell_type": "code",
   "execution_count": null,
   "metadata": {},
   "outputs": [],
   "source": [
    "create_info_boxplot(maximum_activations_year_tcs_years_dict, \n",
    "                    year=\"SQ\",\n",
    "                    title=\"Maximale Aktivierungshäufigkeit pro Jahr\",\n",
    "                    ylabel=\"Anzahl an Aktivierungen in 1/a\",\n",
    "                    show_title=False,\n",
    "                    colors=colors,\n",
    "                    ylim=[0, 10000],\n",
    "                    use_colors=use_colors,\n",
    "                    use_limits=use_limits,\n",
    "                    sample_stats=sample_stats, \n",
    "                    add_sources=add_sources, \n",
    "                    swarmplot=swarmplot, \n",
    "                    savefig=savefig, \n",
    "                    filename=\"maximum_activations_year_tcs_SQ\")"
   ]
  },
  {
   "cell_type": "markdown",
   "metadata": {},
   "source": [
    "### maximum activations per year load shedding"
   ]
  },
  {
   "cell_type": "code",
   "execution_count": null,
   "metadata": {},
   "outputs": [],
   "source": [
    "maximum_activations_year_shed_tcs_dict, maximum_activations_year_shed_tcs_df = extract_info(publications_tcs_years_dict, cols_dict[\"maximale Abrufhäufigkeit pro Jahr Lastverzicht\"],\n",
    "                                                                                  drop=drop, sample_stats=sample_stats, add_sources=add_sources,\n",
    "                                                                                  drop_datalack=drop_datalack, modify_categories=modify_categories, \n",
    "                                                                                  agg_rule=\"weighted_average\", weights=pot_pos_cols)"
   ]
  },
  {
   "cell_type": "code",
   "execution_count": null,
   "metadata": {},
   "outputs": [],
   "source": [
    "maximum_activations_year_shed_tcs_years_dict, sources_maximum_activations_year_shed_tcs_dict = create_info_dict_for_years(maximum_activations_year_shed_tcs_df, years_dict, \n",
    "                                                                     negate=False, sample_stats=sample_stats, add_sources=add_sources)"
   ]
  },
  {
   "cell_type": "code",
   "execution_count": null,
   "metadata": {},
   "outputs": [],
   "source": [
    "if write_outputs:\n",
    "    save_info_stats(maximum_activations_year_shed_tcs_years_dict, path_folder_stats, \"maximum_activations_year_shed_tcs_stats.xlsx\", sample_stats=sample_stats, add_sources=add_sources)"
   ]
  },
  {
   "cell_type": "code",
   "execution_count": null,
   "metadata": {},
   "outputs": [],
   "source": [
    "# Save sources\n",
    "if write_sources:\n",
    "    save_sources(sources_maximum_activations_shed_year_tcs_dict, path_folder_sources, \"maximum_activations_year_shed_tcs_sources.xlsx\")"
   ]
  },
  {
   "cell_type": "code",
   "execution_count": null,
   "metadata": {},
   "outputs": [],
   "source": [
    "create_info_boxplot(maximum_activations_year_shed_tcs_years_dict, \n",
    "                    year=\"SQ\",\n",
    "                    title=\"Maximale Aktivierungshäufigkeit pro Jahr (Lastverzicht)\",\n",
    "                    ylabel=\"Anzahl an Aktivierungen in 1/a\",\n",
    "                    show_title=False,\n",
    "                    colors=colors,\n",
    "                    ylim=[0, 10000],\n",
    "                    use_colors=use_colors,\n",
    "                    use_limits=use_limits,\n",
    "                    sample_stats=sample_stats, \n",
    "                    add_sources=add_sources, \n",
    "                    swarmplot=swarmplot, \n",
    "                    savefig=savefig, \n",
    "                    filename=\"maximum_activations_year_shed_tcs_SQ\")"
   ]
  },
  {
   "cell_type": "markdown",
   "metadata": {},
   "source": [
    "## Households"
   ]
  },
  {
   "cell_type": "markdown",
   "metadata": {},
   "source": [
    "### Activation duration"
   ]
  },
  {
   "cell_type": "code",
   "execution_count": null,
   "metadata": {},
   "outputs": [],
   "source": [
    "activation_duration_hoho_dict, activation_duration_hoho_df = extract_info(publications_hoho_years_dict, cols_dict[\"Aktivierungsdauer\"],\n",
    "                                                                          drop=drop, sample_stats=sample_stats, add_sources=add_sources,\n",
    "                                                                          drop_datalack=drop_datalack, modify_categories=modify_categories, \n",
    "                                                                          agg_rule=\"weighted_average\", weights=pot_pos_cols)"
   ]
  },
  {
   "cell_type": "code",
   "execution_count": null,
   "metadata": {},
   "outputs": [],
   "source": [
    "activation_duration_hoho_years_dict, sources_activation_duration_hoho_dict = create_info_dict_for_years(activation_duration_hoho_df, years_dict, \n",
    "                                                                 negate=False, sample_stats=sample_stats, add_sources=add_sources)"
   ]
  },
  {
   "cell_type": "code",
   "execution_count": null,
   "metadata": {},
   "outputs": [],
   "source": [
    "if write_outputs:\n",
    "    save_info_stats(activation_duration_hoho_years_dict, path_folder_stats, \"activation_duration_hoho_stats.xlsx\", sample_stats=sample_stats, add_sources=add_sources)"
   ]
  },
  {
   "cell_type": "code",
   "execution_count": null,
   "metadata": {},
   "outputs": [],
   "source": [
    "# Save sources\n",
    "if write_sources:\n",
    "    save_sources(sources_activation_duration_hoho_dict, path_folder_sources, \"activation_duration_hoho_sources.xlsx\")"
   ]
  },
  {
   "cell_type": "code",
   "execution_count": null,
   "metadata": {},
   "outputs": [],
   "source": [
    "create_info_boxplot(activation_duration_hoho_years_dict, \n",
    "                    year=\"SQ\",\n",
    "                    title=\"Aktivierungsdauer\",\n",
    "                    ylabel=\"Aktivierungsdauer in h\",\n",
    "                    show_title=False,\n",
    "                    colors=colors,\n",
    "                    ylim=[0, 24],\n",
    "                    use_colors=use_colors,\n",
    "                    use_limits=use_limits,\n",
    "                    sample_stats=sample_stats, \n",
    "                    add_sources=add_sources, \n",
    "                    swarmplot=swarmplot, \n",
    "                    savefig=savefig, \n",
    "                    filename=\"activation_duration_hoho_SQ\")"
   ]
  },
  {
   "cell_type": "markdown",
   "metadata": {},
   "source": [
    "### interference duration positive load shifting"
   ]
  },
  {
   "cell_type": "code",
   "execution_count": null,
   "metadata": {},
   "outputs": [],
   "source": [
    "interference_duration_pos_hoho_dict, interference_duration_pos_hoho_df = extract_info(publications_hoho_years_dict, cols_dict[\"Schaltdauer positiv\"],\n",
    "                                                                                      drop=drop, sample_stats=sample_stats, add_sources=add_sources,\n",
    "                                                                                      drop_datalack=drop_datalack, modify_categories=modify_categories, \n",
    "                                                                                      agg_rule=\"weighted_average\", weights=pot_pos_cols)"
   ]
  },
  {
   "cell_type": "code",
   "execution_count": null,
   "metadata": {},
   "outputs": [],
   "source": [
    "interference_duration_pos_hoho_years_dict, sources_interference_duration_pos_hoho_dict = create_info_dict_for_years(interference_duration_pos_hoho_df, years_dict, \n",
    "                                                                       negate=False, sample_stats=sample_stats, add_sources=add_sources)"
   ]
  },
  {
   "cell_type": "code",
   "execution_count": null,
   "metadata": {},
   "outputs": [],
   "source": [
    "if write_outputs:\n",
    "    save_info_stats(interference_duration_pos_hoho_years_dict, path_folder_stats, \"interference_duration_pos_hoho_stats.xlsx\", sample_stats=sample_stats, add_sources=add_sources)"
   ]
  },
  {
   "cell_type": "code",
   "execution_count": null,
   "metadata": {},
   "outputs": [],
   "source": [
    "# Save sources\n",
    "if write_sources:\n",
    "    save_sources(sources_interference_duration_pos_hoho_dict, path_folder_sources, \"interference_duration_pos_hoho_sources.xlsx\")"
   ]
  },
  {
   "cell_type": "code",
   "execution_count": null,
   "metadata": {},
   "outputs": [],
   "source": [
    "create_info_boxplot(interference_duration_pos_hoho_years_dict, \n",
    "                    year=\"SQ\",\n",
    "                    title=\"positive Schaltdauer (Lastreduktion)\",\n",
    "                    ylabel=\"positive Schaltdauer in h\",\n",
    "                    show_title=False,\n",
    "                    colors=colors,\n",
    "                    ylim=[0, 24],\n",
    "                    use_colors=use_colors,\n",
    "                    use_limits=False,\n",
    "                    sample_stats=sample_stats, \n",
    "                    add_sources=add_sources, \n",
    "                    swarmplot=swarmplot, \n",
    "                    savefig=savefig, \n",
    "                    filename=\"interference_duration_pos_hoho_SQ\")"
   ]
  },
  {
   "cell_type": "markdown",
   "metadata": {},
   "source": [
    "### interference duration positive load shedding"
   ]
  },
  {
   "cell_type": "code",
   "execution_count": null,
   "metadata": {},
   "outputs": [],
   "source": [
    "interference_duration_pos_shed_hoho_dict, interference_duration_pos_shed_hoho_df = extract_info(publications_hoho_years_dict, cols_dict[\"Schaltdauer positiv Lastverzicht\"],\n",
    "                                                                                      drop=drop, sample_stats=sample_stats, add_sources=add_sources,\n",
    "                                                                                      drop_datalack=drop_datalack, modify_categories=modify_categories, \n",
    "                                                                                      agg_rule=\"weighted_average\", weights=pot_pos_cols)"
   ]
  },
  {
   "cell_type": "code",
   "execution_count": null,
   "metadata": {},
   "outputs": [],
   "source": [
    "interference_duration_pos_shed_hoho_years_dict, sources_interference_duration_pos_shed_hoho_dict = create_info_dict_for_years(interference_duration_pos_shed_hoho_df, years_dict, \n",
    "                                                                       negate=False, sample_stats=sample_stats, add_sources=add_sources)"
   ]
  },
  {
   "cell_type": "code",
   "execution_count": null,
   "metadata": {},
   "outputs": [],
   "source": [
    "if write_outputs:\n",
    "    save_info_stats(interference_duration_pos_shed_hoho_years_dict, path_folder_stats, \"interference_duration_pos_shed_hoho_stats.xlsx\", sample_stats=sample_stats, add_sources=add_sources)"
   ]
  },
  {
   "cell_type": "code",
   "execution_count": null,
   "metadata": {},
   "outputs": [],
   "source": [
    "# Save sources\n",
    "if write_sources:\n",
    "    save_sources(sources_interference_duration_pos_shed_hoho_dict, path_folder_sources, \"interference_duration_pos_shed_hoho_sources.xlsx\")"
   ]
  },
  {
   "cell_type": "code",
   "execution_count": null,
   "metadata": {},
   "outputs": [],
   "source": [
    "create_info_boxplot(interference_duration_pos_shed_hoho_years_dict, \n",
    "                    year=\"SQ\",\n",
    "                    title=\"positive Schaltdauer (Lastverzicht)\",\n",
    "                    ylabel=\"positive Schaltdauer in h\",\n",
    "                    show_title=False,\n",
    "                    colors=colors,\n",
    "                    ylim=[0, 24],\n",
    "                    use_colors=use_colors,\n",
    "                    use_limits=False,\n",
    "                    sample_stats=sample_stats, \n",
    "                    add_sources=add_sources, \n",
    "                    swarmplot=swarmplot, \n",
    "                    savefig=savefig, \n",
    "                    filename=\"interference_duration_pos_shed_hoho_SQ\")"
   ]
  },
  {
   "cell_type": "markdown",
   "metadata": {},
   "source": [
    "### interference duration negative"
   ]
  },
  {
   "cell_type": "code",
   "execution_count": null,
   "metadata": {},
   "outputs": [],
   "source": [
    "interference_duration_neg_hoho_dict, interference_duration_neg_hoho_df = extract_info(publications_hoho_years_dict, cols_dict[\"Schaltdauer negativ\"],\n",
    "                                                                                      drop=drop, sample_stats=sample_stats, add_sources=add_sources,\n",
    "                                                                                      drop_datalack=drop_datalack, modify_categories=modify_categories, \n",
    "                                                                                      agg_rule=\"weighted_average\", weights=pot_neg_cols)"
   ]
  },
  {
   "cell_type": "code",
   "execution_count": null,
   "metadata": {},
   "outputs": [],
   "source": [
    "interference_duration_neg_hoho_years_dict, sources_interference_duration_neg_hoho_dict = create_info_dict_for_years(interference_duration_neg_hoho_df, years_dict, \n",
    "                                                                       negate=False, sample_stats=sample_stats, add_sources=add_sources)"
   ]
  },
  {
   "cell_type": "code",
   "execution_count": null,
   "metadata": {},
   "outputs": [],
   "source": [
    "if write_outputs:\n",
    "    save_info_stats(interference_duration_neg_hoho_years_dict, path_folder_stats, \"interference_duration_neg_hoho_stats.xlsx\", sample_stats=sample_stats, add_sources=add_sources)"
   ]
  },
  {
   "cell_type": "code",
   "execution_count": null,
   "metadata": {},
   "outputs": [],
   "source": [
    "# Save sources\n",
    "if write_sources:\n",
    "    save_sources(sources_interference_duration_neg_hoho_dict, path_folder_sources, \"interference_duration_neg_hoho_sources.xlsx\")"
   ]
  },
  {
   "cell_type": "code",
   "execution_count": null,
   "metadata": {},
   "outputs": [],
   "source": [
    "create_info_boxplot(interference_duration_neg_hoho_years_dict, \n",
    "                    year=\"SQ\",\n",
    "                    title=\"negative Schaltdauer (Lasterhöhung)\",\n",
    "                    ylabel=\"negative Schaltdauer in h\",\n",
    "                    show_title=False,\n",
    "                    colors=colors,\n",
    "                    ylim=[0, 24],\n",
    "                    use_colors=use_colors,\n",
    "                    use_limits=False,\n",
    "                    sample_stats=sample_stats, \n",
    "                    add_sources=add_sources, \n",
    "                    swarmplot=swarmplot, \n",
    "                    savefig=savefig, \n",
    "                    filename=\"interference_duration_neg_hoho_SQ\")"
   ]
  },
  {
   "cell_type": "markdown",
   "metadata": {},
   "source": [
    "### shifting duration"
   ]
  },
  {
   "cell_type": "code",
   "execution_count": null,
   "metadata": {},
   "outputs": [],
   "source": [
    "shifting_duration_hoho_dict, shifting_duration_hoho_df = extract_info(publications_hoho_years_dict, cols_dict[\"Verschiebedauer\"],\n",
    "                                                                      drop=drop, sample_stats=sample_stats, add_sources=add_sources,\n",
    "                                                                      drop_datalack=drop_datalack, modify_categories=modify_categories, \n",
    "                                                                      agg_rule=\"weighted_average\", weights=pot_neg_cols)"
   ]
  },
  {
   "cell_type": "code",
   "execution_count": null,
   "metadata": {},
   "outputs": [],
   "source": [
    "shifting_duration_hoho_years_dict, sources_shifting_duration_hoho_dict = create_info_dict_for_years(shifting_duration_hoho_df, years_dict, \n",
    "                                                               negate=False, sample_stats=sample_stats, add_sources=add_sources)"
   ]
  },
  {
   "cell_type": "code",
   "execution_count": null,
   "metadata": {},
   "outputs": [],
   "source": [
    "if write_outputs:\n",
    "    save_info_stats(shifting_duration_hoho_years_dict, path_folder_stats, \"shifting_duration_hoho_stats.xlsx\", sample_stats=sample_stats, add_sources=add_sources)"
   ]
  },
  {
   "cell_type": "code",
   "execution_count": null,
   "metadata": {},
   "outputs": [],
   "source": [
    "# Save sources\n",
    "if write_sources:\n",
    "    save_sources(sources_shifting_duration_hoho_dict, path_folder_sources, \"shifting_duration_hoho_sources.xlsx\")"
   ]
  },
  {
   "cell_type": "code",
   "execution_count": null,
   "metadata": {},
   "outputs": [],
   "source": [
    "create_info_boxplot(shifting_duration_hoho_years_dict, \n",
    "                    year=\"SQ\",\n",
    "                    title=\"Verschiebedauer\",\n",
    "                    ylabel=\"Verschiebedauer in h\",\n",
    "                    show_title=False,\n",
    "                    colors=colors,\n",
    "                    ylim=[0, 75],\n",
    "                    use_colors=use_colors,\n",
    "                    use_limits=False,\n",
    "                    sample_stats=sample_stats, \n",
    "                    add_sources=add_sources, \n",
    "                    swarmplot=swarmplot, \n",
    "                    savefig=savefig, \n",
    "                    filename=\"shifting_duration_hoho_SQ\")"
   ]
  },
  {
   "cell_type": "markdown",
   "metadata": {},
   "source": [
    "### regeneration duration"
   ]
  },
  {
   "cell_type": "code",
   "execution_count": null,
   "metadata": {},
   "outputs": [],
   "source": [
    "regeneration_duration_hoho_dict, regeneration_duration_hoho_df = extract_info(publications_hoho_years_dict, cols_dict[\"Regenerationsdauer\"],\n",
    "                                                                              drop=drop, sample_stats=sample_stats, add_sources=add_sources,\n",
    "                                                                              drop_datalack=drop_datalack, modify_categories=modify_categories, \n",
    "                                                                              agg_rule=\"weighted_average\", weights=pot_pos_cols)"
   ]
  },
  {
   "cell_type": "code",
   "execution_count": null,
   "metadata": {},
   "outputs": [],
   "source": [
    "regeneration_duration_hoho_years_dict, sources_regeneration_duration_hoho_dict = create_info_dict_for_years(regeneration_duration_hoho_df, years_dict, \n",
    "                                                                   negate=False, sample_stats=sample_stats, add_sources=add_sources)"
   ]
  },
  {
   "cell_type": "code",
   "execution_count": null,
   "metadata": {},
   "outputs": [],
   "source": [
    "if write_outputs:\n",
    "    save_info_stats(regeneration_duration_hoho_years_dict, path_folder_stats, \"regeneration_duration_hoho_stats.xlsx\", sample_stats=sample_stats, add_sources=add_sources)"
   ]
  },
  {
   "cell_type": "code",
   "execution_count": null,
   "metadata": {},
   "outputs": [],
   "source": [
    "# Save sources\n",
    "if write_sources:\n",
    "    save_sources(sources_regeneration_duration_hoho_dict, path_folder_sources, \"regeneration_duration_hoho_sources.xlsx\")"
   ]
  },
  {
   "cell_type": "code",
   "execution_count": null,
   "metadata": {},
   "outputs": [],
   "source": [
    "create_info_boxplot(regeneration_duration_hoho_years_dict, \n",
    "                    year=\"SQ\",\n",
    "                    title=\"Regenerierungsdauer (Dauer zwischen zwei Aktivierungen)\",\n",
    "                    ylabel=\"Regenerierungsdauer in h\",\n",
    "                    show_title=False,\n",
    "                    colors=colors,\n",
    "                    ylim=[0, 24],\n",
    "                    use_colors=use_colors,\n",
    "                    use_limits=use_limits,\n",
    "                    sample_stats=sample_stats, \n",
    "                    add_sources=add_sources, \n",
    "                    swarmplot=swarmplot, \n",
    "                    savefig=savefig, \n",
    "                    filename=\"regeneration_duration_hoho_SQ\")"
   ]
  },
  {
   "cell_type": "markdown",
   "metadata": {},
   "source": [
    "### maximum activations per year load shifting"
   ]
  },
  {
   "cell_type": "code",
   "execution_count": null,
   "metadata": {},
   "outputs": [],
   "source": [
    "maximum_activations_year_hoho_dict, maximum_activations_year_hoho_df = extract_info(publications_hoho_years_dict, cols_dict[\"maximale Abrufhäufigkeit pro Jahr\"],\n",
    "                                                                                    drop=drop, sample_stats=sample_stats, add_sources=add_sources,\n",
    "                                                                                    drop_datalack=drop_datalack, modify_categories=modify_categories, \n",
    "                                                                                    agg_rule=\"weighted_average\", weights=pot_pos_cols)"
   ]
  },
  {
   "cell_type": "code",
   "execution_count": null,
   "metadata": {},
   "outputs": [],
   "source": [
    "maximum_activations_year_hoho_years_dict, sources_maximum_activations_year_hoho_dict = create_info_dict_for_years(maximum_activations_year_hoho_df, years_dict, \n",
    "                                                                      negate=False, sample_stats=sample_stats, add_sources=add_sources)"
   ]
  },
  {
   "cell_type": "code",
   "execution_count": null,
   "metadata": {},
   "outputs": [],
   "source": [
    "if write_outputs:\n",
    "    save_info_stats(maximum_activations_year_hoho_years_dict, path_folder_stats, \"maximum_activations_year_hoho_stats.xlsx\", sample_stats=sample_stats, add_sources=add_sources)"
   ]
  },
  {
   "cell_type": "code",
   "execution_count": null,
   "metadata": {},
   "outputs": [],
   "source": [
    "# Save sources\n",
    "if write_sources:\n",
    "    save_sources(sources_maximum_activations_year_hoho_dict, path_folder_sources, \"maximum_activations_year_hoho_sources.xlsx\")"
   ]
  },
  {
   "cell_type": "code",
   "execution_count": null,
   "metadata": {},
   "outputs": [],
   "source": [
    "create_info_boxplot(maximum_activations_year_hoho_years_dict, \n",
    "                    year=\"SQ\",\n",
    "                    title=\"Maximale Aktivierungshäufigkeit pro Jahr\",\n",
    "                    ylabel=\"Anzahl an Aktivierungen in 1/a\",\n",
    "                    show_title=False,\n",
    "                    colors=colors,\n",
    "                    ylim=[0, 10000],\n",
    "                    use_colors=use_colors,\n",
    "                    use_limits=use_limits,\n",
    "                    sample_stats=sample_stats, \n",
    "                    add_sources=add_sources, \n",
    "                    swarmplot=swarmplot, \n",
    "                    savefig=savefig, \n",
    "                    filename=\"maximum_activations_year_hoho_SQ\")"
   ]
  },
  {
   "cell_type": "markdown",
   "metadata": {},
   "source": [
    "### maximum activations per year load shedding"
   ]
  },
  {
   "cell_type": "code",
   "execution_count": null,
   "metadata": {},
   "outputs": [],
   "source": [
    "maximum_activations_year_shed_hoho_dict, maximum_activations_year_shed_hoho_df = extract_info(publications_hoho_years_dict, cols_dict[\"maximale Abrufhäufigkeit pro Jahr Lastverzicht\"],\n",
    "                                                                                    drop=drop, sample_stats=sample_stats, add_sources=add_sources,\n",
    "                                                                                    drop_datalack=drop_datalack, modify_categories=modify_categories, \n",
    "                                                                                    agg_rule=\"weighted_average\", weights=pot_pos_cols)"
   ]
  },
  {
   "cell_type": "code",
   "execution_count": null,
   "metadata": {},
   "outputs": [],
   "source": [
    "maximum_activations_year_shed_hoho_years_dict, sources_maximum_activations_year_shed_hoho_dict = create_info_dict_for_years(maximum_activations_year_shed_hoho_df, years_dict, \n",
    "                                                                      negate=False, sample_stats=sample_stats, add_sources=add_sources)"
   ]
  },
  {
   "cell_type": "code",
   "execution_count": null,
   "metadata": {},
   "outputs": [],
   "source": [
    "if write_outputs:\n",
    "    save_info_stats(maximum_activations_year_shed_hoho_years_dict, path_folder_stats, \"maximum_activations_year_shed_hoho_stats.xlsx\", sample_stats=sample_stats, add_sources=add_sources)"
   ]
  },
  {
   "cell_type": "code",
   "execution_count": null,
   "metadata": {},
   "outputs": [],
   "source": [
    "# Save sources\n",
    "if write_sources:\n",
    "    save_sources(sources_maximum_activations_year_shed_hoho_dict, path_folder_sources, \"maximum_activations_year_shed_hoho_sources.xlsx\")"
   ]
  },
  {
   "cell_type": "code",
   "execution_count": null,
   "metadata": {},
   "outputs": [],
   "source": [
    "create_info_boxplot(maximum_activations_year_shed_hoho_years_dict, \n",
    "                    year=\"SQ\",\n",
    "                    title=\"Maximale Aktivierungshäufigkeit pro Jahr (Lastverzicht)\",\n",
    "                    ylabel=\"Anzahl an Aktivierungen in 1/a\",\n",
    "                    show_title=False,\n",
    "                    colors=colors,\n",
    "                    ylim=[0, 10000],\n",
    "                    use_colors=use_colors,\n",
    "                    use_limits=use_limits,\n",
    "                    sample_stats=sample_stats, \n",
    "                    add_sources=add_sources, \n",
    "                    swarmplot=swarmplot, \n",
    "                    savefig=savefig, \n",
    "                    filename=\"maximum_activations_year_shed_hoho_SQ\")"
   ]
  },
  {
   "cell_type": "markdown",
   "metadata": {},
   "source": [
    "# Cost-related parameters\n",
    "In the following, all cost-related demand response parameters are evaluated. These comprise\n",
    "* specific investments (in $€_{2018}/kW$),\n",
    "* variable costs (in $€_{2018}/MWh$) as well as\n",
    "* fixed costs (in $€_{2018}/kW$).\n",
    "\n",
    "The evaluation is carried out per process / appliance for a given sector and year."
   ]
  },
  {
   "cell_type": "markdown",
   "metadata": {},
   "source": [
    "## Industry"
   ]
  },
  {
   "cell_type": "markdown",
   "metadata": {},
   "source": [
    "### Specific investments"
   ]
  },
  {
   "cell_type": "code",
   "execution_count": null,
   "metadata": {},
   "outputs": [],
   "source": [
    "specific_investments_ind_dict, specific_investments_ind_df = extract_info(publications_ind_years_dict, cols_dict[\"Investitionsausgaben\"],\n",
    "                                                                          drop=drop, sample_stats=sample_stats, add_sources=add_sources,\n",
    "                                                                          drop_datalack=drop_datalack, modify_categories=modify_categories, \n",
    "                                                                          agg_rule=\"weighted_average\", weights=pot_pos_cols)"
   ]
  },
  {
   "cell_type": "code",
   "execution_count": null,
   "metadata": {},
   "outputs": [],
   "source": [
    "specific_investments_ind_years_dict, sources_specific_investments_ind_dict = create_info_dict_for_years(specific_investments_ind_df, years_dict, \n",
    "                                                                 negate=False, sample_stats=sample_stats, add_sources=add_sources)"
   ]
  },
  {
   "cell_type": "code",
   "execution_count": null,
   "metadata": {},
   "outputs": [],
   "source": [
    "if write_outputs:\n",
    "    save_info_stats(specific_investments_ind_years_dict, path_folder_stats, \"specific_investments_ind_stats.xlsx\", sample_stats=sample_stats, add_sources=add_sources)"
   ]
  },
  {
   "cell_type": "code",
   "execution_count": null,
   "metadata": {},
   "outputs": [],
   "source": [
    "# Save sources\n",
    "if write_sources:\n",
    "    save_sources(sources_specific_investments_ind_dict, path_folder_sources, \"specific_investments_ind_sources.xlsx\")"
   ]
  },
  {
   "cell_type": "code",
   "execution_count": null,
   "metadata": {},
   "outputs": [],
   "source": [
    "create_info_boxplot(specific_investments_ind_years_dict, \n",
    "                    year=\"SQ\",\n",
    "                    title=\"Spezifische Investitionsausgaben\",\n",
    "                    ylabel=\"spezifische Investitionsausgaben in €_2018/kW\",\n",
    "                    show_title=False,\n",
    "                    colors=colors,\n",
    "                    ylim=[0, 2000],\n",
    "                    use_colors=use_colors,\n",
    "                    use_limits=False,\n",
    "                    sample_stats=sample_stats, \n",
    "                    add_sources=add_sources, \n",
    "                    swarmplot=swarmplot, \n",
    "                    savefig=savefig, \n",
    "                    filename=\"specific_investments_ind_SQ\")"
   ]
  },
  {
   "cell_type": "markdown",
   "metadata": {},
   "source": [
    "### variable costs load shifting"
   ]
  },
  {
   "cell_type": "code",
   "execution_count": null,
   "metadata": {},
   "outputs": [],
   "source": [
    "variable_costs_ind_dict, variable_costs_ind_df = extract_info(publications_ind_years_dict, cols_dict[\"variable Kosten\"],\n",
    "                                                              drop=drop, sample_stats=sample_stats, add_sources=add_sources,\n",
    "                                                              drop_datalack=drop_datalack, modify_categories=modify_categories, \n",
    "                                                              agg_rule=\"weighted_average\", weights=pot_pos_cols)"
   ]
  },
  {
   "cell_type": "code",
   "execution_count": null,
   "metadata": {},
   "outputs": [],
   "source": [
    "variable_costs_ind_years_dict, sources_variable_costs_ind_dict = create_info_dict_for_years(variable_costs_ind_df, years_dict, \n",
    "                                                           negate=False, sample_stats=sample_stats, add_sources=add_sources)"
   ]
  },
  {
   "cell_type": "code",
   "execution_count": null,
   "metadata": {},
   "outputs": [],
   "source": [
    "if write_outputs:\n",
    "    save_info_stats(variable_costs_ind_years_dict, path_folder_stats, \"variable_costs_ind_stats.xlsx\", sample_stats=sample_stats, add_sources=add_sources)"
   ]
  },
  {
   "cell_type": "code",
   "execution_count": null,
   "metadata": {},
   "outputs": [],
   "source": [
    "# Save sources\n",
    "if write_sources:\n",
    "    save_sources(sources_variable_costs_ind_dict, path_folder_sources, \"variable_costs_ind_sources.xlsx\")"
   ]
  },
  {
   "cell_type": "code",
   "execution_count": null,
   "metadata": {},
   "outputs": [],
   "source": [
    "create_info_boxplot(variable_costs_ind_years_dict, \n",
    "                    year=\"SQ\",\n",
    "                    title=\"Variable Kosten\",\n",
    "                    ylabel=\"variable Kosten in €_2018/MWh\",\n",
    "                    show_title=False,\n",
    "                    colors=colors,\n",
    "                    ylim=[0, 3000],\n",
    "                    use_colors=use_colors,\n",
    "                    use_limits=False,\n",
    "                    sample_stats=sample_stats, \n",
    "                    add_sources=add_sources, \n",
    "                    swarmplot=swarmplot, \n",
    "                    savefig=savefig, \n",
    "                    filename=\"variable_costs_ind_SQ\")"
   ]
  },
  {
   "cell_type": "code",
   "execution_count": null,
   "metadata": {},
   "outputs": [],
   "source": [
    "variable_costs_ind_years_dict"
   ]
  },
  {
   "cell_type": "markdown",
   "metadata": {},
   "source": [
    "### variable costs load shedding"
   ]
  },
  {
   "cell_type": "code",
   "execution_count": null,
   "metadata": {},
   "outputs": [],
   "source": [
    "variable_costs_ind_dict, variable_costs_ind_df = extract_info(publications_ind_years_dict, cols_dict[\"variable Kosten Lastverzicht\"],\n",
    "                                                              drop=drop, sample_stats=sample_stats, add_sources=add_sources,\n",
    "                                                              drop_datalack=drop_datalack, modify_categories=modify_categories, \n",
    "                                                              agg_rule=\"weighted_average\", weights=pot_pos_cols)"
   ]
  },
  {
   "cell_type": "code",
   "execution_count": null,
   "metadata": {},
   "outputs": [],
   "source": [
    "variable_costs_ind_years_dict, sources_variable_costs_ind_dict = create_info_dict_for_years(variable_costs_ind_df, years_dict, \n",
    "                                                           negate=False, sample_stats=sample_stats, add_sources=add_sources)"
   ]
  },
  {
   "cell_type": "code",
   "execution_count": null,
   "metadata": {},
   "outputs": [],
   "source": [
    "if write_outputs:\n",
    "    save_info_stats(variable_costs_ind_years_dict, path_folder_stats, \"variable_costs_shedding_ind_stats.xlsx\", sample_stats=sample_stats, add_sources=add_sources)"
   ]
  },
  {
   "cell_type": "code",
   "execution_count": null,
   "metadata": {},
   "outputs": [],
   "source": [
    "# Save sources\n",
    "if write_sources:\n",
    "    save_sources(sources_variable_costs_ind_dict, path_folder_sources, \"variable_costs_ind_shedding_sources.xlsx\")"
   ]
  },
  {
   "cell_type": "code",
   "execution_count": null,
   "metadata": {},
   "outputs": [],
   "source": [
    "create_info_boxplot(variable_costs_ind_years_dict, \n",
    "                    year=\"SQ\",\n",
    "                    title=\"Variable Kosten Lastverzicht\",\n",
    "                    ylabel=\"variable Kosten in €_2018/MWh\",\n",
    "                    show_title=False,\n",
    "                    colors=colors,\n",
    "                    ylim=[0, 3000],\n",
    "                    use_colors=use_colors,\n",
    "                    use_limits=False,\n",
    "                    sample_stats=sample_stats, \n",
    "                    add_sources=add_sources, \n",
    "                    swarmplot=swarmplot, \n",
    "                    savefig=savefig, \n",
    "                    filename=\"variable_costs_shedding_ind_SQ\")"
   ]
  },
  {
   "cell_type": "markdown",
   "metadata": {},
   "source": [
    "### fixed costs"
   ]
  },
  {
   "cell_type": "code",
   "execution_count": null,
   "metadata": {},
   "outputs": [],
   "source": [
    "fixed_costs_ind_dict, fixed_costs_ind_df = extract_info(publications_ind_years_dict, cols_dict[\"fixe Kosten\"],\n",
    "                                                        drop=drop, sample_stats=sample_stats, add_sources=add_sources,\n",
    "                                                        drop_datalack=drop_datalack, modify_categories=modify_categories, \n",
    "                                                        agg_rule=\"weighted_average\", weights=pot_pos_cols)"
   ]
  },
  {
   "cell_type": "code",
   "execution_count": null,
   "metadata": {},
   "outputs": [],
   "source": [
    "fixed_costs_ind_years_dict, sources_fixed_costs_ind_dict = create_info_dict_for_years(fixed_costs_ind_df, years_dict, \n",
    "                                                        negate=False, sample_stats=sample_stats, add_sources=add_sources)"
   ]
  },
  {
   "cell_type": "code",
   "execution_count": null,
   "metadata": {},
   "outputs": [],
   "source": [
    "if write_outputs:\n",
    "    save_info_stats(fixed_costs_ind_years_dict, path_folder_stats, \"fixed_costs_ind_stats.xlsx\", sample_stats=sample_stats, add_sources=add_sources)"
   ]
  },
  {
   "cell_type": "code",
   "execution_count": null,
   "metadata": {},
   "outputs": [],
   "source": [
    "# Save sources\n",
    "if write_sources:\n",
    "    save_sources(sources_fixed_costs_ind_dict, path_folder_sources, \"fixed_costs_ind_sources.xlsx\")"
   ]
  },
  {
   "cell_type": "code",
   "execution_count": null,
   "metadata": {},
   "outputs": [],
   "source": [
    "create_info_boxplot(fixed_costs_ind_years_dict, \n",
    "                    year=\"SQ\",\n",
    "                    title=\"Fixe Kosten\",\n",
    "                    ylabel=\"fixe Kosten in €_2018/kW*a\",\n",
    "                    show_title=False,\n",
    "                    colors=colors,\n",
    "                    ylim=[0, 24],\n",
    "                    use_colors=use_colors,\n",
    "                    use_limits=use_limits,\n",
    "                    sample_stats=sample_stats, \n",
    "                    add_sources=add_sources, \n",
    "                    swarmplot=swarmplot, \n",
    "                    savefig=savefig, \n",
    "                    filename=\"fixed_costs_ind_SQ\")"
   ]
  },
  {
   "cell_type": "markdown",
   "metadata": {},
   "source": [
    "## Trade, commerce and services"
   ]
  },
  {
   "cell_type": "markdown",
   "metadata": {},
   "source": [
    "### Specific investments"
   ]
  },
  {
   "cell_type": "code",
   "execution_count": null,
   "metadata": {},
   "outputs": [],
   "source": [
    "specific_investments_tcs_dict, specific_investments_tcs_df = extract_info(publications_tcs_years_dict, cols_dict[\"Investitionsausgaben\"],\n",
    "                                                                          drop=drop, sample_stats=sample_stats, add_sources=add_sources,\n",
    "                                                                          drop_datalack=drop_datalack, modify_categories=modify_categories, \n",
    "                                                                          agg_rule=\"weighted_average\", weights=pot_pos_cols)"
   ]
  },
  {
   "cell_type": "code",
   "execution_count": null,
   "metadata": {},
   "outputs": [],
   "source": [
    "specific_investments_tcs_years_dict, sources_specific_investments_tcs_dict = create_info_dict_for_years(specific_investments_tcs_df, years_dict, \n",
    "                                                                 negate=False, sample_stats=sample_stats, add_sources=add_sources)"
   ]
  },
  {
   "cell_type": "code",
   "execution_count": null,
   "metadata": {},
   "outputs": [],
   "source": [
    "if write_outputs:\n",
    "    save_info_stats(specific_investments_tcs_years_dict, path_folder_stats, \"specific_investments_tcs_stats.xlsx\", sample_stats=sample_stats, add_sources=add_sources)"
   ]
  },
  {
   "cell_type": "code",
   "execution_count": null,
   "metadata": {},
   "outputs": [],
   "source": [
    "# Save sources\n",
    "if write_sources:\n",
    "    save_sources(sources_specific_investments_tcs_dict, path_folder_sources, \"specific_investments_tcs_sources.xlsx\")"
   ]
  },
  {
   "cell_type": "code",
   "execution_count": null,
   "metadata": {},
   "outputs": [],
   "source": [
    "create_info_boxplot(specific_investments_tcs_years_dict, \n",
    "                    year=\"SQ\",\n",
    "                    title=\"Spezifische Investitionsausgaben\",\n",
    "                    ylabel=\"spezifische Investitionsausgaben in €_2018/kW\",\n",
    "                    show_title=False,\n",
    "                    colors=colors,\n",
    "                    ylim=[0, 2000],\n",
    "                    use_colors=use_colors,\n",
    "                    use_limits=False,\n",
    "                    sample_stats=sample_stats, \n",
    "                    add_sources=add_sources, \n",
    "                    swarmplot=swarmplot, \n",
    "                    savefig=savefig, \n",
    "                    filename=\"specific_investments_tcs_SQ\")"
   ]
  },
  {
   "cell_type": "markdown",
   "metadata": {},
   "source": [
    "### variable costs load shifting"
   ]
  },
  {
   "cell_type": "code",
   "execution_count": null,
   "metadata": {},
   "outputs": [],
   "source": [
    "variable_costs_tcs_dict, variable_costs_tcs_df = extract_info(publications_tcs_years_dict, cols_dict[\"variable Kosten\"],\n",
    "                                                              drop=drop, sample_stats=sample_stats, add_sources=add_sources,\n",
    "                                                              drop_datalack=drop_datalack, modify_categories=modify_categories, \n",
    "                                                              agg_rule=\"weighted_average\", weights=pot_pos_cols)"
   ]
  },
  {
   "cell_type": "code",
   "execution_count": null,
   "metadata": {},
   "outputs": [],
   "source": [
    "variable_costs_tcs_years_dict, sources_variable_costs_tcs_dict = create_info_dict_for_years(variable_costs_tcs_df, years_dict, \n",
    "                                                           negate=False, sample_stats=sample_stats, add_sources=add_sources)"
   ]
  },
  {
   "cell_type": "code",
   "execution_count": null,
   "metadata": {},
   "outputs": [],
   "source": [
    "if write_outputs:\n",
    "    save_info_stats(variable_costs_tcs_years_dict, path_folder_stats, \"variable_costs_tcs_stats.xlsx\", sample_stats=sample_stats, add_sources=add_sources)"
   ]
  },
  {
   "cell_type": "code",
   "execution_count": null,
   "metadata": {},
   "outputs": [],
   "source": [
    "# Save sources\n",
    "if write_sources:\n",
    "    save_sources(sources_variable_costs_tcs_dict, path_folder_sources, \"variable_costs_tcs_sources.xlsx\")"
   ]
  },
  {
   "cell_type": "code",
   "execution_count": null,
   "metadata": {},
   "outputs": [],
   "source": [
    "create_info_boxplot(variable_costs_tcs_years_dict, \n",
    "                    year=\"SQ\",\n",
    "                    title=\"Variable Kosten\",\n",
    "                    ylabel=\"variable Kosten in €_2018/MWh\",\n",
    "                    show_title=False,\n",
    "                    colors=colors,\n",
    "                    ylim=[0, 3000],\n",
    "                    use_colors=use_colors,\n",
    "                    use_limits=False,\n",
    "                    sample_stats=sample_stats, \n",
    "                    add_sources=add_sources, \n",
    "                    swarmplot=swarmplot, \n",
    "                    savefig=savefig, \n",
    "                    filename=\"variable_costs_tcs_SQ\")"
   ]
  },
  {
   "cell_type": "markdown",
   "metadata": {},
   "source": [
    "### variable costs load shedding"
   ]
  },
  {
   "cell_type": "code",
   "execution_count": null,
   "metadata": {},
   "outputs": [],
   "source": [
    "variable_costs_tcs_dict, variable_costs_tcs_df = extract_info(publications_tcs_years_dict, cols_dict[\"variable Kosten Lastverzicht\"],\n",
    "                                                              drop=drop, sample_stats=sample_stats, add_sources=add_sources,\n",
    "                                                              drop_datalack=drop_datalack, modify_categories=modify_categories, \n",
    "                                                              agg_rule=\"weighted_average\", weights=pot_pos_cols)"
   ]
  },
  {
   "cell_type": "code",
   "execution_count": null,
   "metadata": {},
   "outputs": [],
   "source": [
    "variable_costs_tcs_years_dict, sources_variable_costs_tcs_dict = create_info_dict_for_years(variable_costs_tcs_df, years_dict, \n",
    "                                                           negate=False, sample_stats=sample_stats, add_sources=add_sources)"
   ]
  },
  {
   "cell_type": "code",
   "execution_count": null,
   "metadata": {},
   "outputs": [],
   "source": [
    "if write_outputs:\n",
    "    save_info_stats(variable_costs_tcs_years_dict, path_folder_stats, \"variable_costs_shedding_tcs_stats.xlsx\", sample_stats=sample_stats, add_sources=add_sources)"
   ]
  },
  {
   "cell_type": "code",
   "execution_count": null,
   "metadata": {},
   "outputs": [],
   "source": [
    "# Save sources\n",
    "if write_sources:\n",
    "    save_sources(sources_variable_costs_tcs_dict, path_folder_sources, \"variable_costs_shedding_tcs_sources.xlsx\")"
   ]
  },
  {
   "cell_type": "code",
   "execution_count": null,
   "metadata": {},
   "outputs": [],
   "source": [
    "create_info_boxplot(variable_costs_tcs_years_dict, \n",
    "                    year=\"SQ\",\n",
    "                    title=\"Variable Kosten Lastverzicht\",\n",
    "                    ylabel=\"variable Kosten in €_2018/MWh\",\n",
    "                    show_title=False,\n",
    "                    colors=colors,\n",
    "                    ylim=[0, 3000],\n",
    "                    use_colors=use_colors,\n",
    "                    use_limits=False,\n",
    "                    sample_stats=sample_stats, \n",
    "                    add_sources=add_sources, \n",
    "                    swarmplot=swarmplot, \n",
    "                    savefig=savefig, \n",
    "                    filename=\"variable_costs_shedding_tcs_SQ\")"
   ]
  },
  {
   "cell_type": "markdown",
   "metadata": {},
   "source": [
    "### fixed costs"
   ]
  },
  {
   "cell_type": "code",
   "execution_count": null,
   "metadata": {},
   "outputs": [],
   "source": [
    "fixed_costs_tcs_dict, fixed_costs_tcs_df = extract_info(publications_tcs_years_dict, cols_dict[\"fixe Kosten\"],\n",
    "                                                        drop=drop, sample_stats=sample_stats, add_sources=add_sources,\n",
    "                                                        drop_datalack=drop_datalack, modify_categories=modify_categories, \n",
    "                                                        agg_rule=\"weighted_average\", weights=pot_pos_cols)"
   ]
  },
  {
   "cell_type": "code",
   "execution_count": null,
   "metadata": {},
   "outputs": [],
   "source": [
    "fixed_costs_tcs_years_dict, sources_fixed_costs_tcs_dict = create_info_dict_for_years(fixed_costs_tcs_df, years_dict, \n",
    "                                                        negate=False, sample_stats=sample_stats, add_sources=add_sources)"
   ]
  },
  {
   "cell_type": "code",
   "execution_count": null,
   "metadata": {},
   "outputs": [],
   "source": [
    "if write_outputs:\n",
    "    save_info_stats(fixed_costs_tcs_years_dict, path_folder_stats, \"fixed_costs_tcs_stats.xlsx\", sample_stats=sample_stats, add_sources=add_sources)"
   ]
  },
  {
   "cell_type": "code",
   "execution_count": null,
   "metadata": {},
   "outputs": [],
   "source": [
    "# Save sources\n",
    "if write_sources:\n",
    "    save_sources(sources_fixed_costs_tcs_dict, path_folder_sources, \"fixed_costs_tcs_sources.xlsx\")"
   ]
  },
  {
   "cell_type": "code",
   "execution_count": null,
   "metadata": {},
   "outputs": [],
   "source": [
    "create_info_boxplot(fixed_costs_tcs_years_dict, \n",
    "                    year=\"SQ\",\n",
    "                    title=\"Fixe Kosten\",\n",
    "                    ylabel=\"fixe Kosten in €_2018/kW*a\",\n",
    "                    show_title=False,\n",
    "                    colors=colors,\n",
    "                    ylim=[0, 24],\n",
    "                    use_colors=use_colors,\n",
    "                    use_limits=use_limits,\n",
    "                    sample_stats=sample_stats, \n",
    "                    add_sources=add_sources, \n",
    "                    swarmplot=swarmplot, \n",
    "                    savefig=savefig, \n",
    "                    filename=\"fixed_costs_tcs_SQ\")"
   ]
  },
  {
   "cell_type": "markdown",
   "metadata": {},
   "source": [
    "## Households"
   ]
  },
  {
   "cell_type": "markdown",
   "metadata": {},
   "source": [
    "### Specific investments"
   ]
  },
  {
   "cell_type": "code",
   "execution_count": null,
   "metadata": {},
   "outputs": [],
   "source": [
    "specific_investments_hoho_dict, specific_investments_hoho_df = extract_info(publications_hoho_years_dict, cols_dict[\"Investitionsausgaben\"],\n",
    "                                                                            drop=drop, sample_stats=sample_stats, add_sources=add_sources,\n",
    "                                                                            drop_datalack=drop_datalack, modify_categories=modify_categories, \n",
    "                                                                            agg_rule=\"weighted_average\", weights=pot_pos_cols)"
   ]
  },
  {
   "cell_type": "code",
   "execution_count": null,
   "metadata": {},
   "outputs": [],
   "source": [
    "specific_investments_hoho_years_dict, sources_specific_investments_hoho_dict = create_info_dict_for_years(specific_investments_hoho_df, years_dict, \n",
    "                                                                  negate=False, sample_stats=sample_stats, add_sources=add_sources)"
   ]
  },
  {
   "cell_type": "code",
   "execution_count": null,
   "metadata": {},
   "outputs": [],
   "source": [
    "if write_outputs:\n",
    "    save_info_stats(specific_investments_hoho_years_dict, path_folder_stats, \"specific_investments_hoho_stats.xlsx\", sample_stats=sample_stats, add_sources=add_sources)"
   ]
  },
  {
   "cell_type": "code",
   "execution_count": null,
   "metadata": {},
   "outputs": [],
   "source": [
    "# Save sources\n",
    "if write_sources:\n",
    "    save_sources(sources_specific_investments_hoho_dict, path_folder_sources, \"specific_investments_hoho_sources.xlsx\")"
   ]
  },
  {
   "cell_type": "code",
   "execution_count": null,
   "metadata": {},
   "outputs": [],
   "source": [
    "create_info_boxplot(specific_investments_hoho_years_dict, \n",
    "                    year=\"SQ\",\n",
    "                    title=\"Spezifische Investitionsausgaben\",\n",
    "                    ylabel=\"spez. Investitionsausgaben in €_2018/kW\",\n",
    "                    show_title=False,\n",
    "                    colors=colors,\n",
    "                    ylim=[0, 2000],\n",
    "                    use_colors=use_colors,\n",
    "                    use_limits=False,\n",
    "                    sample_stats=sample_stats, \n",
    "                    add_sources=add_sources, \n",
    "                    swarmplot=swarmplot, \n",
    "                    savefig=savefig, \n",
    "                    filename=\"specific_investments_hoho_SQ\")"
   ]
  },
  {
   "cell_type": "markdown",
   "metadata": {},
   "source": [
    "### variable costs load shifting"
   ]
  },
  {
   "cell_type": "code",
   "execution_count": null,
   "metadata": {},
   "outputs": [],
   "source": [
    "variable_costs_hoho_dict, variable_costs_hoho_df = extract_info(publications_hoho_years_dict, cols_dict[\"variable Kosten\"],\n",
    "                                                                drop=drop, sample_stats=sample_stats, add_sources=add_sources,\n",
    "                                                                drop_datalack=drop_datalack, modify_categories=modify_categories, \n",
    "                                                                agg_rule=\"weighted_average\", weights=pot_pos_cols)"
   ]
  },
  {
   "cell_type": "code",
   "execution_count": null,
   "metadata": {},
   "outputs": [],
   "source": [
    "variable_costs_hoho_years_dict, sources_variable_costs_hoho_dict = create_info_dict_for_years(variable_costs_hoho_df, years_dict, \n",
    "                                                            negate=False, sample_stats=sample_stats, add_sources=add_sources)"
   ]
  },
  {
   "cell_type": "code",
   "execution_count": null,
   "metadata": {},
   "outputs": [],
   "source": [
    "if write_outputs:\n",
    "    save_info_stats(variable_costs_hoho_years_dict, path_folder_stats, \"variable_costs_hoho_stats.xlsx\", sample_stats=sample_stats, add_sources=add_sources)"
   ]
  },
  {
   "cell_type": "code",
   "execution_count": null,
   "metadata": {},
   "outputs": [],
   "source": [
    "# Save sources\n",
    "if write_sources:\n",
    "    save_sources(sources_variable_costs_hoho_dict, path_folder_sources, \"variable_costs_hoho_sources.xlsx\")"
   ]
  },
  {
   "cell_type": "code",
   "execution_count": null,
   "metadata": {},
   "outputs": [],
   "source": [
    "create_info_boxplot(variable_costs_hoho_years_dict, \n",
    "                    year=\"SQ\",\n",
    "                    title=\"Variable Kosten\",\n",
    "                    ylabel=\"variable Kosten in €_2018/MWh\",\n",
    "                    show_title=False,\n",
    "                    colors=colors,\n",
    "                    ylim=[0, 3000],\n",
    "                    use_colors=use_colors,\n",
    "                    use_limits=False,\n",
    "                    sample_stats=sample_stats, \n",
    "                    add_sources=add_sources, \n",
    "                    swarmplot=swarmplot, \n",
    "                    savefig=savefig, \n",
    "                    filename=\"variable_costs_hoho_SQ\")"
   ]
  },
  {
   "cell_type": "markdown",
   "metadata": {},
   "source": [
    "### variable costs load shedding"
   ]
  },
  {
   "cell_type": "code",
   "execution_count": null,
   "metadata": {},
   "outputs": [],
   "source": [
    "variable_costs_hoho_dict, variable_costs_hoho_df = extract_info(publications_hoho_years_dict, cols_dict[\"variable Kosten Lastverzicht\"],\n",
    "                                                                drop=drop, sample_stats=sample_stats, add_sources=add_sources,\n",
    "                                                                drop_datalack=drop_datalack, modify_categories=modify_categories, \n",
    "                                                                agg_rule=\"weighted_average\", weights=pot_pos_cols)"
   ]
  },
  {
   "cell_type": "code",
   "execution_count": null,
   "metadata": {},
   "outputs": [],
   "source": [
    "variable_costs_hoho_years_dict, sources_variable_costs_hoho_dict = create_info_dict_for_years(variable_costs_hoho_df, years_dict, \n",
    "                                                            negate=False, sample_stats=sample_stats, add_sources=add_sources)"
   ]
  },
  {
   "cell_type": "code",
   "execution_count": null,
   "metadata": {},
   "outputs": [],
   "source": [
    "if write_outputs:\n",
    "    save_info_stats(variable_costs_hoho_years_dict, path_folder_stats, \"variable_costs_shedding_hoho_stats.xlsx\", sample_stats=sample_stats, add_sources=add_sources)"
   ]
  },
  {
   "cell_type": "code",
   "execution_count": null,
   "metadata": {},
   "outputs": [],
   "source": [
    "# Save sources\n",
    "if write_sources:\n",
    "    save_sources(sources_variable_costs_hoho_dict, path_folder_sources, \"variable_costs_shedding_hoho_sources.xlsx\")"
   ]
  },
  {
   "cell_type": "code",
   "execution_count": null,
   "metadata": {},
   "outputs": [],
   "source": [
    "create_info_boxplot(variable_costs_hoho_years_dict, \n",
    "                    year=\"SQ\",\n",
    "                    title=\"Variable Kosten Lastverzicht\",\n",
    "                    ylabel=\"variable Kosten in €_2018/MWh\",\n",
    "                    show_title=False,\n",
    "                    colors=colors,\n",
    "                    ylim=[0, 3000],\n",
    "                    use_colors=use_colors,\n",
    "                    use_limits=False,\n",
    "                    sample_stats=sample_stats, \n",
    "                    add_sources=add_sources, \n",
    "                    swarmplot=swarmplot, \n",
    "                    savefig=savefig, \n",
    "                    filename=\"variable_costs_shedding_hoho_SQ\")"
   ]
  },
  {
   "cell_type": "markdown",
   "metadata": {},
   "source": [
    "### fixed costs"
   ]
  },
  {
   "cell_type": "code",
   "execution_count": null,
   "metadata": {},
   "outputs": [],
   "source": [
    "fixed_costs_hoho_dict, fixed_costs_hoho_df = extract_info(publications_hoho_years_dict, cols_dict[\"fixe Kosten\"],\n",
    "                                                          drop=drop, sample_stats=sample_stats, add_sources=add_sources,\n",
    "                                                          drop_datalack=drop_datalack, modify_categories=modify_categories, \n",
    "                                                          agg_rule=\"weighted_average\", weights=pot_pos_cols)"
   ]
  },
  {
   "cell_type": "code",
   "execution_count": null,
   "metadata": {},
   "outputs": [],
   "source": [
    "fixed_costs_hoho_years_dict, sources_fixed_costs_hoho_dict = create_info_dict_for_years(fixed_costs_hoho_df, years_dict, \n",
    "                                                         negate=False, sample_stats=sample_stats, add_sources=add_sources)"
   ]
  },
  {
   "cell_type": "code",
   "execution_count": null,
   "metadata": {},
   "outputs": [],
   "source": [
    "if write_outputs:\n",
    "    save_info_stats(fixed_costs_hoho_years_dict, path_folder_stats, \"fixed_costs_hoho_stats.xlsx\", sample_stats=sample_stats, add_sources=add_sources)"
   ]
  },
  {
   "cell_type": "code",
   "execution_count": null,
   "metadata": {},
   "outputs": [],
   "source": [
    "# Save sources\n",
    "if write_sources:\n",
    "    save_sources(sources_fixed_costs_hoho_dict, path_folder_sources, \"fixed_costs_hoho_sources.xlsx\")"
   ]
  },
  {
   "cell_type": "code",
   "execution_count": null,
   "metadata": {},
   "outputs": [],
   "source": [
    "create_info_boxplot(fixed_costs_hoho_years_dict, \n",
    "                    year=\"SQ\",\n",
    "                    title=\"Fixe Kosten\",\n",
    "                    ylabel=\"fixe Kosten in €_2018/kW*a\",\n",
    "                    show_title=False,\n",
    "                    colors=colors,\n",
    "                    ylim=[0, 24],\n",
    "                    use_colors=use_colors,\n",
    "                    use_limits=use_limits,\n",
    "                    sample_stats=sample_stats, \n",
    "                    add_sources=add_sources, \n",
    "                    swarmplot=swarmplot, \n",
    "                    savefig=savefig, \n",
    "                    filename=\"fixed_costs_hoho_SQ\")"
   ]
  },
  {
   "cell_type": "markdown",
   "metadata": {},
   "source": [
    "# Potential outlook\n",
    "In this section, an outlook for the future development of some Demand Response parameters up to (at most) 2050 is given.\n",
    "Future development for the following parameters is assessed\n",
    "* Capcity-related parameters: positive load shift potential, negative load shift potential\n",
    "* Time-related parameters: ?\n",
    "* Cost-related parameters: specific investments, variable costs and fixed costs"
   ]
  },
  {
   "cell_type": "markdown",
   "metadata": {},
   "source": [
    "## Industry"
   ]
  },
  {
   "cell_type": "markdown",
   "metadata": {},
   "source": [
    "### Select some processes for further analysis\n",
    "There are two ways to determine, which processes resp. appliances shall be further evaluated:\n",
    "* one rather systematic one choosing those with the highest potential (in the status quo resp. in 2050) and\n",
    "* a self-defined selection of processes which is influenced by the literature itself (and a potential personal bias).\n",
    "It can be chosen between the two by using the control parameter `use_nlargest_cols`.\n",
    "\n",
    "Method and criterions used for selection when using the columns with the highest potentials:\n",
    "* Select those with highest demand response potential in the status quo.\n",
    "* Select those with highest demand response potential in the 2050.\n",
    "* Combine the two, i.e. remove those that only show large potentials in one of the categories.\n",
    "* Analysis is separately carried out for positive and negative potentials to select the top ones for either category.\n",
    "* For the time- and cost-related parameters, the top ones of every category (pos / neg) is chosen.\n",
    "* The number of processes resp. appliances to be considered is flexibly modified in order to receive 3 to 4 remaining processes resp. appliances.\n",
    "\n",
    "_Note: A suitable alternative approach would be to choose those categories for which data coverage is best or for which differences in the future potential can be noticed. This is not yet implemented._"
   ]
  },
  {
   "cell_type": "code",
   "execution_count": null,
   "metadata": {},
   "outputs": [],
   "source": [
    "# Get the 5 processes with the largest positive potential for the status quo and 2050\n",
    "high_potential_pos_ind_cols_SQ = get_nlargest(potential_pos_ind_ave_years_dict, year=\"SQ\", metric=metric, n=9, sample_stats=sample_stats)\n",
    "high_potential_pos_ind_cols_2050 = get_nlargest(potential_pos_ind_ave_years_dict, year=\"2050\", metric=metric, n=9, sample_stats=sample_stats)\n",
    "\n",
    "# Get the 5 processes with the largest negative potential for the status quo and 2050\n",
    "high_potential_neg_ind_cols_SQ = get_nlargest(potential_neg_ind_ave_years_dict, year=\"SQ\", metric=metric, n=n, sample_stats=sample_stats)\n",
    "high_potential_neg_ind_cols_2050 = get_nlargest(potential_neg_ind_ave_years_dict, year=\"2050\", metric=metric, n=n, sample_stats=sample_stats)\n",
    "\n",
    "# Select the processes with the largest potential by combining the two\n",
    "high_potential_pos_ind_cols = list(set(high_potential_pos_ind_cols_SQ).intersection(set(high_potential_pos_ind_cols_2050)))\n",
    "high_potential_neg_ind_cols = list(set(high_potential_neg_ind_cols_SQ).intersection(set(high_potential_neg_ind_cols_2050)))\n",
    "\n",
    "print(high_potential_pos_ind_cols)\n",
    "print(high_potential_neg_ind_cols)"
   ]
  },
  {
   "cell_type": "code",
   "execution_count": null,
   "metadata": {},
   "outputs": [],
   "source": [
    "# Get the 3 processes with the largest positive potential for the status quo and 2050\n",
    "highest_potential_pos_ind_cols_SQ = get_nlargest(potential_pos_ind_ave_years_dict, year=\"SQ\", metric=metric, n=3, sample_stats=sample_stats)\n",
    "highest_potential_pos_ind_cols_2050 = get_nlargest(potential_pos_ind_ave_years_dict, year=\"2050\", metric=metric, n=3, sample_stats=sample_stats)\n",
    "\n",
    "# Get the 3 processes with the largest negative potential for the status quo and 2050\n",
    "highest_potential_neg_ind_cols_SQ = get_nlargest(potential_neg_ind_ave_years_dict, year=\"SQ\", metric=metric, n=3, sample_stats=sample_stats)\n",
    "highest_potential_neg_ind_cols_2050 = get_nlargest(potential_neg_ind_ave_years_dict, year=\"2050\", metric=metric, n=3, sample_stats=sample_stats)\n",
    "\n",
    "# Select the processes with the largest potential by combining the two\n",
    "highest_potential_ind_cols = list(set(highest_potential_pos_ind_cols_SQ).intersection(set(highest_potential_pos_ind_cols_2050)))\n",
    "highest_potential_neg_ind_cols = list(set(highest_potential_neg_ind_cols_SQ).intersection(set(highest_potential_neg_ind_cols_2050)))\n",
    "highest_potential_ind_cols.extend(highest_potential_neg_ind_cols)\n",
    "highest_potential_ind_cols = list(set(highest_potential_ind_cols))\n",
    "\n",
    "print(highest_potential_ind_cols)"
   ]
  },
  {
   "cell_type": "markdown",
   "metadata": {},
   "source": [
    "Alternative approach:\n",
    "* No systematic choice of processes, but self-selection of those of interest.\n",
    "* Variable values are overwritten such that the function calls themselves do not have to be adjusted and flexibility is increased."
   ]
  },
  {
   "cell_type": "code",
   "execution_count": null,
   "metadata": {},
   "outputs": [],
   "source": [
    "if not use_nlargest_cols:\n",
    "    if not modify_categories:\n",
    "        industry_cols = [\"Chlor-Alkali-Elektrolyse\", \"Elektrostahlherstellung\", \"Primäraluminiumelektrolyse\", \"Holzstoffherstellung\"]\n",
    "    elif aggregation_mode == \"granular\":\n",
    "        industry_cols = [\"Chlor-Alkali-Elektrolyse\", \"Elektrostahlherstellung (Lichtbogenofen)\", \"Primäraluminiumelektrolyse\", \"Holz- und Zellstoffherstellung\"]\n",
    "    elif aggregation_mode == \"broad\":\n",
    "        industry_cols = [\"Chlor-Alkali-Elektrolyse\", \"Elektrostahlherstellung (Lichtbogenofen)\", \"Primäraluminiumelektrolyse\", \"Papierherstellung\"]\n",
    "    high_potential_pos_ind_cols = industry_cols\n",
    "    high_potential_neg_ind_cols = industry_cols\n",
    "    highest_potential_ind_cols = industry_cols\n",
    "    print(industry_cols)"
   ]
  },
  {
   "cell_type": "markdown",
   "metadata": {},
   "source": [
    "### Positive load shift potential"
   ]
  },
  {
   "cell_type": "markdown",
   "metadata": {},
   "source": [
    "Create a dict containing the statistical info per year as well as a DataFrame containing the info on the development of the respective parameter"
   ]
  },
  {
   "cell_type": "code",
   "execution_count": null,
   "metadata": {},
   "outputs": [],
   "source": [
    "potential_pos_ind_ave_projection_dict, potential_pos_ind_ave_projection_df = extract_stats(potential_pos_ind_ave_years_dict, years_dict)"
   ]
  },
  {
   "cell_type": "markdown",
   "metadata": {},
   "source": [
    "Visualize the data using a grouped boxplot"
   ]
  },
  {
   "cell_type": "code",
   "execution_count": null,
   "metadata": {},
   "outputs": [],
   "source": [
    "create_projection_boxplot(potential_pos_ind_ave_df, years_dict, high_potential_pos_ind_cols, \n",
    "                          title=\"Positives Lastmanagementpotenzial (Lastreduktion) für ausgewählte Industrieprozesse - Projektion\",\n",
    "                          ylabel=\"Potenzial in MW\", \n",
    "                          colors=colors,\n",
    "                          ylim=[0, 3000],\n",
    "                          use_colors=use_colors,\n",
    "                          use_limits=False, \n",
    "                          sample_stats=sample_stats, \n",
    "                          add_sources=add_sources, \n",
    "                          swarmplot=swarmplot, \n",
    "                          savefig=savefig, \n",
    "                          filename=\"potential_pos_ind_ave\")"
   ]
  },
  {
   "cell_type": "code",
   "execution_count": null,
   "metadata": {},
   "outputs": [],
   "source": [
    "if write_sources:\n",
    "    save_future_sources(potential_pos_ind_ave_df, high_potential_pos_ind_cols, path_folder=path_folder_sources, filename=\"potential_pos_ind_ave_projection_sources.xlsx\",  \n",
    "                        add_sources=add_sources)"
   ]
  },
  {
   "cell_type": "markdown",
   "metadata": {},
   "source": [
    "### Negative load shift potential"
   ]
  },
  {
   "cell_type": "code",
   "execution_count": null,
   "metadata": {},
   "outputs": [],
   "source": [
    "potential_neg_ind_ave_projection_dict, potential_neg_ind_ave_projection_df = extract_stats(potential_neg_ind_ave_years_dict, years_dict)"
   ]
  },
  {
   "cell_type": "code",
   "execution_count": null,
   "metadata": {},
   "outputs": [],
   "source": [
    "create_projection_boxplot(potential_neg_ind_ave_df, years_dict, high_potential_neg_ind_cols, \n",
    "                          title=\"Negatives Lastmanagementpotenzial (Lasterhöhung) für ausgewählte Industrieprozesse - Projektion\",\n",
    "                          ylabel=\"Potenzial in MW\", \n",
    "                          colors=colors,\n",
    "                          ylim=[-3000, 0],\n",
    "                          use_colors=use_colors,\n",
    "                          negate=True,\n",
    "                          use_limits=False, \n",
    "                          sample_stats=sample_stats, \n",
    "                          add_sources=add_sources, \n",
    "                          swarmplot=swarmplot, \n",
    "                          savefig=savefig, \n",
    "                          filename=\"potential_neg_ind_ave\")"
   ]
  },
  {
   "cell_type": "code",
   "execution_count": null,
   "metadata": {},
   "outputs": [],
   "source": [
    "if write_sources:\n",
    "    save_future_sources(potential_neg_ind_ave_df, high_potential_neg_ind_cols, path_folder=path_folder_sources, filename=\"potential_neg_ind_ave_projection_sources.xlsx\", \n",
    "                        add_sources=add_sources)"
   ]
  },
  {
   "cell_type": "markdown",
   "metadata": {},
   "source": [
    "Visualize the data using a grouped boxplot"
   ]
  },
  {
   "cell_type": "markdown",
   "metadata": {},
   "source": [
    "### Specific investments"
   ]
  },
  {
   "cell_type": "code",
   "execution_count": null,
   "metadata": {},
   "outputs": [],
   "source": [
    "specific_investments_ind_projection_dict, specific_investments_ind_projection_df = extract_stats(specific_investments_ind_years_dict, years_dict)"
   ]
  },
  {
   "cell_type": "markdown",
   "metadata": {},
   "source": [
    "Visualize the data using a grouped boxplot"
   ]
  },
  {
   "cell_type": "code",
   "execution_count": null,
   "metadata": {},
   "outputs": [],
   "source": [
    "create_projection_boxplot(specific_investments_ind_df, years_dict, highest_potential_ind_cols, \n",
    "                          title=\"Spezifische Investitionsausgaben für ausgewählte Industrieprozesse - Projektion\",\n",
    "                          ylabel=\"spezifische Investitionsausgaben in €_2018/kW\", \n",
    "                          colors=colors,\n",
    "                          ylim=[0, 3000],\n",
    "                          use_colors=use_colors,\n",
    "                          use_limits=use_limits, \n",
    "                          sample_stats=sample_stats, \n",
    "                          add_sources=add_sources, \n",
    "                          swarmplot=swarmplot, \n",
    "                          savefig=savefig, \n",
    "                          filename=\"specific_investments_ind\")"
   ]
  },
  {
   "cell_type": "code",
   "execution_count": null,
   "metadata": {},
   "outputs": [],
   "source": [
    "if write_sources:\n",
    "    save_future_sources(specific_investments_ind_df, highest_potential_ind_cols, path_folder=path_folder_sources, filename=\"specific_investments_ind_projection_sources.xlsx\",  \n",
    "                        add_sources=add_sources)"
   ]
  },
  {
   "cell_type": "markdown",
   "metadata": {},
   "source": [
    "### Variable costs"
   ]
  },
  {
   "cell_type": "code",
   "execution_count": null,
   "metadata": {},
   "outputs": [],
   "source": [
    "variable_costs_ind_projection_dict, variable_costs_ind_projection_df = extract_stats(variable_costs_ind_years_dict, years_dict)"
   ]
  },
  {
   "cell_type": "markdown",
   "metadata": {},
   "source": [
    "Visualize the data using a grouped boxplot"
   ]
  },
  {
   "cell_type": "code",
   "execution_count": null,
   "metadata": {},
   "outputs": [],
   "source": [
    "create_projection_boxplot(variable_costs_ind_df, years_dict, highest_potential_ind_cols, \n",
    "                          title=\"Variable Kosten für ausgewählte Industrieprozesse - Projektion\", \n",
    "                          ylabel=\"variable Kosten in €_2018/MWh\", \n",
    "                          colors=colors,\n",
    "                          ylim=[0, 3000],\n",
    "                          use_colors=use_colors,\n",
    "                          use_limits=use_limits, \n",
    "                          sample_stats=sample_stats, \n",
    "                          add_sources=add_sources, \n",
    "                          swarmplot=swarmplot, \n",
    "                          savefig=savefig, \n",
    "                          filename=\"variable_costs_ind\")"
   ]
  },
  {
   "cell_type": "code",
   "execution_count": null,
   "metadata": {},
   "outputs": [],
   "source": [
    "if write_sources:\n",
    "    save_future_sources(variable_costs_ind_df, highest_potential_ind_cols, path_folder=path_folder_sources, filename=\"variable_costs_ind_projection_sources.xlsx\",  \n",
    "                        add_sources=add_sources)"
   ]
  },
  {
   "cell_type": "markdown",
   "metadata": {},
   "source": [
    "### Fixed costs"
   ]
  },
  {
   "cell_type": "code",
   "execution_count": null,
   "metadata": {},
   "outputs": [],
   "source": [
    "fixed_costs_ind_projection_dict, fixed_costs_ind_projection_df = extract_stats(fixed_costs_ind_years_dict, years_dict)"
   ]
  },
  {
   "cell_type": "markdown",
   "metadata": {},
   "source": [
    "Visualize the data using a grouped boxplot"
   ]
  },
  {
   "cell_type": "code",
   "execution_count": null,
   "metadata": {},
   "outputs": [],
   "source": [
    "create_projection_boxplot(fixed_costs_ind_df, years_dict, highest_potential_ind_cols, \n",
    "                          title=\"Fixe Kosten für ausgewählte Industrieprozesse - Projektion\", \n",
    "                          ylabel=\"fixe Kosten in €_2018/kW*a\",  \n",
    "                          colors=colors,\n",
    "                          ylim=[0, 3000],\n",
    "                          use_colors=use_colors,\n",
    "                          use_limits=use_limits, \n",
    "                          sample_stats=sample_stats, \n",
    "                          add_sources=add_sources, \n",
    "                          swarmplot=swarmplot, \n",
    "                          savefig=savefig, \n",
    "                          filename=\"fixed_costs_ind\")"
   ]
  },
  {
   "cell_type": "code",
   "execution_count": null,
   "metadata": {},
   "outputs": [],
   "source": [
    "if write_sources:\n",
    "    save_future_sources(fixed_costs_ind_df, highest_potential_ind_cols, path_folder=path_folder_sources, filename=\"fixed_costs_ind_projection_sources.xlsx\",  \n",
    "                        add_sources=add_sources)"
   ]
  },
  {
   "cell_type": "markdown",
   "metadata": {},
   "source": [
    "## Trade, commerce and services"
   ]
  },
  {
   "cell_type": "markdown",
   "metadata": {},
   "source": [
    "### Select some processes for further analysis\n",
    "Method and criterions used for selection:\n",
    "* Select those with highest demand response potential in the status quo.\n",
    "* Select those with highest demand response potential in the 2050.\n",
    "* Combine the two, i.e. remove those that only show large potentials in one of the categories.\n",
    "* Analysis is separately carried out for positive and negative potentials to select the top 5 for either category.\n",
    "* For the time- and cost-related parameters, the top 3 of every category is chosen."
   ]
  },
  {
   "cell_type": "code",
   "execution_count": null,
   "metadata": {},
   "outputs": [],
   "source": [
    "# Get the 5 processes with the largest positive potential for the status quo and 2050\n",
    "high_potential_pos_tcs_cols_SQ = get_nlargest(potential_pos_tcs_ave_years_dict, year=\"SQ\", metric=metric, n=15)\n",
    "high_potential_pos_tcs_cols_2050 = get_nlargest(potential_pos_tcs_ave_years_dict, year=\"2050\", metric=metric, n=15)\n",
    "\n",
    "# Get the 5 processes with the largest negative potential for the status quo and 2050\n",
    "high_potential_neg_tcs_cols_SQ = get_nlargest(potential_neg_tcs_ave_years_dict, year=\"SQ\", metric=metric, n=6)\n",
    "high_potential_neg_tcs_cols_2050 = get_nlargest(potential_neg_tcs_ave_years_dict, year=\"2050\", metric=metric, n=6)\n",
    "\n",
    "# Select the processes with the largest potential by combining the two\n",
    "high_potential_pos_tcs_cols = list(set(high_potential_pos_tcs_cols_SQ).intersection(set(high_potential_pos_tcs_cols_2050)))\n",
    "high_potential_neg_tcs_cols = list(set(high_potential_neg_tcs_cols_SQ).intersection(set(high_potential_neg_tcs_cols_2050)))\n",
    "\n",
    "print(high_potential_pos_tcs_cols)\n",
    "print(high_potential_neg_tcs_cols)"
   ]
  },
  {
   "cell_type": "code",
   "execution_count": null,
   "metadata": {},
   "outputs": [],
   "source": [
    "# Get the 3 processes with the largest positive potential for the status quo and 2050\n",
    "highest_potential_pos_tcs_cols_SQ = get_nlargest(potential_pos_tcs_ave_years_dict, year=\"SQ\", metric=metric, n=5)\n",
    "highest_potential_pos_tcs_cols_2050 = get_nlargest(potential_pos_tcs_ave_years_dict, year=\"2050\", metric=metric, n=5)\n",
    "\n",
    "# Get the 3 processes with the largest negative potential for the status quo and 2050\n",
    "highest_potential_neg_tcs_cols_SQ = get_nlargest(potential_neg_tcs_ave_years_dict, year=\"SQ\", metric=metric, n=5)\n",
    "highest_potential_neg_tcs_cols_2050 = get_nlargest(potential_neg_tcs_ave_years_dict, year=\"2050\", metric=metric, n=5)\n",
    "\n",
    "# Select the processes with the largest potential by combining the two\n",
    "highest_potential_tcs_cols = list(set(highest_potential_pos_tcs_cols_SQ).intersection(set(highest_potential_pos_tcs_cols_2050)))\n",
    "highest_potential_neg_tcs_cols = list(set(highest_potential_neg_tcs_cols_SQ).intersection(set(highest_potential_neg_tcs_cols_2050)))\n",
    "highest_potential_tcs_cols.extend(highest_potential_neg_tcs_cols)\n",
    "highest_potential_tcs_cols = list(set(highest_potential_tcs_cols))\n",
    "\n",
    "print(highest_potential_tcs_cols)"
   ]
  },
  {
   "cell_type": "markdown",
   "metadata": {},
   "source": [
    "Alternative approach: No systematic choice of processes, but selection of those of interest."
   ]
  },
  {
   "cell_type": "code",
   "execution_count": null,
   "metadata": {},
   "outputs": [],
   "source": [
    "if not use_nlargest_cols:\n",
    "    if not modify_categories:\n",
    "        tcs_cols = [\"Prozesskälte gesamt\", \"Belüftung gesamt\", \"Klimaanlagen\", \"Trinkwasserpumpen\"]\n",
    "    elif aggregation_mode == \"granular\":\n",
    "        tcs_cols = [\"Prozesskälte\", \"Belüftung\", \"Klimakälte\", \"Pumpenanwendungen in der Wasserversorgung\"]\n",
    "    elif aggregation_mode == \"broad\":\n",
    "        tcs_cols = [\"Prozesskälte\", \"Belüftung\", \"Klimakälte\", \"Pumpenanwendungen in der Wasserversorgung\"]\n",
    "    high_potential_pos_tcs_cols = tcs_cols\n",
    "    high_potential_neg_tcs_cols = tcs_cols\n",
    "    highest_potential_tcs_cols = tcs_cols\n",
    "    print(tcs_cols)"
   ]
  },
  {
   "cell_type": "markdown",
   "metadata": {},
   "source": [
    "### Positive load shift potential"
   ]
  },
  {
   "cell_type": "markdown",
   "metadata": {},
   "source": [
    "Create a dict containing the statistical info per year as well as a DataFrame containing the info on the development of the respective parameter"
   ]
  },
  {
   "cell_type": "code",
   "execution_count": null,
   "metadata": {},
   "outputs": [],
   "source": [
    "potential_pos_tcs_ave_projection_dict, potential_pos_tcs_ave_projection_df = extract_stats(potential_pos_tcs_ave_years_dict, years_dict)"
   ]
  },
  {
   "cell_type": "markdown",
   "metadata": {},
   "source": [
    "Visualize the data using a grouped boxplot"
   ]
  },
  {
   "cell_type": "code",
   "execution_count": null,
   "metadata": {},
   "outputs": [],
   "source": [
    "create_projection_boxplot(potential_pos_tcs_ave_df, years_dict, high_potential_pos_tcs_cols, \n",
    "                          title=\"Positives Lastmanagementpotenzial (Lastreduktion) für ausgewählte Anwendungen im GHD-Sektor - Projektion\",\n",
    "                          ylabel=\"Potenzial in MW\", \n",
    "                          colors=colors,\n",
    "                          ylim=[0, 1000],\n",
    "                          use_colors=use_colors,\n",
    "                          use_limits=False,\n",
    "                          sample_stats=sample_stats, \n",
    "                          add_sources=add_sources, \n",
    "                          swarmplot=swarmplot, \n",
    "                          savefig=savefig, \n",
    "                          filename=\"potential_pos_tcs_ave\")"
   ]
  },
  {
   "cell_type": "code",
   "execution_count": null,
   "metadata": {},
   "outputs": [],
   "source": [
    "if write_sources:\n",
    "    save_future_sources(potential_pos_tcs_ave_df, high_potential_pos_tcs_cols, path_folder=path_folder_sources, filename=\"potential_pos_tcs_ave_projection_sources.xlsx\",  \n",
    "                        add_sources=add_sources)"
   ]
  },
  {
   "cell_type": "markdown",
   "metadata": {},
   "source": [
    "### Negative load shift potential"
   ]
  },
  {
   "cell_type": "code",
   "execution_count": null,
   "metadata": {},
   "outputs": [],
   "source": [
    "potential_neg_tcs_ave_projection_dict, potential_neg_tcs_ave_projection_df = extract_stats(potential_neg_tcs_ave_years_dict, years_dict)"
   ]
  },
  {
   "cell_type": "code",
   "execution_count": null,
   "metadata": {},
   "outputs": [],
   "source": [
    "create_projection_boxplot(potential_neg_tcs_ave_df, years_dict, high_potential_neg_tcs_cols, \n",
    "                          title=\"Negatives Lastmanagementpotenzial (Lasterhöhung) für ausgewählte Anwendungen im GHD-Sektor - Projektion\",\n",
    "                          ylabel=\"Potenzial in MW\",  \n",
    "                          colors=colors,\n",
    "                          ylim=[-3000, 0],\n",
    "                          use_colors=use_colors,\n",
    "                          negate=True,\n",
    "                          use_limits=False, \n",
    "                          sample_stats=sample_stats, \n",
    "                          add_sources=add_sources, \n",
    "                          swarmplot=swarmplot, \n",
    "                          savefig=savefig, \n",
    "                          filename=\"potential_neg_tcs_ave\")"
   ]
  },
  {
   "cell_type": "code",
   "execution_count": null,
   "metadata": {},
   "outputs": [],
   "source": [
    "if write_sources:\n",
    "    save_future_sources(potential_neg_tcs_ave_df, high_potential_neg_tcs_cols, path_folder=path_folder_sources, filename=\"potential_neg_tcs_ave_projection_sources.xlsx\",  \n",
    "                        add_sources=add_sources)"
   ]
  },
  {
   "cell_type": "markdown",
   "metadata": {},
   "source": [
    "Visualize the data using a grouped boxplot"
   ]
  },
  {
   "cell_type": "markdown",
   "metadata": {},
   "source": [
    "### Specific investments"
   ]
  },
  {
   "cell_type": "code",
   "execution_count": null,
   "metadata": {},
   "outputs": [],
   "source": [
    "specific_investments_tcs_projection_dict, specific_investments_tcs_projection_df = extract_stats(specific_investments_tcs_years_dict, years_dict)"
   ]
  },
  {
   "cell_type": "markdown",
   "metadata": {},
   "source": [
    "Visualize the data using a grouped boxplot"
   ]
  },
  {
   "cell_type": "code",
   "execution_count": null,
   "metadata": {},
   "outputs": [],
   "source": [
    "create_projection_boxplot(specific_investments_tcs_df, years_dict, highest_potential_tcs_cols, \n",
    "                          title=\"Spezifische Investitionsausgaben für ausgewählte Anwendungen im GHD-Sektor - Projektion\",\n",
    "                          ylabel=\"spezifische Investitionsausgaben in €_2018/kW\", \n",
    "                          colors=colors,\n",
    "                          ylim=[0, 3000],\n",
    "                          use_colors=use_colors,\n",
    "                          use_limits=use_limits, \n",
    "                          sample_stats=sample_stats, \n",
    "                          add_sources=add_sources, \n",
    "                          swarmplot=swarmplot, \n",
    "                          savefig=savefig, \n",
    "                          filename=\"specific_investments_tcs\")"
   ]
  },
  {
   "cell_type": "code",
   "execution_count": null,
   "metadata": {},
   "outputs": [],
   "source": [
    "if write_sources:\n",
    "    save_future_sources(specific_investments_tcs_df, highest_potential_tcs_cols, path_folder=path_folder_sources, filename=\"specific_investments_tcs_projection_sources.xlsx\",  \n",
    "                        add_sources=add_sources)"
   ]
  },
  {
   "cell_type": "markdown",
   "metadata": {},
   "source": [
    "### Variable costs"
   ]
  },
  {
   "cell_type": "code",
   "execution_count": null,
   "metadata": {},
   "outputs": [],
   "source": [
    "variable_costs_tcs_projection_dict, variable_costs_tcs_projection_df = extract_stats(variable_costs_tcs_years_dict, years_dict)"
   ]
  },
  {
   "cell_type": "markdown",
   "metadata": {},
   "source": [
    "Visualize the data using a grouped boxplot"
   ]
  },
  {
   "cell_type": "code",
   "execution_count": null,
   "metadata": {},
   "outputs": [],
   "source": [
    "create_projection_boxplot(variable_costs_tcs_df, years_dict, highest_potential_tcs_cols, \n",
    "                          title=\"Variable Kosten für ausgewählte Anwendungen im GHD-Sektor - Projektion\", \n",
    "                          ylabel=\"variable Kosten in €_2018/MWh\",\n",
    "                          colors=colors,\n",
    "                          ylim=[0, 3000],\n",
    "                          use_colors=use_colors,\n",
    "                          use_limits=use_limits, \n",
    "                          sample_stats=sample_stats, \n",
    "                          add_sources=add_sources, \n",
    "                          swarmplot=swarmplot, \n",
    "                          savefig=savefig, \n",
    "                          filename=\"variable_costs_tcs\")"
   ]
  },
  {
   "cell_type": "code",
   "execution_count": null,
   "metadata": {},
   "outputs": [],
   "source": [
    "if write_sources:\n",
    "    save_future_sources(variable_costs_tcs_df, highest_potential_tcs_cols, path_folder=path_folder_sources, filename=\"variable_costs_tcs_projection_sources.xlsx\",  \n",
    "                        add_sources=add_sources)"
   ]
  },
  {
   "cell_type": "markdown",
   "metadata": {},
   "source": [
    "### Fixed costs"
   ]
  },
  {
   "cell_type": "code",
   "execution_count": null,
   "metadata": {},
   "outputs": [],
   "source": [
    "fixed_costs_tcs_projection_dict, fixed_costs_tcs_projection_df = extract_stats(fixed_costs_tcs_years_dict, years_dict)"
   ]
  },
  {
   "cell_type": "markdown",
   "metadata": {},
   "source": [
    "Visualize the data using a grouped boxplot"
   ]
  },
  {
   "cell_type": "code",
   "execution_count": null,
   "metadata": {},
   "outputs": [],
   "source": [
    "create_projection_boxplot(fixed_costs_tcs_df, years_dict, highest_potential_tcs_cols, \n",
    "                          title=\"Fixe Kosten für ausgewählte Anwendungen im GHD-Sektor - Projektion\", \n",
    "                          ylabel=\"fixe Kosten in €_2018/kW*a\",\n",
    "                          colors=colors,\n",
    "                          ylim=[0, 3000],\n",
    "                          use_colors=use_colors,\n",
    "                          use_limits=use_limits, \n",
    "                          sample_stats=sample_stats, \n",
    "                          add_sources=add_sources, \n",
    "                          swarmplot=swarmplot, \n",
    "                          savefig=savefig, \n",
    "                          filename=\"fixed_costs_tcs\")"
   ]
  },
  {
   "cell_type": "code",
   "execution_count": null,
   "metadata": {},
   "outputs": [],
   "source": [
    "if write_sources:\n",
    "    save_future_sources(fixed_costs_tcs_df, highest_potential_tcs_cols, path_folder=path_folder_sources, filename=\"fixed_costs_tcs_projection_sources.xlsx\",  \n",
    "                        add_sources=add_sources)"
   ]
  },
  {
   "cell_type": "markdown",
   "metadata": {},
   "source": [
    "## Households"
   ]
  },
  {
   "cell_type": "markdown",
   "metadata": {},
   "source": [
    "### Select some processes for further analysis\n",
    "Method and criterions used for selection:\n",
    "* Select those with highest demand response potential in the status quo.\n",
    "* Select those with highest demand response potential in the 2050.\n",
    "* Combine the two, i.e. remove those that only show large potentials in one of the categories.\n",
    "* Analysis is separately carried out for positive and negative potentials to select the top 5 for either category.\n",
    "* For the time- and cost-related parameters, the top 3 of every category is chosen."
   ]
  },
  {
   "cell_type": "code",
   "execution_count": null,
   "metadata": {},
   "outputs": [],
   "source": [
    "# Get the 5 processes with the largest positive potential for the status quo and 2050\n",
    "high_potential_pos_hoho_cols_SQ = get_nlargest(potential_pos_hoho_ave_years_dict, year=\"SQ\", metric=metric, n=n)\n",
    "high_potential_pos_hoho_cols_2050 = get_nlargest(potential_pos_hoho_ave_years_dict, year=\"2050\", metric=metric, n=n)\n",
    "\n",
    "# Get the 5 processes with the largest negative potential for the status quo and 2050\n",
    "high_potential_neg_hoho_cols_SQ = get_nlargest(potential_neg_hoho_ave_years_dict, year=\"SQ\", metric=metric, n=n)\n",
    "high_potential_neg_hoho_cols_2050 = get_nlargest(potential_neg_hoho_ave_years_dict, year=\"2050\", metric=metric, n=n)\n",
    "\n",
    "# Select the processes with the largest potential by combining the two\n",
    "high_potential_pos_hoho_cols = list(set(high_potential_pos_hoho_cols_SQ).intersection(set(high_potential_pos_hoho_cols_2050)))\n",
    "high_potential_neg_hoho_cols = list(set(high_potential_neg_hoho_cols_SQ).intersection(set(high_potential_neg_hoho_cols_2050)))\n",
    "\n",
    "print(high_potential_pos_hoho_cols)\n",
    "print(high_potential_neg_hoho_cols)"
   ]
  },
  {
   "cell_type": "code",
   "execution_count": null,
   "metadata": {},
   "outputs": [],
   "source": [
    "# Get the 3 processes with the largest positive potential for the status quo and 2050\n",
    "highest_potential_pos_hoho_cols_SQ = get_nlargest(potential_pos_hoho_ave_years_dict, year=\"SQ\", metric=metric, n=3)\n",
    "highest_potential_pos_hoho_cols_2050 = get_nlargest(potential_pos_hoho_ave_years_dict, year=\"2050\", metric=metric, n=3)\n",
    "\n",
    "# Get the 3 processes with the largest negative potential for the status quo and 2050\n",
    "highest_potential_neg_hoho_cols_SQ = get_nlargest(potential_neg_hoho_ave_years_dict, year=\"SQ\", metric=metric, n=3)\n",
    "highest_potential_neg_hoho_cols_2050 = get_nlargest(potential_neg_hoho_ave_years_dict, year=\"2050\", metric=metric, n=3)\n",
    "\n",
    "# Select the processes with the largest potential by combining the two\n",
    "highest_potential_hoho_cols = list(set(highest_potential_pos_hoho_cols_SQ).intersection(set(highest_potential_pos_hoho_cols_2050)))\n",
    "highest_potential_neg_hoho_cols = list(set(highest_potential_neg_hoho_cols_SQ).intersection(set(highest_potential_neg_hoho_cols_2050)))\n",
    "highest_potential_hoho_cols.extend(highest_potential_neg_hoho_cols)\n",
    "highest_potential_hoho_cols = list(set(highest_potential_hoho_cols))\n",
    "\n",
    "print(highest_potential_hoho_cols)"
   ]
  },
  {
   "cell_type": "code",
   "execution_count": null,
   "metadata": {},
   "outputs": [],
   "source": [
    "if not use_nlargest_cols:\n",
    "    if not modify_categories:\n",
    "        hoho_cols = [\"Wärmepumpen\", \"Nachtspeicher Haushalte\", \"Klimaanlagen\", \"Kühlschrank\"]\n",
    "    elif aggregation_mode == \"granular\":\n",
    "        hoho_cols = [\"Wärmepumpen\", \"Nachtspeicherheizungen\", \"Klimakälte\", \"Kühlschränke\"]\n",
    "    elif aggregation_mode == \"broad\":\n",
    "        hoho_cols = [\"Wärmepumpen\", \"Nachtspeicherheizungen\", \"Klimakälte\", \"Kühl- und Gefrieranwendungen\"]\n",
    "    high_potential_pos_hoho_cols = hoho_cols\n",
    "    high_potential_neg_hoho_cols = hoho_cols\n",
    "    highest_potential_hoho_cols = hoho_cols\n",
    "    print(hoho_cols)"
   ]
  },
  {
   "cell_type": "markdown",
   "metadata": {},
   "source": [
    "### Positive load shift potential"
   ]
  },
  {
   "cell_type": "markdown",
   "metadata": {},
   "source": [
    "Create a dict containing the statistical info per year as well as a DataFrame containing the info on the development of the respective parameter"
   ]
  },
  {
   "cell_type": "code",
   "execution_count": null,
   "metadata": {},
   "outputs": [],
   "source": [
    "potential_pos_hoho_ave_projection_dict, potential_pos_hoho_ave_projection_df = extract_stats(potential_pos_hoho_ave_years_dict, years_dict)"
   ]
  },
  {
   "cell_type": "markdown",
   "metadata": {},
   "source": [
    "Visualize the data using a grouped boxplot"
   ]
  },
  {
   "cell_type": "code",
   "execution_count": null,
   "metadata": {},
   "outputs": [],
   "source": [
    "create_projection_boxplot(potential_pos_hoho_ave_df, years_dict, high_potential_pos_hoho_cols, \n",
    "                          title=\"Projektion des positiven Lastmanagementpotenzials (Lastreduktion) für ausgewählte Haushaltsanwendungen\",\n",
    "                          ylabel=\"durchn. positives Potenzial in MW\",\n",
    "                          colors=colors,\n",
    "                          ylim=[0, 12000],\n",
    "                          use_colors=use_colors,\n",
    "                          use_limits=False, \n",
    "                          sample_stats=sample_stats, \n",
    "                          add_sources=add_sources, \n",
    "                          swarmplot=swarmplot, \n",
    "                          savefig=savefig, \n",
    "                          filename=\"potential_pos_hoho_ave\")"
   ]
  },
  {
   "cell_type": "code",
   "execution_count": null,
   "metadata": {},
   "outputs": [],
   "source": [
    "if write_sources:\n",
    "    save_future_sources(potential_pos_hoho_ave_df, high_potential_pos_hoho_cols, path_folder=path_folder_sources, filename=\"potential_pos_hoho_ave_projection_sources.xlsx\",  \n",
    "                        add_sources=add_sources)"
   ]
  },
  {
   "cell_type": "markdown",
   "metadata": {},
   "source": [
    "### Negative load shift potential"
   ]
  },
  {
   "cell_type": "code",
   "execution_count": null,
   "metadata": {},
   "outputs": [],
   "source": [
    "potential_neg_hoho_ave_projection_dict, potential_neg_hoho_ave_projection_df = extract_stats(potential_neg_hoho_ave_years_dict, years_dict)"
   ]
  },
  {
   "cell_type": "code",
   "execution_count": null,
   "metadata": {},
   "outputs": [],
   "source": [
    "create_projection_boxplot(potential_neg_hoho_ave_df, years_dict, high_potential_neg_hoho_cols, \n",
    "                          title=\"Negatives Lastmanagementpotenzial (Lasterhöhung) für ausgewählte Haushaltsanwendungen - Projektion\",\n",
    "                          ylabel=\"Potenzial in MW\", \n",
    "                          colors=colors,\n",
    "                          ylim=[-12000, 0],\n",
    "                          use_colors=use_colors,\n",
    "                          negate=True,\n",
    "                          use_limits=False, \n",
    "                          sample_stats=sample_stats, \n",
    "                          add_sources=add_sources, \n",
    "                          swarmplot=swarmplot, \n",
    "                          savefig=savefig, \n",
    "                          filename=\"potential_neg_hoho_ave\")"
   ]
  },
  {
   "cell_type": "code",
   "execution_count": null,
   "metadata": {},
   "outputs": [],
   "source": [
    "if write_sources:\n",
    "    save_future_sources(potential_neg_hoho_ave_df, high_potential_neg_hoho_cols, path_folder=path_folder_sources, filename=\"potential_neg_hoho_ave_projection_sources.xlsx\",  \n",
    "                        add_sources=add_sources)"
   ]
  },
  {
   "cell_type": "markdown",
   "metadata": {},
   "source": [
    "Visualize the data using a grouped boxplot"
   ]
  },
  {
   "cell_type": "markdown",
   "metadata": {},
   "source": [
    "### Specific investments"
   ]
  },
  {
   "cell_type": "code",
   "execution_count": null,
   "metadata": {},
   "outputs": [],
   "source": [
    "specific_investments_hoho_projection_dict, specific_investments_hoho_projection_df = extract_stats(specific_investments_hoho_years_dict, years_dict)"
   ]
  },
  {
   "cell_type": "markdown",
   "metadata": {},
   "source": [
    "Visualize the data using a grouped boxplot"
   ]
  },
  {
   "cell_type": "code",
   "execution_count": null,
   "metadata": {},
   "outputs": [],
   "source": [
    "create_projection_boxplot(specific_investments_hoho_df, years_dict, highest_potential_hoho_cols, \n",
    "                          title=\"Spezifische Investitionsausgaben für ausgewählte Haushaltsanwendungen - Projektion\",\n",
    "                          ylabel=\"spezifische Investitionsausgaben in €_2018/kW\",\n",
    "                          colors=colors,\n",
    "                          ylim=[0, 1500],\n",
    "                          use_colors=use_colors,\n",
    "                          use_limits=False, \n",
    "                          sample_stats=sample_stats, \n",
    "                          add_sources=add_sources, \n",
    "                          swarmplot=swarmplot, \n",
    "                          savefig=savefig, \n",
    "                          filename=\"specific_investments_hoho\")"
   ]
  },
  {
   "cell_type": "code",
   "execution_count": null,
   "metadata": {},
   "outputs": [],
   "source": [
    "if write_sources:\n",
    "    save_future_sources(specific_investments_hoho_df, highest_potential_hoho_cols, path_folder=path_folder_sources, filename=\"specific_investments_hoho_projection_sources.xlsx\",  \n",
    "                        add_sources=add_sources)"
   ]
  },
  {
   "cell_type": "markdown",
   "metadata": {},
   "source": [
    "### Variable costs"
   ]
  },
  {
   "cell_type": "code",
   "execution_count": null,
   "metadata": {},
   "outputs": [],
   "source": [
    "variable_costs_hoho_projection_dict, variable_costs_hoho_projection_df = extract_stats(variable_costs_hoho_years_dict, years_dict)"
   ]
  },
  {
   "cell_type": "markdown",
   "metadata": {},
   "source": [
    "Visualize the data using a grouped boxplot"
   ]
  },
  {
   "cell_type": "code",
   "execution_count": null,
   "metadata": {},
   "outputs": [],
   "source": [
    "create_projection_boxplot(variable_costs_hoho_df, years_dict, highest_potential_hoho_cols, \n",
    "                          title=\"Variable Kosten für ausgewählte Haushaltsanwendungen - Projektion\", \n",
    "                          ylabel=\"variable Kosten in €_2018/MWh\",\n",
    "                          colors=colors,\n",
    "                          ylim=[0, 3000],\n",
    "                          use_colors=use_colors,\n",
    "                          use_limits=use_limits, \n",
    "                          sample_stats=sample_stats, \n",
    "                          add_sources=add_sources, \n",
    "                          swarmplot=swarmplot, \n",
    "                          savefig=savefig, \n",
    "                          filename=\"variable_costs_hoho\")"
   ]
  },
  {
   "cell_type": "code",
   "execution_count": null,
   "metadata": {},
   "outputs": [],
   "source": [
    "if write_sources:\n",
    "    save_future_sources(variable_costs_hoho_df, highest_potential_hoho_cols, path_folder=path_folder_sources, filename=\"variable_costs_hoho_projection_sources.xlsx\",  \n",
    "                        add_sources=add_sources)"
   ]
  },
  {
   "cell_type": "markdown",
   "metadata": {},
   "source": [
    "### Fixed costs"
   ]
  },
  {
   "cell_type": "code",
   "execution_count": null,
   "metadata": {},
   "outputs": [],
   "source": [
    "fixed_costs_hoho_projection_dict, fixed_costs_hoho_projection_df = extract_stats(fixed_costs_hoho_years_dict, years_dict)"
   ]
  },
  {
   "cell_type": "markdown",
   "metadata": {},
   "source": [
    "Visualize the data using a grouped boxplot"
   ]
  },
  {
   "cell_type": "code",
   "execution_count": null,
   "metadata": {},
   "outputs": [],
   "source": [
    "create_projection_boxplot(fixed_costs_hoho_df, years_dict, highest_potential_hoho_cols, \n",
    "                          title=\"Fixe Kosten für ausgewählte Anwendungen im GHD-Sektor - Projektion\", \n",
    "                          ylabel=\"fixe Kosten in €_2018/kW*a\", \n",
    "                          colors=colors,\n",
    "                          ylim=[0, 3000],\n",
    "                          use_colors=use_colors,\n",
    "                          use_limits=use_limits, \n",
    "                          sample_stats=sample_stats, \n",
    "                          add_sources=add_sources, \n",
    "                          swarmplot=swarmplot, \n",
    "                          savefig=savefig, \n",
    "                          filename=\"fixed_costs_hoho\")"
   ]
  },
  {
   "cell_type": "code",
   "execution_count": null,
   "metadata": {},
   "outputs": [],
   "source": [
    "if write_sources:\n",
    "    save_future_sources(fixed_costs_hoho_df, highest_potential_hoho_cols, path_folder=path_folder_sources, filename=\"fixed_costs_hoho_projection_sources.xlsx\",  \n",
    "                        add_sources=add_sources)"
   ]
  },
  {
   "cell_type": "code",
   "execution_count": null,
   "metadata": {},
   "outputs": [],
   "source": []
  },
  {
   "cell_type": "code",
   "execution_count": null,
   "metadata": {},
   "outputs": [],
   "source": []
  }
 ],
 "metadata": {
  "kernelspec": {
   "display_name": "Python 3",
   "language": "python",
   "name": "python3"
  },
  "language_info": {
   "codemirror_mode": {
    "name": "ipython",
    "version": 3
   },
   "file_extension": ".py",
   "mimetype": "text/x-python",
   "name": "python",
   "nbconvert_exporter": "python",
   "pygments_lexer": "ipython3",
   "version": "3.8.5"
  },
  "toc": {
   "base_numbering": 1,
   "nav_menu": {},
   "number_sections": true,
   "sideBar": true,
   "skip_h1_title": false,
   "title_cell": "Table of Contents",
   "title_sidebar": "Contents",
   "toc_cell": false,
   "toc_position": {
    "height": "calc(100% - 180px)",
    "left": "10px",
    "top": "150px",
    "width": "597px"
   },
   "toc_section_display": true,
   "toc_window_display": true
  },
  "toc-autonumbering": true,
  "toc-showcode": false,
  "toc-showtags": false,
  "varInspector": {
   "cols": {
    "lenName": 16,
    "lenType": 16,
    "lenVar": 40
   },
   "kernels_config": {
    "python": {
     "delete_cmd_postfix": "",
     "delete_cmd_prefix": "del ",
     "library": "var_list.py",
     "varRefreshCmd": "print(var_dic_list())"
    },
    "r": {
     "delete_cmd_postfix": ") ",
     "delete_cmd_prefix": "rm(",
     "library": "var_list.r",
     "varRefreshCmd": "cat(var_dic_list()) "
    }
   },
   "position": {
    "height": "990.85px",
    "left": "2190px",
    "right": "20px",
    "top": "120px",
    "width": "350px"
   },
   "types_to_exclude": [
    "module",
    "function",
    "builtin_function_or_method",
    "instance",
    "_Feature"
   ],
   "window_display": true
  }
 },
 "nbformat": 4,
 "nbformat_minor": 4
}
