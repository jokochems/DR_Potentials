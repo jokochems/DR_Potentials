{
 "cells": [
  {
   "cell_type": "markdown",
   "metadata": {},
   "source": [
    "# Citation graph\n",
    "Draw a graph evaluating the citation frequency among demand response potential studies\n",
    "\n",
    "NetworkX Documentation: https://networkx.github.io/documentation/stable/reference/generated/networkx.drawing.nx_pylab.draw_networkx.html?highlight=networkx%20draw_networkx#networkx.drawing.nx_pylab.draw_networkx"
   ]
  },
  {
   "cell_type": "code",
   "execution_count": null,
   "metadata": {
    "scrolled": true
   },
   "outputs": [],
   "source": [
    "# Package imports\n",
    "import plotly.graph_objects as go\n",
    "import networkx as nx\n",
    "import pandas as pd\n",
    "import matplotlib.pyplot as plt\n",
    "import numpy as np"
   ]
  },
  {
   "cell_type": "code",
   "execution_count": null,
   "metadata": {},
   "outputs": [],
   "source": [
    "# Read in data\n",
    "path_inputs = \"./inputs/\"\n",
    "path_outputs = \"./out/\"\n",
    "path_plots =\"plots/\"\n",
    "file_name = \"Zitationen.xlsx\"\n",
    "zitat = pd.read_excel(f\"{path_inputs}{file_name}\", index_col=0)"
   ]
  },
  {
   "cell_type": "code",
   "execution_count": null,
   "metadata": {},
   "outputs": [],
   "source": [
    "# Prepare data\n",
    "zitat.fillna(0, inplace=True)\n",
    "zitat = zitat.sort_values(by=\"Jahr\", axis=1).drop(\"Jahr\", axis=0)"
   ]
  },
  {
   "cell_type": "code",
   "execution_count": null,
   "metadata": {},
   "outputs": [],
   "source": [
    "# Show diagonal matrix\n",
    "zitat.head()"
   ]
  },
  {
   "cell_type": "code",
   "execution_count": null,
   "metadata": {},
   "outputs": [],
   "source": [
    "# Determine, how often an author cites others\n",
    "number = zitat.sum(axis=1)\n",
    "number.head()"
   ]
  },
  {
   "cell_type": "code",
   "execution_count": null,
   "metadata": {},
   "outputs": [],
   "source": [
    "a = np.arange(0.0, 1.0, 1 / 32)"
   ]
  },
  {
   "cell_type": "code",
   "execution_count": null,
   "metadata": {},
   "outputs": [],
   "source": [
    "# Color settings\n",
    "color_node = []\n",
    "cmap = plt.cm.get_cmap('RdYlGn')\n",
    "for c in a:\n",
    "    color_node.append(cmap(c)) \n",
    "\n",
    "color_edge = []\n",
    "x=0\n",
    "for author in number:\n",
    "    for i in range(int(author)):\n",
    "        color_edge.append(cmap(a[x]))\n",
    "    x += 1"
   ]
  },
  {
   "cell_type": "code",
   "execution_count": null,
   "metadata": {},
   "outputs": [],
   "source": [
    "# Create a circular digraph\n",
    "G = nx.from_pandas_adjacency(zitat, create_using=nx.DiGraph)\n",
    "pos = nx.circular_layout(G)"
   ]
  },
  {
   "cell_type": "code",
   "execution_count": null,
   "metadata": {
    "scrolled": true
   },
   "outputs": [],
   "source": [
    "# Define plotting options, plot and save figure\n",
    "fig, ax = plt.subplots(figsize=(18,18))\n",
    "nx.draw(G, with_labels=True, pos=pos, ax=ax, node_color=color_node, node_size=5000, edge_color=color_edge, width=2, arrowsize=25, node_shape='o', font_size=20)\n",
    "plt.draw()\n",
    "plt.savefig(f\"{path_outputs}{path_plots}citation.png\", bbox_inches=\"tight\")"
   ]
  },
  {
   "cell_type": "code",
   "execution_count": null,
   "metadata": {},
   "outputs": [],
   "source": []
  }
 ],
 "metadata": {
  "kernelspec": {
   "display_name": "Python 3 (ipykernel)",
   "language": "python",
   "name": "python3"
  },
  "language_info": {
   "codemirror_mode": {
    "name": "ipython",
    "version": 3
   },
   "file_extension": ".py",
   "mimetype": "text/x-python",
   "name": "python",
   "nbconvert_exporter": "python",
   "pygments_lexer": "ipython3",
   "version": "3.8.13"
  }
 },
 "nbformat": 4,
 "nbformat_minor": 4
}
