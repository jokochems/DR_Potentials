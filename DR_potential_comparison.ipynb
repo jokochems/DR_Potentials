{
 "cells": [
  {
   "cell_type": "markdown",
   "id": "7394d5d0-ce79-4b22-8a9d-f3ba09df6435",
   "metadata": {},
   "source": [
    "# Demand Response potential comparison\n",
    "**Purpose and background**:\n",
    "* Compare technical demand response potentials in terms of positive and negative shifting potential with the literature.\n",
    "* For this purpose, read in data extracted in notebook \"DR_potential_evaluation\" on the level of load shifting categories."
   ]
  },
  {
   "cell_type": "markdown",
   "id": "10942ade-d5e8-4c31-8d15-f448d59f20a0",
   "metadata": {},
   "source": [
    "## Package imports"
   ]
  },
  {
   "cell_type": "code",
   "execution_count": null,
   "id": "8664fcd1-22a4-4baf-bd8b-2f75aa1626c7",
   "metadata": {},
   "outputs": [],
   "source": [
    "import pandas as pd\n",
    "import matplotlib.pyplot as plt\n",
    "from drpotentials.compare_potentials import plot_potential_comparison"
   ]
  },
  {
   "cell_type": "markdown",
   "id": "beb20eba-d862-42df-831f-ee974a293693",
   "metadata": {},
   "source": [
    "## Workflow settings"
   ]
  },
  {
   "cell_type": "code",
   "execution_count": null,
   "id": "12f34e0f-9ad0-4cb4-b25e-9848258b7f7d",
   "metadata": {},
   "outputs": [],
   "source": [
    "path_folder_stats = \"./out/stats/\"\n",
    "sub_folder_individual_studies = \"individual_studies/\"\n",
    "\n",
    "path_folder_inputs = \"./inputs/\"\n",
    "file_name_colors = \"Potenziale_Lastmanagement.xlsx\"\n",
    "\n",
    "sectors = [\"ind\", \"tcs\", \"hoho\"]\n",
    "dr_scenarios = [\"5%\", \"50%\", \"95%\"]\n",
    "params = [\n",
    "    \"potential_pos_overall\", \n",
    "    \"potential_neg_overall\",\n",
    "    \"potential_pos_overall_shed\",\n",
    "]\n",
    "years = [\"SQ\", \"2020\", \"2030\", \"2040\", \"2050\"]\n",
    "studies = [\"Ape12\", \"Gil15\", \"Hei21\", \"Jet21\", \"Klo09\", \"Lad18\", \"Ste17\"]\n",
    "cols_to_evaluate = [\"5%\", \"50%\", \"95%\"]\n",
    "\n",
    "file_names_stats = {}\n",
    "file_names_stats_studies = {}\n",
    "for year in years:\n",
    "    file_names_stats[year] = {}\n",
    "    file_names_stats_studies[year] = {}\n",
    "    for param in params:\n",
    "        file_names_stats[year][param] = [\n",
    "            f\"{path_folder_stats}{param}_{sector}_stats_{year}.csv\" \n",
    "            for sector in sectors\n",
    "        ]\n",
    "        file_names_stats_studies[year][param] = {}\n",
    "        for study in studies:\n",
    "            file_names_stats_studies[year][param][study] = [\n",
    "                f\"{path_folder_stats}{sub_folder_individual_studies}{param}_{sector}_stats_{study}_{year}.csv\" \n",
    "                for sector in sectors\n",
    "            ]"
   ]
  },
  {
   "cell_type": "markdown",
   "id": "c5968173-8603-49b0-ba9f-8a36913993e2",
   "metadata": {},
   "source": [
    "Configure the fontsizes for matplotlib objects"
   ]
  },
  {
   "cell_type": "code",
   "execution_count": null,
   "id": "f56ed2c8-21cf-419c-9b36-14af7a3a21d4",
   "metadata": {},
   "outputs": [],
   "source": [
    "SMALL_SIZE = 12\n",
    "MEDIUM_SIZE = 14\n",
    "BIGGER_SIZE = 15\n",
    "\n",
    "plt.rc('font', size=SMALL_SIZE)          # controls default text sizes\n",
    "plt.rc('axes', titlesize=BIGGER_SIZE)    # fontsize of the axes title\n",
    "plt.rc('axes', labelsize=MEDIUM_SIZE)    # fontsize of the x and y labels\n",
    "plt.rc('xtick', labelsize=SMALL_SIZE)    # fontsize of the tick labels\n",
    "plt.rc('ytick', labelsize=SMALL_SIZE)    # fontsize of the tick labels\n",
    "plt.rc('legend', fontsize=SMALL_SIZE)    # legend fontsize\n",
    "plt.rc('figure', titlesize=BIGGER_SIZE)  # fontsize of the figure title"
   ]
  },
  {
   "cell_type": "markdown",
   "id": "2f289a03-cb4a-47e1-8fb6-e7d346aa7aef",
   "metadata": {},
   "source": [
    "## Read in and preprocess data"
   ]
  },
  {
   "cell_type": "code",
   "execution_count": null,
   "id": "2495d0c0-b610-49fd-bf6f-a3d96addf4ca",
   "metadata": {},
   "outputs": [],
   "source": [
    "colors = pd.read_excel(f\"{path_folder_inputs}{file_name_colors}\", sheet_name=\"Farben\", index_col=0).drop(columns=\"Prozesskategorie short\")[\"Farbe (matplotlib strings)\"]"
   ]
  },
  {
   "cell_type": "code",
   "execution_count": null,
   "id": "c8d116f7-edfd-4dff-a168-b7be307a75c5",
   "metadata": {},
   "outputs": [],
   "source": [
    "own_potentials = {}\n",
    "for year in years:\n",
    "    own_potentials[year] = {}\n",
    "    for param in params:\n",
    "        potentials = pd.DataFrame()\n",
    "        for file in file_names_stats[year][param]:\n",
    "            try:\n",
    "                potential = pd.read_csv(file, sep=\";\", index_col=0).loc[cols_to_evaluate]\n",
    "            except FileNotFoundError:\n",
    "                continue\n",
    "            potentials = pd.concat([potentials, potential], axis=1)\n",
    "\n",
    "        # Add duplicate entries together (such as heat pumps or cross-cutting technologies)\n",
    "        potentials = potentials.groupby(axis=1, level=0).sum()\n",
    "        potentials[\"study\"] = [\"Eigene\"] * len(potentials)\n",
    "        potentials = potentials.set_index(\"study\", append=True)\n",
    "        own_potentials[year][param] = potentials"
   ]
  },
  {
   "cell_type": "code",
   "execution_count": null,
   "id": "e508b35d-5fe0-46d4-96bc-6cab9df1cc71",
   "metadata": {},
   "outputs": [],
   "source": [
    "all_studies_potentials = {}\n",
    "for year in years:\n",
    "    all_studies_potentials[year] = {}\n",
    "    for param in params:\n",
    "        to_concat = []\n",
    "        for study in studies:\n",
    "            potentials_study = pd.DataFrame()\n",
    "            for file in file_names_stats_studies[year][param][study]:\n",
    "                try:\n",
    "                    potential = pd.read_csv(file, sep=\";\", index_col=0).loc[[\"max\"]]\n",
    "                except FileNotFoundError:\n",
    "                    continue\n",
    "                potentials_study = pd.concat([potentials_study, potential], axis=1)\n",
    "\n",
    "            # Add duplicate entries together (such as heat pumps or cross-cutting technologies)\n",
    "            potentials_study = potentials_study.groupby(axis=1, level=0).sum()\n",
    "            potentials_study[\"study\"] = [study] * len(potentials_study)\n",
    "            potentials_study = potentials_study.set_index(\"study\", append=True)\n",
    "            to_concat.append(potentials_study)\n",
    "        potentials_all_studies = pd.concat(to_concat)\n",
    "        all_studies_potentials[year][param] = potentials_all_studies"
   ]
  },
  {
   "cell_type": "code",
   "execution_count": null,
   "id": "e077ae97-e64b-4cc4-b8ce-6e3d490cbb3e",
   "metadata": {},
   "outputs": [],
   "source": [
    "combined_potentials = {}\n",
    "for year in years:\n",
    "    combined_potentials[year] = {}\n",
    "    for param in params:\n",
    "        combined = pd.concat([own_potentials[year][param], all_studies_potentials[year][param]])\n",
    "        combined.index = combined.index.get_level_values(0) + \" \" + combined.index.get_level_values(1)\n",
    "        combined_potentials[year][param] = combined.rename(index={f\"max {study}\": study for study in studies})"
   ]
  },
  {
   "cell_type": "markdown",
   "id": "083be8c1-894f-4c8d-b4cb-fbfceb00c9f0",
   "metadata": {},
   "source": [
    "## Create plots for comparing potentials"
   ]
  },
  {
   "cell_type": "code",
   "execution_count": null,
   "id": "1abce449-4be1-4a36-a9f6-e8cfb251931f",
   "metadata": {},
   "outputs": [],
   "source": [
    "for param in params:\n",
    "    plot_potential_comparison(\n",
    "        combined_potentials[\"SQ\"][param],\n",
    "        colors,\n",
    "        figsize=(18, 10),\n",
    "        log_scale=False,\n",
    "        show=True,\n",
    "        save=True,\n",
    "        path=\"./out/plots/\",\n",
    "        file_name=f\"potential_comparison_{param}\",\n",
    "    )"
   ]
  },
  {
   "cell_type": "code",
   "execution_count": null,
   "id": "7ac092a4-96c0-47e1-a8d0-cb040d53dd36",
   "metadata": {},
   "outputs": [],
   "source": []
  }
 ],
 "metadata": {
  "kernelspec": {
   "display_name": "Python 3 (ipykernel)",
   "language": "python",
   "name": "python3"
  },
  "language_info": {
   "codemirror_mode": {
    "name": "ipython",
    "version": 3
   },
   "file_extension": ".py",
   "mimetype": "text/x-python",
   "name": "python",
   "nbconvert_exporter": "python",
   "pygments_lexer": "ipython3",
   "version": "3.8.13"
  }
 },
 "nbformat": 4,
 "nbformat_minor": 5
}
